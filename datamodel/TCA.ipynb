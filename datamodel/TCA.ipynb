{
 "cells": [
  {
   "cell_type": "markdown",
   "metadata": {},
   "source": [
    "# Telemetry Collection Agent (TCA) loads via COA"
   ]
  },
  {
   "cell_type": "code",
   "execution_count": null,
   "metadata": {},
   "outputs": [],
   "source": [
    "%connect Transcend"
   ]
  },
  {
   "cell_type": "code",
   "execution_count": null,
   "metadata": {},
   "outputs": [],
   "source": [
    "select * from dbc.dbcinfo"
   ]
  },
  {
   "cell_type": "markdown",
   "metadata": {},
   "source": [
    "<br><br><br>\n",
    "## Analysis: how much data per day? \n",
    "Assume 3x compression"
   ]
  },
  {
   "cell_type": "code",
   "execution_count": 127,
   "metadata": {},
   "outputs": [
    {
     "data": {
      "application/vnd.teradata.resultset": "[{\"CurrPerm_MB\":\"16237.867008\",\"DataBaseName\":\"DBC\",\"Date_Cnt\":\"96\",\"MB_Per_Day\":\"507.43\",\"TableName\":\"ResUsageSpdsk\"},{\"CurrPerm_MB\":\"667.578368\",\"DataBaseName\":\"DBC\",\"Date_Cnt\":\"96\",\"MB_Per_Day\":\"20.86\",\"TableName\":\"ResUsageSpma\"},{\"CurrPerm_MB\":\"52170.502144\",\"DataBaseName\":\"DBC\",\"Date_Cnt\":\"96\",\"MB_Per_Day\":\"1630.33\",\"TableName\":\"ResUsageSvpr\"},{\"CurrPerm_MB\":\"2592.137216\",\"DataBaseName\":\"PDCRDATA\",\"Date_Cnt\":\"94\",\"MB_Per_Day\":\"82.73\",\"TableName\":\"ResUsageSpdsk_Hst\"},{\"CurrPerm_MB\":\"1456.193536\",\"DataBaseName\":\"PDCRDATA\",\"Date_Cnt\":\"1461\",\"MB_Per_Day\":\"2.99\",\"TableName\":\"ResUsageSpma_Hst\"},{\"CurrPerm_MB\":\"8720.314368\",\"DataBaseName\":\"PDCRDATA\",\"Date_Cnt\":\"94\",\"MB_Per_Day\":\"278.31\",\"TableName\":\"ResUsageSvpr_Hst\"}]\n",
      "text/html": [
       "<div class = \"td-resultset-table-div\" style = \"max-height: 189px; overflow-y: auto\">\n",
       "  <table class=\"tdhistory872810\"><style>\n",
       "    table.tdhistory872810 { display: block !important; min-height: 189px !important; overflow: auto !important; height: 189px !important; width: 100% !important; border: 1px solid rgb(207, 207, 207) !important; border-collapse: collapse !important; ; color: var(--jp-ui-font-color1) !important; }\n",
       "    th.tdhistory872810 { border: 1px solid rgb(198,198,198) !important; border-collapse: collapse !important; ; padding: 2px 5px !important; ; font-size: 13px !important; ; text-align: center !important; white-space: normal !important; color: var(--jp-ui-font-color1) !important; }\n",
       "    th.tdhistory872810:last-child { text-align: left !important; }\n",
       "    tbody.tdhistory872810 tr:nth-child(even) { background: rgba(243, 243, 243, 0.75) !important; }\n",
       "    tbody.tdhistory872810 tr:nth-child(odd) { background: var(--jp-ui-inverse-font-color1) !important; }\n",
       "  td.tdhistory872810 { border: 1px solid rgb(207, 207, 207) !important; border-collapse: collapse !important; ; padding: 2px 5px !important; ; font-size: 13px !important; ; min-width:150px !important; max-width: 150px !important;text-align: left !important;        white-space: nowrap !important; overflow:hidden !important; text-overflow:ellipsis !important;; }\n",
       "  </style><thead><tr style= \"background: #bababa;\"><th class=\"tdhistory872810\">DataBaseName</th><th class=\"tdhistory872810\">TableName</th><th class=\"tdhistory872810\">CurrPerm_MB</th><th class=\"tdhistory872810\">Date_Cnt</th><th class=\"tdhistory872810\">MB_Per_Day</th></tr></thead><tbody class=\"tdhistory872810 resultset-body\"><tr><td class=\"tdhistory872810\">DBC</td><td class=\"tdhistory872810\">ResUsageSpdsk</td><td class=\"tdhistory872810\">16237.867008</td><td class=\"tdhistory872810\">96</td><td class=\"tdhistory872810\">507.43</td></tr><tr><td class=\"tdhistory872810\">DBC</td><td class=\"tdhistory872810\">ResUsageSpma</td><td class=\"tdhistory872810\">667.578368</td><td class=\"tdhistory872810\">96</td><td class=\"tdhistory872810\">20.86</td></tr><tr><td class=\"tdhistory872810\">DBC</td><td class=\"tdhistory872810\">ResUsageSvpr</td><td class=\"tdhistory872810\">52170.502144</td><td class=\"tdhistory872810\">96</td><td class=\"tdhistory872810\">1630.33</td></tr><tr><td class=\"tdhistory872810\">PDCRDATA</td><td class=\"tdhistory872810\">ResUsageSpdsk_Hst</td><td class=\"tdhistory872810\">2592.137216</td><td class=\"tdhistory872810\">94</td><td class=\"tdhistory872810\">82.73</td></tr><tr><td class=\"tdhistory872810\">PDCRDATA</td><td class=\"tdhistory872810\">ResUsageSpma_Hst</td><td class=\"tdhistory872810\">1456.193536</td><td class=\"tdhistory872810\">1461</td><td class=\"tdhistory872810\">2.99</td></tr><tr><td class=\"tdhistory872810\">PDCRDATA</td><td class=\"tdhistory872810\">ResUsageSvpr_Hst</td><td class=\"tdhistory872810\">8720.314368</td><td class=\"tdhistory872810\">94</td><td class=\"tdhistory872810\">278.31</td></tr></tbody></table></div>"
      ]
     },
     "execution_count": 127,
     "metadata": {
      "application/vnd.teradata.resultset": "{\"resultSetID\":\"/home/jovyan/JupyterLabRoot/Teradata/Resultsets/2020.10.30_21.38.50.480_UTC\",\"historyID\":785,\"chunkID\":\"00001\",\"sessionid\":\"\",\"portnum\":\"\",\"dockermode\":\"docker\",\"totalRowCount\":6,\"chunkCount\":0,\"rowLimit\":0,\"columnMetadata\":[{\"columnName\":\"DataBaseName\",\"columnTypeName\":\"VARCHAR\",\"length\":128,\"scale\":128},{\"columnNumber\":1,\"columnName\":\"TableName\",\"columnTypeName\":\"VARCHAR\",\"length\":128,\"scale\":128},{\"columnNumber\":2,\"columnName\":\"CurrPerm_MB\",\"columnTypeName\":\"FLOAT\"},{\"columnNumber\":3,\"columnName\":\"Date_Cnt\",\"columnTypeName\":\"INTEGER\"},{\"columnNumber\":4,\"columnName\":\"MB_Per_Day\",\"columnTypeName\":\"DECIMAL\",\"length\":2,\"precision\":18,\"scale\":2}]}"
     },
     "output_type": "execute_result"
    }
   ],
   "source": [
    "Select cds.DataBaseName, cds.TableName, \n",
    "       sum(CurrentPerm)/1e6 as CurrPerm_MB, max(DateCount) as Date_Cnt,\n",
    "       (CurrPerm_MB / Date_Cnt * 3.00)(Decimal(18,2)) as MB_Per_Day\n",
    "from dbc.TableSizeV as cds\n",
    "join   (select 'PDCRData' as DatabaseName, 'ResUsageSPDSK_Hst' as TableName, \n",
    "        count(distinct TheDate) as DateCount from PDCRInfo.ResUsageSPDSK_Hst\n",
    "        union all\n",
    "        select 'PDCRData' as DatabaseName, 'ResUsageSVPR_Hst' as TableName, \n",
    "        count(distinct TheDate) as DateCount from PDCRInfo.ResUsageSVPR_Hst\n",
    "        union all\n",
    "        select 'PDCRData' as DatabaseName, 'ResUsageSPMA_Hst' as TableName, \n",
    "        count(distinct TheDate) as DateCount from PDCRInfo.ResUsageSPMA_Hst\n",
    "        union all\n",
    "        select 'DBC' as DatabaseName, 'ResUsageSVPR' as TableName, \n",
    "        count(distinct TheDate) as DateCount from DBC.ResUsageSVPR\n",
    "        union all\n",
    "        select 'DBC' as DatabaseName, 'ResUsageSPMA' as TableName, \n",
    "        count(distinct TheDate) as DateCount from DBC.ResUsageSPMA\n",
    "        union all\n",
    "        select 'DBC' as DatabaseName, 'ResUsageSPDSK' as TableName, \n",
    "        count(distinct TheDate) as DateCount from DBC.ResUsageSPDSK) as cnt\n",
    " on trim(cds.DatabaseName) = trim(cnt.DatabaseName)\n",
    "and trim(cds.TableName) = trim(cnt.TableName)\n",
    "where cds.DatabaseName in ('PDCRData','DBC')\n",
    "  and cds.TableName like ANY ('ResUsageSVPR%','ResUsageSPMA%','ResUsageSPDSK%')\n",
    "Group by 1,2  Order by 1,2"
   ]
  },
  {
   "cell_type": "markdown",
   "metadata": {},
   "source": [
    "<br><br><br>\n",
    "# Build supporting datalab objects \n",
    "- Stage tables  (global temp)\n",
    "- Target Tables (for demo purposes only, will eventually be TCA)\n",
    "- Stored Procs  (move data from stage to target, for demo purposes only)"
   ]
  },
  {
   "cell_type": "markdown",
   "metadata": {},
   "source": [
    "<br><br><br>\n",
    "## ResUsage STAGE -- Build GTT Tables"
   ]
  },
  {
   "cell_type": "code",
   "execution_count": null,
   "metadata": {},
   "outputs": [],
   "source": [
    "drop table adlste_coa_stg.\"stg_tca_dbcinfo\""
   ]
  },
  {
   "cell_type": "code",
   "execution_count": null,
   "metadata": {},
   "outputs": [],
   "source": [
    "CREATE GLOBAL TEMPORARY TABLE adlste_coa_stg.\"stg_tca_dbcinfo\" as\n",
    "(select cast('' as varchar(128)) as Site_ID, a.* from dbc.dbcinfo as a) \n",
    "with no data\n",
    "no primary index \n",
    "ON COMMIT PRESERVE ROWS;"
   ]
  },
  {
   "cell_type": "code",
   "execution_count": null,
   "metadata": {},
   "outputs": [],
   "source": [
    "drop table adlste_coa_stg.\"stg_tca_resusagesvpr_pdcr_16.20\""
   ]
  },
  {
   "cell_type": "code",
   "execution_count": null,
   "metadata": {},
   "outputs": [],
   "source": [
    "CREATE GLOBAL TEMPORARY TABLE adlste_coa_stg.\"stg_tca_resusagesvpr_pdcr_16.20\" as\n",
    "(select cast('' as varchar(128)) as Site_ID, a.* from PDCRInfo.ResUsageSVPR_hst as a) \n",
    "with no data\n",
    "no primary index\n",
    "ON COMMIT PRESERVE ROWS;"
   ]
  },
  {
   "cell_type": "code",
   "execution_count": null,
   "metadata": {},
   "outputs": [],
   "source": [
    "drop table adlste_coa_stg.\"stg_tca_resusagesvpr_dbc_16.20\""
   ]
  },
  {
   "cell_type": "code",
   "execution_count": null,
   "metadata": {},
   "outputs": [],
   "source": [
    "CREATE GLOBAL TEMPORARY TABLE adlste_coa_stg.\"stg_tca_resusagesvpr_dbc_16.20\" as\n",
    "(select cast('' as varchar(128)) as Site_ID, a.* from dbc.ResUsageSVPR as a) \n",
    "with no data\n",
    "no primary index\n",
    "ON COMMIT PRESERVE ROWS;"
   ]
  },
  {
   "cell_type": "code",
   "execution_count": null,
   "metadata": {},
   "outputs": [],
   "source": [
    "drop table adlste_coa_stg.\"stg_tca_resusagespma_pdcr_16.20\""
   ]
  },
  {
   "cell_type": "code",
   "execution_count": null,
   "metadata": {},
   "outputs": [],
   "source": [
    "CREATE GLOBAL TEMPORARY TABLE adlste_coa_stg.\"stg_tca_resusagespma_pdcr_16.20\" as\n",
    "(select cast('' as varchar(128)) as Site_ID, a.* from PDCRInfo.ResUsageSPMA_hst as a) \n",
    "with no data\n",
    "no primary index\n",
    "ON COMMIT PRESERVE ROWS;"
   ]
  },
  {
   "cell_type": "code",
   "execution_count": null,
   "metadata": {},
   "outputs": [],
   "source": [
    "drop table adlste_coa_stg.\"stg_tca_resusagespma_dbc_16.20\""
   ]
  },
  {
   "cell_type": "code",
   "execution_count": null,
   "metadata": {},
   "outputs": [],
   "source": [
    "CREATE GLOBAL TEMPORARY TABLE adlste_coa_stg.\"stg_tca_resusagespma_dbc_16.20\" as\n",
    "(select cast('' as varchar(128)) as Site_ID, a.* from dbc.ResUsageSPMA as a) \n",
    "with no data\n",
    "no primary index\n",
    "ON COMMIT PRESERVE ROWS;"
   ]
  },
  {
   "cell_type": "code",
   "execution_count": null,
   "metadata": {},
   "outputs": [],
   "source": [
    "drop table adlste_coa_stg.\"stg_tca_resusagespdsk_pdcr_16.20\""
   ]
  },
  {
   "cell_type": "code",
   "execution_count": null,
   "metadata": {},
   "outputs": [],
   "source": [
    "CREATE GLOBAL TEMPORARY TABLE adlste_coa_stg.\"stg_tca_resusagespdsk_pdcr_16.20\" as\n",
    "(select cast('' as varchar(128)) as Site_ID, a.* from PDCRInfo.ResUsageSPDSK_hst as a) \n",
    "with no data\n",
    "no primary index\n",
    "ON COMMIT PRESERVE ROWS;"
   ]
  },
  {
   "cell_type": "code",
   "execution_count": null,
   "metadata": {},
   "outputs": [],
   "source": [
    "drop table adlste_coa_stg.\"stg_tca_resusagespdsk_dbc_16.20\" "
   ]
  },
  {
   "cell_type": "code",
   "execution_count": null,
   "metadata": {},
   "outputs": [],
   "source": [
    "CREATE GLOBAL TEMPORARY TABLE adlste_coa_stg.\"stg_tca_resusagespdsk_dbc_16.20\" as\n",
    "(select cast('' as varchar(128)) as Site_ID, a.* from dbc.ResUsageSPDSK as a) \n",
    "with no data\n",
    "no primary index\n",
    "ON COMMIT PRESERVE ROWS;"
   ]
  },
  {
   "cell_type": "markdown",
   "metadata": {},
   "source": [
    "<br><br><br>\n",
    "## ResUsage TARGET -- Normal Tables\n",
    "this is for demo purposes only... eventually this will reside in another database for TCA upload"
   ]
  },
  {
   "cell_type": "markdown",
   "metadata": {},
   "source": [
    "### dbcinfo"
   ]
  },
  {
   "cell_type": "code",
   "execution_count": null,
   "metadata": {},
   "outputs": [],
   "source": [
    "drop table adlste_coa.\"coat_tca_dbcinfo\""
   ]
  },
  {
   "cell_type": "code",
   "execution_count": null,
   "metadata": {},
   "outputs": [],
   "source": [
    "CREATE TABLE adlste_coa.\"coat_tca_dbcinfo\" as\n",
    "(select cast('' as varchar(128)) as Site_ID, cast(DATE as DATE format'yyyy-mm-dd') as LogDate,\n",
    "        a.*, cast(0 as INT) as Run_ID from dbc.dbcinfo as a) \n",
    "with no data\n",
    "primary index (Site_ID);"
   ]
  },
  {
   "cell_type": "code",
   "execution_count": null,
   "metadata": {},
   "outputs": [],
   "source": [
    "replace view adlste_coa.\"coa_tca_dbcinfo\" as locking row for access\n",
    "Select * from adlste_coa.\"coat_tca_dbcinfo\";"
   ]
  },
  {
   "cell_type": "markdown",
   "metadata": {},
   "source": [
    "### resusageSVPR 16.20 PDCR"
   ]
  },
  {
   "cell_type": "code",
   "execution_count": null,
   "metadata": {},
   "outputs": [],
   "source": [
    "drop table adlste_coa.\"coat_tca_resusagesvpr_pdcr_16.20\" "
   ]
  },
  {
   "cell_type": "code",
   "execution_count": null,
   "metadata": {},
   "outputs": [],
   "source": [
    "CREATE TABLE adlste_coa.\"coat_tca_resusagesvpr_pdcr_16.20\" as\n",
    "(select cast('' as varchar(128)) as Site_ID, a.*, cast(0 as INT) as Run_ID from PDCRInfo.ResUsageSVPR_hst as a) \n",
    "with no data\n",
    "primary index (Site_ID, TheDate, TheTime);"
   ]
  },
  {
   "cell_type": "code",
   "execution_count": null,
   "metadata": {},
   "outputs": [],
   "source": [
    "replace view adlste_coa.\"coa_tca_resusagesvpr_pdcr_16.20\" as locking row for access\n",
    "select * from adlste_coa.\"coat_tca_resusagesvpr_pdcr_16.20\" "
   ]
  },
  {
   "cell_type": "markdown",
   "metadata": {},
   "source": [
    "### resusageSVPR 16.20 DBC"
   ]
  },
  {
   "cell_type": "code",
   "execution_count": null,
   "metadata": {},
   "outputs": [],
   "source": [
    "drop table adlste_coa.\"coat_tca_resusagesvpr_dbc_16.20\""
   ]
  },
  {
   "cell_type": "code",
   "execution_count": null,
   "metadata": {},
   "outputs": [],
   "source": [
    "CREATE GLOBAL TEMPORARY TABLE adlste_coa.\"coat_tca_resusagesvpr_dbc_16.20\" as\n",
    "(select cast('' as varchar(128)) as Site_ID, a.*, cast(0 as INT) as Run_ID from dbc.ResUsageSVPR as a) \n",
    "with no data\n",
    "primary index (Site_ID, TheDate, TheTime);"
   ]
  },
  {
   "cell_type": "code",
   "execution_count": null,
   "metadata": {},
   "outputs": [],
   "source": [
    "replace view  adlste_coa.\"coa_tca_resusagesvpr_dbc_16.20\" as locking row for access\n",
    "select * from  adlste_coa.\"coat_tca_resusagesvpr_dbc_16.20\""
   ]
  },
  {
   "cell_type": "markdown",
   "metadata": {},
   "source": [
    "### resusageSPMA 16.20 PDCR"
   ]
  },
  {
   "cell_type": "code",
   "execution_count": null,
   "metadata": {},
   "outputs": [],
   "source": [
    "drop table adlste_coa.\"coat_tca_resusagespma_pdcr_16.20\""
   ]
  },
  {
   "cell_type": "code",
   "execution_count": null,
   "metadata": {},
   "outputs": [],
   "source": [
    "CREATE GLOBAL TEMPORARY TABLE adlste_coa.\"coat_tca_resusagespma_pdcr_16.20\" as\n",
    "(select cast('' as varchar(128)) as Site_ID, a.*, cast(0 as INT) as Run_ID from PDCRInfo.ResUsageSPMA_hst as a) \n",
    "with no data\n",
    "primary index (Site_ID, TheDate, TheTime);"
   ]
  },
  {
   "cell_type": "code",
   "execution_count": null,
   "metadata": {},
   "outputs": [],
   "source": [
    "replace view adlste_coa.\"coa_tca_resusagespma_pdcr_16.20\" as locking row for access\n",
    "select * from adlste_coa.\"coat_tca_resusagespma_pdcr_16.20\""
   ]
  },
  {
   "cell_type": "markdown",
   "metadata": {},
   "source": [
    "### resusageSPMA 16.20 DBC"
   ]
  },
  {
   "cell_type": "code",
   "execution_count": null,
   "metadata": {},
   "outputs": [],
   "source": [
    "drop table adlste_coa_stg.\"coat_tca_resusagespma_dbc_16.20\""
   ]
  },
  {
   "cell_type": "code",
   "execution_count": null,
   "metadata": {},
   "outputs": [],
   "source": [
    "CREATE GLOBAL TEMPORARY TABLE adlste_coa_stg.\"coat_tca_resusagespma_dbc_16.20\" as\n",
    "(select cast('' as varchar(128)) as Site_ID, a.*, cast(0 as INT) as Run_ID from dbc.ResUsageSPMA as a) \n",
    "with no data\n",
    "primary index (Site_ID, TheDate, TheTime);"
   ]
  },
  {
   "cell_type": "code",
   "execution_count": null,
   "metadata": {},
   "outputs": [],
   "source": [
    "replace view adlste_coa_stg.\"coa_tca_resusagespma_dbc_16.20\" as locking row for access\n",
    "select * from adlste_coa_stg.\"coat_tca_resusagespma_dbc_16.20\""
   ]
  },
  {
   "cell_type": "markdown",
   "metadata": {},
   "source": [
    "### resusageSPDSK 16.20 PDCR"
   ]
  },
  {
   "cell_type": "code",
   "execution_count": null,
   "metadata": {},
   "outputs": [],
   "source": [
    "drop table adlste_coa.\"coat_tca_resusagespdsk_pdcr_16.20\""
   ]
  },
  {
   "cell_type": "code",
   "execution_count": null,
   "metadata": {},
   "outputs": [],
   "source": [
    "CREATE GLOBAL TEMPORARY TABLE adlste_coa.\"coat_tca_resusagespdsk_pdcr_16.20\" as\n",
    "(select cast('' as varchar(128)) as Site_ID, a.*, cast(0 as INT) as Run_ID from PDCRInfo.ResUsageSPDSK_hst as a) \n",
    "with no data\n",
    "primary index (Site_ID, TheDate, TheTime);"
   ]
  },
  {
   "cell_type": "code",
   "execution_count": null,
   "metadata": {},
   "outputs": [],
   "source": [
    "replace view adlste_coa.\"coa_tca_resusagespdsk_pdcr_16.20\" as locking row for access\n",
    "select * from adlste_coa.\"coat_tca_resusagespdsk_pdcr_16.20\""
   ]
  },
  {
   "cell_type": "markdown",
   "metadata": {},
   "source": [
    "### resusageSPDSK 16.20 DBC"
   ]
  },
  {
   "cell_type": "code",
   "execution_count": null,
   "metadata": {},
   "outputs": [],
   "source": [
    "drop table adlste_coa.\"coat_tca_resusagespdsk_dbc_16.20\" "
   ]
  },
  {
   "cell_type": "code",
   "execution_count": null,
   "metadata": {},
   "outputs": [],
   "source": [
    "CREATE GLOBAL TEMPORARY TABLE adlste_coa.\"coat_tca_resusagespdsk_dbc_16.20\" as\n",
    "(select cast('' as varchar(128)) as Site_ID, a.*, cast(0 as INT) as Run_ID from dbc.ResUsageSPDSK as a) \n",
    "with no data\n",
    "primary index (Site_ID, TheDate, TheTime);"
   ]
  },
  {
   "cell_type": "code",
   "execution_count": null,
   "metadata": {},
   "outputs": [],
   "source": [
    "replace view adlste_coa.\"coa_tca_resusagespdsk_dbc_16.20\" as locking row for access\n",
    "select * from adlste_coa.\"coat_tca_resusagespdsk_dbc_16.20\" "
   ]
  },
  {
   "cell_type": "code",
   "execution_count": null,
   "metadata": {},
   "outputs": [],
   "source": []
  },
  {
   "cell_type": "markdown",
   "metadata": {},
   "source": [
    "<br><br><br>\n",
    "## Stored Proc to merge DBC.DBCInfo \n",
    "This is for demo purposes... longer term this SP may live elsewhere, or insert into a different target location. <br>\n",
    "Also note, this SP is templated for COA audit processes, hence the extra logging."
   ]
  },
  {
   "cell_type": "markdown",
   "metadata": {},
   "source": [
    "### DBCInfo"
   ]
  },
  {
   "cell_type": "code",
   "execution_count": null,
   "metadata": {},
   "outputs": [],
   "source": [
    "REPLACE PROCEDURE adlste_coa.sp_tca_dbcinfo () \n",
    "SQL SECURITY CREATOR\n",
    "BEGIN \n",
    "\n",
    "    /* start setup audit process */\n",
    "    DECLARE spversion VARCHAR(128);\n",
    "    DECLARE runid  INTEGER;\n",
    "    DECLARE runtype VARCHAR(128);\n",
    "    DECLARE startdate DATE;\n",
    "    DECLARE enddate DATE;\n",
    "    DECLARE siteid VARCHAR(128);\n",
    "    DECLARE procname VARCHAR(128);\n",
    "    DECLARE tablename VARCHAR(128);\n",
    "    DECLARE callingsp VARCHAR(128);\n",
    "    DECLARE rowcount bigint;\n",
    "\n",
    "    SET procname = 'tca_dbcinfo';\n",
    "    SET callingsp = 'adlste_coa.sp_' || procname;\n",
    "    SET tablename = 'adlste_coa.coat_' || procname;\n",
    "    -------------\n",
    "    SET spversion = 'v1';\n",
    "    SET runid = 0;\n",
    "    SET siteid = 'All';\n",
    "    SET runtype = 'COA Run, TCA';\n",
    "\n",
    "    SET startdate = DATE;\n",
    "    SET enddate = DATE;\n",
    "\n",
    "    /* collect startdate, enddate, and siteid from Stage */\n",
    "    SELECT \n",
    "     coalesce(Site_ID,'empty table')       \n",
    "    ,min(LogDate)(DATE) as StartDate\n",
    "    ,max(LogDate)(DATE) as EndDate\n",
    "    INTO siteid, startdate, enddate\n",
    "    FROM adlste_coa_stg.stg_tca_dbcinfo\n",
    "    Group by 1\n",
    "    ;\n",
    "    \n",
    "    CALL adlste_coa.sp_get_rowcount(:tablename, rowcount);\n",
    "    CALL adlste_coa.sp_audit_log(runid, :siteid, :tablename, :callingsp, :spversion, :startdate, :enddate, :runtype,\n",
    "        'START', 'record count: ' || cast(rowcount as varchar(32)) ) ;   /*  run_status, run_msg */\n",
    "    /* ------------------------\n",
    "       end setup, begin sp logic\n",
    "       ------------------------\n",
    "    */\n",
    " \n",
    "    CALL adlste_coa.sp_audit_log(runid, :siteid, :tablename, :callingsp, :spversion, :startdate, :enddate, :runtype, \n",
    "        'STEP 01', 'Delete Duplicates from Target') ;   \n",
    "        DELETE FROM adlste_coa.coat_tca_dbcinfo \n",
    "        WHERE (Site_ID, LogDate) IN\n",
    "        (Select Site_ID, LogDate From adlste_coa_stg.stg_tca_dbcinfo );\n",
    "\n",
    "    \n",
    "    CALL adlste_coa.sp_audit_log(runid, :siteid, :tablename, :callingsp, :spversion,  :startdate, :enddate, :runtype,\n",
    "        'STEP 02', 'Insert into Target') ;   \n",
    "        Insert into adlste_coa.coat_tca_dbcinfo \n",
    "        Select a.*, :runid\n",
    "        from adlste_coa_stg.stg_tca_dbcinfo ; \n",
    "    \n",
    "    \n",
    "    CALL adlste_coa.sp_audit_log(runid, :siteid, :tablename, :callingsp, :spversion,  :startdate, :enddate, :runtype,\n",
    "        'STEP 03', 'Delete from GTT') ;   \n",
    "        delete from adlste_coa_stg.stg_tca_dbcinfo;\n",
    "                        \n",
    "            \n",
    "    CALL adlste_coa.sp_audit_log(runid, :siteid, :tablename, :callingsp, :spversion,  :startdate, :enddate, :runtype,\n",
    "            'STEP 04', 'Collect Stats') ;   \n",
    "        collect stats column(Site_ID) on adlste_coa.coat_tca_dbcinfo;\n",
    "            \n",
    "    /* ------------------------\n",
    "       end sp logic, begin clean-up\n",
    "       ------------------------\n",
    "    */   \n",
    "    CALL adlste_coa.sp_get_rowcount(:tablename, rowcount);\n",
    "    CALL adlste_coa.sp_audit_log(runid, :siteid, :tablename, :callingsp, :spversion,  :startdate, :enddate, :runtype,\n",
    "        'END', 'record count: ' || cast(rowcount as varchar(32)) ) ;\n",
    "\n",
    "END;\n"
   ]
  },
  {
   "cell_type": "code",
   "execution_count": null,
   "metadata": {},
   "outputs": [],
   "source": []
  },
  {
   "cell_type": "code",
   "execution_count": null,
   "metadata": {},
   "outputs": [],
   "source": [
    "REPLACE PROCEDURE adlste_coa.sp_tca_resusage(suffix VARCHAR(16), collection VARCHAR(16), dbsversion VARCHAR(16)) \n",
    "SQL SECURITY CREATOR\n",
    "BEGIN \n",
    "\n",
    "    /* start setup audit process */\n",
    "    DECLARE spversion VARCHAR(128);\n",
    "    DECLARE runid  INTEGER;\n",
    "    DECLARE runtype VARCHAR(128);\n",
    "    DECLARE startdate DATE;\n",
    "    DECLARE enddate DATE;\n",
    "    DECLARE siteid VARCHAR(128);\n",
    "    DECLARE procname VARCHAR(128);\n",
    "    DECLARE tablename VARCHAR(128);\n",
    "    DECLARE stagename VARCHAR(128);\n",
    "    DECLARE callingsp VARCHAR(128);\n",
    "    DECLARE rowcount bigint;\n",
    "    DECLARE sqltxt VARCHAR(16000);\n",
    "\n",
    "    SET procname = 'tca_resusage' || trim(:suffix) ||'_'|| trim(:collection) ||'_'|| trim(:dbsversion);\n",
    "    SET callingsp = 'adlste_coa.sp_tca_resusage';\n",
    "    SET tablename = 'adlste_coa.coat_' || procname;    -- \"coat_tca_resusagesvpr_dbc_16.20\"\n",
    "    SET stagename = 'adlste_coa_stg.stg_' || procname; -- \"stg_tca_resusagespma_pdcr_16.20\"\n",
    "    -------------\n",
    "    SET spversion = 'v1';\n",
    "    SET runid = 0;\n",
    "    SET siteid = 'All';\n",
    "    SET runtype = 'COA Run, TCA';\n",
    "\n",
    "    SET startdate = DATE;\n",
    "    SET enddate = DATE;\n",
    "\n",
    "    /* collect startdate, enddate, and siteid from Stage */\n",
    "    SELECT \n",
    "     coalesce(Site_ID,'empty table')       \n",
    "    ,min(TheDate)(DATE) as StartDate\n",
    "    ,max(TheDate)(DATE) as EndDate\n",
    "    INTO siteid, startdate, enddate\n",
    "    FROM adlste_coa_stg.stg_tca_dbcinfo\n",
    "    Group by 1\n",
    "    ;\n",
    "    \n",
    "    CALL adlste_coa.sp_get_rowcount(:tablename, rowcount);\n",
    "    CALL adlste_coa.sp_audit_log(runid, :siteid, :tablename, :callingsp, :spversion, :startdate, :enddate, :runtype,\n",
    "        'START', 'record count: ' || cast(rowcount as varchar(32)) ) ;   /*  run_status, run_msg */\n",
    "    /* ------------------------\n",
    "       end setup, begin sp logic\n",
    "       ------------------------\n",
    "    */\n",
    " \n",
    "    CALL adlste_coa.sp_audit_log(runid, :siteid, :tablename, :callingsp, :spversion, :startdate, :enddate, :runtype, \n",
    "        'STEP 01', 'Delete Duplicates from Target') ;   \n",
    "        SET sqltxt = ' DELETE FROM ' || :tablename || \n",
    "                     ' WHERE (Site_ID, TheDate) IN (Select Site_ID, TheDate From '|| :stagename || ' )' ;\n",
    "\n",
    "    \n",
    "    CALL adlste_coa.sp_audit_log(runid, :siteid, :tablename, :callingsp, :spversion,  :startdate, :enddate, :runtype,\n",
    "        'STEP 02', 'Insert into Target') ;   \n",
    "        SET sqltxt = ' INSERT into ' || :tablename || ' Select a.*, ' || :runid || ' FROM ' || :stagename ;\n",
    "    \n",
    "    \n",
    "    CALL adlste_coa.sp_audit_log(runid, :siteid, :tablename, :callingsp, :spversion,  :startdate, :enddate, :runtype,\n",
    "        'STEP 03', 'Delete from GTT') ;   \n",
    "        SET sqltxt = ' DELETE FROM ' || :stagename ;\n",
    "                        \n",
    "            \n",
    "    CALL adlste_coa.sp_audit_log(runid, :siteid, :tablename, :callingsp, :spversion,  :startdate, :enddate, :runtype,\n",
    "            'STEP 04', 'Collect Stats') ;   \n",
    "        set sqltxt = 'collect stats column(Site_ID) on ' || :tablename ;\n",
    "            \n",
    "    /* ------------------------\n",
    "       end sp logic, begin clean-up\n",
    "       ------------------------\n",
    "    */   \n",
    "    CALL adlste_coa.sp_get_rowcount(:tablename, rowcount);\n",
    "    CALL adlste_coa.sp_audit_log(runid, :siteid, :tablename, :callingsp, :spversion,  :startdate, :enddate, :runtype,\n",
    "        'END', 'record count: ' || cast(rowcount as varchar(32)) ) ;\n",
    "\n",
    "END;\n"
   ]
  }
 ],
 "metadata": {
  "kernelspec": {
   "display_name": "Teradata SQL",
   "language": "Teradata SQL",
   "name": "teradatasql"
  },
  "language_info": {
   "codemirror_mode": "Teradata SQL",
   "file_extension": ".tdrs",
   "mimetype": "application/vnd.teradata.resultset",
   "name": "Teradata SQL",
   "nbconvert_exporter": "",
   "pygments_lexer": "",
   "version": "16.20"
  }
 },
 "nbformat": 4,
 "nbformat_minor": 4
}
