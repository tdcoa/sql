{
 "cells": [
  {
   "cell_type": "markdown",
   "metadata": {},
   "source": [
    "# Deploy COA Objects in Transcend:   DBQL_CORE"
   ]
  },
  {
   "cell_type": "code",
   "execution_count": null,
   "metadata": {},
   "outputs": [],
   "source": [
    "%addconnect name=Transcend, user=sh186014, host=tdprdcop3.td.teradata.com, props=\"LOGMECH=LDAP\""
   ]
  },
  {
   "cell_type": "code",
   "execution_count": null,
   "metadata": {},
   "outputs": [],
   "source": [
    "%disconnect name=Transcend"
   ]
  },
  {
   "cell_type": "code",
   "execution_count": 1,
   "metadata": {},
   "outputs": [
    {
     "name": "stdin",
     "output_type": "stream",
     "text": [
      "Password ············\n"
     ]
    },
    {
     "name": "stdout",
     "output_type": "stream",
     "text": [
      "Success: 'Transcend' connection established\n"
     ]
    }
   ],
   "source": [
    "%connect name=Transcend"
   ]
  },
  {
   "cell_type": "code",
   "execution_count": null,
   "metadata": {},
   "outputs": [],
   "source": [
    "select * from adlste_coa.coa_audit_summary \n",
    "where end_ts >= current_timestamp - interval '10' minute\n",
    "order by Run_ID desc"
   ]
  },
  {
   "cell_type": "code",
   "execution_count": null,
   "metadata": {},
   "outputs": [],
   "source": [
    "Select 'dat_DBQL_Core_QryCnt_Ranges' as tbl, count(*) as cnt \n",
    "  from adlste_coa.coa_dat_DBQL_Core_QryCnt_Ranges \n",
    " where site_id='TDCLOUD14TD03' and LogDate=DATE-2 union all\n",
    "Select 'dat_DBQL_Core_MaxCPU'        as tbl, count(*) as cnt \n",
    "  from adlste_coa.coa_dat_dbql_core_MaxCPU \n",
    " where site_id='TDCLOUD14TD03' and LogDate=DATE-2 union all\n",
    "Select 'dat_dbql_core'               as tbl, count(*) as cnt \n",
    "  from adlste_coa.coa_dat_dbql_core \n",
    " where site_id='TDCLOUD14TD03' and LogDate=DATE-2 ;"
   ]
  },
  {
   "cell_type": "markdown",
   "metadata": {},
   "source": [
    "# dat_DBQL_Core\n",
    "Process to catch DBQL_Core fileset.    Contains 3 major processes:\n",
    "- dat_DBQL_Core\n",
    "- dat_DBQL_Core_MaxCPU\n",
    "- dat_DBQL_Core_QryCnt_Ranges"
   ]
  },
  {
   "cell_type": "markdown",
   "metadata": {},
   "source": [
    "<br/><br/><br/><hr>\n",
    "## dat_DBQL_Core_QryCnt_Ranges"
   ]
  },
  {
   "cell_type": "markdown",
   "metadata": {},
   "source": [
    "### STAGE"
   ]
  },
  {
   "cell_type": "code",
   "execution_count": null,
   "metadata": {},
   "outputs": [],
   "source": [
    "DROP TABLE adlste_coa_stg.stg_dat_DBQL_Core_QryCnt_Ranges"
   ]
  },
  {
   "cell_type": "code",
   "execution_count": null,
   "metadata": {},
   "outputs": [],
   "source": [
    "CREATE MULTISET GLOBAL TEMPORARY TABLE adlste_coa_stg.stg_dat_DBQL_Core_QryCnt_Ranges\n",
    " (Site_ID                          VARCHAR(64)  CHARACTER SET LATIN\n",
    " ,LogDate                          DATE FORMAT 'yyyy-mm-dd'\n",
    " ,User_Bucket                      VARCHAR(256) CHARACTER SET LATIN\n",
    " ,User_Department                  VARCHAR(256) CHARACTER SET LATIN\n",
    " ,User_SubDepartment               VARCHAR(256) CHARACTER SET LATIN\n",
    " ,qrycnt_in_runtime_0000_0001      BIGINT\n",
    " ,qrycnt_in_runtime_0001_0005      BIGINT\n",
    " ,qrycnt_in_runtime_0005_0010      BIGINT\n",
    " ,qrycnt_in_runtime_0010_0030      BIGINT\n",
    " ,qrycnt_in_runtime_0030_0060      BIGINT\n",
    " ,qrycnt_in_runtime_0060_0300      BIGINT\n",
    " ,qrycnt_in_runtime_0300_0600      BIGINT\n",
    " ,qrycnt_in_runtime_0600_1800      BIGINT\n",
    " ,qrycnt_in_runtime_1800_3600      BIGINT\n",
    " ,qrycnt_in_runtime_3600_plus      BIGINT\n",
    " ,cpusec_in_runtime_0000_0001      DECIMAL(18,4)\n",
    " ,cpusec_in_runtime_0001_0005      DECIMAL(18,4)\n",
    " ,cpusec_in_runtime_0005_0010      DECIMAL(18,4)\n",
    " ,cpusec_in_runtime_0010_0030      DECIMAL(18,4)\n",
    " ,cpusec_in_runtime_0030_0060      DECIMAL(18,4)\n",
    " ,cpusec_in_runtime_0060_0300      DECIMAL(18,4)\n",
    " ,cpusec_in_runtime_0300_0600      DECIMAL(18,4)\n",
    " ,cpusec_in_runtime_0600_1800      DECIMAL(18,4)\n",
    " ,cpusec_in_runtime_1800_3600      DECIMAL(18,4)\n",
    " ,cpusec_in_runtime_3600_plus      DECIMAL(18,4)\n",
    " ,iogb_in_runtime_0000_0001        DECIMAL(18,4)\n",
    " ,iogb_in_runtime_0001_0005        DECIMAL(18,4)\n",
    " ,iogb_in_runtime_0005_0010        DECIMAL(18,4)\n",
    " ,iogb_in_runtime_0010_0030        DECIMAL(18,4)\n",
    " ,iogb_in_runtime_0030_0060        DECIMAL(18,4)\n",
    " ,iogb_in_runtime_0060_0300        DECIMAL(18,4)\n",
    " ,iogb_in_runtime_0300_0600        DECIMAL(18,4)\n",
    " ,iogb_in_runtime_0600_1800        DECIMAL(18,4)\n",
    " ,iogb_in_runtime_1800_3600        DECIMAL(18,4)\n",
    " ,iogb_in_runtime_3600_plus        DECIMAL(18,4)\n",
    " ,qrycnt_in_delaytime_0000_0001    BIGINT\n",
    " ,qrycnt_in_delaytime_0001_0005    BIGINT\n",
    " ,qrycnt_in_delaytime_0005_0010    BIGINT\n",
    " ,qrycnt_in_delaytime_0010_0030    BIGINT\n",
    " ,qrycnt_in_delaytime_0030_0060    BIGINT\n",
    " ,qrycnt_in_delaytime_0060_0300    BIGINT\n",
    " ,qrycnt_in_delaytime_0300_0600    BIGINT\n",
    " ,qrycnt_in_delaytime_0600_1800    BIGINT\n",
    " ,qrycnt_in_delaytime_1800_3600    BIGINT\n",
    " ,qrycnt_in_delaytime_3600_plus    BIGINT\n",
    " ,cpusec_in_delaytime_0000_0001    DECIMAL(18,4)\n",
    " ,cpusec_in_delaytime_0001_0005    DECIMAL(18,4)\n",
    " ,cpusec_in_delaytime_0005_0010    DECIMAL(18,4)\n",
    " ,cpusec_in_delaytime_0010_0030    DECIMAL(18,4)\n",
    " ,cpusec_in_delaytime_0030_0060    DECIMAL(18,4)\n",
    " ,cpusec_in_delaytime_0060_0300    DECIMAL(18,4)\n",
    " ,cpusec_in_delaytime_0300_0600    DECIMAL(18,4)\n",
    " ,cpusec_in_delaytime_0600_1800    DECIMAL(18,4)\n",
    " ,cpusec_in_delaytime_1800_3600    DECIMAL(18,4)\n",
    " ,cpusec_in_delaytime_3600_plus    DECIMAL(18,4)\n",
    " ,iogb_in_delaytime_0000_0001      DECIMAL(18,4)\n",
    " ,iogb_in_delaytime_0001_0005      DECIMAL(18,4)\n",
    " ,iogb_in_delaytime_0005_0010      DECIMAL(18,4)\n",
    " ,iogb_in_delaytime_0010_0030      DECIMAL(18,4)\n",
    " ,iogb_in_delaytime_0030_0060      DECIMAL(18,4)\n",
    " ,iogb_in_delaytime_0060_0300      DECIMAL(18,4)\n",
    " ,iogb_in_delaytime_0300_0600      DECIMAL(18,4)\n",
    " ,iogb_in_delaytime_0600_1800      DECIMAL(18,4)\n",
    " ,iogb_in_delaytime_1800_3600      DECIMAL(18,4)\n",
    " ,iogb_in_delaytime_3600_plus      DECIMAL(18,4)     \n",
    " ) No Primary index\n",
    " on commit preserve rows;"
   ]
  },
  {
   "cell_type": "markdown",
   "metadata": {},
   "source": [
    "### PERM"
   ]
  },
  {
   "cell_type": "code",
   "execution_count": null,
   "metadata": {},
   "outputs": [],
   "source": [
    "DROP TABLE adlste_coa.coat_dat_DBQL_Core_QryCnt_Ranges"
   ]
  },
  {
   "cell_type": "code",
   "execution_count": null,
   "metadata": {},
   "outputs": [],
   "source": [
    "CREATE MULTISET TABLE adlste_coa.coat_dat_DBQL_Core_QryCnt_Ranges\n",
    "   (Site_ID                          VARCHAR(64)  CHARACTER SET LATIN,\n",
    "    LogDate                          DATE FORMAT 'yyyy-mm-dd',\n",
    "    User_Bucket                      VARCHAR(256) CHARACTER SET LATIN,\n",
    "    User_Department                  VARCHAR(256) CHARACTER SET LATIN,\n",
    "    User_SubDepartment               VARCHAR(256) CHARACTER SET LATIN,\n",
    "    qrycnt_in_runtime_0000_0001 BIGINT COMPRESS (0 ,256 ,1 ,2 ,258 ,3 ,4 ,5 ,6 ,262 ,7 ,519 ,8 ,264 ,9 ,10 ,11 ,12 ,13 ,525 ,14 ,270 ,15 ,16 ,272 ,17 ,18 ,19 ,20 ,21 ,22 ,23 ,24 ,25 ,26 ,27 ,28 ,540 ,29 ,30 ,31 ,32 ,288 ,33 ,34 ,35 ,36 ,292 ,37 ,38 ,294 ,39 ,40 ,41 ,42 ,43 ,299 ,44 ,45 ,46 ,47 ,48 ,49 ,50 ,51 ,52 ,53 ,54 ,55 ,56 ,57 ,313 ,58 ,59 ,60 ,61 ,62 ,63 ,64 ,576 ,65 ,66 ,67 ,68 ,69 ,70 ,71 ,72 ,73 ,74 ,75 ,76 ,77 ,78 ,79 ,80 ,336 ,81 ,82 ,83 ,84 ,340 ,85 ,86 ,87 ,88 ,600 ,89 ,345 ,90 ,91 ,92 ,93 ,349 ,94 ,95 ,96 ,97 ,98 ,99 ,100 ,101 ,102 ,103 ,104 ,360 ,105 ,106 ,107 ,108 ,109 ,110 ,111 ,112 ,368 ,113 ,369 ,114 ,115 ,116 ,117 ,118 ,119 ,120 ,121 ,122 ,123 ,124 ,125 ,126 ,127 ,128 ,129 ,130 ,131 ,132 ,133 ,134 ,135 ,136 ,137 ,138 ,139 ,140 ,141 ,142 ,143 ,144 ,145 ,146 ,147 ,148 ,149 ,150 ,151 ,152 ,153 ,154 ,155 ,156 ,157 ,158 ,159 ,160 ,416 ,161 ,162 ,163 ,164 ,165 ,166 ,167 ,168 ,169 ,170 ,171 ,172 ,173 ,174 ,175 ,176 ,432 ,177 ,178 ,179 ,180 ,181 ,182 ,183 ,184 ,185 ,186 ,187 ,188 ,189 ,190 ,191 ,1215 ,192 ,193 ,194 ,196 ,197 ,198 ,200 ,202 ,204 ,206 ,207 ,208 ,209 ,210 ,211 ,212 ,214 ,215 ,216 ,217 ,218 ,219 ,220 ,222 ,224 ,226 ,228 ,232 ,239 ,240 ,241 ,246 ,248 ,504 ,252 ,255 ),\n",
    "    qrycnt_in_runtime_0001_0005 BIGINT COMPRESS (0 ,1 ,2 ,3 ,4 ,5 ,6 ,7 ,8 ,9 ,10 ,11 ,12 ,13 ,14 ,15 ,16 ,17 ,18 ,19 ,20 ,21 ,22 ,23 ,24 ,25 ,26 ,27 ,28 ,29 ,30 ,31 ,32 ,33 ,34 ,35 ,36 ,37 ,38 ,39 ,40 ,41 ,42 ,43 ,44 ,45 ,46 ,47 ,48 ,49 ,50 ,51 ,52 ,53 ,54 ,55 ,56 ,57 ,58 ,59 ,60 ,61 ,62 ,63 ,64 ,65 ,66 ,67 ,68 ,69 ,70 ,71 ,72 ,73 ,74 ,75 ,76 ,77 ,78 ,79 ,80 ,81 ,82 ,83 ,84 ,85 ,86 ,87 ,88 ,89 ,90 ,91 ,92 ,93 ,94 ,95 ,96 ,97 ,98 ,99 ,100 ,101 ,102 ,103 ,104 ,105 ,106 ,107 ,108 ,109 ,110 ,111 ,112 ,113 ,114 ,115 ,116 ,117 ,118 ,119 ,120 ,122 ,124 ,126 ,128 ,176 ),\n",
    "    qrycnt_in_runtime_0005_0010 BIGINT COMPRESS (0 ,1 ,2 ,3 ,4 ,5 ,6 ,7 ,8 ,9 ,10 ,11 ,12 ,13 ,14 ,15 ,16 ,17 ,18 ,19 ,20 ,21 ,22 ,23 ,24 ,25 ,26 ,27 ,28 ,30 ),\n",
    "    qrycnt_in_runtime_0010_0030 BIGINT COMPRESS (0 ,1 ,2 ,3 ,4 ,5 ,6 ,7 ,8 ,9 ,10 ,11 ,12 ,13 ),\n",
    "    qrycnt_in_runtime_0030_0060 BIGINT COMPRESS (0 ,1 ,2 ,3 ,4 ,5 ),\n",
    "    qrycnt_in_runtime_0060_0300 BIGINT COMPRESS (0 ,1 ,2 ,3 ,4 ,5 ),\n",
    "    qrycnt_in_runtime_0300_0600 BIGINT COMPRESS (0 ,1 ),\n",
    "    qrycnt_in_runtime_0600_1800 BIGINT COMPRESS (0 ,1 ),\n",
    "    qrycnt_in_runtime_1800_3600 BIGINT COMPRESS (0 ,1 ),\n",
    "    qrycnt_in_runtime_3600_plus BIGINT COMPRESS (0 ,1 ),\n",
    "    cpusec_in_runtime_0000_0001 DECIMAL(18,4) COMPRESS (0.0000 ,0.1280 ,0.2560 ,0.3840 ,0.5120 ,0.6400 ,0.7680 ,0.8960 ,0.0520 ,0.1800 ,0.3080 ,0.4360 ,0.5640 ,0.6920 ,0.8200 ,0.1040 ,0.2320 ,0.3600 ,0.4880 ,0.6160 ,0.7440 ,0.8720 ,0.0280 ,0.1560 ,0.2840 ,0.4120 ,0.5400 ,0.6680 ,0.7960 ,0.9240 ,1.0520 ,0.0800 ,0.2080 ,0.3360 ,0.4640 ,0.5920 ,0.7200 ,0.8480 ,0.9760 ,0.0040 ,0.1320 ,0.2600 ,0.3880 ,0.5160 ,0.6440 ,0.7720 ,0.9000 ,1.0280 ,0.0560 ,0.1840 ,0.3120 ,0.4400 ,0.5680 ,0.6960 ,0.8240 ,0.9520 ,0.1080 ,0.2360 ,0.3640 ,0.4920 ,0.6200 ,0.7480 ,0.8760 ,0.0320 ,0.1600 ,0.2880 ,0.4160 ,0.5440 ,0.6720 ,0.8000 ,0.9280 ,0.0840 ,0.2120 ,0.3400 ,0.4680 ,0.5960 ,0.7240 ,0.8520 ,0.9800 ,1.1080 ,0.0080 ,0.1360 ,0.2640 ,0.3920 ,0.5200 ,0.6480 ,0.7760 ,0.9040 ,0.0600 ,0.1880 ,0.3160 ,0.4440 ,0.5720 ,0.7000 ,0.8280 ,0.9560 ,0.1120 ,0.2400 ,0.3680 ,0.4960 ,0.6240 ,0.7520 ,0.8800 ,1.0080 ,0.0360 ,0.1640 ,0.2920 ,0.4200 ,0.5480 ,0.6760 ,0.8040 ,0.9320 ,0.0880 ,0.2160 ,0.3440 ,0.4720 ,0.6000 ,0.7280 ,0.8560 ,0.9840 ,0.0120 ,0.1400 ,0.2680 ,0.3960 ,0.5240 ,0.6520 ,0.7800 ,0.9080 ,0.0640 ,0.1920 ,0.3200 ,0.4480 ,0.5760 ,0.7040 ,0.8320 ,0.1160 ,0.2440 ,0.3720 ,0.5000 ,0.6280 ,0.7560 ,0.8840 ,0.0400 ,0.1680 ,0.2960 ,0.4240 ,0.5520 ,0.6800 ,0.8080 ,0.9360 ,0.0920 ,0.2200 ,0.3480 ,0.4760 ,0.6040 ,0.7320 ,0.8600 ,0.0160 ,0.1440 ,0.2720 ,0.4000 ,0.5280 ,0.6560 ,0.7840 ,0.9120 ,0.0680 ,0.1960 ,0.3240 ,0.4520 ,0.5800 ,0.7080 ,0.8360 ,0.9640 ,0.1200 ,0.2480 ,0.3760 ,0.5040 ,0.6320 ,0.7600 ,0.8880 ,1.0160 ,0.0440 ,0.1720 ,0.3000 ,0.4280 ,0.5560 ,0.6840 ,0.8120 ,0.9400 ,0.0960 ,0.2240 ,0.3520 ,0.4800 ,0.6080 ,0.7360 ,0.8640 ,0.9920 ,0.0200 ,0.1480 ,0.2760 ,0.4040 ,0.5320 ,0.6600 ,0.7880 ,0.9160 ,1.0440 ,0.0720 ,0.2000 ,0.3280 ,0.4560 ,0.5840 ,0.7120 ,0.8400 ,0.9680 ,0.1240 ,0.2520 ,0.3800 ,0.5080 ,0.6360 ,0.7640 ,0.8920 ,1.0200 ,0.0480 ,0.1760 ,0.3040 ,0.4320 ,0.5600 ,0.6880 ,0.8160 ,0.9440 ,0.1000 ,0.2280 ,0.3560 ,0.4840 ,0.6120 ,0.7400 ,0.8680 ,0.0240 ,0.1520 ,0.2800 ,0.4080 ,0.5360 ,0.6640 ,0.7920 ,0.9200 ,1.0480 ,0.0760 ,0.2040 ,0.3320 ,0.4600 ,0.5880 ,0.7160 ,0.8440 ,0.9720 ),\n",
    "    cpusec_in_runtime_0001_0005 DECIMAL(18,4) COMPRESS (0.0000 ,0.0040 ),\n",
    "    cpusec_in_runtime_0005_0010 DECIMAL(18,4) COMPRESS (0.0000 ,0.0040 ),\n",
    "    cpusec_in_runtime_0010_0030 DECIMAL(18,4) COMPRESS (0.0000 ,0.0040 ),\n",
    "    cpusec_in_runtime_0030_0060 DECIMAL(18,4) COMPRESS (0.0000 ,0.0040 ),\n",
    "    cpusec_in_runtime_0060_0300 DECIMAL(18,4) COMPRESS (0.0000 ,0.0040 ),\n",
    "    cpusec_in_runtime_0300_0600 DECIMAL(18,4) COMPRESS (0.0000 ,0.0040 ),\n",
    "    cpusec_in_runtime_0600_1800 DECIMAL(18,4) COMPRESS (0.0000 ,0.0040 ),\n",
    "    cpusec_in_runtime_1800_3600 DECIMAL(18,4) COMPRESS (0.0000 ,0.0040 ),\n",
    "    cpusec_in_runtime_3600_plus DECIMAL(18,4) COMPRESS (0.0000 ,0.0040 ),\n",
    "    iogb_in_runtime_0000_0001   DECIMAL(18,4) COMPRESS (0.0000 ,0.0001 ,0.0002 ,0.0003 ,0.0004 ,0.0005 ,0.0006 ,0.1030 ,0.0007 ,0.0008 ,0.0009 ,0.0010 ,0.0266 ,0.0011 ,0.0012 ,0.2060 ,0.0013 ,0.0014 ,0.0015 ,0.0016 ,0.0272 ,0.0017 ,0.0273 ,0.0018 ,0.0274 ,0.0019 ,0.0020 ,0.0021 ,0.0022 ,0.0023 ,0.0024 ,0.4120 ,0.0025 ,0.0026 ,0.0027 ,0.0028 ,0.0029 ,0.0030 ,0.0031 ,0.0032 ,0.0033 ,0.8225 ,0.0034 ,0.0035 ,0.0036 ,0.0292 ,0.0037 ,0.0038 ,0.0294 ,0.0039 ,0.0040 ,0.0041 ,0.0042 ,0.0043 ,0.0044 ,0.0045 ,0.0046 ,0.0047 ,0.0048 ,0.0049 ,0.0050 ,0.0051 ,0.0052 ,0.0053 ,0.0054 ,0.0055 ,0.0056 ,0.0057 ,0.0058 ,0.0059 ,0.0060 ,0.0061 ,0.0062 ,0.0063 ,0.0064 ,0.0065 ,0.0066 ,1.6450 ,0.0067 ,0.0068 ,0.0069 ,0.0070 ,1.3638 ,0.0071 ,0.0072 ,0.0073 ,0.0074 ,0.0075 ,0.0076 ,0.0077 ,0.0078 ,0.0079 ,0.0080 ,0.0081 ,0.0082 ,0.0083 ,0.0084 ,0.0085 ,0.0086 ,0.0087 ,0.0599 ,0.0088 ,0.0600 ,0.0089 ,0.0090 ,0.0091 ,0.0092 ,0.0093 ,0.0094 ,0.0095 ,0.0096 ,0.0097 ,0.0098 ,0.0099 ,2.4675 ,0.0100 ,0.0101 ,0.0102 ,0.0103 ,0.0104 ,0.0105 ,0.0106 ,0.0107 ,0.0108 ,0.0109 ,0.0110 ,0.0111 ,0.0112 ,0.0113 ,0.0114 ,0.0115 ,0.0116 ,0.0117 ,0.0118 ,0.0119 ,0.0120 ,0.0121 ,0.0122 ,0.0123 ,0.0124 ,0.0125 ,0.0126 ,0.0127 ,0.0128 ,0.0129 ,0.0130 ,0.0131 ,0.0132 ,0.0133 ,0.0134 ,0.0135 ,0.0136 ,0.0137 ,0.0138 ,0.0139 ,0.0140 ,0.0141 ,0.0142 ,0.0143 ,0.0144 ,0.0912 ,0.0145 ,0.0146 ,0.3986 ,0.0147 ,0.0148 ,0.0149 ,0.0150 ,0.0151 ,0.0152 ,0.0153 ,0.0154 ,2.4474 ,0.0155 ,0.0667 ,0.0156 ,0.0157 ,0.0158 ,0.0159 ,0.0160 ,0.0161 ,0.0162 ,0.0418 ,0.0163 ,0.0164 ,0.0165 ,0.0166 ,0.0167 ,0.0168 ,0.0169 ,0.0170 ,0.0171 ,0.0172 ,0.0684 ,0.0173 ,0.0174 ,0.0175 ,0.0176 ,0.0432 ,0.0177 ,0.0178 ,0.0179 ,0.0180 ,0.0181 ,0.0182 ,0.0183 ,0.0184 ,0.0185 ,0.0186 ,0.0187 ,0.0188 ,0.0189 ,0.0190 ,0.0191 ,0.0192 ,0.0193 ,0.0194 ,0.0195 ,0.0196 ,0.0197 ,0.0198 ,0.0200 ,0.0456 ,0.0201 ,0.0202 ,0.0203 ,0.0204 ,0.0205 ,0.0206 ,0.0207 ,0.0208 ,0.0209 ,0.0210 ,0.0211 ,0.0212 ,0.0213 ,0.0214 ,1.2246 ,0.0215 ,0.0218 ,0.0224 ,0.0226 ,0.0227 ,0.0228 ,0.0229 ,0.0230 ,0.0234 ,0.0235 ,0.0237 ,0.0238 ,0.0239 ,0.0240 ,0.3568 ,2.7640 ),\n",
    "    iogb_in_runtime_0001_0005   DECIMAL(18,4) COMPRESS (0.0000 ,0.0001 ),\n",
    "    iogb_in_runtime_0005_0010   DECIMAL(18,4) COMPRESS (0.0000 ,0.0001 ),\n",
    "    iogb_in_runtime_0010_0030   DECIMAL(18,4) COMPRESS (0.0000 ,0.0001 ),\n",
    "    iogb_in_runtime_0030_0060   DECIMAL(18,4) COMPRESS (0.0000 ,0.0001 ),\n",
    "    iogb_in_runtime_0060_0300   DECIMAL(18,4) COMPRESS (0.0000 ,0.0001 ),\n",
    "    iogb_in_runtime_0300_0600   DECIMAL(18,4) COMPRESS 0.0000 ,\n",
    "    iogb_in_runtime_0600_1800   DECIMAL(18,4) COMPRESS 0.0000 ,\n",
    "    iogb_in_runtime_1800_3600   DECIMAL(18,4) COMPRESS 0.0000 ,\n",
    "    iogb_in_runtime_3600_plus   DECIMAL(18,4) COMPRESS 0.0000 ,\n",
    "    qrycnt_in_delaytime_0000_0001 BIGINT COMPRESS (0 ,256 ,1 ,2 ,258 ,3 ,4 ,516 ,5 ,6 ,7 ,519 ,8 ,264 ,9 ,10 ,11 ,12 ,13 ,14 ,270 ,15 ,16 ,272 ,17 ,18 ,19 ,20 ,21 ,22 ,23 ,24 ,25 ,26 ,27 ,28 ,540 ,29 ,30 ,31 ,32 ,288 ,33 ,34 ,35 ,36 ,292 ,37 ,38 ,294 ,39 ,40 ,41 ,42 ,43 ,299 ,44 ,45 ,46 ,47 ,48 ,49 ,50 ,51 ,52 ,53 ,54 ,55 ,56 ,57 ,313 ,58 ,59 ,60 ,61 ,62 ,63 ,64 ,576 ,832 ,65 ,66 ,67 ,68 ,69 ,70 ,71 ,72 ,73 ,74 ,75 ,76 ,77 ,78 ,846 ,79 ,80 ,336 ,81 ,82 ,83 ,84 ,340 ,85 ,86 ,598 ,87 ,88 ,344 ,600 ,89 ,345 ,90 ,91 ,92 ,348 ,93 ,349 ,94 ,95 ,96 ,97 ,98 ,99 ,100 ,101 ,102 ,103 ,104 ,360 ,105 ,106 ,107 ,108 ,109 ,110 ,111 ,112 ,368 ,113 ,114 ,370 ,115 ,116 ,117 ,118 ,374 ,119 ,120 ,121 ,122 ,123 ,124 ,125 ,126 ,127 ,128 ,384 ,129 ,130 ,131 ,643 ,132 ,133 ,134 ,135 ,136 ,137 ,138 ,139 ,140 ,141 ,142 ,143 ,144 ,145 ,146 ,147 ,148 ,404 ,149 ,150 ,151 ,152 ,153 ,154 ,155 ,667 ,156 ,157 ,158 ,159 ,160 ,416 ,161 ,162 ,163 ,164 ,420 ,165 ,166 ,167 ,168 ,169 ,170 ,171 ,172 ,428 ,173 ,174 ,175 ,176 ,432 ,177 ,178 ,179 ,180 ,181 ,182 ,183 ,184 ,185 ,186 ,187 ,188 ,189 ,190 ,191 ,1215 ,192 ,193 ,194 ,195 ,196 ,198 ,200 ,202 ,204 ,208 ,210 ,214 ,216 ,217 ,219 ,220 ,222 ,224 ,736 ,226 ,228 ,240 ,246 ,504 ,252 ),\n",
    "    qrycnt_in_delaytime_0001_0005 BIGINT COMPRESS (0 ,1 ,2 ,3 ,4 ,5 ),\n",
    "    qrycnt_in_delaytime_0005_0010 BIGINT COMPRESS (0 ,1 ),\n",
    "    qrycnt_in_delaytime_0010_0030 BIGINT COMPRESS (0 ,1 ),\n",
    "    qrycnt_in_delaytime_0030_0060 BIGINT COMPRESS (0 ,1 ),\n",
    "    qrycnt_in_delaytime_0060_0300 BIGINT COMPRESS (0 ,1 ),\n",
    "    qrycnt_in_delaytime_0300_0600 BIGINT COMPRESS (0 ,1 ),\n",
    "    qrycnt_in_delaytime_0600_1800 BIGINT COMPRESS (0 ,1 ),\n",
    "    qrycnt_in_delaytime_1800_3600 BIGINT COMPRESS 0 ,\n",
    "    qrycnt_in_delaytime_3600_plus BIGINT COMPRESS 0 ,\n",
    "    cpusec_in_delaytime_0000_0001 DECIMAL(18,4) COMPRESS (0.0000 ,0.1280 ,0.2560 ,0.3840 ,0.5120 ,0.6400 ,0.7680 ,0.8960 ,0.0520 ,0.1800 ,0.3080 ,0.4360 ,0.5640 ,0.6920 ,0.8200 ,0.9480 ,0.1040 ,0.2320 ,0.3600 ,0.4880 ,0.6160 ,0.7440 ,0.8720 ,0.0280 ,0.1560 ,0.2840 ,0.4120 ,0.5400 ,0.6680 ,0.7960 ,0.9240 ,1.0520 ,0.0800 ,0.2080 ,0.3360 ,0.4640 ,0.5920 ,0.7200 ,0.8480 ,0.9760 ,0.0040 ,0.1320 ,0.2600 ,0.3880 ,0.5160 ,0.6440 ,0.7720 ,0.9000 ,0.0560 ,0.1840 ,0.3120 ,0.4400 ,0.5680 ,0.6960 ,0.8240 ,0.9520 ,0.1080 ,0.2360 ,0.3640 ,0.4920 ,0.6200 ,0.7480 ,0.8760 ,0.0320 ,0.1600 ,0.2880 ,0.4160 ,0.5440 ,0.6720 ,0.8000 ,0.9280 ,0.0840 ,0.2120 ,0.3400 ,0.4680 ,0.5960 ,0.7240 ,0.8520 ,0.9800 ,1.1080 ,0.0080 ,0.1360 ,0.2640 ,0.3920 ,0.5200 ,0.6480 ,0.7760 ,0.9040 ,0.0600 ,0.1880 ,0.3160 ,0.4440 ,0.5720 ,0.7000 ,0.8280 ,0.9560 ,0.1120 ,0.2400 ,0.3680 ,0.4960 ,0.6240 ,0.7520 ,0.8800 ,0.0360 ,0.1640 ,0.2920 ,0.4200 ,0.5480 ,0.6760 ,0.8040 ,0.9320 ,1.0600 ,0.0880 ,0.2160 ,0.3440 ,0.4720 ,0.6000 ,0.7280 ,0.8560 ,0.9840 ,0.0120 ,0.1400 ,0.2680 ,0.3960 ,0.5240 ,0.6520 ,0.7800 ,0.9080 ,0.0640 ,0.1920 ,0.3200 ,0.4480 ,0.5760 ,0.7040 ,0.8320 ,0.1160 ,0.2440 ,0.3720 ,0.5000 ,0.6280 ,0.7560 ,0.8840 ,0.0400 ,0.1680 ,0.2960 ,0.4240 ,0.5520 ,0.6800 ,0.8080 ,0.9360 ,0.0920 ,0.2200 ,0.3480 ,0.4760 ,0.6040 ,0.7320 ,0.8600 ,0.0160 ,0.1440 ,0.2720 ,0.4000 ,0.5280 ,0.6560 ,0.7840 ,0.9120 ,0.0680 ,0.1960 ,0.3240 ,0.4520 ,0.5800 ,0.7080 ,0.8360 ,0.9640 ,0.1200 ,0.2480 ,0.3760 ,0.5040 ,0.6320 ,0.7600 ,0.8880 ,1.0160 ,0.0440 ,0.1720 ,0.3000 ,0.4280 ,0.5560 ,0.6840 ,0.8120 ,0.9400 ,0.0960 ,0.2240 ,0.3520 ,0.4800 ,0.6080 ,0.7360 ,0.8640 ,0.9920 ,0.0200 ,0.1480 ,0.2760 ,0.4040 ,0.5320 ,0.6600 ,0.7880 ,0.9160 ,1.0440 ,0.0720 ,0.2000 ,0.3280 ,0.4560 ,0.5840 ,0.7120 ,0.8400 ,0.9680 ,0.1240 ,0.2520 ,0.3800 ,0.5080 ,0.6360 ,0.7640 ,0.8920 ,1.0200 ,0.0480 ,0.1760 ,0.3040 ,0.4320 ,0.5600 ,0.6880 ,0.8160 ,0.9440 ,0.1000 ,0.2280 ,0.3560 ,0.4840 ,0.6120 ,0.7400 ,0.8680 ,0.0240 ,0.1520 ,0.2800 ,0.4080 ,0.5360 ,0.6640 ,0.7920 ,0.9200 ,1.0480 ,0.0760 ,0.2040 ,0.3320 ,0.4600 ,0.5880 ,0.7160 ,0.8440 ,0.9720 ),\n",
    "    cpusec_in_delaytime_0001_0005 DECIMAL(18,4) COMPRESS (0.0000 ,0.0040 ),\n",
    "    cpusec_in_delaytime_0005_0010 DECIMAL(18,4) COMPRESS (0.0000 ,0.0040 ),\n",
    "    cpusec_in_delaytime_0010_0030 DECIMAL(18,4) COMPRESS (0.0000 ,0.0040 ),\n",
    "    cpusec_in_delaytime_0030_0060 DECIMAL(18,4) COMPRESS (0.0000 ,0.0040 ),\n",
    "    cpusec_in_delaytime_0060_0300 DECIMAL(18,4) COMPRESS (0.0000 ,0.0040 ),\n",
    "    cpusec_in_delaytime_0300_0600 DECIMAL(18,4) COMPRESS (0.0000 ,0.0040 ),\n",
    "    cpusec_in_delaytime_0600_1800 DECIMAL(18,4) COMPRESS 0.0000 ,\n",
    "    cpusec_in_delaytime_1800_3600 DECIMAL(18,4) COMPRESS 0.0000 ,\n",
    "    cpusec_in_delaytime_3600_plus DECIMAL(18,4) COMPRESS 0.0000 ,\n",
    "    iogb_in_delaytime_0000_0001   DECIMAL(18,4) COMPRESS (0.0000 ,0.0001 ,0.0002 ,0.0003 ,0.0004 ,0.0005 ,0.0006 ,0.0007 ,0.0008 ,0.0009 ,0.0010 ,0.0011 ,0.0012 ,0.1548 ,0.2060 ,0.0013 ,0.0014 ,0.0015 ,0.0016 ,0.0272 ,0.0017 ,0.0273 ,0.0018 ,0.0019 ,0.0020 ,0.0021 ,0.0277 ,0.0022 ,0.0023 ,0.0024 ,0.4120 ,0.0025 ,0.0026 ,0.0027 ,0.0028 ,0.0029 ,0.0030 ,0.0031 ,0.0032 ,0.0033 ,0.8225 ,0.0034 ,0.0035 ,0.0036 ,0.0292 ,0.0037 ,0.0038 ,0.0294 ,0.0039 ,0.0040 ,0.0041 ,0.0042 ,0.0043 ,0.0044 ,0.0045 ,0.0046 ,0.0047 ,0.0048 ,0.0049 ,0.0050 ,0.0051 ,0.0052 ,0.0053 ,0.0309 ,0.0054 ,0.0055 ,0.0056 ,0.0057 ,0.0058 ,0.0059 ,0.0060 ,0.0061 ,0.0062 ,0.0063 ,0.0064 ,0.0065 ,0.0066 ,1.6450 ,0.0067 ,0.0068 ,0.0069 ,0.0070 ,1.3638 ,0.0071 ,0.0072 ,0.0073 ,0.0074 ,0.0075 ,0.0076 ,0.0077 ,0.0078 ,0.0079 ,0.0080 ,0.0081 ,0.0082 ,0.0083 ,0.0084 ,0.0085 ,0.0086 ,0.0087 ,0.0599 ,0.0088 ,0.0600 ,0.0089 ,0.0090 ,0.0091 ,0.0092 ,0.0093 ,0.0094 ,0.0095 ,0.0096 ,0.0097 ,0.0098 ,0.0099 ,2.4675 ,0.0100 ,0.0101 ,0.0102 ,0.0103 ,0.0104 ,0.0105 ,0.0106 ,0.0107 ,0.0108 ,0.0109 ,0.0110 ,0.0111 ,0.0112 ,0.0113 ,0.0114 ,0.0115 ,0.0116 ,0.0117 ,0.0118 ,0.0119 ,0.0120 ,0.0121 ,0.0122 ,0.0123 ,0.0124 ,0.0125 ,0.0126 ,0.0127 ,0.0128 ,0.0129 ,0.0130 ,0.0131 ,0.0643 ,0.0132 ,0.0133 ,0.0134 ,0.0135 ,0.0136 ,0.0137 ,0.0138 ,0.0139 ,0.0140 ,0.0141 ,0.0142 ,0.0143 ,0.0144 ,0.0912 ,0.0145 ,0.0146 ,0.3986 ,0.0147 ,0.0148 ,0.0149 ,0.0150 ,0.0151 ,0.0152 ,0.0153 ,0.0154 ,2.4474 ,0.0155 ,0.0667 ,0.0156 ,0.0157 ,0.0158 ,0.0159 ,0.0160 ,0.0161 ,0.0162 ,0.0163 ,0.0164 ,0.0165 ,0.0166 ,0.0167 ,0.0168 ,0.0169 ,0.0170 ,0.0171 ,0.0172 ,0.0684 ,0.0173 ,0.0174 ,0.0175 ,0.0176 ,0.0432 ,0.0177 ,0.0178 ,0.0179 ,0.0180 ,0.0181 ,0.0182 ,0.0183 ,0.0184 ,0.0185 ,0.0186 ,0.0187 ,0.0188 ,0.0189 ,0.0190 ,0.0191 ,0.0192 ,0.0193 ,0.0194 ,0.0195 ,0.0196 ,0.0198 ,0.0199 ,0.0200 ,0.0456 ,0.0201 ,0.0202 ,0.0203 ,0.0204 ,0.0205 ,0.0206 ,0.0207 ,0.0208 ,0.0209 ,0.0210 ,0.0212 ,0.0213 ,0.0214 ,1.2246 ,0.0215 ,0.0216 ,0.0217 ,0.0218 ,0.0222 ,0.0224 ,0.0226 ,0.0227 ,0.0228 ,0.0229 ,0.0230 ,0.0234 ,0.0235 ,0.0238 ,0.0239 ,0.0240 ,0.3568 ),\n",
    "    iogb_in_delaytime_0001_0005   DECIMAL(18,4) COMPRESS (0.0000 ,0.0001 ),\n",
    "    iogb_in_delaytime_0005_0010   DECIMAL(18,4) COMPRESS (0.0000 ,0.0001 ),\n",
    "    iogb_in_delaytime_0010_0030   DECIMAL(18,4) COMPRESS (0.0000 ,0.0001 ),\n",
    "    iogb_in_delaytime_0030_0060   DECIMAL(18,4) COMPRESS (0.0000 ,0.0001 ),\n",
    "    iogb_in_delaytime_0060_0300   DECIMAL(18,4) COMPRESS (0.0000 ,0.0001 ),\n",
    "    iogb_in_delaytime_0300_0600   DECIMAL(18,4) COMPRESS 0.0000 ,\n",
    "    iogb_in_delaytime_0600_1800   DECIMAL(18,4) COMPRESS 0.0000 ,\n",
    "    iogb_in_delaytime_1800_3600   DECIMAL(18,4) COMPRESS 0.0000 ,\n",
    "    iogb_in_delaytime_3600_plus   DECIMAL(18,4) COMPRESS 0.0000 ,  \n",
    "    Run_ID INTEGER\n",
    " ) PRIMARY INDEX ( Site_ID, LogDate )\n",
    "   PARTITION BY (  COLUMN (Site_ID) ADD 10,\n",
    "                RANGE_N(LogDate \n",
    "                        BETWEEN DATE '2019-01-01'  AND DATE '2021-12-31' \n",
    "                        EACH INTERVAL '1' DAY,\n",
    "                NO RANGE OR UNKNOWN) );"
   ]
  },
  {
   "cell_type": "markdown",
   "metadata": {},
   "source": [
    "### TAL View"
   ]
  },
  {
   "cell_type": "code",
   "execution_count": null,
   "metadata": {},
   "outputs": [],
   "source": [
    "Replace view adlste_coa.coa_dat_DBQL_Core_QryCnt_Ranges\n",
    "as locking row for access\n",
    "select a.* from adlste_coa.coat_dat_DBQL_Core_QryCnt_Ranges a"
   ]
  },
  {
   "cell_type": "markdown",
   "metadata": {},
   "source": [
    "### Stored Proc"
   ]
  },
  {
   "cell_type": "code",
   "execution_count": null,
   "metadata": {},
   "outputs": [],
   "source": [
    "REPLACE PROCEDURE adlste_coa.sp_dat_DBQL_Core_QryCnt_Ranges ( spversion VARCHAR(128) )\n",
    "SQL SECURITY Creator\n",
    "BEGIN\n",
    "    \n",
    "  DECLARE runid  INTEGER;\n",
    "  DECLARE parentrunid INTEGER;\n",
    "  DECLARE siteid VARCHAR(128);\n",
    "  DECLARE tablename VARCHAR(128);\n",
    "  DECLARE callingsp VARCHAR(128); \n",
    "  DECLARE startdate DATE;\n",
    "  DECLARE enddate DATE;\n",
    "  DECLARE SQL_ERROR_CODE INTEGER;\n",
    "  DECLARE SQL_STATE VARCHAR(5);\n",
    "  DECLARE ERROR_MESSAGE VARCHAR(256);\n",
    "  \n",
    "  DECLARE EXIT HANDLER FOR SqlException\n",
    "  BEGIN\n",
    "   \n",
    "     SET SQL_ERROR_CODE = SqlCode;\n",
    "     SET SQL_STATE = SqlState;\n",
    "     \n",
    "     GET DIAGNOSTICS EXCEPTION 1 ERROR_MESSAGE = Message_Text;\n",
    "     \n",
    "     CALL adlste_coa.sp_audit_log(:runid, :siteid, :tablename, :callingsp, :spversion, :startdate, :enddate, 'normal run', 'ERROR', :ERROR_MESSAGE );\n",
    "     \n",
    "  END;\n",
    "  \n",
    "  SET runid = 0;\n",
    "  SET parentrunid = 0 ;\n",
    "  SET tablename = 'adlste_coa.coat_dat_DBQL_Core_QryCnt_Ranges';\n",
    "  SET callingsp = 'adlste_coa.sp_dat_DBQL_Core_QryCnt_Ranges';\n",
    "  SET siteid = 'Empty Table';\n",
    "    \n",
    "  SELECT \n",
    "     Site_Id\n",
    "    ,Min(LogDate) AS StartDate\n",
    "    ,Max(LogDate) AS EndDate\n",
    "  INTO siteid, startdate, enddate\n",
    "  FROM adlste_coa_stg.stg_dat_DBQL_core_QryCnt_Ranges \n",
    "  GROUP BY 1;\n",
    "   \n",
    "  CALL adlste_coa.sp_audit_log(:runid, :siteid, :tablename, :callingsp, :spversion, :startdate, :enddate, 'normal run', 'START', '');\n",
    "  SET parentrunid = runid;\n",
    "\n",
    "  /* end setup audit process */\n",
    "\n",
    "    DELETE FROM adlste_coa.coat_dat_DBQL_core_QryCnt_Ranges\n",
    "    WHERE   (Site_ID, LogDate) IN\n",
    "    (SELECT Site_ID, LogDate FROM adlste_coa_STG.stg_dat_DBQL_core_QryCnt_Ranges);\n",
    "\n",
    "    SET runid = parentrunid;\n",
    "    CALL adlste_coa.sp_audit_log(:runid, :siteid, :tablename, :callingsp, :spversion, :startdate, :enddate, \n",
    "                               'normal run', 'STEP', 'Removed overlaping records from Target COAT');\n",
    "\n",
    "    INSERT INTO adlste_coa.coat_dat_DBQL_core_QryCnt_Ranges\n",
    "    (Site_ID, LogDate, User_Bucket, User_Department, User_SubDepartment                      \n",
    "    ,qrycnt_in_runtime_0000_0001,qrycnt_in_runtime_0001_0005,qrycnt_in_runtime_0005_0010,qrycnt_in_runtime_0010_0030,qrycnt_in_runtime_0030_0060   \n",
    "    ,qrycnt_in_runtime_0060_0300,qrycnt_in_runtime_0300_0600,qrycnt_in_runtime_0600_1800,qrycnt_in_runtime_1800_3600,qrycnt_in_runtime_3600_plus   \n",
    "    ,cpusec_in_runtime_0000_0001,cpusec_in_runtime_0001_0005,cpusec_in_runtime_0005_0010,cpusec_in_runtime_0010_0030,cpusec_in_runtime_0030_0060   \n",
    "    ,cpusec_in_runtime_0060_0300,cpusec_in_runtime_0300_0600,cpusec_in_runtime_0600_1800,cpusec_in_runtime_1800_3600,cpusec_in_runtime_3600_plus   \n",
    "    ,iogb_in_runtime_0000_0001,iogb_in_runtime_0001_0005,iogb_in_runtime_0005_0010,iogb_in_runtime_0010_0030,iogb_in_runtime_0030_0060     \n",
    "    ,iogb_in_runtime_0060_0300,iogb_in_runtime_0300_0600,iogb_in_runtime_0600_1800,iogb_in_runtime_1800_3600,iogb_in_runtime_3600_plus     \n",
    "    ,qrycnt_in_delaytime_0000_0001,qrycnt_in_delaytime_0001_0005,qrycnt_in_delaytime_0005_0010,qrycnt_in_delaytime_0010_0030,qrycnt_in_delaytime_0030_0060 \n",
    "    ,qrycnt_in_delaytime_0060_0300,qrycnt_in_delaytime_0300_0600,qrycnt_in_delaytime_0600_1800,qrycnt_in_delaytime_1800_3600,qrycnt_in_delaytime_3600_plus \n",
    "    ,cpusec_in_delaytime_0000_0001,cpusec_in_delaytime_0001_0005,cpusec_in_delaytime_0005_0010,cpusec_in_delaytime_0010_0030,cpusec_in_delaytime_0030_0060 \n",
    "    ,cpusec_in_delaytime_0060_0300,cpusec_in_delaytime_0300_0600,cpusec_in_delaytime_0600_1800,cpusec_in_delaytime_1800_3600,cpusec_in_delaytime_3600_plus \n",
    "    ,iogb_in_delaytime_0000_0001,iogb_in_delaytime_0001_0005,iogb_in_delaytime_0005_0010,iogb_in_delaytime_0010_0030,iogb_in_delaytime_0030_0060   \n",
    "    ,iogb_in_delaytime_0060_0300,iogb_in_delaytime_0300_0600,iogb_in_delaytime_0600_1800,iogb_in_delaytime_1800_3600,iogb_in_delaytime_3600_plus   \n",
    "    ,Run_ID)\n",
    "    SELECT \n",
    "     Site_ID, LogDate, User_Bucket, User_Department, User_SubDepartment    \n",
    "    ,qrycnt_in_runtime_0000_0001,qrycnt_in_runtime_0001_0005,qrycnt_in_runtime_0005_0010,qrycnt_in_runtime_0010_0030,qrycnt_in_runtime_0030_0060   \n",
    "    ,qrycnt_in_runtime_0060_0300,qrycnt_in_runtime_0300_0600,qrycnt_in_runtime_0600_1800,qrycnt_in_runtime_1800_3600,qrycnt_in_runtime_3600_plus   \n",
    "    ,cpusec_in_runtime_0000_0001,cpusec_in_runtime_0001_0005,cpusec_in_runtime_0005_0010,cpusec_in_runtime_0010_0030,cpusec_in_runtime_0030_0060   \n",
    "    ,cpusec_in_runtime_0060_0300,cpusec_in_runtime_0300_0600,cpusec_in_runtime_0600_1800,cpusec_in_runtime_1800_3600,cpusec_in_runtime_3600_plus   \n",
    "    ,iogb_in_runtime_0000_0001,iogb_in_runtime_0001_0005,iogb_in_runtime_0005_0010,iogb_in_runtime_0010_0030,iogb_in_runtime_0030_0060     \n",
    "    ,iogb_in_runtime_0060_0300,iogb_in_runtime_0300_0600,iogb_in_runtime_0600_1800,iogb_in_runtime_1800_3600,iogb_in_runtime_3600_plus     \n",
    "    ,qrycnt_in_delaytime_0000_0001,qrycnt_in_delaytime_0001_0005,qrycnt_in_delaytime_0005_0010,qrycnt_in_delaytime_0010_0030,qrycnt_in_delaytime_0030_0060 \n",
    "    ,qrycnt_in_delaytime_0060_0300,qrycnt_in_delaytime_0300_0600,qrycnt_in_delaytime_0600_1800,qrycnt_in_delaytime_1800_3600,qrycnt_in_delaytime_3600_plus \n",
    "    ,cpusec_in_delaytime_0000_0001,cpusec_in_delaytime_0001_0005,cpusec_in_delaytime_0005_0010,cpusec_in_delaytime_0010_0030,cpusec_in_delaytime_0030_0060 \n",
    "    ,cpusec_in_delaytime_0060_0300,cpusec_in_delaytime_0300_0600,cpusec_in_delaytime_0600_1800,cpusec_in_delaytime_1800_3600,cpusec_in_delaytime_3600_plus \n",
    "    ,iogb_in_delaytime_0000_0001,iogb_in_delaytime_0001_0005,iogb_in_delaytime_0005_0010,iogb_in_delaytime_0010_0030,iogb_in_delaytime_0030_0060   \n",
    "    ,iogb_in_delaytime_0060_0300,iogb_in_delaytime_0300_0600,iogb_in_delaytime_0600_1800,iogb_in_delaytime_1800_3600,iogb_in_delaytime_3600_plus   \n",
    "    ,:runid AS Run_ID\n",
    "    FROM adlste_coa_stg.stg_dat_DBQL_Core_QryCnt_Ranges ;\n",
    "\n",
    "    SET runid = parentrunid;\n",
    "    CALL adlste_coa.sp_audit_log(:runid, :siteid, :tablename, :callingsp, :spversion, :startdate, :enddate, \n",
    "                               'normal run', 'STEP', 'Inserted stg records into Target COAT Table');\n",
    "\n",
    "    DELETE From adlste_coa_stg.stg_dat_DBQL_Core_QryCnt_Ranges;\n",
    "\n",
    "    SET runid = parentrunid;\n",
    "    CALL adlste_coa.sp_audit_log(:runid, :siteid, :tablename, :callingsp, :spversion, :startdate, :enddate, 'normal run', 'END', '');\n",
    "\n",
    "END;"
   ]
  },
  {
   "cell_type": "markdown",
   "metadata": {},
   "source": [
    "### TEST"
   ]
  },
  {
   "cell_type": "code",
   "execution_count": null,
   "metadata": {},
   "outputs": [],
   "source": [
    "delete from adlste_coa_stg.stg_dat_DBQL_Core_QryCnt_Ranges;\n",
    "insert into  adlste_coa_stg.stg_dat_DBQL_Core_QryCnt_Ranges\n",
    "SELECT\n",
    " '{siteid}'  as Site_ID\n",
    ",LogDate\n",
    ",'na' as  User_Bucket\n",
    ",'na' as  User_Department\n",
    ",'na' as  User_SubDepartment\n",
    "\n",
    "/* Query Runtime by [query count | cpu | iogb] */\n",
    ",zeroifnull(SUM(CAST(CASE WHEN  dbql.TotalFirstRespTime  is NULL OR  dbql.TotalFirstRespTime <1     THEN dbql.Statements ELSE 0 END AS INTEGER)))   as qrycnt_in_runtime_0000_0001\n",
    ",zeroifnull(SUM(CAST(CASE WHEN  dbql.TotalFirstRespTime  >=1    AND  dbql.TotalFirstRespTime <5     THEN dbql.Statements ELSE 0 END AS INTEGER)))   as qrycnt_in_runtime_0001_0005\n",
    ",zeroifnull(SUM(CAST(CASE WHEN  dbql.TotalFirstRespTime  >=5    AND  dbql.TotalFirstRespTime <10    THEN dbql.Statements ELSE 0 END AS INTEGER)))   as qrycnt_in_runtime_0005_0010\n",
    ",zeroifnull(SUM(CAST(CASE WHEN  dbql.TotalFirstRespTime  >=10   AND  dbql.TotalFirstRespTime <30    THEN dbql.Statements ELSE 0 END AS INTEGER)))   as qrycnt_in_runtime_0010_0030\n",
    ",zeroifnull(SUM(CAST(CASE WHEN  dbql.TotalFirstRespTime  >=30   AND  dbql.TotalFirstRespTime <60    THEN dbql.Statements ELSE 0 END AS INTEGER)))   as qrycnt_in_runtime_0030_0060\n",
    ",zeroifnull(SUM(CAST(CASE WHEN  dbql.TotalFirstRespTime  >=60   AND  dbql.TotalFirstRespTime <300   THEN dbql.Statements ELSE 0 END AS INTEGER)))   as qrycnt_in_runtime_0060_0300\n",
    ",zeroifnull(SUM(CAST(CASE WHEN  dbql.TotalFirstRespTime  >=300  AND  dbql.TotalFirstRespTime <600   THEN dbql.Statements ELSE 0 END AS INTEGER)))   as qrycnt_in_runtime_0300_0600\n",
    ",zeroifnull(SUM(CAST(CASE WHEN  dbql.TotalFirstRespTime  >=600  AND  dbql.TotalFirstRespTime <1800  THEN dbql.Statements ELSE 0 END AS INTEGER)))   as qrycnt_in_runtime_0600_1800\n",
    ",zeroifnull(SUM(CAST(CASE WHEN  dbql.TotalFirstRespTime  >=1800 AND  dbql.TotalFirstRespTime <3600  THEN dbql.Statements ELSE 0 END AS INTEGER)))   as qrycnt_in_runtime_1800_3600\n",
    ",zeroifnull(SUM(CAST(CASE WHEN  dbql.TotalFirstRespTime  >3600                                      THEN dbql.Statements ELSE 0 END AS INTEGER)))   as qrycnt_in_runtime_3600_plus\n",
    "\n",
    ",zeroifnull(SUM(CAST(CASE WHEN  dbql.TotalFirstRespTime  is NULL OR  dbql.TotalFirstRespTime <1     THEN dbql.AMPCPUtime + dbql.ParserCPUTime ELSE 0 END AS INTEGER)))  as cpusec_in_runtime_0000_0001\n",
    ",zeroifnull(SUM(CAST(CASE WHEN  dbql.TotalFirstRespTime  >=1    AND  dbql.TotalFirstRespTime <5     THEN dbql.AMPCPUtime + dbql.ParserCPUTime ELSE 0 END AS INTEGER)))  as cpusec_in_runtime_0001_0005\n",
    ",zeroifnull(SUM(CAST(CASE WHEN  dbql.TotalFirstRespTime  >=5    AND  dbql.TotalFirstRespTime <10    THEN dbql.AMPCPUtime + dbql.ParserCPUTime ELSE 0 END AS INTEGER)))  as cpusec_in_runtime_0005_0010\n",
    ",zeroifnull(SUM(CAST(CASE WHEN  dbql.TotalFirstRespTime  >=10   AND  dbql.TotalFirstRespTime <30    THEN dbql.AMPCPUtime + dbql.ParserCPUTime ELSE 0 END AS INTEGER)))  as cpusec_in_runtime_0010_0030\n",
    ",zeroifnull(SUM(CAST(CASE WHEN  dbql.TotalFirstRespTime  >=30   AND  dbql.TotalFirstRespTime <60    THEN dbql.AMPCPUtime + dbql.ParserCPUTime ELSE 0 END AS INTEGER)))  as cpusec_in_runtime_0030_0060\n",
    ",zeroifnull(SUM(CAST(CASE WHEN  dbql.TotalFirstRespTime  >=60   AND  dbql.TotalFirstRespTime <300   THEN dbql.AMPCPUtime + dbql.ParserCPUTime ELSE 0 END AS INTEGER)))  as cpusec_in_runtime_0060_0300\n",
    ",zeroifnull(SUM(CAST(CASE WHEN  dbql.TotalFirstRespTime  >=300  AND  dbql.TotalFirstRespTime <600   THEN dbql.AMPCPUtime + dbql.ParserCPUTime ELSE 0 END AS INTEGER)))  as cpusec_in_runtime_0300_0600\n",
    ",zeroifnull(SUM(CAST(CASE WHEN  dbql.TotalFirstRespTime  >=600  AND  dbql.TotalFirstRespTime <1800  THEN dbql.AMPCPUtime + dbql.ParserCPUTime ELSE 0 END AS INTEGER)))  as cpusec_in_runtime_0600_1800\n",
    ",zeroifnull(SUM(CAST(CASE WHEN  dbql.TotalFirstRespTime  >=1800 AND  dbql.TotalFirstRespTime <3600  THEN dbql.AMPCPUtime + dbql.ParserCPUTime ELSE 0 END AS INTEGER)))  as cpusec_in_runtime_1800_3600\n",
    ",zeroifnull(SUM(CAST(CASE WHEN  dbql.TotalFirstRespTime  >3600                                      THEN dbql.AMPCPUtime + dbql.ParserCPUTime ELSE 0 END AS INTEGER)))  as cpusec_in_runtime_3600_plus\n",
    "\n",
    ",zeroifnull(SUM(CAST(CASE WHEN  dbql.TotalFirstRespTime  is NULL OR  dbql.TotalFirstRespTime <1     THEN ReqIOKB/1e6 ELSE 0 END AS INTEGER)))   as iogb_in_runtime_0000_0001\n",
    ",zeroifnull(SUM(CAST(CASE WHEN  dbql.TotalFirstRespTime  >=1    AND  dbql.TotalFirstRespTime <5     THEN ReqIOKB/1e6 ELSE 0 END AS INTEGER)))   as iogb_in_runtime_0001_0005\n",
    ",zeroifnull(SUM(CAST(CASE WHEN  dbql.TotalFirstRespTime  >=5    AND  dbql.TotalFirstRespTime <10    THEN ReqIOKB/1e6 ELSE 0 END AS INTEGER)))   as iogb_in_runtime_0005_0010\n",
    ",zeroifnull(SUM(CAST(CASE WHEN  dbql.TotalFirstRespTime  >=10   AND  dbql.TotalFirstRespTime <30    THEN ReqIOKB/1e6 ELSE 0 END AS INTEGER)))   as iogb_in_runtime_0010_0030\n",
    ",zeroifnull(SUM(CAST(CASE WHEN  dbql.TotalFirstRespTime  >=30   AND  dbql.TotalFirstRespTime <60    THEN ReqIOKB/1e6 ELSE 0 END AS INTEGER)))   as iogb_in_runtime_0030_0060\n",
    ",zeroifnull(SUM(CAST(CASE WHEN  dbql.TotalFirstRespTime  >=60   AND  dbql.TotalFirstRespTime <300   THEN ReqIOKB/1e6 ELSE 0 END AS INTEGER)))   as iogb_in_runtime_0060_0300\n",
    ",zeroifnull(SUM(CAST(CASE WHEN  dbql.TotalFirstRespTime  >=300  AND  dbql.TotalFirstRespTime <600   THEN ReqIOKB/1e6 ELSE 0 END AS INTEGER)))   as iogb_in_runtime_0300_0600\n",
    ",zeroifnull(SUM(CAST(CASE WHEN  dbql.TotalFirstRespTime  >=600  AND  dbql.TotalFirstRespTime <1800  THEN ReqIOKB/1e6 ELSE 0 END AS INTEGER)))   as iogb_in_runtime_0600_1800\n",
    ",zeroifnull(SUM(CAST(CASE WHEN  dbql.TotalFirstRespTime  >=1800 AND  dbql.TotalFirstRespTime <3600  THEN ReqIOKB/1e6 ELSE 0 END AS INTEGER)))   as iogb_in_runtime_1800_3600\n",
    ",zeroifnull(SUM(CAST(CASE WHEN  dbql.TotalFirstRespTime  >3600                                      THEN ReqIOKB/1e6 ELSE 0 END AS INTEGER)))   as iogb_in_runtime_3600_plus\n",
    "\n",
    "\n",
    "/* delaytime by [query count | cpu | iogb] */\n",
    ",zeroifnull(SUM(CAST(CASE WHEN  dbql.delaytime  is NULL OR  dbql.delaytime <1     THEN dbql.Statements ELSE 0 END AS INTEGER))) as qrycnt_in_delaytime_0000_0001\n",
    ",zeroifnull(SUM(CAST(CASE WHEN  dbql.delaytime  >=1    AND  dbql.delaytime <5     THEN dbql.Statements ELSE 0 END AS INTEGER))) as qrycnt_in_delaytime_0001_0005\n",
    ",zeroifnull(SUM(CAST(CASE WHEN  dbql.delaytime  >=5    AND  dbql.delaytime <10    THEN dbql.Statements ELSE 0 END AS INTEGER))) as qrycnt_in_delaytime_0005_0010\n",
    ",zeroifnull(SUM(CAST(CASE WHEN  dbql.delaytime  >=10   AND  dbql.delaytime <30    THEN dbql.Statements ELSE 0 END AS INTEGER))) as qrycnt_in_delaytime_0010_0030\n",
    ",zeroifnull(SUM(CAST(CASE WHEN  dbql.delaytime  >=30   AND  dbql.delaytime <60    THEN dbql.Statements ELSE 0 END AS INTEGER))) as qrycnt_in_delaytime_0030_0060\n",
    ",zeroifnull(SUM(CAST(CASE WHEN  dbql.delaytime  >=60   AND  dbql.delaytime <300   THEN dbql.Statements ELSE 0 END AS INTEGER))) as qrycnt_in_delaytime_0060_0300\n",
    ",zeroifnull(SUM(CAST(CASE WHEN  dbql.delaytime  >=300  AND  dbql.delaytime <600   THEN dbql.Statements ELSE 0 END AS INTEGER))) as qrycnt_in_delaytime_0300_0600\n",
    ",zeroifnull(SUM(CAST(CASE WHEN  dbql.delaytime  >=600  AND  dbql.delaytime <1800  THEN dbql.Statements ELSE 0 END AS INTEGER))) as qrycnt_in_delaytime_0600_1800\n",
    ",zeroifnull(SUM(CAST(CASE WHEN  dbql.delaytime  >=1800 AND  dbql.delaytime <3600  THEN dbql.Statements ELSE 0 END AS INTEGER))) as qrycnt_in_delaytime_1800_3600\n",
    ",zeroifnull(SUM(CAST(CASE WHEN  dbql.delaytime  >3600                             THEN dbql.Statements ELSE 0 END AS INTEGER))) as qrycnt_in_delaytime_3600_plus\n",
    "\n",
    ",zeroifnull(SUM(CAST(CASE WHEN  dbql.delaytime  is NULL OR  dbql.delaytime <1     THEN dbql.AMPCPUtime + dbql.ParserCPUTime ELSE 0 END AS INTEGER))) as cpusec_in_delaytime_0000_0001\n",
    ",zeroifnull(SUM(CAST(CASE WHEN  dbql.delaytime  >=1    AND  dbql.delaytime <5     THEN dbql.AMPCPUtime + dbql.ParserCPUTime ELSE 0 END AS INTEGER))) as cpusec_in_delaytime_0001_0005\n",
    ",zeroifnull(SUM(CAST(CASE WHEN  dbql.delaytime  >=5    AND  dbql.delaytime <10    THEN dbql.AMPCPUtime + dbql.ParserCPUTime ELSE 0 END AS INTEGER))) as cpusec_in_delaytime_0005_0010\n",
    ",zeroifnull(SUM(CAST(CASE WHEN  dbql.delaytime  >=10   AND  dbql.delaytime <30    THEN dbql.AMPCPUtime + dbql.ParserCPUTime ELSE 0 END AS INTEGER))) as cpusec_in_delaytime_0010_0030\n",
    ",zeroifnull(SUM(CAST(CASE WHEN  dbql.delaytime  >=30   AND  dbql.delaytime <60    THEN dbql.AMPCPUtime + dbql.ParserCPUTime ELSE 0 END AS INTEGER))) as cpusec_in_delaytime_0030_0060\n",
    ",zeroifnull(SUM(CAST(CASE WHEN  dbql.delaytime  >=60   AND  dbql.delaytime <300   THEN dbql.AMPCPUtime + dbql.ParserCPUTime ELSE 0 END AS INTEGER))) as cpusec_in_delaytime_0060_0300\n",
    ",zeroifnull(SUM(CAST(CASE WHEN  dbql.delaytime  >=300  AND  dbql.delaytime <600   THEN dbql.AMPCPUtime + dbql.ParserCPUTime ELSE 0 END AS INTEGER))) as cpusec_in_delaytime_0300_0600\n",
    ",zeroifnull(SUM(CAST(CASE WHEN  dbql.delaytime  >=600  AND  dbql.delaytime <1800  THEN dbql.AMPCPUtime + dbql.ParserCPUTime ELSE 0 END AS INTEGER))) as cpusec_in_delaytime_0600_1800\n",
    ",zeroifnull(SUM(CAST(CASE WHEN  dbql.delaytime  >=1800 AND  dbql.delaytime <3600  THEN dbql.AMPCPUtime + dbql.ParserCPUTime ELSE 0 END AS INTEGER))) as cpusec_in_delaytime_1800_3600\n",
    ",zeroifnull(SUM(CAST(CASE WHEN  dbql.delaytime  >3600                             THEN dbql.AMPCPUtime + dbql.ParserCPUTime ELSE 0 END AS INTEGER))) as cpusec_in_delaytime_3600_plus\n",
    "\n",
    ",zeroifnull(SUM(CAST(CASE WHEN dbql.delaytime  is NULL OR  dbql.delaytime <1     THEN ReqIOKB/1e6 ELSE 0 END AS INTEGER))) as iogb_in_delaytime_0000_0001\n",
    ",zeroifnull(SUM(CAST(CASE WHEN dbql.delaytime  >=1    AND  dbql.delaytime <5     THEN ReqIOKB/1e6 ELSE 0 END AS INTEGER))) as iogb_in_delaytime_0001_0005\n",
    ",zeroifnull(SUM(CAST(CASE WHEN dbql.delaytime  >=5    AND  dbql.delaytime <10    THEN ReqIOKB/1e6 ELSE 0 END AS INTEGER))) as iogb_in_delaytime_0005_0010\n",
    ",zeroifnull(SUM(CAST(CASE WHEN dbql.delaytime  >=10   AND  dbql.delaytime <30    THEN ReqIOKB/1e6 ELSE 0 END AS INTEGER))) as iogb_in_delaytime_0010_0030\n",
    ",zeroifnull(SUM(CAST(CASE WHEN dbql.delaytime  >=30   AND  dbql.delaytime <60    THEN ReqIOKB/1e6 ELSE 0 END AS INTEGER))) as iogb_in_delaytime_0030_0060\n",
    ",zeroifnull(SUM(CAST(CASE WHEN dbql.delaytime  >=60   AND  dbql.delaytime <300   THEN ReqIOKB/1e6 ELSE 0 END AS INTEGER))) as iogb_in_delaytime_0060_0300\n",
    ",zeroifnull(SUM(CAST(CASE WHEN dbql.delaytime  >=300  AND  dbql.delaytime <600   THEN ReqIOKB/1e6 ELSE 0 END AS INTEGER))) as iogb_in_delaytime_0300_0600\n",
    ",zeroifnull(SUM(CAST(CASE WHEN dbql.delaytime  >=600  AND  dbql.delaytime <1800  THEN ReqIOKB/1e6 ELSE 0 END AS INTEGER))) as iogb_in_delaytime_0600_1800\n",
    ",zeroifnull(SUM(CAST(CASE WHEN dbql.delaytime  >=1800 AND  dbql.delaytime <3600  THEN ReqIOKB/1e6 ELSE 0 END AS INTEGER))) as iogb_in_delaytime_1800_3600\n",
    ",zeroifnull(SUM(CAST(CASE WHEN dbql.delaytime  >3600                             THEN ReqIOKB/1e6 ELSE 0 END AS INTEGER))) as iogb_in_delaytime_3600_plus\n",
    "From pdcrinfo.dbqlogtbl_hst  as dbql\n",
    "where dbql.LogDate = DATE-2\n",
    "Group by LogDate;\n"
   ]
  },
  {
   "cell_type": "code",
   "execution_count": null,
   "metadata": {},
   "outputs": [],
   "source": [
    "call adlste_coa.sp_dat_DBQL_Core_QryCnt_Ranges('test')"
   ]
  },
  {
   "cell_type": "code",
   "execution_count": null,
   "metadata": {},
   "outputs": [],
   "source": [
    "select count(*) from adlste_coa.coa_dat_DBQL_Core_QryCnt_Ranges"
   ]
  },
  {
   "cell_type": "markdown",
   "metadata": {},
   "source": [
    "<br/><br/><br/><hr>\n",
    "## dat_DBQL_Core_MaxCPU"
   ]
  },
  {
   "cell_type": "code",
   "execution_count": null,
   "metadata": {},
   "outputs": [],
   "source": [
    "--DROP TABLE adlste_coa_stg.stg_dat_dbql_core_maxcpu\n",
    "--DROP TABLE adlste_coa.coat_dat_dbql_core_maxcpu"
   ]
  },
  {
   "cell_type": "markdown",
   "metadata": {},
   "source": [
    "### STAGE"
   ]
  },
  {
   "cell_type": "code",
   "execution_count": null,
   "metadata": {},
   "outputs": [],
   "source": [
    "CREATE MULTISET GLOBAL TEMPORARY TABLE adlste_coa_stg.stg_dat_dbql_core_maxcpu\n",
    "(\n",
    "   Site_ID        VARCHAR(128)  CHARACTER SET LATIN\n",
    " , LogDate        DATE          FORMAT 'yyyy-mm-dd'\n",
    " , LogHour        SMALLINT\n",
    " , UTC_Offset     CHAR(6)       \n",
    " , Node_Type      VARCHAR(16)   \n",
    " , Node_Cnt       SMALLINT\n",
    " , vCPU_per_Node  INT\n",
    " , MaxIOTA_cntB   DECIMAL(18,2)\n",
    " , CPU_Idle       DECIMAL(18,2)\n",
    " , CPU_IOWait     DECIMAL(18,2)\n",
    " , CPU_OS         DECIMAL(18,2)\n",
    " , CPU_DBS        DECIMAL(18,2)\n",
    " , CPU_Total      DECIMAL(18,2)\n",
    " ) NO PRIMARY INDEX \n",
    " on commit preserve rows;"
   ]
  },
  {
   "cell_type": "markdown",
   "metadata": {},
   "source": [
    "### PERM"
   ]
  },
  {
   "cell_type": "code",
   "execution_count": null,
   "metadata": {},
   "outputs": [],
   "source": [
    "CREATE MULTISET TABLE adlste_coa.coat_dat_dbql_core_maxcpu\n",
    "(\n",
    "   Site_ID        VARCHAR(128)  CHARACTER SET LATIN\n",
    " , LogDate        DATE          FORMAT 'yyyy-mm-dd'\n",
    " , LogTS          TIMESTAMP(0) \n",
    " , UTC_Offset     CHAR(6)       CHARACTER SET UNICODE COMPRESS('−12:00','−11:00','−10:00','−09:30','−09:00','−08:00','−07:00','−06:00','−05:00','−04:00','−03:30','−03:00','−02:00','−01:00','00:00','+01:00','+02:00','+03:00','+03:30','+04:00','+04:30','+05:00','+05:30','+05:45','+06:00','+06:30','+07:00','+08:00','+08:45','+09:00','+09:30','+10:00','+10:30','+11:00','+12:00','+12:45','+13:00','+14:00')\n",
    " , Node_Type      VARCHAR(16)   COMPRESS (Null, 'Unknown','','1650','1700','1700T','1750T','1800E','1800T','200CL','210','210CL','2500','2550','2555','2580','2650','2690','2700','2750','2800','2850','4300','4400','4475','4800','4855','4950','5350','5380','5400','5450','5500','550P','550S','551P','5550','5555','5600','560P','5650','6650','6680','6690','670','6700','6750','680','6800','700','7000','7010','7011','7015','720','7200','7210','750','9156','9195','9211','9212','9230','9231','9232','9233','9234','CO-EXIST','N/A','S55','SWS','TBD','Third Party','Third Party Amazon','Third Party Azure','Third Party TVME','UNDEFINED') \n",
    " , Node_Cnt       SMALLINT\n",
    " , vCPU_per_Node  SMALLINT\n",
    " , MaxIOTA_cntB   DECIMAL(18,2)\n",
    " , CPU_Idle       DECIMAL(18,2)\n",
    " , CPU_IOWait     DECIMAL(18,2)\n",
    " , CPU_OS         DECIMAL(18,2)\n",
    " , CPU_DBS        DECIMAL(18,2)\n",
    " , CPU_Total      DECIMAL(18,2)\n",
    " , Run_ID         INTEGER         COMPRESS(0)\n",
    " ) PRIMARY INDEX (Site_ID, LogTS)\n",
    ";"
   ]
  },
  {
   "cell_type": "markdown",
   "metadata": {},
   "source": [
    "### TAL View"
   ]
  },
  {
   "cell_type": "code",
   "execution_count": null,
   "metadata": {},
   "outputs": [],
   "source": [
    "Replace View adlste_coa.coa_dat_dbql_core_maxcpu \n",
    "as locking row for access\n",
    "Select * from adlste_coa.coat_dat_dbql_core_maxcpu"
   ]
  },
  {
   "cell_type": "markdown",
   "metadata": {},
   "source": [
    "### Stored Proc"
   ]
  },
  {
   "cell_type": "code",
   "execution_count": null,
   "metadata": {},
   "outputs": [],
   "source": [
    "REPLACE PROCEDURE adlste_coa.sp_dat_DBQL_Core_MaxCPU ( spversion VARCHAR(128) ) \n",
    "SQL SECURITY CREATOR\n",
    "BEGIN \n",
    "\n",
    "    /* start setup audit process */\n",
    "    \n",
    "    DECLARE runid  INTEGER;\n",
    "    DECLARE siteid VARCHAR(128);\n",
    "    DECLARE tablename VARCHAR(128);\n",
    "    DECLARE callingsp VARCHAR(128); \n",
    "    DECLARE startdate DATE;\n",
    "    DECLARE enddate DATE;\n",
    "    \n",
    "    SET runid = 0;\n",
    "    SET tablename = 'adlste_coa.coat_dat_DBQL_Core_MaxCPU';\n",
    "    SET callingsp = 'adlste_coa.sp_dat_DBQL_Core_MaxCPU';\n",
    "    SET siteid = 'Empty Table';\n",
    "    SET startdate = DATE;\n",
    "    SET enddate = DATE;\n",
    "\n",
    "    SELECT \n",
    "     coalesce(Site_ID,'empty table')       \n",
    "    ,min(LogDate) as StartDate\n",
    "    ,max(LogDate) as EndDate\n",
    "    INTO siteid, startdate, enddate\n",
    "    FROM adlste_coa_stg.stg_dat_dbql_core_maxcpu\n",
    "    Group by  1\n",
    "    ;\n",
    "    \n",
    "    /* end setup audit process */\n",
    "    \n",
    "    \n",
    "    \n",
    "    CALL adlste_coa.sp_audit_log(runid, :siteid, :tablename, :callingsp, :spversion, :startdate, :enddate,\n",
    "                              'normal run', 'START', '') ;\n",
    "\n",
    "    DELETE FROM    adlste_coa.coat_dat_dbql_core_maxcpu \n",
    "    WHERE (Site_ID, LogTS) IN\n",
    "    (Select Site_ID, \n",
    "            cast(cast(LogDate as date format 'yyyy-mm-dd') as char(10))||' '||\n",
    "            cast(cast(LogHour as INT format '99') as char(2)) || ':00:00' || UTC_Offset as LogTS\n",
    "           FROM adlste_coa_stg.stg_dat_dbql_core_maxcpu )\n",
    "    ;\n",
    "    \n",
    "    \n",
    "    Insert into adlste_coa.coat_dat_dbql_core_maxcpu \n",
    "    Select \n",
    "          Site_ID\n",
    "        , LogDate\n",
    "        , cast(cast(LogDate as date format 'yyyy-mm-dd') as char(10))||' '||\n",
    "          cast(cast(LogHour as INT format '99') as char(2)) || ':00:00' || UTC_Offset as LogTS\n",
    "        , UTC_Offset\n",
    "        , Node_Type\n",
    "        , Node_Cnt\n",
    "        , vCPU_per_Node\n",
    "        , MaxIOTA_cntB\n",
    "        , CPU_Idle\n",
    "        , CPU_IOWait\n",
    "        , CPU_OS\n",
    "        , CPU_DBS\n",
    "        , CPU_Total\n",
    "        , :runid as Run_ID\n",
    "    from adlste_coa_stg.stg_dat_dbql_core_maxcpu\n",
    "    ; \n",
    "        \n",
    "    delete from adlste_coa_stg.stg_dat_dbql_core_maxcpu\n",
    "    ;\n",
    "    \n",
    "    CALL adlste_coa.sp_audit_log(runid, :siteid, :tablename, :callingsp, :spversion, :startdate, :enddate,\n",
    "                              'normal run', 'END', '') ;\n",
    "\n",
    "END;"
   ]
  },
  {
   "cell_type": "markdown",
   "metadata": {},
   "source": [
    "### TEST"
   ]
  },
  {
   "cell_type": "code",
   "execution_count": null,
   "metadata": {},
   "outputs": [],
   "source": [
    "Delete from adlste_coa_stg.stg_dat_dbql_core_maxcpu;\n",
    "insert into adlste_coa_stg.stg_dat_dbql_core_maxcpu\n",
    "Select 'test' as Site_ID\n",
    ",TheDate as LogDate, Floor(TheTime/1e4) as LogHour\n",
    ",SUBSTRING ((Current_Time (FORMAT 'HH:MI:SS.S(F)Z') (VARCHAR (20))) FROM 9 FOR 6) as UTC_Offset\n",
    ",cast(max(NodeType) as varchar(10)) as Node_Type\n",
    ",cast(count(distinct NodeID) as smallint) as Node_Cnt\n",
    ",cast(max(NCPUs) as smallint) as vCPU_per_Node\n",
    ",sum(cast(FullPotentialIOTA/1e9 as decimal(18,0))) as MaxIOTA_cntB\n",
    ",sum(cast(CPUIdle   as decimal(18,2))) as CPU_Idle\n",
    ",sum(cast(CPUIOWait as decimal(18,2))) as CPU_IOWait\n",
    ",sum(cast(CPUUServ  as decimal(18,2))) as CPU_OS\n",
    ",sum(cast(CPUUExec  as decimal(18,2))) as CPU_DBS\n",
    ",CPU_Idle+CPU_IOWait+CPU_OS+CPU_DBS as CPU_Total\n",
    "from pdcrinfo.resusagespma\n",
    "where TheDate between date-2 and date-2\n",
    "Group by LogDate, LogHour;\n",
    "    \n",
    "Select count(*) from adlste_coa_stg.stg_dat_dbql_core_maxcpu;"
   ]
  },
  {
   "cell_type": "code",
   "execution_count": null,
   "metadata": {},
   "outputs": [],
   "source": [
    "CALL adlste_coa.sp_dat_DBQL_Core_MaxCPU('test');"
   ]
  },
  {
   "cell_type": "code",
   "execution_count": null,
   "metadata": {},
   "outputs": [],
   "source": [
    "Select count(*) from adlste_coa.coa_dat_dbql_core_maxcpu;"
   ]
  },
  {
   "cell_type": "code",
   "execution_count": null,
   "metadata": {},
   "outputs": [],
   "source": [
    "select top 6 * from adlste_coa.coa_audit_summary order by 1 desc"
   ]
  },
  {
   "cell_type": "markdown",
   "metadata": {},
   "source": [
    "<br/><br/><br/>\n",
    "## dat_DBQL_Core"
   ]
  },
  {
   "cell_type": "code",
   "execution_count": 4,
   "metadata": {},
   "outputs": [
    {
     "data": {
      "text/plain": [
       "Success: 146 rows affected"
      ]
     },
     "execution_count": 4,
     "metadata": {
      "application/vnd.teradata.resultset": ""
     },
     "output_type": "execute_result"
    }
   ],
   "source": [
    "-- DROP TABLE adlste_coa_stg.stg_dat_DBQL_Core\n",
    "-- DROP TABLE adlste_coa.coat_dat_DBQL_Core"
   ]
  },
  {
   "cell_type": "markdown",
   "metadata": {},
   "source": [
    "### STAGE"
   ]
  },
  {
   "cell_type": "code",
   "execution_count": 5,
   "metadata": {},
   "outputs": [
    {
     "data": {
      "text/plain": [
       "Success: 0 rows affected"
      ]
     },
     "execution_count": 5,
     "metadata": {
      "application/vnd.teradata.resultset": ""
     },
     "output_type": "execute_result"
    }
   ],
   "source": [
    "CREATE MULTISET GLOBAL TEMPORARY TABLE adlste_coa_stg.stg_dat_DBQL_Core\n",
    " (Site_ID                          VARCHAR(64)  CHARACTER SET LATIN\n",
    " ,LogTS                            TIMESTAMP(0) WITH TIME ZONE\n",
    " ,Total_AMPs                       SMALLINT\n",
    " ,App_Bucket                       VARCHAR(256) CHARACTER SET LATIN\n",
    " ,Use_Bucket                       VARCHAR(256) CHARACTER SET LATIN\n",
    " ,Statement_Bucket                 VARCHAR(256) CHARACTER SET LATIN\n",
    " ,User_Bucket                      VARCHAR(256) CHARACTER SET LATIN\n",
    " ,User_Department                  VARCHAR(256) CHARACTER SET LATIN\n",
    " ,User_SubDepartment               VARCHAR(256) CHARACTER SET LATIN\n",
    " ,Request_Cnt                      INT\n",
    " ,Query_Cnt                        INT\n",
    " ,Query_MultiStatement_Cnt         INT\n",
    " ,Query_Error_Cnt                  INT\n",
    " ,Query_Abort_Cnt                  INT\n",
    " ,Query_NoIO_cnt                   INT\n",
    " ,Query_InMem_Cnt                  INT\n",
    " ,Query_PhysIO_Cnt                 INT\n",
    " ,Query_Tactical_Cnt               INT\n",
    " ,Query_Complexity_Score_Avg       DECIMAL(18,4)\n",
    " ,Returned_Row_Cnt                 BIGINT\n",
    " ,DelayTime_Sec                    DECIMAL(18,4)\n",
    " ,Runtime_Parse_Sec                DECIMAL(18,4)\n",
    " ,Runtime_AMP_Sec                  DECIMAL(18,4)\n",
    " ,Runtime_Total_Sec                DECIMAL(18,4)\n",
    " ,TransferTime_Sec                 DECIMAL(18,4)\n",
    " ,CPU_Parse_Sec                    DECIMAL(18,2)\n",
    " ,CPU_AMP_Sec                      DECIMAL(18,2)\n",
    " ,IOCntM_Physical                  BIGINT\n",
    " ,IOCntM_Total                     BIGINT\n",
    " ,IOGB_Physical                    DECIMAL(18,4)\n",
    " ,IOGB_Total                       DECIMAL(18,4)\n",
    " ,IOTA_Used_cntB                   DECIMAL(18,4)\n",
    " ,NumOfActiveAMPs_Avg              DECIMAL(9,4)\n",
    " ,Spool_GB                         DECIMAL(18,4)\n",
    " ,CacheHit_Pct                     DECIMAL(9,4)     \n",
    " ,CPUSec_Skew_AvgPCt               DECIMAL(9,4)\n",
    " ,IOCnt_Skew_AvgPct                DECIMAL(9,4)\n",
    " ) No Primary index\n",
    " on commit preserve rows;"
   ]
  },
  {
   "cell_type": "markdown",
   "metadata": {},
   "source": [
    "### PERM"
   ]
  },
  {
   "cell_type": "code",
   "execution_count": 6,
   "metadata": {},
   "outputs": [
    {
     "data": {
      "text/plain": [
       "Success: 0 rows affected"
      ]
     },
     "execution_count": 6,
     "metadata": {
      "application/vnd.teradata.resultset": ""
     },
     "output_type": "execute_result"
    }
   ],
   "source": [
    "CREATE MULTISET TABLE adlste_coa.coat_dat_DBQL_Core \n",
    "(\n",
    "    Row_Key BIGINT NOT NULL GENERATED ALWAYS AS IDENTITY\n",
    "       (START WITH 1 \n",
    "        INCREMENT BY 1 \n",
    "        MINVALUE -999999999999999999 \n",
    "        MAXVALUE 999999999999999999 \n",
    "        NO CYCLE),\n",
    "    Site_ID            VARCHAR(64) CHARACTER SET LATIN NOT CASESPECIFIC,\n",
    "    LogTS              TIMESTAMP(0) WITH TIME ZONE,\n",
    "    Total_AMPs         INTEGER, \n",
    "    App_Bucket         VARCHAR(256) CHARACTER SET LATIN NOT CASESPECIFIC COMPRESS ('Unknown','BTEQ','JDBC','TPTStream','TPT','Tableau','BOBJ','Python','SQLAssistant','Microstrategy','TD-BAR','PHP','SAP BODS','MS IIS'),\n",
    "    Use_Bucket         VARCHAR(256) CHARACTER SET LATIN NOT CASESPECIFIC COMPRESS ('Application','Analytic','Unknown','ETL','ETL/Export','Backup'),\n",
    "    Statement_Bucket   VARCHAR(256) CHARACTER SET LATIN NOT CASESPECIFIC COMPRESS ('Select','Set Session','Transaction','Insert','Other','Create Table','Collect Stats','Drop Table','Delete','Update','Create Object','Load','Call SP','Drop Object','Merge','Admin','Exec Macro','Unknown'),\n",
    "    User_Bucket        VARCHAR(256) CHARACTER SET LATIN NOT CASESPECIFIC COMPRESS ('Unknown','COMMON','SERVICES','Finance','SUPPLY CHAIN','SALES','ETL','MBR','TDInternal','CPS','Admin','EDS','DATALAKE','Analytic','AUDIT','MARKETING','Services IT','Operations Architecture','D&A','WEBEX','HR','CSSD','GTMS','Engineering','eDSS IT','ALL','CLICKSTREAM','Commerce IT','TDInternal-DBC','EDSS'),\n",
    "    User_Department    VARCHAR(256) CHARACTER SET LATIN NOT CASESPECIFIC COMPRESS ('Unknown','COMMON','dept','SERVICES','Finance','SUPPLY CHAIN','SALES','MBR','CPS','EDS','DATALAKE','AUDIT','MARKETING','Services IT','Operations Architecture','D&A','WEBEX','HR','CSSD','GTMS','Engineering','eDSS IT','ALL','CLICKSTREAM','Commerce IT','EDSS'),\n",
    "    User_SubDepartment VARCHAR(256) CHARACTER SET LATIN NOT CASESPECIFIC COMPRESS ('Unknown','subdept','DATA REPLICATION','Bookings','SERVICES','COMREF','Finance BI - Expense & HC Cube','NRT','CPS TABLEAU DASHBOARD BSC/DLS','GPF (Global Planning and Fulfi','FinBI BO - Bookings','Customer Service','FINANCE','Manufacturing','FinBI BO - Revenue','MBR SOLR EXTRACT','Service Bureau','PSS Bookings Dashboard','Sales Booking Report','Cisco Refresh NextGen Program','Resource Visibility','Unbooked Tool','Finance Common Layer Extracts','Data Integration through Apach','REPLIC','Install Base - IB','Data Lake','MBR Channels','MIGRATION','CSSO BI Dashboard','Finance CFA','ASBI EXTRACTS','AUDIT','CV Bookings','CSSO BO','SNOWFLAKE EXTRACTS','APJ Pricing','CRM','NOT USED','SECURITY','Services BO','Architect','HANA DATA SIMPLIFICATION','ASBI','Human Resource - HR','DF (Return on Investment)','SERVICE ADOPTION METRICS','SCSU','KAFKA','Gray Market','Integrate Tableau Metrics With','Expense & Headcount Cube','Cloud Data Quality','WeBEX','MBR Proxy UI','MARKETING','FIN BI REVENUE','WPR extract','Dise','FIAT','ICS','Services BI','Landing Zone - LZ','CLIP','Sharp','BART AUTOMATION','FinBI Bkgs Cube','BIDSMETRICS','Finance P&L Application','SPLUNK','LS Sales BI','Learning Credit Management Too','Finance GL Cube','CPE','INTEGRATED PLANNING WORKBENCH','Data Virtualization tool','REPORTING','Revenue Attribution','DP-Adhoc','Transformation Account','DCV','LEARNING SERVICES BOOKINGS','Marketing Mrm','DMS','Capital','QDI Data Warehouse','GBOSS','TSA (Technical Service Advanta','MMC - Travel','OIC','PPP','SERVICES SALES DOMO','Royalty','Collect Stats','SECURED HR DATA FOR RAM IN SAP','SCIC','NOSTG','SBG IOPS','NGCCRM','X-1','GALAXY','For TSS Extraction','ETL','Ani Application','Athena','CIC','ALL','Clickstream','Item Hub','Cogs Audit','OM LSS','ICM - Telephony Data','Operations','ADAP','S2R','IFP','Excel Upload Util','EDWTD BO','Publish','CSSO BSC','IAM','EDSS','Parma','INternal'),\n",
    "    Request_Cnt                 INT COMPRESS (256 ,1 ,2 ,258 ,3 ,4 ,516 ,5 ,6 ,7 ,8 ,264 ,9 ,10 ,11 ,267 ,12 ,13 ,14 ,270 ,15 ,16 ,272 ,17 ,18 ,19 ,20 ,21 ,22 ,23 ,24 ,25 ,537 ,26 ,27 ,28 ,540 ,29 ,30 ,31 ,32 ,288 ,33 ,34 ,35 ,36 ,292 ,37 ,38 ,294 ,39 ,40 ,41 ,42 ,43 ,299 ,44 ,45 ,46 ,47 ,48 ,49 ,50 ,51 ,52 ,53 ,54 ,55 ,56 ,57 ,313 ,58 ,59 ,60 ,61 ,62 ,63 ,64 ,576 ,832 ,65 ,66 ,67 ,68 ,69 ,70 ,582 ,71 ,72 ,73 ,74 ,330 ,75 ,76 ,77 ,78 ,846 ,79 ,80 ,336 ,81 ,82 ,83 ,84 ,340 ,85 ,86 ,598 ,87 ,88 ,344 ,89 ,345 ,90 ,91 ,92 ,348 ,93 ,349 ,94 ,95 ,96 ,97 ,98 ,99 ,100 ,356 ,101 ,102 ,103 ,104 ,360 ,105 ,106 ,107 ,108 ,109 ,110 ,111 ,112 ,368 ,113 ,114 ,370 ,115 ,116 ,117 ,118 ,374 ,119 ,120 ,121 ,122 ,123 ,124 ,125 ,126 ,127 ,128 ,384 ,129 ,130 ,131 ,643 ,132 ,133 ,134 ,135 ,136 ,137 ,138 ,139 ,140 ,141 ,142 ,143 ,144 ,145 ,146 ,147 ,148 ,404 ,149 ,150 ,151 ,152 ,153 ,154 ,155 ,156 ,157 ,158 ,159 ,160 ,416 ,161 ,162 ,163 ,164 ,420 ,165 ,166 ,167 ,168 ,169 ,170 ,171 ,172 ,428 ,173 ,174 ,175 ,176 ,432 ,177 ,178 ,179 ,180 ,181 ,182 ,183 ,184 ,185 ,186 ,187 ,188 ,189 ,190 ,192 ,193 ,194 ,195 ,196 ,198 ,200 ,201 ,202 ,204 ,208 ,210 ,214 ,216 ,217 ,220 ,222 ,224 ,736 ,227 ,483 ,228 ,240 ,246 ,248 ,252 ),\n",
    "    Query_Cnt                   INT COMPRESS (0 ,256 ,1 ,2 ,258 ,3 ,4 ,516 ,5 ,6 ,7 ,519 ,8 ,264 ,9 ,10 ,11 ,12 ,13 ,14 ,270 ,15 ,16 ,272 ,17 ,18 ,19 ,20 ,21 ,22 ,23 ,24 ,25 ,26 ,27 ,28 ,540 ,29 ,30 ,31 ,32 ,288 ,33 ,34 ,35 ,36 ,292 ,37 ,38 ,294 ,39 ,40 ,41 ,42 ,43 ,299 ,44 ,45 ,46 ,47 ,48 ,49 ,50 ,51 ,52 ,53 ,54 ,55 ,56 ,57 ,313 ,58 ,59 ,60 ,61 ,62 ,63 ,64 ,576 ,832 ,65 ,66 ,67 ,68 ,69 ,70 ,71 ,72 ,73 ,74 ,330 ,75 ,76 ,77 ,78 ,846 ,79 ,80 ,336 ,81 ,82 ,83 ,84 ,340 ,85 ,86 ,598 ,87 ,88 ,344 ,600 ,89 ,345 ,90 ,91 ,92 ,348 ,93 ,349 ,94 ,95 ,96 ,97 ,98 ,99 ,100 ,101 ,102 ,103 ,104 ,360 ,105 ,106 ,107 ,108 ,109 ,110 ,111 ,112 ,368 ,113 ,114 ,370 ,115 ,116 ,117 ,118 ,374 ,119 ,120 ,121 ,122 ,123 ,124 ,125 ,126 ,127 ,128 ,384 ,129 ,130 ,131 ,643 ,132 ,133 ,134 ,135 ,136 ,137 ,138 ,139 ,140 ,141 ,142 ,143 ,144 ,145 ,146 ,147 ,148 ,404 ,149 ,150 ,151 ,152 ,153 ,154 ,155 ,156 ,157 ,158 ,159 ,160 ,416 ,161 ,162 ,163 ,164 ,420 ,165 ,166 ,167 ,168 ,169 ,170 ,171 ,172 ,428 ,173 ,174 ,175 ,176 ,432 ,177 ,178 ,179 ,180 ,181 ,182 ,183 ,184 ,185 ,186 ,187 ,188 ,189 ,190 ,1215 ,192 ,193 ,194 ,195 ,196 ,198 ,200 ,202 ,204 ,208 ,210 ,214 ,216 ,217 ,220 ,222 ,224 ,736 ,226 ,228 ,240 ,246 ,248 ,504 ,252 ,254 ),\n",
    "    Query_MultiStatement_Cnt    INT COMPRESS (0,1,2,3,4,5,6,7,8,9,10),\n",
    "    Query_Error_Cnt             INT COMPRESS (0 ,1 ,2 ,3 ,4 ,5 ,6 ,7 ,8 ,9 ,10 ,12 ,14 ,24 ),\n",
    "    Query_Abort_Cnt             INT COMPRESS 0 ,\n",
    "    Query_NoIO_cnt              INT COMPRESS (0 ,256 ,1 ,2 ,258 ,3 ,4 ,5 ,6 ,7 ,519 ,8 ,264 ,9 ,10 ,11 ,12 ,13 ,525 ,14 ,270 ,15 ,16 ,17 ,18 ,19 ,20 ,21 ,22 ,23 ,24 ,25 ,26 ,27 ,28 ,540 ,29 ,30 ,31 ,32 ,288 ,33 ,34 ,35 ,36 ,37 ,38 ,39 ,40 ,41 ,42 ,810 ,43 ,299 ,44 ,45 ,46 ,47 ,48 ,560 ,49 ,50 ,51 ,52 ,53 ,54 ,55 ,56 ,57 ,58 ,59 ,315 ,1083 ,60 ,61 ,62 ,63 ,64 ,576 ,65 ,66 ,67 ,68 ,69 ,70 ,71 ,72 ,4680 ,73 ,74 ,75 ,76 ,77 ,78 ,846 ,79 ,80 ,336 ,81 ,82 ,83 ,84 ,340 ,1620 ,85 ,86 ,87 ,88 ,600 ,89 ,345 ,90 ,2394 ,91 ,92 ,93 ,349 ,94 ,95 ,96 ,97 ,98 ,99 ,100 ,101 ,102 ,103 ,104 ,360 ,105 ,106 ,107 ,108 ,109 ,110 ,111 ,112 ,368 ,113 ,369 ,114 ,115 ,116 ,117 ,118 ,119 ,120 ,121 ,122 ,123 ,124 ,125 ,126 ,127 ,128 ,384 ,129 ,130 ,131 ,132 ,133 ,134 ,135 ,136 ,137 ,138 ,139 ,140 ,141 ,142 ,143 ,144 ,145 ,146 ,147 ,148 ,149 ,150 ,918 ,151 ,152 ,153 ,154 ,155 ,156 ,157 ,413 ,158 ,159 ,160 ,416 ,161 ,417 ,162 ,163 ,164 ,420 ,165 ,166 ,167 ,168 ,169 ,170 ,171 ,939 ,172 ,173 ,174 ,175 ,176 ,432 ,177 ,178 ,179 ,180 ,2228 ,181 ,182 ,183 ,184 ,696 ,185 ,186 ,187 ,188 ,189 ,190 ,1215 ,192 ,193 ,194 ,196 ,197 ,198 ,200 ,201 ,202 ,204 ,207 ,208 ,210 ,212 ,214 ,216 ,217 ,220 ,222 ,224 ,226 ,1262 ,240 ,248 ,504 ,252 ),\n",
    "    Query_InMem_Cnt             INT COMPRESS (0 ,1 ,2 ,258 ,1794 ,3 ,259 ,4 ,5 ,6 ,262 ,7 ,8 ,9 ,10 ,11 ,12 ,1548 ,13 ,14 ,15 ,16 ,272 ,17 ,18 ,19 ,20 ,21 ,22 ,23 ,24 ,25 ,26 ,27 ,28 ,29 ,30 ,31 ,32 ,544 ,33 ,34 ,35 ,36 ,292 ,37 ,38 ,294 ,39 ,40 ,41 ,42 ,43 ,299 ,44 ,45 ,46 ,47 ,48 ,49 ,50 ,51 ,52 ,53 ,54 ,55 ,56 ,57 ,58 ,59 ,60 ,316 ,61 ,62 ,63 ,64 ,320 ,65 ,66 ,67 ,68 ,324 ,69 ,70 ,71 ,72 ,73 ,74 ,75 ,76 ,77 ,78 ,79 ,80 ,81 ,82 ,83 ,84 ,85 ,86 ,87 ,88 ,89 ,90 ,91 ,92 ,93 ,94 ,95 ,96 ,97 ,98 ,99 ,100 ,101 ,102 ,103 ,104 ,105 ,106 ,107 ,108 ,109 ,110 ,111 ,112 ,113 ,114 ,115 ,116 ,117 ,118 ,119 ,120 ,121 ,122 ,123 ,124 ,125 ,126 ,127 ,128 ,129 ,130 ,131 ,132 ,133 ,134 ,135 ,136 ,137 ,138 ,139 ,140 ,141 ,142 ,143 ,144 ,145 ,146 ,147 ,148 ,149 ,150 ,151 ,152 ,153 ,154 ,155 ,667 ,156 ,157 ,158 ,159 ,160 ,672 ,2208 ,161 ,162 ,163 ,164 ,165 ,166 ,167 ,168 ,169 ,170 ,171 ,172 ,173 ,174 ,175 ,176 ,432 ,177 ,689 ,178 ,179 ,180 ,181 ,182 ,183 ,184 ,185 ,697 ,186 ,187 ,188 ,189 ,190 ,191 ,192 ,193 ,194 ,195 ,196 ,197 ,198 ,199 ,200 ,201 ,202 ,203 ,204 ,205 ,206 ,207 ,208 ,209 ,210 ,211 ,212 ,213 ,214 ,216 ,217 ,218 ,219 ,220 ,222 ,223 ,224 ,225 ,226 ,228 ,234 ,236 ,238 ,239 ,240 ,242 ,246 ,248 ,254 ),\n",
    "    Query_PhysIO_Cnt            INT COMPRESS (0 ,1 ,2 ,3 ,4 ,516 ,5 ,6 ,7 ,8 ,264 ,9 ,10 ,11 ,12 ,13 ,14 ,15 ,16 ,17 ,18 ,786 ,19 ,20 ,21 ,22 ,23 ,24 ,25 ,26 ,27 ,28 ,29 ,30 ,31 ,32 ,33 ,34 ,35 ,36 ,37 ,38 ,39 ,40 ,41 ,42 ,43 ,44 ,45 ,46 ,47 ,48 ,49 ,50 ,51 ,52 ,53 ,54 ,55 ,56 ,57 ,58 ,59 ,60 ,61 ,62 ,63 ,64 ,832 ,65 ,66 ,67 ,68 ,69 ,70 ,71 ,72 ,73 ,74 ,75 ,76 ,77 ,78 ,79 ,80 ,81 ,82 ,83 ,84 ,85 ,86 ,598 ,87 ,88 ,89 ,90 ,91 ,92 ,93 ,94 ,95 ,96 ,97 ,98 ,99 ,100 ,101 ,102 ,103 ,104 ,105 ,106 ,107 ,108 ,109 ,110 ,111 ,112 ,113 ,114 ,370 ,115 ,116 ,117 ,118 ,119 ,120 ,121 ,122 ,123 ,124 ,125 ,126 ,127 ,128 ,129 ,130 ,131 ,132 ,133 ,134 ,135 ,136 ,137 ,138 ,139 ,140 ,141 ,142 ,143 ,911 ,144 ,145 ,146 ,147 ,148 ,149 ,150 ,151 ,152 ,153 ,154 ,155 ,156 ,157 ,158 ,159 ,160 ,161 ,162 ,163 ,419 ,164 ,165 ,166 ,167 ,168 ,680 ,169 ,170 ,171 ,172 ,173 ,174 ,175 ,176 ,177 ,178 ,434 ,179 ,180 ,181 ,182 ,183 ,184 ,185 ,186 ,187 ,188 ,189 ,190 ,191 ,192 ,193 ,194 ,195 ,196 ,197 ,198 ,199 ,200 ,201 ,202 ,203 ,204 ,205 ,206 ,207 ,208 ,209 ,210 ,211 ,212 ,213 ,214 ,215 ,217 ,218 ,219 ,220 ,221 ,222 ,223 ,224 ,736 ,225 ,226 ,738 ,228 ,229 ,230 ,232 ,233 ,234 ,236 ,238 ,239 ,242 ,243 ,244 ,245 ,250 ,252 ,253 ),\n",
    "    Query_Tactical_Cnt          INT COMPRESS 0 ,\n",
    "    Query_Complexity_Score_Avg  DECIMAL(18,4) COMPRESS (0.0000 ,16.0000 ,96.0000 ,0.6667 ,1.0000 ,2.0000 ,18.0000 ,435.0000 ,3.0000 ,3.6667 ,68.0000 ,36.0000 ,4.0000 ,5.0000 ,38.0000 ,6.0000 ,7.0000 ,40.0000 ,8.0000 ,24.0000 ,0.5000 ,74.0000 ,10.0000 ,2.1667 ,6.7500 ,12.0000 ,5.5000 ,14.0000 ,15.0000 ,1.1250 ),\n",
    "    Returned_Row_Cnt            BIGINT COMPRESS (0 ,1 ),\n",
    "    DelayTime_Sec               DECIMAL(18,4) COMPRESS 0,\n",
    "    Runtime_Parse_Sec           DECIMAL(18,4) COMPRESS (0.0000 ,0.6400 ,1.2800 ,1.9200 ,0.4100 ,1.0500 ,1.6900 ,2.3300 ,0.1800 ,0.8200 ,1.4600 ,2.1000 ,0.5900 ,1.2300 ,1.8700 ,2.5100 ,0.3600 ,1.0000 ,1.6400 ,2.2800 ,0.1300 ,0.7700 ,1.4100 ,2.0500 ,0.5400 ,1.1800 ,1.8200 ,2.4600 ,0.3100 ,0.9500 ,1.5900 ,2.2300 ,0.0800 ,0.7200 ,1.3600 ,2.0000 ,0.4900 ,1.1300 ,1.7700 ,2.4100 ,0.2600 ,0.9000 ,1.5400 ,2.1800 ,0.0300 ,0.6700 ,1.3100 ,1.9500 ,0.4400 ,1.0800 ,1.7200 ,2.3600 ,0.2100 ,0.8500 ,1.4900 ,2.1300 ,0.6200 ,1.2600 ,1.9000 ,0.3900 ,1.0300 ,1.6700 ,2.3100 ,0.1600 ,0.8000 ,1.4400 ,2.0800 ,0.5700 ,1.2100 ,1.8500 ,2.4900 ,0.3400 ,0.9800 ,1.6200 ,2.2600 ,0.1100 ,0.7500 ,1.3900 ,2.0300 ,0.5200 ,1.1600 ,1.8000 ,2.4400 ,0.2900 ,0.9300 ,1.5700 ,2.2100 ,0.0600 ,0.7000 ,1.3400 ,1.9800 ,0.4700 ,1.1100 ,1.7500 ,2.3900 ,0.2400 ,0.8800 ,1.5200 ,2.1600 ,0.0100 ,0.6500 ,1.2900 ,1.9300 ,0.4200 ,1.0600 ,1.7000 ,2.3400 ,0.1900 ,0.8300 ,1.4700 ,2.1100 ,0.6000 ,1.2400 ,1.8800 ,0.3700 ,1.0100 ,1.6500 ,2.2900 ,0.1400 ,0.7800 ,1.4200 ,2.0600 ,0.5500 ,1.1900 ,1.8300 ,2.4700 ,0.3200 ,0.9600 ,1.6000 ,2.2400 ,0.0900 ,0.7300 ,1.3700 ,2.0100 ,0.5000 ,1.1400 ,1.7800 ,2.4200 ,0.2700 ,0.9100 ,1.5500 ,2.1900 ,0.0400 ,0.6800 ,1.3200 ,1.9600 ,0.4500 ,1.0900 ,1.7300 ,2.3700 ,0.2200 ,0.8600 ,1.5000 ,2.1400 ,0.6300 ,1.2700 ,1.9100 ,2.5500 ,0.4000 ,1.0400 ,1.6800 ,2.3200 ,0.1700 ,0.8100 ,1.4500 ,2.0900 ,0.5800 ,1.2200 ,1.8600 ,2.5000 ,0.3500 ,0.9900 ,1.6300 ,2.2700 ,0.1200 ,0.7600 ,1.4000 ,2.0400 ,0.5300 ,1.1700 ,1.8100 ,2.4500 ,0.3000 ,0.9400 ,1.5800 ,2.2200 ,0.0700 ,0.7100 ,1.3500 ,1.9900 ,0.4800 ,1.1200 ,1.7600 ,2.4000 ,0.2500 ,0.8900 ,1.5300 ,2.1700 ,0.0200 ,0.6600 ,1.3000 ,1.9400 ,2.5800 ,0.4300 ,1.0700 ,1.7100 ,2.3500 ,0.2000 ,0.8400 ,1.4800 ,2.1200 ,0.6100 ,1.2500 ,1.8900 ,2.5300 ,0.3800 ,1.0200 ,1.6600 ,2.3000 ,0.1500 ,0.7900 ,1.4300 ,2.0700 ,0.5600 ,1.2000 ,1.8400 ,0.3300 ,0.9700 ,1.6100 ,2.2500 ,0.1000 ,0.7400 ,1.3800 ,2.0200 ,0.5100 ,1.1500 ,1.7900 ,2.4300 ,0.2800 ,0.9200 ,1.5600 ,2.2000 ,0.0500 ,0.6900 ,1.3300 ,1.9700 ,0.4600 ,1.1000 ,1.7400 ,2.3800 ,0.2300 ,0.8700 ,1.5100 ,2.1500 ),\n",
    "    Runtime_AMP_Sec             DECIMAL(18,4) COMPRESS (0.0000 ,0.6400 ,1.2800 ,1.9200 ,0.4100 ,1.0500 ,1.6900 ,2.3300 ,0.1800 ,0.8200 ,1.4600 ,2.1000 ,0.5900 ,1.2300 ,1.8700 ,0.3600 ,1.0000 ,1.6400 ,2.2800 ,0.1300 ,0.7700 ,1.4100 ,2.0500 ,0.5400 ,1.1800 ,1.8200 ,2.4600 ,0.3100 ,0.9500 ,1.5900 ,2.2300 ,0.0800 ,0.7200 ,1.3600 ,2.0000 ,0.4900 ,1.1300 ,1.7700 ,2.4100 ,0.2600 ,0.9000 ,1.5400 ,2.1800 ,0.0300 ,0.6700 ,1.3100 ,1.9500 ,0.4400 ,1.0800 ,1.7200 ,2.3600 ,0.2100 ,0.8500 ,1.4900 ,2.1300 ,0.6200 ,1.2600 ,1.9000 ,2.5400 ,0.3900 ,1.0300 ,1.6700 ,2.3100 ,0.1600 ,0.8000 ,1.4400 ,2.0800 ,2.7200 ,0.5700 ,1.2100 ,1.8500 ,2.4900 ,0.3400 ,0.9800 ,1.6200 ,2.2600 ,0.1100 ,0.7500 ,1.3900 ,2.0300 ,0.5200 ,1.1600 ,1.8000 ,2.4400 ,0.2900 ,0.9300 ,1.5700 ,2.2100 ,0.0600 ,0.7000 ,1.3400 ,1.9800 ,0.4700 ,1.1100 ,1.7500 ,2.3900 ,0.2400 ,0.8800 ,1.5200 ,2.1600 ,0.0100 ,0.6500 ,1.2900 ,1.9300 ,2.5700 ,0.4200 ,1.0600 ,1.7000 ,2.3400 ,0.1900 ,0.8300 ,1.4700 ,2.1100 ,0.6000 ,1.2400 ,1.8800 ,2.5200 ,0.3700 ,1.0100 ,1.6500 ,2.2900 ,0.1400 ,0.7800 ,1.4200 ,2.0600 ,0.5500 ,1.1900 ,1.8300 ,0.3200 ,0.9600 ,1.6000 ,2.2400 ,0.0900 ,0.7300 ,1.3700 ,2.0100 ,0.5000 ,1.1400 ,1.7800 ,2.4200 ,0.2700 ,0.9100 ,1.5500 ,2.1900 ,0.0400 ,0.6800 ,1.3200 ,1.9600 ,0.4500 ,1.0900 ,1.7300 ,2.3700 ,0.2200 ,0.8600 ,1.5000 ,2.1400 ,0.6300 ,1.2700 ,1.9100 ,0.4000 ,1.0400 ,1.6800 ,2.3200 ,0.1700 ,0.8100 ,1.4500 ,2.0900 ,0.5800 ,1.2200 ,1.8600 ,0.3500 ,0.9900 ,1.6300 ,2.2700 ,0.1200 ,0.7600 ,1.4000 ,2.0400 ,0.5300 ,1.1700 ,1.8100 ,2.4500 ,0.3000 ,0.9400 ,1.5800 ,2.2200 ,0.0700 ,0.7100 ,1.3500 ,1.9900 ,2.6300 ,0.4800 ,1.1200 ,1.7600 ,2.4000 ,0.2500 ,0.8900 ,1.5300 ,2.1700 ,0.0200 ,0.6600 ,1.3000 ,1.9400 ,0.4300 ,1.0700 ,1.7100 ,2.3500 ,0.2000 ,0.8400 ,1.4800 ,2.1200 ,0.6100 ,1.2500 ,1.8900 ,0.3800 ,1.0200 ,1.6600 ,2.3000 ,0.1500 ,0.7900 ,1.4300 ,2.0700 ,0.5600 ,1.2000 ,1.8400 ,0.3300 ,0.9700 ,1.6100 ,2.2500 ,0.1000 ,0.7400 ,1.3800 ,2.0200 ,0.5100 ,1.1500 ,1.7900 ,2.4300 ,0.2800 ,0.9200 ,1.5600 ,2.2000 ,0.0500 ,0.6900 ,1.3300 ,1.9700 ,2.6100 ,0.4600 ,1.1000 ,1.7400 ,2.3800 ,0.2300 ,0.8700 ,1.5100 ,2.1500 ),\n",
    "    Runtime_Total_Sec           DECIMAL(18,4) COMPRESS (0.6400 ,1.2800 ,1.9200 ,0.4100 ,1.0500 ,1.6900 ,2.3300 ,0.1800 ,0.8200 ,1.4600 ,2.1000 ,2.7400 ,0.5900 ,1.2300 ,1.8700 ,0.3600 ,1.0000 ,1.6400 ,2.2800 ,0.1300 ,0.7700 ,1.4100 ,2.0500 ,0.5400 ,1.1800 ,1.8200 ,2.4600 ,0.3100 ,0.9500 ,1.5900 ,2.2300 ,0.0800 ,0.7200 ,1.3600 ,2.0000 ,0.4900 ,1.1300 ,1.7700 ,2.4100 ,0.2600 ,0.9000 ,1.5400 ,2.1800 ,0.0300 ,0.6700 ,1.3100 ,1.9500 ,2.5900 ,0.4400 ,1.0800 ,1.7200 ,2.3600 ,0.2100 ,0.8500 ,1.4900 ,2.1300 ,0.6200 ,1.2600 ,1.9000 ,2.5400 ,0.3900 ,1.0300 ,1.6700 ,2.3100 ,0.1600 ,0.8000 ,1.4400 ,2.0800 ,0.5700 ,1.2100 ,1.8500 ,2.4900 ,0.3400 ,0.9800 ,1.6200 ,2.2600 ,0.1100 ,0.7500 ,1.3900 ,2.0300 ,0.5200 ,1.1600 ,1.8000 ,2.4400 ,0.2900 ,0.9300 ,1.5700 ,2.2100 ,0.0600 ,0.7000 ,1.3400 ,1.9800 ,2.6200 ,0.4700 ,1.1100 ,1.7500 ,2.3900 ,0.2400 ,0.8800 ,1.5200 ,2.1600 ,0.0100 ,0.6500 ,1.2900 ,1.9300 ,0.4200 ,1.0600 ,1.7000 ,2.3400 ,0.1900 ,0.8300 ,1.4700 ,2.1100 ,0.6000 ,1.2400 ,1.8800 ,2.5200 ,0.3700 ,1.0100 ,1.6500 ,2.2900 ,0.1400 ,0.7800 ,1.4200 ,2.0600 ,0.5500 ,1.1900 ,1.8300 ,2.4700 ,0.3200 ,0.9600 ,1.6000 ,2.2400 ,0.0900 ,0.7300 ,1.3700 ,2.0100 ,0.5000 ,1.1400 ,1.7800 ,2.4200 ,0.2700 ,0.9100 ,1.5500 ,2.1900 ,0.0400 ,0.6800 ,1.3200 ,1.9600 ,0.4500 ,1.0900 ,1.7300 ,2.3700 ,0.2200 ,0.8600 ,1.5000 ,2.1400 ,0.6300 ,1.2700 ,1.9100 ,0.4000 ,1.0400 ,1.6800 ,2.3200 ,0.1700 ,0.8100 ,1.4500 ,2.0900 ,0.5800 ,1.2200 ,1.8600 ,0.3500 ,0.9900 ,1.6300 ,2.2700 ,0.1200 ,0.7600 ,1.4000 ,2.0400 ,0.5300 ,1.1700 ,1.8100 ,2.4500 ,0.3000 ,0.9400 ,1.5800 ,2.2200 ,0.0700 ,0.7100 ,1.3500 ,1.9900 ,0.4800 ,1.1200 ,1.7600 ,2.4000 ,0.2500 ,0.8900 ,1.5300 ,2.1700 ,0.0200 ,0.6600 ,1.3000 ,1.9400 ,0.4300 ,1.0700 ,1.7100 ,2.3500 ,0.2000 ,0.8400 ,1.4800 ,2.1200 ,0.6100 ,1.2500 ,1.8900 ,2.5300 ,0.3800 ,1.0200 ,1.6600 ,2.3000 ,0.1500 ,0.7900 ,1.4300 ,2.0700 ,0.5600 ,1.2000 ,1.8400 ,2.4800 ,0.3300 ,0.9700 ,1.6100 ,2.2500 ,0.1000 ,0.7400 ,1.3800 ,2.0200 ,0.5100 ,1.1500 ,1.7900 ,2.4300 ,0.2800 ,0.9200 ,1.5600 ,2.2000 ,0.0500 ,0.6900 ,1.3300 ,1.9700 ,0.4600 ,1.1000 ,1.7400 ,0.2300 ,0.8700 ,1.5100 ,2.1500 ),\n",
    "    TransferTime_Sec            DECIMAL(18,4) COMPRESS (0.0000 ,0.6400 ,1.2800 ,1.9200 ,2.5600 ,0.4100 ,1.0500 ,1.6900 ,2.3300 ,0.1800 ,0.8200 ,1.4600 ,2.1000 ,0.5900 ,1.2300 ,1.8700 ,2.5100 ,0.3600 ,1.0000 ,1.6400 ,2.2800 ,0.1300 ,0.7700 ,1.4100 ,2.0500 ,2.6900 ,0.5400 ,1.1800 ,1.8200 ,2.4600 ,0.3100 ,0.9500 ,1.5900 ,2.2300 ,0.0800 ,0.7200 ,1.3600 ,2.0000 ,0.4900 ,1.1300 ,1.7700 ,2.4100 ,0.2600 ,0.9000 ,1.5400 ,2.1800 ,0.0300 ,0.6700 ,1.3100 ,1.9500 ,0.4400 ,1.0800 ,1.7200 ,2.3600 ,0.2100 ,0.8500 ,1.4900 ,2.1300 ,0.6200 ,1.2600 ,1.9000 ,0.3900 ,1.0300 ,1.6700 ,2.3100 ,0.1600 ,0.8000 ,1.4400 ,2.0800 ,0.5700 ,1.2100 ,1.8500 ,0.3400 ,0.9800 ,1.6200 ,2.2600 ,0.1100 ,0.7500 ,1.3900 ,2.0300 ,0.5200 ,1.1600 ,1.8000 ,0.2900 ,0.9300 ,1.5700 ,2.2100 ,0.0600 ,0.7000 ,1.3400 ,1.9800 ,0.4700 ,1.1100 ,1.7500 ,2.3900 ,0.2400 ,0.8800 ,1.5200 ,2.1600 ,0.0100 ,0.6500 ,1.2900 ,1.9300 ,0.4200 ,1.0600 ,1.7000 ,2.3400 ,0.1900 ,0.8300 ,1.4700 ,2.1100 ,0.6000 ,1.2400 ,1.8800 ,0.3700 ,1.0100 ,1.6500 ,2.2900 ,0.1400 ,0.7800 ,1.4200 ,2.0600 ,0.5500 ,1.1900 ,1.8300 ,2.4700 ,0.3200 ,0.9600 ,1.6000 ,2.2400 ,0.0900 ,0.7300 ,1.3700 ,2.0100 ,0.5000 ,1.1400 ,1.7800 ,2.4200 ,0.2700 ,0.9100 ,1.5500 ,2.1900 ,2.8300 ,0.0400 ,0.6800 ,1.3200 ,1.9600 ,0.4500 ,1.0900 ,1.7300 ,2.3700 ,0.2200 ,0.8600 ,1.5000 ,2.1400 ,2.7800 ,0.6300 ,1.2700 ,1.9100 ,2.5500 ,0.4000 ,1.0400 ,1.6800 ,2.3200 ,0.1700 ,0.8100 ,1.4500 ,2.0900 ,0.5800 ,1.2200 ,1.8600 ,2.5000 ,0.3500 ,0.9900 ,1.6300 ,2.2700 ,0.1200 ,0.7600 ,1.4000 ,2.0400 ,0.5300 ,1.1700 ,1.8100 ,2.4500 ,0.3000 ,0.9400 ,1.5800 ,2.2200 ,0.0700 ,0.7100 ,1.3500 ,1.9900 ,0.4800 ,1.1200 ,1.7600 ,2.4000 ,0.2500 ,0.8900 ,1.5300 ,2.1700 ,0.0200 ,0.6600 ,1.3000 ,1.9400 ,0.4300 ,1.0700 ,1.7100 ,2.3500 ,0.2000 ,0.8400 ,1.4800 ,2.1200 ,0.6100 ,1.2500 ,1.8900 ,0.3800 ,1.0200 ,1.6600 ,2.3000 ,0.1500 ,0.7900 ,1.4300 ,2.0700 ,0.5600 ,1.2000 ,1.8400 ,0.3300 ,0.9700 ,1.6100 ,2.2500 ,0.1000 ,0.7400 ,1.3800 ,2.0200 ,0.5100 ,1.1500 ,1.7900 ,2.4300 ,0.2800 ,0.9200 ,1.5600 ,2.2000 ,0.0500 ,0.6900 ,1.3300 ,1.9700 ,0.4600 ,1.1000 ,1.7400 ,2.3800 ,0.2300 ,0.8700 ,1.5100 ,2.1500 ),\n",
    "    CPU_Parse_Sec               DECIMAL(18,4) COMPRESS (0.0000 ,0.6400 ,1.2800 ,1.9200 ,0.4100 ,1.0500 ,1.6900 ,2.3300 ,0.1800 ,0.8200 ,1.4600 ,2.1000 ,0.5900 ,1.2300 ,1.8700 ,2.5100 ,0.3600 ,1.0000 ,1.6400 ,2.2800 ,0.1300 ,0.7700 ,1.4100 ,2.0500 ,0.5400 ,1.1800 ,1.8200 ,2.4600 ,0.3100 ,0.9500 ,1.5900 ,2.2300 ,0.0800 ,0.7200 ,1.3600 ,2.0000 ,2.6400 ,0.4900 ,1.1300 ,1.7700 ,2.4100 ,0.2600 ,0.9000 ,1.5400 ,2.1800 ,0.0300 ,0.6700 ,1.3100 ,1.9500 ,0.4400 ,1.0800 ,1.7200 ,2.3600 ,0.2100 ,0.8500 ,1.4900 ,2.1300 ,0.6200 ,1.2600 ,1.9000 ,0.3900 ,1.0300 ,1.6700 ,2.3100 ,0.1600 ,0.8000 ,1.4400 ,2.0800 ,0.5700 ,1.2100 ,1.8500 ,2.4900 ,0.3400 ,0.9800 ,1.6200 ,2.2600 ,0.1100 ,0.7500 ,1.3900 ,2.0300 ,0.5200 ,1.1600 ,1.8000 ,2.4400 ,0.2900 ,0.9300 ,1.5700 ,2.2100 ,0.0600 ,0.7000 ,1.3400 ,1.9800 ,0.4700 ,1.1100 ,1.7500 ,2.3900 ,0.2400 ,0.8800 ,1.5200 ,2.1600 ,0.0100 ,0.6500 ,1.2900 ,1.9300 ,0.4200 ,1.0600 ,1.7000 ,2.3400 ,0.1900 ,0.8300 ,1.4700 ,2.1100 ,0.6000 ,1.2400 ,1.8800 ,2.5200 ,0.3700 ,1.0100 ,1.6500 ,2.2900 ,0.1400 ,0.7800 ,1.4200 ,2.0600 ,0.5500 ,1.1900 ,1.8300 ,0.3200 ,0.9600 ,1.6000 ,2.2400 ,0.0900 ,0.7300 ,1.3700 ,2.0100 ,0.5000 ,1.1400 ,1.7800 ,2.4200 ,0.2700 ,0.9100 ,1.5500 ,2.1900 ,0.0400 ,0.6800 ,1.3200 ,1.9600 ,0.4500 ,1.0900 ,1.7300 ,2.3700 ,0.2200 ,0.8600 ,1.5000 ,2.1400 ,0.6300 ,1.2700 ,1.9100 ,0.4000 ,1.0400 ,1.6800 ,2.3200 ,0.1700 ,0.8100 ,1.4500 ,2.0900 ,0.5800 ,1.2200 ,1.8600 ,2.5000 ,0.3500 ,0.9900 ,1.6300 ,2.2700 ,0.1200 ,0.7600 ,1.4000 ,2.0400 ,0.5300 ,1.1700 ,1.8100 ,2.4500 ,0.3000 ,0.9400 ,1.5800 ,2.2200 ,0.0700 ,0.7100 ,1.3500 ,1.9900 ,0.4800 ,1.1200 ,1.7600 ,2.4000 ,0.2500 ,0.8900 ,1.5300 ,2.1700 ,0.0200 ,0.6600 ,1.3000 ,1.9400 ,0.4300 ,1.0700 ,1.7100 ,2.3500 ,0.2000 ,0.8400 ,1.4800 ,2.1200 ,0.6100 ,1.2500 ,1.8900 ,2.5300 ,0.3800 ,1.0200 ,1.6600 ,2.3000 ,0.1500 ,0.7900 ,1.4300 ,2.0700 ,0.5600 ,1.2000 ,1.8400 ,2.4800 ,0.3300 ,0.9700 ,1.6100 ,2.2500 ,0.1000 ,0.7400 ,1.3800 ,2.0200 ,0.5100 ,1.1500 ,1.7900 ,2.4300 ,0.2800 ,0.9200 ,1.5600 ,2.2000 ,0.0500 ,0.6900 ,1.3300 ,1.9700 ,0.4600 ,1.1000 ,1.7400 ,2.3800 ,0.2300 ,0.8700 ,1.5100 ,2.1500 ),\n",
    "    CPU_AMP_Sec                 DECIMAL(18,4) COMPRESS (0.0000 ,0.6400 ,1.2800 ,1.9200 ,2.5600 ,0.4100 ,1.0500 ,1.6900 ,2.3300 ,0.1800 ,0.8200 ,1.4600 ,2.1000 ,2.7400 ,0.5900 ,1.2300 ,1.8700 ,0.3600 ,1.0000 ,1.6400 ,2.2800 ,0.1300 ,0.7700 ,1.4100 ,2.0500 ,0.5400 ,1.1800 ,1.8200 ,2.4600 ,0.3100 ,0.9500 ,1.5900 ,2.2300 ,0.0800 ,0.7200 ,1.3600 ,2.0000 ,2.6400 ,0.4900 ,1.1300 ,2.4100 ,0.2600 ,0.9000 ,1.5400 ,2.1800 ,2.8200 ,0.0300 ,0.6700 ,1.3100 ,1.9500 ,0.4400 ,1.0800 ,1.7200 ,2.3600 ,0.2100 ,0.8500 ,1.4900 ,2.1300 ,2.7700 ,0.6200 ,1.2600 ,1.9000 ,2.5400 ,0.3900 ,1.0300 ,1.6700 ,2.3100 ,0.1600 ,0.8000 ,1.4400 ,2.7200 ,0.5700 ,1.2100 ,1.8500 ,0.3400 ,0.9800 ,1.6200 ,2.2600 ,0.1100 ,0.7500 ,1.3900 ,2.0300 ,0.5200 ,1.1600 ,1.8000 ,2.4400 ,0.2900 ,0.9300 ,1.5700 ,0.0600 ,0.7000 ,1.3400 ,1.9800 ,0.4700 ,1.1100 ,1.7500 ,0.2400 ,0.8800 ,1.5200 ,2.1600 ,0.0100 ,0.6500 ,1.2900 ,1.9300 ,0.4200 ,1.0600 ,1.7000 ,2.3400 ,0.1900 ,0.8300 ,1.4700 ,2.1100 ,0.6000 ,1.2400 ,1.8800 ,2.5200 ,0.3700 ,1.0100 ,1.6500 ,2.2900 ,0.1400 ,0.7800 ,1.4200 ,2.0600 ,2.7000 ,0.5500 ,1.1900 ,1.8300 ,0.3200 ,0.9600 ,1.6000 ,2.2400 ,0.0900 ,0.7300 ,1.3700 ,0.5000 ,1.1400 ,1.7800 ,2.4200 ,0.2700 ,0.9100 ,1.5500 ,2.1900 ,0.0400 ,0.6800 ,1.3200 ,1.9600 ,0.4500 ,1.0900 ,1.7300 ,2.3700 ,0.2200 ,0.8600 ,1.5000 ,2.1400 ,2.7800 ,0.6300 ,1.2700 ,1.9100 ,0.4000 ,1.0400 ,1.6800 ,2.3200 ,0.1700 ,0.8100 ,1.4500 ,2.7300 ,0.5800 ,1.2200 ,1.8600 ,2.5000 ,0.3500 ,0.9900 ,1.6300 ,2.2700 ,0.1200 ,0.7600 ,1.4000 ,2.0400 ,0.5300 ,1.1700 ,1.8100 ,2.4500 ,0.3000 ,0.9400 ,1.5800 ,2.2200 ,2.8600 ,0.0700 ,0.7100 ,1.3500 ,1.9900 ,2.6300 ,0.4800 ,1.1200 ,1.7600 ,2.4000 ,0.2500 ,0.8900 ,1.5300 ,2.1700 ,0.0200 ,0.6600 ,1.3000 ,1.9400 ,0.4300 ,1.0700 ,1.7100 ,2.3500 ,0.2000 ,0.8400 ,1.4800 ,2.1200 ,2.7600 ,0.6100 ,1.2500 ,0.3800 ,1.0200 ,1.6600 ,2.3000 ,0.1500 ,0.7900 ,1.4300 ,0.5600 ,1.2000 ,1.8400 ,2.4800 ,0.3300 ,0.9700 ,1.6100 ,0.1000 ,0.7400 ,1.3800 ,2.0200 ,2.6600 ,0.5100 ,1.1500 ,1.7900 ,2.4300 ,0.2800 ,0.9200 ,1.5600 ,2.2000 ,0.0500 ,0.6900 ,1.3300 ,0.4600 ,1.1000 ,1.7400 ,2.3800 ,0.2300 ,0.8700 ,1.5100 ,2.1500 ),\n",
    "    IOCntM_Physical             INTEGER COMPRESS (0 ,1 ),\n",
    "    IOCntM_Total                INTEGER COMPRESS (0 ,1 ,2 ,3 ,4 ,6 ),\n",
    "    IOGB_Physical               DECIMAL(18,4) COMPRESS (0.0000 ,256.0000 ,112.0000 ,80.0000 ,192.0000 ,48.0000 ,160.0000 ,16.0000 ,128.0000 ,96.0000 ,208.0000 ,64.0000 ,176.0000 ,32.0000 ,144.0000 ,177.0000 ,33.0000 ,145.0000 ,1.0000 ,257.0000 ,113.0000 ,225.0000 ,81.0000 ,193.0000 ,49.0000 ,161.0000 ,17.0000 ,129.0000 ,241.0000 ,97.0000 ,209.0000 ,65.0000 ,66.0000 ,178.0000 ,34.0000 ,146.0000 ,2.0000 ,258.0000 ,114.0000 ,226.0000 ,82.0000 ,194.0000 ,50.0000 ,162.0000 ,18.0000 ,130.0000 ,242.0000 ,98.0000 ,243.0000 ,99.0000 ,211.0000 ,67.0000 ,179.0000 ,35.0000 ,147.0000 ,3.0000 ,259.0000 ,115.0000 ,83.0000 ,195.0000 ,51.0000 ,163.0000 ,19.0000 ,131.0000 ,164.0000 ,20.0000 ,132.0000 ,244.0000 ,100.0000 ,212.0000 ,68.0000 ,180.0000 ,36.0000 ,148.0000 ,4.0000 ,260.0000 ,116.0000 ,228.0000 ,84.0000 ,196.0000 ,52.0000 ,197.0000 ,53.0000 ,165.0000 ,21.0000 ,133.0000 ,101.0000 ,213.0000 ,69.0000 ,181.0000 ,37.0000 ,149.0000 ,5.0000 ,261.0000 ,117.0000 ,85.0000 ,118.0000 ,86.0000 ,198.0000 ,54.0000 ,166.0000 ,22.0000 ,134.0000 ,246.0000 ,102.0000 ,214.0000 ,70.0000 ,182.0000 ,38.0000 ,150.0000 ,6.0000 ,262.0000 ,151.0000 ,7.0000 ,119.0000 ,231.0000 ,87.0000 ,199.0000 ,55.0000 ,167.0000 ,23.0000 ,135.0000 ,247.0000 ,103.0000 ,71.0000 ,183.0000 ,39.0000 ,184.0000 ,40.0000 ,152.0000 ,8.0000 ,120.0000 ,232.0000 ,88.0000 ,200.0000 ,56.0000 ,168.0000 ,24.0000 ,136.0000 ,248.0000 ,104.0000 ,72.0000 ,105.0000 ,217.0000 ,73.0000 ,185.0000 ,41.0000 ,297.0000 ,153.0000 ,9.0000 ,121.0000 ,233.0000 ,89.0000 ,201.0000 ,57.0000 ,169.0000 ,25.0000 ,137.0000 ,249.0000 ,138.0000 ,250.0000 ,106.0000 ,218.0000 ,74.0000 ,186.0000 ,42.0000 ,298.0000 ,154.0000 ,10.0000 ,122.0000 ,234.0000 ,90.0000 ,202.0000 ,58.0000 ,170.0000 ,26.0000 ,59.0000 ,171.0000 ,27.0000 ,139.0000 ,107.0000 ,219.0000 ,75.0000 ,187.0000 ,43.0000 ,299.0000 ,155.0000 ,11.0000 ,267.0000 ,123.0000 ,235.0000 ,91.0000 ,203.0000 ,236.0000 ,92.0000 ,204.0000 ,60.0000 ,172.0000 ,28.0000 ,140.0000 ,252.0000 ,108.0000 ,220.0000 ,76.0000 ,188.0000 ,44.0000 ,156.0000 ,12.0000 ,268.0000 ,124.0000 ,125.0000 ,237.0000 ,93.0000 ,205.0000 ,61.0000 ,173.0000 ,29.0000 ,141.0000 ,109.0000 ,77.0000 ,189.0000 ,45.0000 ,157.0000 ,13.0000 ,46.0000 ,158.0000 ,14.0000 ,126.0000 ,238.0000 ,94.0000 ,206.0000 ,62.0000 ,174.0000 ,30.0000 ,142.0000 ,110.0000 ,222.0000 ,78.0000 ,190.0000 ,1855.0000 ,79.0000 ,191.0000 ,47.0000 ,159.0000 ,15.0000 ,127.0000 ,239.0000 ,95.0000 ,207.0000 ,63.0000 ,175.0000 ,31.0000 ,143.0000 ,111.0000 ),\n",
    "    IOGB_Total                  DECIMAL(18,4) COMPRESS (0.0000 ,256.0000 ,112.0000 ,224.0000 ,80.0000 ,192.0000 ,48.0000 ,160.0000 ,16.0000 ,272.0000 ,128.0000 ,240.0000 ,96.0000 ,208.0000 ,64.0000 ,176.0000 ,32.0000 ,144.0000 ,177.0000 ,33.0000 ,145.0000 ,1.0000 ,113.0000 ,225.0000 ,81.0000 ,193.0000 ,49.0000 ,161.0000 ,17.0000 ,129.0000 ,241.0000 ,97.0000 ,209.0000 ,65.0000 ,210.0000 ,66.0000 ,178.0000 ,34.0000 ,146.0000 ,2.0000 ,114.0000 ,226.0000 ,82.0000 ,194.0000 ,50.0000 ,162.0000 ,18.0000 ,274.0000 ,130.0000 ,242.0000 ,98.0000 ,243.0000 ,99.0000 ,211.0000 ,67.0000 ,179.0000 ,35.0000 ,147.0000 ,3.0000 ,259.0000 ,115.0000 ,227.0000 ,83.0000 ,195.0000 ,51.0000 ,163.0000 ,19.0000 ,275.0000 ,131.0000 ,164.0000 ,20.0000 ,132.0000 ,244.0000 ,100.0000 ,212.0000 ,68.0000 ,180.0000 ,36.0000 ,148.0000 ,4.0000 ,116.0000 ,84.0000 ,196.0000 ,52.0000 ,308.0000 ,197.0000 ,53.0000 ,165.0000 ,21.0000 ,277.0000 ,133.0000 ,245.0000 ,101.0000 ,213.0000 ,69.0000 ,181.0000 ,37.0000 ,149.0000 ,5.0000 ,117.0000 ,229.0000 ,85.0000 ,118.0000 ,230.0000 ,86.0000 ,198.0000 ,54.0000 ,166.0000 ,22.0000 ,134.0000 ,102.0000 ,214.0000 ,70.0000 ,326.0000 ,182.0000 ,38.0000 ,150.0000 ,6.0000 ,151.0000 ,7.0000 ,119.0000 ,231.0000 ,87.0000 ,199.0000 ,55.0000 ,167.0000 ,23.0000 ,135.0000 ,103.0000 ,215.0000 ,71.0000 ,183.0000 ,39.0000 ,184.0000 ,40.0000 ,152.0000 ,8.0000 ,120.0000 ,232.0000 ,88.0000 ,200.0000 ,56.0000 ,168.0000 ,24.0000 ,136.0000 ,104.0000 ,216.0000 ,72.0000 ,105.0000 ,217.0000 ,73.0000 ,185.0000 ,41.0000 ,153.0000 ,9.0000 ,121.0000 ,233.0000 ,89.0000 ,201.0000 ,57.0000 ,169.0000 ,25.0000 ,137.0000 ,138.0000 ,106.0000 ,218.0000 ,74.0000 ,186.0000 ,42.0000 ,154.0000 ,10.0000 ,122.0000 ,234.0000 ,90.0000 ,202.0000 ,58.0000 ,170.0000 ,26.0000 ,59.0000 ,315.0000 ,171.0000 ,27.0000 ,139.0000 ,251.0000 ,107.0000 ,219.0000 ,75.0000 ,187.0000 ,43.0000 ,155.0000 ,11.0000 ,123.0000 ,235.0000 ,91.0000 ,203.0000 ,236.0000 ,92.0000 ,204.0000 ,60.0000 ,172.0000 ,28.0000 ,140.0000 ,108.0000 ,220.0000 ,76.0000 ,188.0000 ,44.0000 ,156.0000 ,12.0000 ,124.0000 ,125.0000 ,93.0000 ,205.0000 ,61.0000 ,173.0000 ,29.0000 ,141.0000 ,109.0000 ,221.0000 ,77.0000 ,189.0000 ,45.0000 ,157.0000 ,13.0000 ,46.0000 ,158.0000 ,14.0000 ,126.0000 ,238.0000 ,94.0000 ,206.0000 ,62.0000 ,174.0000 ,30.0000 ,142.0000 ,254.0000 ,110.0000 ,222.0000 ,78.0000 ,190.0000 ,223.0000 ,79.0000 ,191.0000 ,47.0000 ,159.0000 ,15.0000 ,127.0000 ,95.0000 ,207.0000 ,63.0000 ,175.0000 ,31.0000 ,143.0000 ,111.0000 ),\n",
    "    IOTA_Used_cntB              DECIMAL(18,4) COMPRESS (0.0000 ,0.0001 ,0.0002 ,0.0003 ,0.0004 ,0.0005 ,0.0006 ,0.0007 ,0.0008 ,0.0009 ,0.0010 ,0.0011 ,0.0012 ,0.0013 ,0.0014 ,0.0015 ,0.0016 ,0.0017 ,0.0018 ,0.0019 ,0.0020 ,0.0021 ,0.0022 ,0.0023 ,0.0024 ,0.0025 ,0.0026 ,0.0027 ,0.0028 ,0.0029 ,0.0030 ,0.0031 ,0.0032 ,0.0033 ,0.0034 ,0.0035 ,0.0036 ,0.0037 ,0.0038 ,0.0039 ,0.0040 ,0.0041 ,0.0042 ,0.0043 ,0.0044 ,0.0045 ,0.0046 ,0.0047 ,0.0048 ,0.0049 ,0.0050 ,0.0051 ,0.0052 ,0.0053 ,0.0054 ,0.0055 ,0.0056 ,0.0057 ,0.0058 ,0.0059 ,0.0060 ,0.0061 ,0.0062 ,0.0063 ,0.0064 ,0.0065 ,0.0066 ,0.0067 ,0.0068 ,0.0069 ,0.0070 ,0.0071 ,0.0072 ,0.0073 ,0.0074 ,0.0075 ,0.0076 ,0.0077 ,0.0078 ,0.0079 ,0.0080 ,0.0081 ,0.0082 ,0.0083 ,0.0084 ,0.0085 ,0.0086 ,0.0087 ,0.0088 ,0.0089 ,0.0090 ,0.0091 ,0.0092 ,0.0093 ,0.0094 ,0.0095 ,0.0096 ,0.0097 ,0.0098 ,0.0099 ,0.0100 ,0.0101 ,0.0102 ,0.0103 ,0.0104 ,0.0105 ,0.0106 ,0.0107 ,0.0108 ,0.0109 ,0.0110 ,0.0111 ,0.0112 ,0.0113 ,0.0114 ,0.0115 ,0.0116 ,0.0117 ,0.0118 ,0.0119 ,0.0120 ,0.0121 ,0.0124 ,0.0128 ,0.0141 ,0.0165 ),\n",
    "    NumOfActiveAMPs_Avg         DECIMAL(9,4) COMPRESS (0.0000 ,2928.0000 ,1920.0000 ,144.0000 ,504.1667 ,1008.3333 ,1.0000 ,2.0000 ,3.0000 ,756.0000 ,1512.0000 ,504.0000 ,1.5000 ,756.5000 ),\n",
    "    Spool_GB                    DECIMAL(18,4) COMPRESS (0.0000 ,0.0001 ,0.0002 ,0.0003 ,0.0004 ,0.0005 ,0.0006 ,0.0007 ,0.0008 ,0.0009 ,0.0010 ,0.0011 ,0.0062 ,0.0124 ),\n",
    "    CacheHit_Pct                DECIMAL(9,4),  \n",
    "    CPUSec_Skew_AvgPCt          DECIMAL(9,4) COMPRESS (0.0000 ,-0.9984 ,-0.9728 ,-0.9983 ,-0.9727 ,-0.9471 ,-0.9982 ,-0.9726 ,-0.9981 ,-0.9213 ,-0.9980 ,-0.9724 ,-0.9979 ,-0.9723 ,-0.9978 ,-0.9722 ,-0.9977 ,-0.9721 ,-0.9976 ,-0.9720 ,-0.9975 ,-0.9719 ,-0.9974 ,-0.9718 ,-0.9206 ,-0.9973 ,-0.9717 ,-0.9972 ,-0.9716 ,-0.9971 ,-0.9715 ,-0.9203 ,-0.9970 ,-0.9714 ,-0.9969 ,-0.9713 ,-0.9201 ,-0.9968 ,-0.9712 ,-0.9967 ,-0.9711 ,-0.9966 ,-0.9710 ,-0.9965 ,-0.9709 ,-0.9964 ,-0.9708 ,-0.9196 ,-0.9963 ,-0.9707 ,-0.9962 ,-0.9706 ,-0.9961 ,-0.9705 ,-0.9193 ,-0.9960 ,-0.9704 ,-0.9959 ,-0.9703 ,-0.9958 ,-0.9702 ,-0.9190 ,-0.9957 ,-0.9701 ,-0.9956 ,-0.9444 ,-0.9955 ,-0.9699 ,-0.9187 ,-0.9954 ,-0.9698 ,-0.9953 ,-0.9697 ,-0.9185 ,-0.9952 ,-0.9696 ,-0.9951 ,-0.9183 ,-0.9950 ,-0.9694 ,-0.9182 ,-0.9949 ,-0.9693 ,-0.9948 ,-0.9692 ,-0.9180 ,-0.9947 ,-0.9691 ,-0.9179 ,-0.9946 ,-0.9690 ,-0.9945 ,-0.9689 ,-0.9177 ,-0.9944 ,-0.9688 ,-0.9943 ,-0.9175 ,-0.9942 ,-0.9686 ,-0.9941 ,-0.9685 ,-0.9173 ,-0.9940 ,-0.9684 ,-0.9172 ,-0.9939 ,-0.9683 ,-0.9938 ,-0.9937 ,-0.9681 ,-0.9936 ,-0.9935 ,-0.9679 ,-0.9167 ,-0.9934 ,-0.9678 ,-0.9933 ,-0.9932 ,-0.9676 ,-0.9931 ,-0.9163 ,-0.9930 ,-0.9674 ,-0.9929 ,-0.9673 ,-0.5833 ,-0.9928 ,-0.9672 ,-0.9160 ,-0.9927 ,-0.9926 ,-0.9158 ,-0.9925 ,-0.9669 ,-0.9157 ,-0.9924 ,-0.9156 ,-0.2500 ,-0.9923 ,-0.9922 ,-0.9666 ,-0.9921 ,-0.9153 ,-0.9664 ,-0.9152 ,-0.9663 ,-0.9918 ,-0.9150 ,-0.9917 ,-0.9148 ,-0.9659 ,-0.9147 ,-0.9914 ,-0.9146 ,-0.9145 ,-0.9656 ,-0.9144 ,-0.9911 ,-0.9142 ,-0.9653 ,-0.9140 ,-0.5556 ,-0.9907 ,-0.9651 ,-0.9139 ,-0.9649 ,-0.9137 ,-0.9646 ,-0.9134 ,-0.2222 ,-0.9901 ,-0.9132 ,-0.9643 ,-0.9130 ,-0.9129 ,-0.9640 ,-0.9127 ,-0.9894 ,-0.9888 ,-0.9120 ,-0.4000 ,-0.9630 ,-0.9114 ,-0.9110 ,-0.9107 ,-0.9874 ,-0.9616 ,-0.9104 ,-0.9868 ,-0.5000 ,-0.9094 ,-0.9861 ,-0.1667 ,-0.9087 ,-0.9077 ,-0.9074 ,-0.9072 ,-0.6000 ,-0.9067 ,-0.6250 ,-0.9061 ,-0.4444 ,-0.9051 ,-0.9048 ,-0.9044 ,-0.7500 ,-0.9802 ,-0.9021 ,-0.9788 ,-0.9524 ,-0.9775 ,-0.9769 ,-0.9768 ,-0.9767 ,-0.9766 ,-0.9765 ,-0.9764 ,-0.9763 ,-0.9762 ,-0.9761 ,-0.9760 ,-0.9759 ,-0.9755 ,-0.9754 ,-0.9752 ,-0.9749 ,-0.9491 ,-0.9745 ,-0.9742 ,-0.9740 ,-0.9484 ,-0.9739 ,-0.6667 ,-0.9738 ,-0.9993 ,-0.9737 ,-0.9991 ,-0.9735 ,-0.9990 ,-0.9734 ,-0.9478 ,-0.9989 ,-0.9733 ,-0.3333 ,-0.9988 ,-0.9732 ,-0.9220 ,-0.9987 ,-0.9731 ,-0.9730 ,-0.9474 ,-0.9985 ,-0.9729 ),\n",
    "    IOCnt_Skew_AvgPct           DECIMAL(9,4) COMPRESS (0.0000 ,-0.9984 ,-0.5000 ,-0.1667 ,-0.0833 ,-0.9995 ,-0.9993 ,-0.9992 ,-0.9991 ,-0.9990 ,-0.3333 ,-0.9987 ,-0.9986 ,-0.9985 ),\n",
    "    Run_ID  INTEGER COMPRESS 0 )\n",
    "PRIMARY INDEX ( Site_ID, LogTS )\n",
    "PARTITION BY (  COLUMN (Site_ID) ADD 10,\n",
    "                RANGE_N(cast(LogTS as DATE at LOCAL) \n",
    "                        BETWEEN DATE '2019-01-01'  AND DATE '2021-12-31' \n",
    "                        EACH INTERVAL '1' DAY,\n",
    "                NO RANGE OR UNKNOWN) );"
   ]
  },
  {
   "cell_type": "markdown",
   "metadata": {},
   "source": [
    "### TAL View"
   ]
  },
  {
   "cell_type": "code",
   "execution_count": 8,
   "metadata": {},
   "outputs": [
    {
     "data": {
      "text/plain": [
       "Success: 41 rows affected"
      ]
     },
     "execution_count": 8,
     "metadata": {
      "application/vnd.teradata.resultset": ""
     },
     "output_type": "execute_result"
    }
   ],
   "source": [
    "replace view adlste_coa.coa_dat_DBQL_Core\n",
    "as locking row for access\n",
    "select cast(LogTS as  DATE format 'yyyy-mm-dd') as LogDate, a.*\n",
    "from adlste_coa.coat_dat_DBQL_Core a;"
   ]
  },
  {
   "cell_type": "markdown",
   "metadata": {},
   "source": [
    "### Stored Proc:  sp_dat_DBQL_Core"
   ]
  },
  {
   "cell_type": "code",
   "execution_count": 9,
   "metadata": {},
   "outputs": [
    {
     "data": {
      "text/plain": [
       "Success: 0 rows affected"
      ]
     },
     "execution_count": 9,
     "metadata": {
      "application/vnd.teradata.resultset": ""
     },
     "output_type": "execute_result"
    }
   ],
   "source": [
    "REPLACE PROCEDURE adlste_coa.sp_dat_DBQL_Core( spversion VARCHAR(64) )\n",
    "SQL SECURITY Creator\n",
    "BEGIN\n",
    "\n",
    "    /* select out the SiteID from the stage table \n",
    "       allow for multiple SiteIDs, so need a cursor */\n",
    "\n",
    "    -- adlste_coa_STG.stg_dat_DBQL_Core\n",
    "    \n",
    "  DECLARE runid  INTEGER;\n",
    "  DECLARE parentrunid INTEGER;\n",
    "  DECLARE siteid VARCHAR(128);\n",
    "  DECLARE tablename VARCHAR(128);\n",
    "  DECLARE callingsp VARCHAR(128); \n",
    "  DECLARE startdate DATE;\n",
    "  DECLARE enddate DATE;\n",
    "  DECLARE SQL_ERROR_CODE INTEGER;\n",
    "  DECLARE SQL_STATE VARCHAR(5);\n",
    "  DECLARE ERROR_MESSAGE VARCHAR(256);\n",
    "  /*\n",
    "  DECLARE EXIT HANDLER FOR SqlException\n",
    "  BEGIN\n",
    "   \n",
    "     SET SQL_ERROR_CODE = SqlCode;\n",
    "     SET SQL_STATE = SqlState;\n",
    "     \n",
    "     GET DIAGNOSTICS EXCEPTION 1 ERROR_MESSAGE = Message_Text;\n",
    "     \n",
    "     CALL adlste_coa.sp_audit_log(:runid, :siteid, :tablename, :callingsp, :spversion, :startdate, :enddate, 'normal run', 'ERROR', :ERROR_MESSAGE );\n",
    "     \n",
    "  END;\n",
    "  */\n",
    "  \n",
    "  SET runid = 0;\n",
    "  SET parentrunid = 0 ;\n",
    "  SET tablename = 'adlste_coa.coat_dat_DBQL_core';\n",
    "  SET callingsp = 'adlste_coa.sp_dat_DBQL_core';\n",
    "  SET siteid = 'Empty Table';\n",
    "  \n",
    "  SELECT \n",
    "     Site_Id\n",
    "    ,Min(cast(LogTS as DATE)) AS StartDate\n",
    "    ,Max(cast(LogTS as DATE)) AS EndDate\n",
    "  INTO siteid, startdate, enddate\n",
    "  FROM adlste_coa_stg.stg_dat_DBQL_core \n",
    "  GROUP BY 1;\n",
    "   \n",
    "  CALL adlste_coa.sp_audit_log(:runid, :siteid, :tablename, :callingsp, :spversion, :startdate, :enddate, 'normal run', 'START', '');\n",
    "  SET parentrunid = runid;\n",
    "\n",
    "  /* end setup audit process */\n",
    "\n",
    "    DELETE FROM adlste_coa.coat_dat_DBQL_Core\n",
    "    WHERE   (Site_ID, LogTS) IN\n",
    "    (SELECT Site_ID, LogTS FROM adlste_coa_STG.stg_dat_DBQL_Core);\n",
    "\n",
    "    SET runid = parentrunid;\n",
    "    CALL adlste_coa.sp_audit_log(:runid, :siteid, :tablename, :callingsp, :spversion, :startdate, :enddate, \n",
    "                               'normal run', 'STEP', 'Removed existing records from coat_dat_DBQL_Core');\n",
    "\n",
    "    INSERT INTO adlste_coa.coat_dat_DBQL_Core\n",
    "    (Site_ID, LogTS, Total_AMPs                  \n",
    "    ,App_Bucket, Use_Bucket, Statement_Bucket, User_Bucket, User_Department, User_SubDepartment          \n",
    "    ,Request_Cnt, Query_Cnt, Query_MultiStatement_Cnt, Query_Error_Cnt, Query_Abort_Cnt, Query_NoIO_cnt\n",
    "    ,Query_InMem_Cnt, Query_PhysIO_Cnt, Query_Tactical_Cnt, Query_Complexity_Score_Avg    \n",
    "    ,Returned_Row_Cnt, DelayTime_Sec, Runtime_Parse_Sec, Runtime_AMP_Sec, Runtime_Total_Sec, TransferTime_Sec              \n",
    "    ,CPU_Parse_Sec, CPU_AMP_Sec, IOCntM_Physical, IOCntM_Total, IOGB_Physical, IOGB_Total, IOTA_Used_cntB                \n",
    "    ,NumOfActiveAMPs_Avg, Spool_GB, CacheHit_Pct, CPUSec_Skew_AvgPCt, IOCnt_Skew_AvgPct             \n",
    "    ,Run_ID)\n",
    "    SELECT \n",
    "     Site_ID, LogTS, Total_AMPs                  \n",
    "    ,App_Bucket, Use_Bucket, Statement_Bucket, User_Bucket, User_Department, User_SubDepartment          \n",
    "    ,Request_Cnt, Query_Cnt, Query_MultiStatement_Cnt, Query_Error_Cnt, Query_Abort_Cnt, Query_NoIO_cnt\n",
    "    ,Query_InMem_Cnt, Query_PhysIO_Cnt, Query_Tactical_Cnt, Query_Complexity_Score_Avg    \n",
    "    ,Returned_Row_Cnt, DelayTime_Sec, Runtime_Parse_Sec, Runtime_AMP_Sec, Runtime_Total_Sec, TransferTime_Sec              \n",
    "    ,CPU_Parse_Sec, CPU_AMP_Sec, IOCntM_Physical, IOCntM_Total, IOGB_Physical, IOGB_Total, IOTA_Used_cntB                \n",
    "    ,NumOfActiveAMPs_Avg, Spool_GB, CacheHit_Pct, CPUSec_Skew_AvgPCt, IOCnt_Skew_AvgPct             \n",
    "    ,:runid AS Run_ID\n",
    "    FROM adlste_coa_stg.stg_dat_DBQL_Core ;\n",
    "\n",
    "\n",
    "    SET runid = parentrunid;\n",
    "    CALL adlste_coa.sp_audit_log(:runid, :siteid, :tablename, :callingsp, :spversion, :startdate, :enddate, \n",
    "                               'normal run', 'STEP', 'Inserted stg into coat_dat_DBQL_Core');\n",
    "           \n",
    "    DELETE From adlste_coa_stg.stg_dat_DBQL_Core;\n",
    "         \n",
    "    SET runid = parentrunid;\n",
    "    CALL adlste_coa.sp_audit_log(:runid, :siteid, :tablename, :callingsp, :spversion, :startdate, :enddate, 'normal run', 'END', '');\n",
    "\n",
    "END;"
   ]
  },
  {
   "cell_type": "markdown",
   "metadata": {},
   "source": [
    "### Test"
   ]
  },
  {
   "cell_type": "code",
   "execution_count": null,
   "metadata": {},
   "outputs": [],
   "source": [
    "DELETE FROM adlste_coa_stg.stg_dat_DBQL_Core;\n",
    "insert into adlste_coa_stg.stg_dat_DBQL_Core\n",
    "SELECT\n",
    " 'test'  as Site_ID\n",
    ",cast(StartTime as char(13))||':00:00' as LogTS\n",
    ",cast(HashAmp()+1 as Integer) as Total_AMPs\n",
    ",'na' as App_Bucket\n",
    ",'na' as Use_Bucket\n",
    ",'na' as Statement_Bucket\n",
    ",'na' as User_Bucket\n",
    ",'na' as User_Department\n",
    ",'na' as User_SubDepartment\n",
    ",zeroifnull(cast(count(1) as BigInt)) as Request_Cnt\n",
    ",zeroifnull(sum(cast( dbql.Statements as BigInt))) as Query_Cnt\n",
    ",zeroifnull(sum(cast(case when dbql.StatementGroup like '%=%' then 1 else 0 end as SmallInt))) as Query_MultiStatement_Cnt\n",
    ",zeroifnull(sum(cast(case when dbql.ErrorCode not in(0,3158)      then dbql.Statements else 0 end as int))) as Query_Error_Cnt\n",
    ",zeroifnull(sum(cast(case when dbql.Abortflag = 'Y'               then dbql.Statements else 0 end as int))) as Query_Abort_Cnt\n",
    ",zeroifnull(sum(cast(case when TotalIOCount = 0                   then dbql.Statements else 0 end as int))) as Query_NoIO_cnt\n",
    ",zeroifnull(sum(cast(case when TotalIOCount > 0 AND ReqPhysIO = 0 then dbql.Statements else 0 end as int))) as Query_InMem_Cnt\n",
    ",zeroifnull(sum(cast(case when TotalIOCount > 0 AND ReqPhysIO > 0 then dbql.Statements else 0 end as int))) as Query_PhysIO_Cnt\n",
    ",123 as Query_Tactical_Cnt\n",
    ",12 as Query_Complexity_Score_Avg\n",
    ",zeroifnull(sum(cast(dbql.NumResultRows as BigInt) )) as Returned_Row_Cnt\n",
    ",sum(cast(dbql.DelayTime as decimal(18,2))) as DelayTime_Sec\n",
    ",sum(ZEROIFNULL(CAST(\n",
    "   (EXTRACT(HOUR   FROM ((FirstStepTime - StartTime) HOUR(3) TO SECOND(6)) ) * 3600)\n",
    "  +(EXTRACT(MINUTE FROM ((FirstStepTime - StartTime) HOUR(3) TO SECOND(6)) ) *   60)\n",
    "  +(EXTRACT(SECOND FROM ((FirstStepTime - StartTime) HOUR(3) TO SECOND(6)) ) *    1)\n",
    "   as FLOAT))) as RunTime_Parse_Sec\n",
    ",sum(ZEROIFNULL(CAST(\n",
    "   (EXTRACT(HOUR   FROM ((FirstRespTime - FirstStepTime) HOUR(3) TO SECOND(6)) ) * 3600)\n",
    "  +(EXTRACT(MINUTE FROM ((FirstRespTime - FirstStepTime) HOUR(3) TO SECOND(6)) ) *   60)\n",
    "  +(EXTRACT(SECOND FROM ((FirstRespTime - FirstStepTime) HOUR(3) TO SECOND(6)) ) *    1)\n",
    "   as FLOAT))) as Runtime_AMP_Sec\n",
    ",sum(TotalFirstRespTime)  as RunTime_Total_Sec\n",
    ",sum(ZEROIFNULL(CAST(\n",
    "   case when LastRespTime is not null then\n",
    "   (EXTRACT(HOUR   FROM ((LastRespTime - FirstRespTime) HOUR(3) TO SECOND(6)) ) * 3600)\n",
    "  +(EXTRACT(MINUTE FROM ((LastRespTime - FirstRespTime) HOUR(3) TO SECOND(6)) ) *   60)\n",
    "  +(EXTRACT(SECOND FROM ((LastRespTime - FirstRespTime) HOUR(3) TO SECOND(6)) ) *    1)\n",
    "  else 0 end as FLOAT))) AS TransferTime_Sec\n",
    ",zeroifnull(sum( cast(dbql.ParserCPUTime  as decimal(18,2)))) as CPU_Parse_Sec\n",
    ",zeroifnull(sum( cast(dbql.AMPCPUtime     as decimal(18,2)))) as CPU_AMP_Sec\n",
    ",zeroifnull(sum( cast(ReqPhysIO/1e6         as decimal(18,2)))) as IOCntM_Physical\n",
    ",zeroifnull(sum( cast(TotalIOCount/1e6      as decimal(18,2)))) as IOCntM_Total\n",
    ",zeroifnull(sum( cast(ReqPhysIOKB/1e6       as decimal(18,2)))) as IOGB_Physical\n",
    ",zeroifnull(sum( cast(ReqIOKB/1e6           as decimal(18,2)))) as IOGB_Total\n",
    ",zeroifnull(sum( cast(dbql.UsedIOTA/1e9     as decimal(18,2)))) as IOTA_Used_cntB\n",
    ",zeroifnull(avg(NumOfActiveAMPs)) as NumOfActiveAMPs_Avg\n",
    ",zeroifnull(sum(SpoolUsage/1e9))  as Spool_GB\n",
    ",zeroifnull(avg(SpoolUsage/1e9))  as Spool_GB_Avg\n",
    ",zeroifnull(avg(1-(ReqPhysIO/nullifzero(TotalIOCount)))) as CacheHit_Pct\n",
    ",zeroifnull(avg((AMPCPUTime / nullifzero(MaxAmpCPUTime*NumOfActiveAMPs))-1)) as CPUSec_Skew_AvgPCt\n",
    ",zeroifnull(avg((TotalIOCount / nullifzero(MaxAmpIO*NumOfActiveAMPs))-1) ) as IOCnt_Skew_AvgPct\n",
    "From  pdcrinfo.dbqlogtbl_hst as dbql\n",
    "where dbql.LogDate = DATE-2\n",
    "Group by\n",
    " LogTS\n",
    ",Site_ID;\n",
    "\n",
    "DELETE FROM adlste_coa.coat_dat_DBQL_Core where Site_ID='test' and cast(logTS as date)=DATE-2 ;"
   ]
  },
  {
   "cell_type": "code",
   "execution_count": null,
   "metadata": {},
   "outputs": [],
   "source": [
    "call adlste_coa.sp_dat_DBQL_Core('test')"
   ]
  },
  {
   "cell_type": "code",
   "execution_count": null,
   "metadata": {},
   "outputs": [],
   "source": [
    "SELECT * from adlste_coa.coa_dat_DBQL_Core where Site_ID='test' and cast(logTS as date)=DATE-2 order by 1,2 desc ;"
   ]
  },
  {
   "cell_type": "markdown",
   "metadata": {},
   "source": [
    "<br/><br/><br/><hr>\n",
    "## Master View: coa_DBQL_Core"
   ]
  },
  {
   "cell_type": "code",
   "execution_count": 2,
   "metadata": {},
   "outputs": [
    {
     "data": {
      "application/vnd.teradata.resultset": "[{\"Request Text\":\"REPLACE VIEW adlste_coa.coa_DBQL_Core AS\\rLOCKING ROW FOR ACCESS\\rSELECT \\r   DBQL.Row_Key\\r  ,DBQL.Site_Id\\r  ,DBQL.Site_Id AS Site_Name\\r  ,DBQL.LogTS\\r  ,Cust.GTM_Acct_Name\\r  ,Site.Account_Name\\r  ,Cust.Acct_Industry_Name\\r  ,Cust.Acct_Subindustry_Name\\r  ,Cust.Cust_Region_Desc\\r  ,Cust.Sls_Area_Name\\r  ,Cust.Strategic_Sgmnt_Cd\\r  ,Site.System_Use\\r  ,DBQL.App_Bucket\\r  ,DBQL.Use_Bucket\\r  ,DBQL.Statement_Bucket\\r  ,DBQL.User_Bucket\\r  ,DBQL.User_Department\\r  ,DBQL.User_SubDepartment                 \\r  ,DBQL.Total_AMPs                     \\r  ,DBQL.Query_Cnt\\r  ,DBQL.Query_MultiStatement_Cnt\\r  ,DBQL.Query_Error_Cnt                \\r  ,DBQL.Query_Abort_Cnt                \\r  ,DBQL.Query_NoIO_cnt                 \\r  ,DBQL.Query_InMem_Cnt                \\r  ,DBQL.Query_PhysIO_Cnt               \\r  ,DBQL.Request_Cnt                    \\r  ,DBQL.Query_Complexity_Score_Avg     \\r  ,DBQL.Returned_Row_Cnt               \\r  ,DBQL.DelayTime_Sec                  \\r  ,DBQL.Runtime_Parse_Sec              \\r  ,DBQL.Runtime_AMP_Sec                \\r  ,DBQL.Runtime_Total_Sec              \\r  ,DBQL.TransferTime_Sec               \\r  ,DBQL.CPU_Parse_Sec                  \\r  ,DBQL.CPU_AMP_Sec\\r  ,(DBQL.CPU_AMP_Sec + DBQL.CPU_Parse_Sec) AS CPU_Total_Sec\\r  ,DBQL.IOCntM_Physical                \\r  ,DBQL.IOCntM_Total                   \\r  ,DBQL.IOGB_Physical                  \\r  ,DBQL.IOGB_Total                     \\r  ,DBQL.IOTA_Used_cntB                             \\r  ,DBQL.NumOfActiveAMPs_Avg            \\r  ,DBQL.Spool_GB              \\r  ,DBQL.CPUSec_Skew_AvgPCt             \\r  ,DBQL.IOCnt_Skew_AvgPct\\rFROM adlste_coa.coa_dat_DBQL_Core DBQL\\r     LEFT JOIN adlste_coa.coa_dim_CIS_SiteID Site\\r        ON DBQL.Site_ID = Site.Site_ID\\r     LEFT JOIN adlste_coa.coa_mat_gtm_customer Cust\\r        ON Site.Cust_Number = Cust.Cust_Nbr;\"}]\n",
      "text/html": [
       "<div class = \"td-resultset-table-div\" style = \"max-height: 77px; overflow-y: auto\"><style> table {border: 1px solid rgb(207, 207, 207) !important; border-collapse: collapse !important; margin-top: 1px !important;} th {border: 1px solid rgb(198,198,198) !important; border-collapse: collapse !important; padding: 2px 5px !important; font-size: 13px !important; min-width:150px !important; max-width: 150px !important; white-space: nowrap !important; overflow:hidden !important; text-overflow:ellipsis !important;} tr:nth-child(even) {background: rgba(243, 243, 243, 0.75) !important;} td {border: 1px solid rgb(207, 207, 207) !important; border-collapse: collapse !important; padding: 2px 5px !important; font-size: 13px !important; min-width:150px !important; max-width: 150px !important; white-space: nowrap !important; overflow:hidden !important; text-overflow:ellipsis !important;}</style><table><thead><tr style= \"background: #efefef;\"><th>Request Text</th></tr></thead><tr><td>REPLACE VIEW adlste_coa.coa_DBQL_Core AS\r",
       "LOCKING ROW FOR ACCESS\r",
       "SELECT \r",
       "   DBQL.Row_Key\r",
       "  ,DBQL.Site_Id\r",
       "  ,DBQL.Site_Id AS Site_Name\r",
       "  ,DBQL.LogTS\r",
       "  ,Cust.</td></tr></table></div>"
      ]
     },
     "execution_count": 2,
     "metadata": {
      "application/vnd.teradata.resultset": "{\"resultSetID\":\"/home/jovyan/JupyterLabRoot/Teradata/Resultsets/2020.09.29_22.07.28.933_UTC\",\"historyID\":3901,\"chunkID\":\"00001\",\"sessionid\":\"\",\"portnum\":\"\",\"dockermode\":\"docker\",\"totalRowCount\":1,\"rowLimit\":0,\"columnMetadata\":[{\"columnName\":\"Request Text\",\"columnTypeName\":\"VARCHAR\",\"length\":1795,\"scale\":1795}]}"
     },
     "output_type": "execute_result"
    }
   ],
   "source": [
    "show view adlste_coa.coa_DBQL_Core"
   ]
  },
  {
   "cell_type": "code",
   "execution_count": 3,
   "metadata": {},
   "outputs": [
    {
     "data": {
      "text/plain": [
       "Success: 47 rows affected"
      ]
     },
     "execution_count": 3,
     "metadata": {
      "application/vnd.teradata.resultset": ""
     },
     "output_type": "execute_result"
    }
   ],
   "source": [
    "REPLACE VIEW adlste_coa.coa_DBQL_Core AS LOCKING ROW FOR ACCESS \n",
    "SELECT\n",
    "  DBQL.Row_Key\n",
    " ,DBQL.Site_Id\n",
    " ,DBQL.Site_Id AS Site_Name\n",
    " ,DBQL.LogTS\n",
    " ,Cust.GTM_Acct_Name\n",
    " ,Site.Account_Name\n",
    " ,Cust.Acct_Industry_Name\n",
    " ,Cust.Acct_Subindustry_Name\n",
    " ,Cust.Cust_Region_Desc\n",
    " ,Cust.Sls_Area_Name\n",
    " ,Cust.Strategic_Sgmnt_Cd\n",
    " ,Site.System_Use\n",
    " ,DBQL.App_Bucket\n",
    " ,DBQL.Use_Bucket\n",
    " ,DBQL.Statement_Bucket\n",
    " ,DBQL.User_Bucket\n",
    " ,DBQL.User_Department\n",
    " ,DBQL.User_SubDepartment\n",
    " ,DBQL.Total_AMPs\n",
    " ,DBQL.Query_Cnt\n",
    " ,DBQL.Query_MultiStatement_Cnt\n",
    " ,DBQL.Query_Error_Cnt\n",
    " ,DBQL.Query_Abort_Cnt\n",
    " ,DBQL.Query_NoIO_cnt\n",
    " ,DBQL.Query_InMem_Cnt\n",
    " ,DBQL.Query_PhysIO_Cnt\n",
    " ,DBQL.Request_Cnt\n",
    " ,DBQL.Query_Complexity_Score_Avg\n",
    " ,DBQL.Returned_Row_Cnt\n",
    " ,DBQL.DelayTime_Sec\n",
    " ,DBQL.Runtime_Parse_Sec\n",
    " ,DBQL.Runtime_AMP_Sec\n",
    " ,DBQL.Runtime_Total_Sec\n",
    " ,DBQL.TransferTime_Sec\n",
    " ,DBQL.CPU_Parse_Sec\n",
    " ,DBQL.CPU_AMP_Sec\n",
    " ,(DBQL.CPU_AMP_Sec + DBQL.CPU_Parse_Sec) AS CPU_Total_Sec\n",
    " ,DBQL.IOCntM_Physical\n",
    " ,DBQL.IOCntM_Total\n",
    " ,DBQL.IOGB_Physical\n",
    " ,DBQL.IOGB_Total\n",
    " ,DBQL.IOTA_Used_cntB\n",
    " ,DBQL.NumOfActiveAMPs_Avg\n",
    " ,DBQL.Spool_GB\n",
    " ,DBQL.CPUSec_Skew_AvgPCt\n",
    " ,DBQL.IOCnt_Skew_AvgPct \n",
    " ,DBQL.Run_ID\n",
    "FROM adlste_coa.coa_dat_DBQL_Core DBQL \n",
    "LEFT JOIN adlste_coa.coa_dim_CIS_SiteID Site \n",
    "  ON DBQL.Site_ID = Site.Site_ID \n",
    "LEFT JOIN adlste_coa.coa_mat_gtm_customer Cust \n",
    "  ON Site.Cust_Number = Cust.Cust_Nbr;"
   ]
  },
  {
   "cell_type": "code",
   "execution_count": 4,
   "metadata": {},
   "outputs": [
    {
     "data": {
      "application/vnd.teradata.resultset": "[{\"Account_Name\":\"Apple, Inc.\",\"App_Bucket\":\"TTU\",\"CPUSec_Skew_AvgPCt\":\".0000\",\"CPU_AMP_Sec\":\".0000\",\"CPU_Parse_Sec\":\"7.7500\",\"CPU_Total_Sec\":\"7.7500\",\"DelayTime_Sec\":\"\",\"IOCntM_Physical\":\"0\",\"IOCntM_Total\":\"0\",\"IOCnt_Skew_AvgPct\":\".0000\",\"IOGB_Physical\":\".0000\",\"IOGB_Total\":\".0000\",\"IOTA_Used_cntB\":\".0000\",\"LogTS\":\"2020-04-09 19:00:00-04:00\",\"NumOfActiveAMPs_Avg\":\"1.0000\",\"Query_Abort_Cnt\":\"0\",\"Query_Cnt\":\"234\",\"Query_Complexity_Score_Avg\":\"1.0000\",\"Query_Error_Cnt\":\"0\",\"Query_InMem_Cnt\":\"234\",\"Query_MultiStatement_Cnt\":\"0\",\"Query_NoIO_cnt\":\"0\",\"Query_PhysIO_Cnt\":\"0\",\"Request_Cnt\":\"234\",\"Returned_Row_Cnt\":\"0\",\"Row_Key\":\"4748701\",\"Run_ID\":\"629\",\"Runtime_AMP_Sec\":\"2.0200\",\"Runtime_Parse_Sec\":\"8.7300\",\"Runtime_Total_Sec\":\"10.7500\",\"Site_ID\":\"APPLE57CRESCENT\",\"Site_Name\":\"APPLE57CRESCENT\",\"Spool_GB\":\".0000\",\"Statement_Bucket\":\"Admin\",\"System_Use\":\"Production\",\"Total_AMPs\":\"1680\",\"TransferTime_Sec\":\".0200\",\"Use_Bucket\":\"Stream\",\"User_Bucket\":\"CORE ETL\",\"User_Department\":\"ITUNES\",\"User_SubDepartment\":\"ITUNES\",\"acct_industry_name\":\"Manufacturing\",\"acct_subindustry_name\":\"Software\",\"cust_region_desc\":\"Americas\",\"gtm_acct_name\":\"Apple, Inc.\",\"sls_area_name\":\"West\",\"strategic_sgmnt_cd\":\"Hyperscale Architect\"},{\"Account_Name\":\"Apple, Inc.\",\"App_Bucket\":\"BTEQ\",\"CPUSec_Skew_AvgPCt\":\"-.8241\",\"CPU_AMP_Sec\":\"19.9000\",\"CPU_Parse_Sec\":\".2200\",\"CPU_Total_Sec\":\"20.1200\",\"DelayTime_Sec\":\"\",\"IOCntM_Physical\":\"0\",\"IOCntM_Total\":\"0\",\"IOCnt_Skew_AvgPct\":\"-.2867\",\"IOGB_Physical\":\".0000\",\"IOGB_Total\":\"17.2100\",\"IOTA_Used_cntB\":\".0000\",\"LogTS\":\"2020-03-28 17:00:00-04:00\",\"NumOfActiveAMPs_Avg\":\"108.4839\",\"Query_Abort_Cnt\":\"0\",\"Query_Cnt\":\"186\",\"Query_Complexity_Score_Avg\":\".4839\",\"Query_Error_Cnt\":\"0\",\"Query_InMem_Cnt\":\"4\",\"Query_MultiStatement_Cnt\":\"0\",\"Query_NoIO_cnt\":\"156\",\"Query_PhysIO_Cnt\":\"26\",\"Request_Cnt\":\"186\",\"Returned_Row_Cnt\":\"547\",\"Row_Key\":\"1134070\",\"Run_ID\":\"629\",\"Runtime_AMP_Sec\":\"1.0000\",\"Runtime_Parse_Sec\":\".3300\",\"Runtime_Total_Sec\":\"1.3300\",\"Site_ID\":\"APPLE57CRESCENT\",\"Site_Name\":\"APPLE57CRESCENT\",\"Spool_GB\":\".0005\",\"Statement_Bucket\":\"Select\",\"System_Use\":\"Production\",\"Total_AMPs\":\"1680\",\"TransferTime_Sec\":\".0300\",\"Use_Bucket\":\"ETL\",\"User_Bucket\":\"SEMANTIC\",\"User_Department\":\"SALESOPS\",\"User_SubDepartment\":\"RETAIL\",\"acct_industry_name\":\"Manufacturing\",\"acct_subindustry_name\":\"Software\",\"cust_region_desc\":\"Americas\",\"gtm_acct_name\":\"Apple, Inc.\",\"sls_area_name\":\"West\",\"strategic_sgmnt_cd\":\"Hyperscale Architect\"},{\"Account_Name\":\"Apple, Inc.\",\"App_Bucket\":\"BTEQ\",\"CPUSec_Skew_AvgPCt\":\"-.8455\",\"CPU_AMP_Sec\":\"902.6900\",\"CPU_Parse_Sec\":\".6200\",\"CPU_Total_Sec\":\"903.3100\",\"DelayTime_Sec\":\"\",\"IOCntM_Physical\":\"1\",\"IOCntM_Total\":\"6\",\"IOCnt_Skew_AvgPct\":\"-.3218\",\"IOGB_Physical\":\"138.3600\",\"IOGB_Total\":\"444.4000\",\"IOTA_Used_cntB\":\"1696.9200\",\"LogTS\":\"2020-04-06 08:00:00-04:00\",\"NumOfActiveAMPs_Avg\":\"1680.0000\",\"Query_Abort_Cnt\":\"0\",\"Query_Cnt\":\"19\",\"Query_Complexity_Score_Avg\":\"8.7024\",\"Query_Error_Cnt\":\"0\",\"Query_InMem_Cnt\":\"10\",\"Query_MultiStatement_Cnt\":\"0\",\"Query_NoIO_cnt\":\"0\",\"Query_PhysIO_Cnt\":\"9\",\"Request_Cnt\":\"19\",\"Returned_Row_Cnt\":\"0\",\"Row_Key\":\"5131700\",\"Run_ID\":\"629\",\"Runtime_AMP_Sec\":\"7.8500\",\"Runtime_Parse_Sec\":\".8100\",\"Runtime_Total_Sec\":\"8.6600\",\"Site_ID\":\"APPLE57CRESCENT\",\"Site_Name\":\"APPLE57CRESCENT\",\"Spool_GB\":\"9.8091\",\"Statement_Bucket\":\"Merge/Update/Delete\",\"System_Use\":\"Production\",\"Total_AMPs\":\"1680\",\"TransferTime_Sec\":\".0000\",\"Use_Bucket\":\"ETL\",\"User_Bucket\":\"ADHOC\",\"User_Department\":\"SYSTEM\",\"User_SubDepartment\":\"SYSTEM\",\"acct_industry_name\":\"Manufacturing\",\"acct_subindustry_name\":\"Software\",\"cust_region_desc\":\"Americas\",\"gtm_acct_name\":\"Apple, Inc.\",\"sls_area_name\":\"West\",\"strategic_sgmnt_cd\":\"Hyperscale Architect\"},{\"Account_Name\":\"Apple, Inc.\",\"App_Bucket\":\"JDBC\",\"CPUSec_Skew_AvgPCt\":\".0000\",\"CPU_AMP_Sec\":\".0000\",\"CPU_Parse_Sec\":\".0800\",\"CPU_Total_Sec\":\".0800\",\"DelayTime_Sec\":\"\",\"IOCntM_Physical\":\"0\",\"IOCntM_Total\":\"0\",\"IOCnt_Skew_AvgPct\":\"-.3333\",\"IOGB_Physical\":\".0000\",\"IOGB_Total\":\".0000\",\"IOTA_Used_cntB\":\".0000\",\"LogTS\":\"2020-04-05 15:00:00-04:00\",\"NumOfActiveAMPs_Avg\":\"3.0000\",\"Query_Abort_Cnt\":\"0\",\"Query_Cnt\":\"2\",\"Query_Complexity_Score_Avg\":\"3.0000\",\"Query_Error_Cnt\":\"0\",\"Query_InMem_Cnt\":\"2\",\"Query_MultiStatement_Cnt\":\"0\",\"Query_NoIO_cnt\":\"0\",\"Query_PhysIO_Cnt\":\"0\",\"Request_Cnt\":\"2\",\"Returned_Row_Cnt\":\"0\",\"Row_Key\":\"7031890\",\"Run_ID\":\"629\",\"Runtime_AMP_Sec\":\".0200\",\"Runtime_Parse_Sec\":\".0900\",\"Runtime_Total_Sec\":\".1100\",\"Site_ID\":\"APPLE57CRESCENT\",\"Site_Name\":\"APPLE57CRESCENT\",\"Spool_GB\":\".0000\",\"Statement_Bucket\":\"Other\",\"System_Use\":\"Production\",\"Total_AMPs\":\"1680\",\"TransferTime_Sec\":\".0000\",\"Use_Bucket\":\"Application\",\"User_Bucket\":\"BOBJ\",\"User_Department\":\"SALESOPS\",\"User_SubDepartment\":\"OPS\",\"acct_industry_name\":\"Manufacturing\",\"acct_subindustry_name\":\"Software\",\"cust_region_desc\":\"Americas\",\"gtm_acct_name\":\"Apple, Inc.\",\"sls_area_name\":\"West\",\"strategic_sgmnt_cd\":\"Hyperscale Architect\"},{\"Account_Name\":\"Apple, Inc.\",\"App_Bucket\":\"BTEQ\",\"CPUSec_Skew_AvgPCt\":\"-.9853\",\"CPU_AMP_Sec\":\"13.7400\",\"CPU_Parse_Sec\":\".6000\",\"CPU_Total_Sec\":\"14.3400\",\"DelayTime_Sec\":\"\",\"IOCntM_Physical\":\"0\",\"IOCntM_Total\":\"0\",\"IOCnt_Skew_AvgPct\":\"-.9370\",\"IOGB_Physical\":\".0500\",\"IOGB_Total\":\"12.3100\",\"IOTA_Used_cntB\":\".1700\",\"LogTS\":\"2020-04-20 22:00:00-04:00\",\"NumOfActiveAMPs_Avg\":\"1680.0000\",\"Query_Abort_Cnt\":\"0\",\"Query_Cnt\":\"12\",\"Query_Complexity_Score_Avg\":\"8.7500\",\"Query_Error_Cnt\":\"0\",\"Query_InMem_Cnt\":\"0\",\"Query_MultiStatement_Cnt\":\"0\",\"Query_NoIO_cnt\":\"0\",\"Query_PhysIO_Cnt\":\"12\",\"Request_Cnt\":\"12\",\"Returned_Row_Cnt\":\"0\",\"Row_Key\":\"3537377\",\"Run_ID\":\"629\",\"Runtime_AMP_Sec\":\"4.6900\",\"Runtime_Parse_Sec\":\"1.4400\",\"Runtime_Total_Sec\":\"6.1300\",\"Site_ID\":\"APPLE57CRESCENT\",\"Site_Name\":\"APPLE57CRESCENT\",\"Spool_GB\":\".0547\",\"Statement_Bucket\":\"Collect Stats\",\"System_Use\":\"Production\",\"Total_AMPs\":\"1680\",\"TransferTime_Sec\":\".0100\",\"Use_Bucket\":\"ETL\",\"User_Bucket\":\"SEMANTIC\",\"User_Department\":\"SALESOPS\",\"User_SubDepartment\":\"RETAIL\",\"acct_industry_name\":\"Manufacturing\",\"acct_subindustry_name\":\"Software\",\"cust_region_desc\":\"Americas\",\"gtm_acct_name\":\"Apple, Inc.\",\"sls_area_name\":\"West\",\"strategic_sgmnt_cd\":\"Hyperscale Architect\"},{\"Account_Name\":\"Apple, Inc.\",\"App_Bucket\":\"BTEQ\",\"CPUSec_Skew_AvgPCt\":\"-.7025\",\"CPU_AMP_Sec\":\"862.3300\",\"CPU_Parse_Sec\":\"1.6500\",\"CPU_Total_Sec\":\"863.9800\",\"DelayTime_Sec\":\"\",\"IOCntM_Physical\":\"9\",\"IOCntM_Total\":\"11\",\"IOCnt_Skew_AvgPct\":\"-.2741\",\"IOGB_Physical\":\"628.2900\",\"IOGB_Total\":\"773.4300\",\"IOTA_Used_cntB\":\"3060.2900\",\"LogTS\":\"2020-05-04 10:00:00-04:00\",\"NumOfActiveAMPs_Avg\":\"505.6994\",\"Query_Abort_Cnt\":\"0\",\"Query_Cnt\":\"71\",\"Query_Complexity_Score_Avg\":\"2.3274\",\"Query_Error_Cnt\":\"0\",\"Query_InMem_Cnt\":\"0\",\"Query_MultiStatement_Cnt\":\"0\",\"Query_NoIO_cnt\":\"51\",\"Query_PhysIO_Cnt\":\"20\",\"Request_Cnt\":\"71\",\"Returned_Row_Cnt\":\"0\",\"Row_Key\":\"9328740\",\"Run_ID\":\"629\",\"Runtime_AMP_Sec\":\"16.1400\",\"Runtime_Parse_Sec\":\"2.1600\",\"Runtime_Total_Sec\":\"18.3000\",\"Site_ID\":\"APPLE57CRESCENT\",\"Site_Name\":\"APPLE57CRESCENT\",\"Spool_GB\":\".5474\",\"Statement_Bucket\":\"Insert\",\"System_Use\":\"Production\",\"Total_AMPs\":\"1680\",\"TransferTime_Sec\":\".0300\",\"Use_Bucket\":\"ETL\",\"User_Bucket\":\"CORE ETL\",\"User_Department\":\"SALESOPS\",\"User_SubDepartment\":\"FINANCE\",\"acct_industry_name\":\"Manufacturing\",\"acct_subindustry_name\":\"Software\",\"cust_region_desc\":\"Americas\",\"gtm_acct_name\":\"Apple, Inc.\",\"sls_area_name\":\"West\",\"strategic_sgmnt_cd\":\"Hyperscale Architect\"},{\"Account_Name\":\"Apple, Inc.\",\"App_Bucket\":\"TTU\",\"CPUSec_Skew_AvgPCt\":\".7672\",\"CPU_AMP_Sec\":\".5700\",\"CPU_Parse_Sec\":\".6200\",\"CPU_Total_Sec\":\"1.1900\",\"DelayTime_Sec\":\"\",\"IOCntM_Physical\":\"0\",\"IOCntM_Total\":\"0\",\"IOCnt_Skew_AvgPct\":\"94.2403\",\"IOGB_Physical\":\".0000\",\"IOGB_Total\":\".0200\",\"IOTA_Used_cntB\":\".0000\",\"LogTS\":\"2020-03-27 20:00:00-04:00\",\"NumOfActiveAMPs_Avg\":\".8907\",\"Query_Abort_Cnt\":\"0\",\"Query_Cnt\":\"92\",\"Query_Complexity_Score_Avg\":\"121.1512\",\"Query_Error_Cnt\":\"0\",\"Query_InMem_Cnt\":\"73\",\"Query_MultiStatement_Cnt\":\"0\",\"Query_NoIO_cnt\":\"18\",\"Query_PhysIO_Cnt\":\"1\",\"Request_Cnt\":\"92\",\"Returned_Row_Cnt\":\"0\",\"Row_Key\":\"2216714\",\"Run_ID\":\"629\",\"Runtime_AMP_Sec\":\"76.7600\",\"Runtime_Parse_Sec\":\".9300\",\"Runtime_Total_Sec\":\"77.6900\",\"Site_ID\":\"APPLE57CRESCENT\",\"Site_Name\":\"APPLE57CRESCENT\",\"Spool_GB\":\".0000\",\"Statement_Bucket\":\"Insert\",\"System_Use\":\"Production\",\"Total_AMPs\":\"1680\",\"TransferTime_Sec\":\".0400\",\"Use_Bucket\":\"Stream\",\"User_Bucket\":\"SEMANTIC\",\"User_Department\":\"ITUNES\",\"User_SubDepartment\":\"ITUNES\",\"acct_industry_name\":\"Manufacturing\",\"acct_subindustry_name\":\"Software\",\"cust_region_desc\":\"Americas\",\"gtm_acct_name\":\"Apple, Inc.\",\"sls_area_name\":\"West\",\"strategic_sgmnt_cd\":\"Hyperscale Architect\"},{\"Account_Name\":\"Apple, Inc.\",\"App_Bucket\":\"JDBC\",\"CPUSec_Skew_AvgPCt\":\"-.3939\",\"CPU_AMP_Sec\":\".5500\",\"CPU_Parse_Sec\":\".0200\",\"CPU_Total_Sec\":\".5700\",\"DelayTime_Sec\":\"\",\"IOCntM_Physical\":\"0\",\"IOCntM_Total\":\"0\",\"IOCnt_Skew_AvgPct\":\"-.1780\",\"IOGB_Physical\":\".0000\",\"IOGB_Total\":\"1.2600\",\"IOTA_Used_cntB\":\".0000\",\"LogTS\":\"2020-03-30 06:00:00-04:00\",\"NumOfActiveAMPs_Avg\":\"672.0000\",\"Query_Abort_Cnt\":\"0\",\"Query_Cnt\":\"9\",\"Query_Complexity_Score_Avg\":\"1.2000\",\"Query_Error_Cnt\":\"2\",\"Query_InMem_Cnt\":\"0\",\"Query_MultiStatement_Cnt\":\"0\",\"Query_NoIO_cnt\":\"7\",\"Query_PhysIO_Cnt\":\"2\",\"Request_Cnt\":\"9\",\"Returned_Row_Cnt\":\"8\",\"Row_Key\":\"11120385\",\"Run_ID\":\"629\",\"Runtime_AMP_Sec\":\".0700\",\"Runtime_Parse_Sec\":\".1800\",\"Runtime_Total_Sec\":\".2500\",\"Site_ID\":\"APPLE57CRESCENT\",\"Site_Name\":\"APPLE57CRESCENT\",\"Spool_GB\":\".0002\",\"Statement_Bucket\":\"Other\",\"System_Use\":\"Production\",\"Total_AMPs\":\"1680\",\"TransferTime_Sec\":\"1.8000\",\"Use_Bucket\":\"Application\",\"User_Bucket\":\"ADHOC\",\"User_Department\":\"SALESOPS\",\"User_SubDepartment\":\"OPS\",\"acct_industry_name\":\"Manufacturing\",\"acct_subindustry_name\":\"Software\",\"cust_region_desc\":\"Americas\",\"gtm_acct_name\":\"Apple, Inc.\",\"sls_area_name\":\"West\",\"strategic_sgmnt_cd\":\"Hyperscale Architect\"},{\"Account_Name\":\"Apple, Inc.\",\"App_Bucket\":\"TTU\",\"CPUSec_Skew_AvgPCt\":\"-.2497\",\"CPU_AMP_Sec\":\".0100\",\"CPU_Parse_Sec\":\".0900\",\"CPU_Total_Sec\":\".1000\",\"DelayTime_Sec\":\"\",\"IOCntM_Physical\":\"0\",\"IOCntM_Total\":\"0\",\"IOCnt_Skew_AvgPct\":\".0000\",\"IOGB_Physical\":\".0000\",\"IOGB_Total\":\".0000\",\"IOTA_Used_cntB\":\".0000\",\"LogTS\":\"2020-03-29 09:00:00-04:00\",\"NumOfActiveAMPs_Avg\":\"420.0000\",\"Query_Abort_Cnt\":\"0\",\"Query_Cnt\":\"15\",\"Query_Complexity_Score_Avg\":\".5000\",\"Query_Error_Cnt\":\"0\",\"Query_InMem_Cnt\":\"0\",\"Query_MultiStatement_Cnt\":\"0\",\"Query_NoIO_cnt\":\"15\",\"Query_PhysIO_Cnt\":\"0\",\"Request_Cnt\":\"12\",\"Returned_Row_Cnt\":\"0\",\"Row_Key\":\"3527068\",\"Run_ID\":\"629\",\"Runtime_AMP_Sec\":\".0100\",\"Runtime_Parse_Sec\":\".1200\",\"Runtime_Total_Sec\":\".1300\",\"Site_ID\":\"APPLE57CRESCENT\",\"Site_Name\":\"APPLE57CRESCENT\",\"Spool_GB\":\".0000\",\"Statement_Bucket\":\"Other\",\"System_Use\":\"Production\",\"Total_AMPs\":\"1680\",\"TransferTime_Sec\":\".0900\",\"Use_Bucket\":\"Export\",\"User_Bucket\":\"ADHOC\",\"User_Department\":\"SYSTEM\",\"User_SubDepartment\":\"SYSTEM\",\"acct_industry_name\":\"Manufacturing\",\"acct_subindustry_name\":\"Software\",\"cust_region_desc\":\"Americas\",\"gtm_acct_name\":\"Apple, Inc.\",\"sls_area_name\":\"West\",\"strategic_sgmnt_cd\":\"Hyperscale Architect\"},{\"Account_Name\":\"Apple, Inc.\",\"App_Bucket\":\"Python\",\"CPUSec_Skew_AvgPCt\":\".0000\",\"CPU_AMP_Sec\":\".0000\",\"CPU_Parse_Sec\":\".0600\",\"CPU_Total_Sec\":\".0600\",\"DelayTime_Sec\":\"\",\"IOCntM_Physical\":\"0\",\"IOCntM_Total\":\"0\",\"IOCnt_Skew_AvgPct\":\".0000\",\"IOGB_Physical\":\".0000\",\"IOGB_Total\":\".0000\",\"IOTA_Used_cntB\":\".0000\",\"LogTS\":\"2020-04-25 00:00:00-04:00\",\"NumOfActiveAMPs_Avg\":\".0000\",\"Query_Abort_Cnt\":\"0\",\"Query_Cnt\":\"31\",\"Query_Complexity_Score_Avg\":\".0000\",\"Query_Error_Cnt\":\"1\",\"Query_InMem_Cnt\":\"0\",\"Query_MultiStatement_Cnt\":\"0\",\"Query_NoIO_cnt\":\"31\",\"Query_PhysIO_Cnt\":\"0\",\"Request_Cnt\":\"31\",\"Returned_Row_Cnt\":\"0\",\"Row_Key\":\"2015843\",\"Run_ID\":\"629\",\"Runtime_AMP_Sec\":\".0100\",\"Runtime_Parse_Sec\":\".2700\",\"Runtime_Total_Sec\":\".2800\",\"Site_ID\":\"APPLE57CRESCENT\",\"Site_Name\":\"APPLE57CRESCENT\",\"Spool_GB\":\".0000\",\"Statement_Bucket\":\"Select\",\"System_Use\":\"Production\",\"Total_AMPs\":\"1680\",\"TransferTime_Sec\":\".0000\",\"Use_Bucket\":\"Analytic\",\"User_Bucket\":\"ADHOC\",\"User_Department\":\"SALESOPS\",\"User_SubDepartment\":\"OPS\",\"acct_industry_name\":\"Manufacturing\",\"acct_subindustry_name\":\"Software\",\"cust_region_desc\":\"Americas\",\"gtm_acct_name\":\"Apple, Inc.\",\"sls_area_name\":\"West\",\"strategic_sgmnt_cd\":\"Hyperscale Architect\"},{\"Account_Name\":\"Apple, Inc.\",\"App_Bucket\":\"TTU\",\"CPUSec_Skew_AvgPCt\":\"-.9880\",\"CPU_AMP_Sec\":\"43.9100\",\"CPU_Parse_Sec\":\".8200\",\"CPU_Total_Sec\":\"44.7300\",\"DelayTime_Sec\":\"\",\"IOCntM_Physical\":\"0\",\"IOCntM_Total\":\"4\",\"IOCnt_Skew_AvgPct\":\"-.5604\",\"IOGB_Physical\":\".0400\",\"IOGB_Total\":\"101.4600\",\"IOTA_Used_cntB\":\"9.9600\",\"LogTS\":\"2020-04-16 14:00:00-04:00\",\"NumOfActiveAMPs_Avg\":\"1680.0000\",\"Query_Abort_Cnt\":\"0\",\"Query_Cnt\":\"522\",\"Query_Complexity_Score_Avg\":\"4.0000\",\"Query_Error_Cnt\":\"0\",\"Query_InMem_Cnt\":\"89\",\"Query_MultiStatement_Cnt\":\"87\",\"Query_NoIO_cnt\":\"0\",\"Query_PhysIO_Cnt\":\"433\",\"Request_Cnt\":\"435\",\"Returned_Row_Cnt\":\"0\",\"Row_Key\":\"12606066\",\"Run_ID\":\"629\",\"Runtime_AMP_Sec\":\"47.0900\",\"Runtime_Parse_Sec\":\"2.3600\",\"Runtime_Total_Sec\":\"49.4500\",\"Site_ID\":\"APPLE57CRESCENT\",\"Site_Name\":\"APPLE57CRESCENT\",\"Spool_GB\":\".0000\",\"Statement_Bucket\":\"Merge/Update/Delete\",\"System_Use\":\"Production\",\"Total_AMPs\":\"1680\",\"TransferTime_Sec\":\".1000\",\"Use_Bucket\":\"Stream\",\"User_Bucket\":\"CORE ETL\",\"User_Department\":\"SALESOPS\",\"User_SubDepartment\":\"OPS\",\"acct_industry_name\":\"Manufacturing\",\"acct_subindustry_name\":\"Software\",\"cust_region_desc\":\"Americas\",\"gtm_acct_name\":\"Apple, Inc.\",\"sls_area_name\":\"West\",\"strategic_sgmnt_cd\":\"Hyperscale Architect\"},{\"Account_Name\":\"Apple, Inc.\",\"App_Bucket\":\"JDBC\",\"CPUSec_Skew_AvgPCt\":\"-.4932\",\"CPU_AMP_Sec\":\"482609.2400\",\"CPU_Parse_Sec\":\"84.1600\",\"CPU_Total_Sec\":\"482693.4000\",\"DelayTime_Sec\":\"326.1200\",\"IOCntM_Physical\":\"314\",\"IOCntM_Total\":\"1797\",\"IOCnt_Skew_AvgPct\":\"-.2714\",\"IOGB_Physical\":\"98424.5400\",\"IOGB_Total\":\"179028.3900\",\"IOTA_Used_cntB\":\"71996.8300\",\"LogTS\":\"2020-04-13 10:00:00-04:00\",\"NumOfActiveAMPs_Avg\":\"939.5876\",\"Query_Abort_Cnt\":\"0\",\"Query_Cnt\":\"462\",\"Query_Complexity_Score_Avg\":\"11.5157\",\"Query_Error_Cnt\":\"8\",\"Query_InMem_Cnt\":\"146\",\"Query_MultiStatement_Cnt\":\"0\",\"Query_NoIO_cnt\":\"190\",\"Query_PhysIO_Cnt\":\"126\",\"Request_Cnt\":\"462\",\"Returned_Row_Cnt\":\"743339715\",\"Row_Key\":\"9426920\",\"Run_ID\":\"629\",\"Runtime_AMP_Sec\":\"864.1000\",\"Runtime_Parse_Sec\":\"420.9800\",\"Runtime_Total_Sec\":\"1285.0800\",\"Site_ID\":\"APPLE57CRESCENT\",\"Site_Name\":\"APPLE57CRESCENT\",\"Spool_GB\":\"3663.7265\",\"Statement_Bucket\":\"Select\",\"System_Use\":\"Production\",\"Total_AMPs\":\"1680\",\"TransferTime_Sec\":\"16701.7500\",\"Use_Bucket\":\"Application\",\"User_Bucket\":\"ADHOC\",\"User_Department\":\"iTunes\",\"User_SubDepartment\":\"iTunes\",\"acct_industry_name\":\"Manufacturing\",\"acct_subindustry_name\":\"Software\",\"cust_region_desc\":\"Americas\",\"gtm_acct_name\":\"Apple, Inc.\",\"sls_area_name\":\"West\",\"strategic_sgmnt_cd\":\"Hyperscale Architect\"},{\"Account_Name\":\"Apple, Inc.\",\"App_Bucket\":\"JDBC\",\"CPUSec_Skew_AvgPCt\":\"-.9503\",\"CPU_AMP_Sec\":\"2.1400\",\"CPU_Parse_Sec\":\".1600\",\"CPU_Total_Sec\":\"2.3000\",\"DelayTime_Sec\":\"\",\"IOCntM_Physical\":\"0\",\"IOCntM_Total\":\"0\",\"IOCnt_Skew_AvgPct\":\"-.3563\",\"IOGB_Physical\":\".0000\",\"IOGB_Total\":\"4.8400\",\"IOTA_Used_cntB\":\".0000\",\"LogTS\":\"2020-04-30 07:00:00-04:00\",\"NumOfActiveAMPs_Avg\":\"840.0000\",\"Query_Abort_Cnt\":\"0\",\"Query_Cnt\":\"8\",\"Query_Complexity_Score_Avg\":\"1.5000\",\"Query_Error_Cnt\":\"0\",\"Query_InMem_Cnt\":\"4\",\"Query_MultiStatement_Cnt\":\"0\",\"Query_NoIO_cnt\":\"4\",\"Query_PhysIO_Cnt\":\"0\",\"Request_Cnt\":\"8\",\"Returned_Row_Cnt\":\"0\",\"Row_Key\":\"3543242\",\"Run_ID\":\"629\",\"Runtime_AMP_Sec\":\".1500\",\"Runtime_Parse_Sec\":\".2100\",\"Runtime_Total_Sec\":\".3600\",\"Site_ID\":\"APPLE57CRESCENT\",\"Site_Name\":\"APPLE57CRESCENT\",\"Spool_GB\":\".0000\",\"Statement_Bucket\":\"Merge/Update/Delete\",\"System_Use\":\"Production\",\"Total_AMPs\":\"1680\",\"TransferTime_Sec\":\".0000\",\"Use_Bucket\":\"Application\",\"User_Bucket\":\"SYSTEM\",\"User_Department\":\"SYSTEM\",\"User_SubDepartment\":\"SYSTEM\",\"acct_industry_name\":\"Manufacturing\",\"acct_subindustry_name\":\"Software\",\"cust_region_desc\":\"Americas\",\"gtm_acct_name\":\"Apple, Inc.\",\"sls_area_name\":\"West\",\"strategic_sgmnt_cd\":\"Hyperscale Architect\"},{\"Account_Name\":\"Apple, Inc.\",\"App_Bucket\":\"BTEQ\",\"CPUSec_Skew_AvgPCt\":\"-.3254\",\"CPU_AMP_Sec\":\"3.9200\",\"CPU_Parse_Sec\":\".7500\",\"CPU_Total_Sec\":\"4.6700\",\"DelayTime_Sec\":\"\",\"IOCntM_Physical\":\"0\",\"IOCntM_Total\":\"0\",\"IOCnt_Skew_AvgPct\":\"-.3278\",\"IOGB_Physical\":\".0000\",\"IOGB_Total\":\".1100\",\"IOTA_Used_cntB\":\".0400\",\"LogTS\":\"2020-04-14 06:00:00-04:00\",\"NumOfActiveAMPs_Avg\":\"560.0000\",\"Query_Abort_Cnt\":\"0\",\"Query_Cnt\":\"68\",\"Query_Complexity_Score_Avg\":\".0000\",\"Query_Error_Cnt\":\"0\",\"Query_InMem_Cnt\":\"2\",\"Query_MultiStatement_Cnt\":\"0\",\"Query_NoIO_cnt\":\"64\",\"Query_PhysIO_Cnt\":\"2\",\"Request_Cnt\":\"68\",\"Returned_Row_Cnt\":\"0\",\"Row_Key\":\"4227220\",\"Run_ID\":\"629\",\"Runtime_AMP_Sec\":\".8200\",\"Runtime_Parse_Sec\":\".8500\",\"Runtime_Total_Sec\":\"1.6700\",\"Site_ID\":\"APPLE57CRESCENT\",\"Site_Name\":\"APPLE57CRESCENT\",\"Spool_GB\":\".0000\",\"Statement_Bucket\":\"Other\",\"System_Use\":\"Production\",\"Total_AMPs\":\"1680\",\"TransferTime_Sec\":\".0300\",\"Use_Bucket\":\"ETL\",\"User_Bucket\":\"SEMANTIC\",\"User_Department\":\"SALESOPS\",\"User_SubDepartment\":\"OPS\",\"acct_industry_name\":\"Manufacturing\",\"acct_subindustry_name\":\"Software\",\"cust_region_desc\":\"Americas\",\"gtm_acct_name\":\"Apple, Inc.\",\"sls_area_name\":\"West\",\"strategic_sgmnt_cd\":\"Hyperscale Architect\"},{\"Account_Name\":\"Apple, Inc.\",\"App_Bucket\":\"BTEQ\",\"CPUSec_Skew_AvgPCt\":\"-.2696\",\"CPU_AMP_Sec\":\"151.7900\",\"CPU_Parse_Sec\":\".1700\",\"CPU_Total_Sec\":\"151.9600\",\"DelayTime_Sec\":\"\",\"IOCntM_Physical\":\"1\",\"IOCntM_Total\":\"1\",\"IOCnt_Skew_AvgPct\":\"-.0447\",\"IOGB_Physical\":\"102.2900\",\"IOGB_Total\":\"124.8700\",\"IOTA_Used_cntB\":\"231.3900\",\"LogTS\":\"2020-04-05 10:00:00-04:00\",\"NumOfActiveAMPs_Avg\":\"420.7500\",\"Query_Abort_Cnt\":\"0\",\"Query_Cnt\":\"8\",\"Query_Complexity_Score_Avg\":\"2.8750\",\"Query_Error_Cnt\":\"0\",\"Query_InMem_Cnt\":\"5\",\"Query_MultiStatement_Cnt\":\"0\",\"Query_NoIO_cnt\":\"0\",\"Query_PhysIO_Cnt\":\"3\",\"Request_Cnt\":\"8\",\"Returned_Row_Cnt\":\"0\",\"Row_Key\":\"6222641\",\"Run_ID\":\"629\",\"Runtime_AMP_Sec\":\"2.8900\",\"Runtime_Parse_Sec\":\".2200\",\"Runtime_Total_Sec\":\"3.1100\",\"Site_ID\":\"APPLE57CRESCENT\",\"Site_Name\":\"APPLE57CRESCENT\",\"Spool_GB\":\".0683\",\"Statement_Bucket\":\"Insert\",\"System_Use\":\"Production\",\"Total_AMPs\":\"1680\",\"TransferTime_Sec\":\".0000\",\"Use_Bucket\":\"ETL\",\"User_Bucket\":\"DATA_ENG\",\"User_Department\":\"ITUNES\",\"User_SubDepartment\":\"ITUNES\",\"acct_industry_name\":\"Manufacturing\",\"acct_subindustry_name\":\"Software\",\"cust_region_desc\":\"Americas\",\"gtm_acct_name\":\"Apple, Inc.\",\"sls_area_name\":\"West\",\"strategic_sgmnt_cd\":\"Hyperscale Architect\"},{\"Account_Name\":\"Apple, Inc.\",\"App_Bucket\":\"BTEQ\",\"CPUSec_Skew_AvgPCt\":\"-.9830\",\"CPU_AMP_Sec\":\"45188.6100\",\"CPU_Parse_Sec\":\"20.4000\",\"CPU_Total_Sec\":\"45209.0100\",\"DelayTime_Sec\":\"\",\"IOCntM_Physical\":\"0\",\"IOCntM_Total\":\"136\",\"IOCnt_Skew_AvgPct\":\"-.9407\",\"IOGB_Physical\":\"10.9000\",\"IOGB_Total\":\"14472.8700\",\"IOTA_Used_cntB\":\"155.5300\",\"LogTS\":\"2020-04-04 10:00:00-04:00\",\"NumOfActiveAMPs_Avg\":\"1680.0000\",\"Query_Abort_Cnt\":\"0\",\"Query_Cnt\":\"540\",\"Query_Complexity_Score_Avg\":\"9.0226\",\"Query_Error_Cnt\":\"0\",\"Query_InMem_Cnt\":\"0\",\"Query_MultiStatement_Cnt\":\"0\",\"Query_NoIO_cnt\":\"0\",\"Query_PhysIO_Cnt\":\"540\",\"Request_Cnt\":\"540\",\"Returned_Row_Cnt\":\"0\",\"Row_Key\":\"14125962\",\"Run_ID\":\"629\",\"Runtime_AMP_Sec\":\"384.0400\",\"Runtime_Parse_Sec\":\"29.9400\",\"Runtime_Total_Sec\":\"413.9800\",\"Site_ID\":\"APPLE57CRESCENT\",\"Site_Name\":\"APPLE57CRESCENT\",\"Spool_GB\":\"843.9164\",\"Statement_Bucket\":\"Collect Stats\",\"System_Use\":\"Production\",\"Total_AMPs\":\"1680\",\"TransferTime_Sec\":\".3500\",\"Use_Bucket\":\"ETL\",\"User_Bucket\":\"CORE ETL\",\"User_Department\":\"ITUNES\",\"User_SubDepartment\":\"ITUNES\",\"acct_industry_name\":\"Manufacturing\",\"acct_subindustry_name\":\"Software\",\"cust_region_desc\":\"Americas\",\"gtm_acct_name\":\"Apple, Inc.\",\"sls_area_name\":\"West\",\"strategic_sgmnt_cd\":\"Hyperscale Architect\"},{\"Account_Name\":\"Apple, Inc.\",\"App_Bucket\":\"TTU\",\"CPUSec_Skew_AvgPCt\":\".0000\",\"CPU_AMP_Sec\":\".0000\",\"CPU_Parse_Sec\":\".0200\",\"CPU_Total_Sec\":\".0200\",\"DelayTime_Sec\":\"\",\"IOCntM_Physical\":\"0\",\"IOCntM_Total\":\"0\",\"IOCnt_Skew_AvgPct\":\".0000\",\"IOGB_Physical\":\".0000\",\"IOGB_Total\":\".0000\",\"IOTA_Used_cntB\":\".0000\",\"LogTS\":\"2020-03-31 06:00:00-04:00\",\"NumOfActiveAMPs_Avg\":\".0000\",\"Query_Abort_Cnt\":\"0\",\"Query_Cnt\":\"2\",\"Query_Complexity_Score_Avg\":\".0000\",\"Query_Error_Cnt\":\"0\",\"Query_InMem_Cnt\":\"0\",\"Query_MultiStatement_Cnt\":\"0\",\"Query_NoIO_cnt\":\"2\",\"Query_PhysIO_Cnt\":\"0\",\"Request_Cnt\":\"2\",\"Returned_Row_Cnt\":\"0\",\"Row_Key\":\"12923742\",\"Run_ID\":\"629\",\"Runtime_AMP_Sec\":\".0000\",\"Runtime_Parse_Sec\":\".0700\",\"Runtime_Total_Sec\":\".0700\",\"Site_ID\":\"APPLE57CRESCENT\",\"Site_Name\":\"APPLE57CRESCENT\",\"Spool_GB\":\".0000\",\"Statement_Bucket\":\"Select\",\"System_Use\":\"Production\",\"Total_AMPs\":\"1680\",\"TransferTime_Sec\":\".0000\",\"Use_Bucket\":\"ETL\",\"User_Bucket\":\"SEMANTIC\",\"User_Department\":\"MARKETING\",\"User_SubDepartment\":\"MARKETING\",\"acct_industry_name\":\"Manufacturing\",\"acct_subindustry_name\":\"Software\",\"cust_region_desc\":\"Americas\",\"gtm_acct_name\":\"Apple, Inc.\",\"sls_area_name\":\"West\",\"strategic_sgmnt_cd\":\"Hyperscale Architect\"},{\"Account_Name\":\"Apple, Inc.\",\"App_Bucket\":\"TTU\",\"CPUSec_Skew_AvgPCt\":\".9540\",\"CPU_AMP_Sec\":\"4.0800\",\"CPU_Parse_Sec\":\"1.9700\",\"CPU_Total_Sec\":\"6.0500\",\"DelayTime_Sec\":\"\",\"IOCntM_Physical\":\"0\",\"IOCntM_Total\":\"0\",\"IOCnt_Skew_AvgPct\":\"59.9378\",\"IOGB_Physical\":\".0000\",\"IOGB_Total\":\".0000\",\"IOTA_Used_cntB\":\".0000\",\"LogTS\":\"2020-04-02 13:00:00-04:00\",\"NumOfActiveAMPs_Avg\":\".8529\",\"Query_Abort_Cnt\":\"0\",\"Query_Cnt\":\"390\",\"Query_Complexity_Score_Avg\":\"67.2737\",\"Query_Error_Cnt\":\"0\",\"Query_InMem_Cnt\":\"312\",\"Query_MultiStatement_Cnt\":\"0\",\"Query_NoIO_cnt\":\"78\",\"Query_PhysIO_Cnt\":\"0\",\"Request_Cnt\":\"390\",\"Returned_Row_Cnt\":\"0\",\"Row_Key\":\"5419198\",\"Run_ID\":\"629\",\"Runtime_AMP_Sec\":\"247.2500\",\"Runtime_Parse_Sec\":\"3.8400\",\"Runtime_Total_Sec\":\"251.0900\",\"Site_ID\":\"APPLE57CRESCENT\",\"Site_Name\":\"APPLE57CRESCENT\",\"Spool_GB\":\".0000\",\"Statement_Bucket\":\"Insert\",\"System_Use\":\"Production\",\"Total_AMPs\":\"1680\",\"TransferTime_Sec\":\".0600\",\"Use_Bucket\":\"Stream\",\"User_Bucket\":\"CORE ETL\",\"User_Department\":\"SALESOPS\",\"User_SubDepartment\":\"SALES\",\"acct_industry_name\":\"Manufacturing\",\"acct_subindustry_name\":\"Software\",\"cust_region_desc\":\"Americas\",\"gtm_acct_name\":\"Apple, Inc.\",\"sls_area_name\":\"West\",\"strategic_sgmnt_cd\":\"Hyperscale Architect\"},{\"Account_Name\":\"Apple, Inc.\",\"App_Bucket\":\"Python\",\"CPUSec_Skew_AvgPCt\":\"-.4202\",\"CPU_AMP_Sec\":\"9.5300\",\"CPU_Parse_Sec\":\".2500\",\"CPU_Total_Sec\":\"9.7800\",\"DelayTime_Sec\":\"\",\"IOCntM_Physical\":\"0\",\"IOCntM_Total\":\"0\",\"IOCnt_Skew_AvgPct\":\".0000\",\"IOGB_Physical\":\".0000\",\"IOGB_Total\":\".0000\",\"IOTA_Used_cntB\":\".0000\",\"LogTS\":\"2020-04-25 06:00:00-04:00\",\"NumOfActiveAMPs_Avg\":\"840.5000\",\"Query_Abort_Cnt\":\"0\",\"Query_Cnt\":\"16\",\"Query_Complexity_Score_Avg\":\".5000\",\"Query_Error_Cnt\":\"8\",\"Query_InMem_Cnt\":\"8\",\"Query_MultiStatement_Cnt\":\"0\",\"Query_NoIO_cnt\":\"8\",\"Query_PhysIO_Cnt\":\"0\",\"Request_Cnt\":\"16\",\"Returned_Row_Cnt\":\"0\",\"Row_Key\":\"10826040\",\"Run_ID\":\"629\",\"Runtime_AMP_Sec\":\".1700\",\"Runtime_Parse_Sec\":\".2800\",\"Runtime_Total_Sec\":\".4500\",\"Site_ID\":\"APPLE57CRESCENT\",\"Site_Name\":\"APPLE57CRESCENT\",\"Spool_GB\":\".0000\",\"Statement_Bucket\":\"Admin\",\"System_Use\":\"Production\",\"Total_AMPs\":\"1680\",\"TransferTime_Sec\":\".2800\",\"Use_Bucket\":\"Analytic\",\"User_Bucket\":\"SEMANTIC\",\"User_Department\":\"ITUNES\",\"User_SubDepartment\":\"ITUNES\",\"acct_industry_name\":\"Manufacturing\",\"acct_subindustry_name\":\"Software\",\"cust_region_desc\":\"Americas\",\"gtm_acct_name\":\"Apple, Inc.\",\"sls_area_name\":\"West\",\"strategic_sgmnt_cd\":\"Hyperscale Architect\"},{\"Account_Name\":\"Apple, Inc.\",\"App_Bucket\":\"BTEQ\",\"CPUSec_Skew_AvgPCt\":\"-.1862\",\"CPU_AMP_Sec\":\"9.8700\",\"CPU_Parse_Sec\":\"7.8100\",\"CPU_Total_Sec\":\"17.6800\",\"DelayTime_Sec\":\"\",\"IOCntM_Physical\":\"0\",\"IOCntM_Total\":\"0\",\"IOCnt_Skew_AvgPct\":\"-.0768\",\"IOGB_Physical\":\".0000\",\"IOGB_Total\":\".0100\",\"IOTA_Used_cntB\":\".0000\",\"LogTS\":\"2020-03-30 07:00:00-04:00\",\"NumOfActiveAMPs_Avg\":\"323.0769\",\"Query_Abort_Cnt\":\"0\",\"Query_Cnt\":\"316\",\"Query_Complexity_Score_Avg\":\".0000\",\"Query_Error_Cnt\":\"0\",\"Query_InMem_Cnt\":\"2\",\"Query_MultiStatement_Cnt\":\"0\",\"Query_NoIO_cnt\":\"307\",\"Query_PhysIO_Cnt\":\"7\",\"Request_Cnt\":\"317\",\"Returned_Row_Cnt\":\"0\",\"Row_Key\":\"3924883\",\"Run_ID\":\"629\",\"Runtime_AMP_Sec\":\"1.9600\",\"Runtime_Parse_Sec\":\"8.6000\",\"Runtime_Total_Sec\":\"10.5600\",\"Site_ID\":\"APPLE57CRESCENT\",\"Site_Name\":\"APPLE57CRESCENT\",\"Spool_GB\":\".0000\",\"Statement_Bucket\":\"Other\",\"System_Use\":\"Production\",\"Total_AMPs\":\"1680\",\"TransferTime_Sec\":\".0400\",\"Use_Bucket\":\"ETL\",\"User_Bucket\":\"SEMANTIC\",\"User_Department\":\"ITUNES\",\"User_SubDepartment\":\"ITUNES\",\"acct_industry_name\":\"Manufacturing\",\"acct_subindustry_name\":\"Software\",\"cust_region_desc\":\"Americas\",\"gtm_acct_name\":\"Apple, Inc.\",\"sls_area_name\":\"West\",\"strategic_sgmnt_cd\":\"Hyperscale Architect\"},{\"Account_Name\":\"Apple, Inc.\",\"App_Bucket\":\"BTEQ\",\"CPUSec_Skew_AvgPCt\":\"-.8836\",\"CPU_AMP_Sec\":\"324.0700\",\"CPU_Parse_Sec\":\"5.2300\",\"CPU_Total_Sec\":\"329.3000\",\"DelayTime_Sec\":\"\",\"IOCntM_Physical\":\"0\",\"IOCntM_Total\":\"5\",\"IOCnt_Skew_AvgPct\":\"-.4159\",\"IOGB_Physical\":\"1.0700\",\"IOGB_Total\":\"300.0800\",\"IOTA_Used_cntB\":\"8.4900\",\"LogTS\":\"2020-04-04 19:00:00-04:00\",\"NumOfActiveAMPs_Avg\":\"253.6993\",\"Query_Abort_Cnt\":\"0\",\"Query_Cnt\":\"1492\",\"Query_Complexity_Score_Avg\":\".9847\",\"Query_Error_Cnt\":\"0\",\"Query_InMem_Cnt\":\"195\",\"Query_MultiStatement_Cnt\":\"0\",\"Query_NoIO_cnt\":\"1124\",\"Query_PhysIO_Cnt\":\"173\",\"Request_Cnt\":\"1492\",\"Returned_Row_Cnt\":\"2398\",\"Row_Key\":\"4227955\",\"Run_ID\":\"629\",\"Runtime_AMP_Sec\":\"16.9500\",\"Runtime_Parse_Sec\":\"7.0300\",\"Runtime_Total_Sec\":\"23.9800\",\"Site_ID\":\"APPLE57CRESCENT\",\"Site_Name\":\"APPLE57CRESCENT\",\"Spool_GB\":\".0077\",\"Statement_Bucket\":\"Select\",\"System_Use\":\"Production\",\"Total_AMPs\":\"1680\",\"TransferTime_Sec\":\".6800\",\"Use_Bucket\":\"ETL\",\"User_Bucket\":\"CORE ETL\",\"User_Department\":\"APPLECARE\",\"User_SubDepartment\":\"AC REPAIR\",\"acct_industry_name\":\"Manufacturing\",\"acct_subindustry_name\":\"Software\",\"cust_region_desc\":\"Americas\",\"gtm_acct_name\":\"Apple, Inc.\",\"sls_area_name\":\"West\",\"strategic_sgmnt_cd\":\"Hyperscale Architect\"},{\"Account_Name\":\"Apple, Inc.\",\"App_Bucket\":\"BTEQ\",\"CPUSec_Skew_AvgPCt\":\"-.7068\",\"CPU_AMP_Sec\":\"148.1500\",\"CPU_Parse_Sec\":\".4100\",\"CPU_Total_Sec\":\"148.5600\",\"DelayTime_Sec\":\"\",\"IOCntM_Physical\":\"0\",\"IOCntM_Total\":\"2\",\"IOCnt_Skew_AvgPct\":\"-.3503\",\"IOGB_Physical\":\"28.2100\",\"IOGB_Total\":\"165.2500\",\"IOTA_Used_cntB\":\"370.8200\",\"LogTS\":\"2020-04-06 04:00:00-04:00\",\"NumOfActiveAMPs_Avg\":\"811.5517\",\"Query_Abort_Cnt\":\"0\",\"Query_Cnt\":\"29\",\"Query_Complexity_Score_Avg\":\"2.9310\",\"Query_Error_Cnt\":\"0\",\"Query_InMem_Cnt\":\"1\",\"Query_MultiStatement_Cnt\":\"0\",\"Query_NoIO_cnt\":\"15\",\"Query_PhysIO_Cnt\":\"13\",\"Request_Cnt\":\"29\",\"Returned_Row_Cnt\":\"0\",\"Row_Key\":\"10614706\",\"Run_ID\":\"629\",\"Runtime_AMP_Sec\":\"3.5600\",\"Runtime_Parse_Sec\":\".6000\",\"Runtime_Total_Sec\":\"4.1600\",\"Site_ID\":\"APPLE57CRESCENT\",\"Site_Name\":\"APPLE57CRESCENT\",\"Spool_GB\":\"3.1037\",\"Statement_Bucket\":\"Insert\",\"System_Use\":\"Production\",\"Total_AMPs\":\"1680\",\"TransferTime_Sec\":\".0000\",\"Use_Bucket\":\"ETL\",\"User_Bucket\":\"SEMANTIC\",\"User_Department\":\"SALESOPS\",\"User_SubDepartment\":\"RETAIL\",\"acct_industry_name\":\"Manufacturing\",\"acct_subindustry_name\":\"Software\",\"cust_region_desc\":\"Americas\",\"gtm_acct_name\":\"Apple, Inc.\",\"sls_area_name\":\"West\",\"strategic_sgmnt_cd\":\"Hyperscale Architect\"},{\"Account_Name\":\"Apple, Inc.\",\"App_Bucket\":\"JDBC\",\"CPUSec_Skew_AvgPCt\":\"-.3257\",\"CPU_AMP_Sec\":\".4600\",\"CPU_Parse_Sec\":\".0000\",\"CPU_Total_Sec\":\".4600\",\"DelayTime_Sec\":\"\",\"IOCntM_Physical\":\"0\",\"IOCntM_Total\":\"0\",\"IOCnt_Skew_AvgPct\":\".0000\",\"IOGB_Physical\":\".0000\",\"IOGB_Total\":\".0000\",\"IOTA_Used_cntB\":\".0000\",\"LogTS\":\"2020-04-17 09:00:00-04:00\",\"NumOfActiveAMPs_Avg\":\"420.0000\",\"Query_Abort_Cnt\":\"0\",\"Query_Cnt\":\"7\",\"Query_Complexity_Score_Avg\":\".0000\",\"Query_Error_Cnt\":\"1\",\"Query_InMem_Cnt\":\"0\",\"Query_MultiStatement_Cnt\":\"0\",\"Query_NoIO_cnt\":\"7\",\"Query_PhysIO_Cnt\":\"0\",\"Request_Cnt\":\"8\",\"Returned_Row_Cnt\":\"0\",\"Row_Key\":\"10829689\",\"Run_ID\":\"629\",\"Runtime_AMP_Sec\":\".8700\",\"Runtime_Parse_Sec\":\".0000\",\"Runtime_Total_Sec\":\".8700\",\"Site_ID\":\"APPLE57CRESCENT\",\"Site_Name\":\"APPLE57CRESCENT\",\"Spool_GB\":\".0000\",\"Statement_Bucket\":\"Other\",\"System_Use\":\"Production\",\"Total_AMPs\":\"1680\",\"TransferTime_Sec\":\".0000\",\"Use_Bucket\":\"Application\",\"User_Bucket\":\"ADHOC\",\"User_Department\":\"SALESOPS\",\"User_SubDepartment\":\"OPS\",\"acct_industry_name\":\"Manufacturing\",\"acct_subindustry_name\":\"Software\",\"cust_region_desc\":\"Americas\",\"gtm_acct_name\":\"Apple, Inc.\",\"sls_area_name\":\"West\",\"strategic_sgmnt_cd\":\"Hyperscale Architect\"},{\"Account_Name\":\"Apple, Inc.\",\"App_Bucket\":\"BTEQ\",\"CPUSec_Skew_AvgPCt\":\"-.6699\",\"CPU_AMP_Sec\":\"5.7200\",\"CPU_Parse_Sec\":\".1200\",\"CPU_Total_Sec\":\"5.8400\",\"DelayTime_Sec\":\"\",\"IOCntM_Physical\":\"0\",\"IOCntM_Total\":\"0\",\"IOCnt_Skew_AvgPct\":\"-.2061\",\"IOGB_Physical\":\".0000\",\"IOGB_Total\":\"3.9200\",\"IOTA_Used_cntB\":\".0000\",\"LogTS\":\"2020-04-02 00:00:00-04:00\",\"NumOfActiveAMPs_Avg\":\"103.0000\",\"Query_Abort_Cnt\":\"0\",\"Query_Cnt\":\"49\",\"Query_Complexity_Score_Avg\":\".5102\",\"Query_Error_Cnt\":\"0\",\"Query_InMem_Cnt\":\"5\",\"Query_MultiStatement_Cnt\":\"0\",\"Query_NoIO_cnt\":\"39\",\"Query_PhysIO_Cnt\":\"5\",\"Request_Cnt\":\"49\",\"Returned_Row_Cnt\":\"133\",\"Row_Key\":\"6215132\",\"Run_ID\":\"629\",\"Runtime_AMP_Sec\":\".2700\",\"Runtime_Parse_Sec\":\".1800\",\"Runtime_Total_Sec\":\".4500\",\"Site_ID\":\"APPLE57CRESCENT\",\"Site_Name\":\"APPLE57CRESCENT\",\"Spool_GB\":\".0002\",\"Statement_Bucket\":\"Select\",\"System_Use\":\"Production\",\"Total_AMPs\":\"1680\",\"TransferTime_Sec\":\".0100\",\"Use_Bucket\":\"ETL\",\"User_Bucket\":\"OUTBOUND\",\"User_Department\":\"SALESOPS\",\"User_SubDepartment\":\"OPS\",\"acct_industry_name\":\"Manufacturing\",\"acct_subindustry_name\":\"Software\",\"cust_region_desc\":\"Americas\",\"gtm_acct_name\":\"Apple, Inc.\",\"sls_area_name\":\"West\",\"strategic_sgmnt_cd\":\"Hyperscale Architect\"},{\"Account_Name\":\"Apple, Inc.\",\"App_Bucket\":\"BTEQ\",\"CPUSec_Skew_AvgPCt\":\"-.5809\",\"CPU_AMP_Sec\":\"72714.0000\",\"CPU_Parse_Sec\":\"3.3800\",\"CPU_Total_Sec\":\"72717.3800\",\"DelayTime_Sec\":\"\",\"IOCntM_Physical\":\"105\",\"IOCntM_Total\":\"454\",\"IOCnt_Skew_AvgPct\":\"-.3690\",\"IOGB_Physical\":\"19729.4000\",\"IOGB_Total\":\"52730.2500\",\"IOTA_Used_cntB\":\"326.2400\",\"LogTS\":\"2020-04-05 09:00:00-04:00\",\"NumOfActiveAMPs_Avg\":\"1560.0714\",\"Query_Abort_Cnt\":\"0\",\"Query_Cnt\":\"8\",\"Query_Complexity_Score_Avg\":\"18.1429\",\"Query_Error_Cnt\":\"0\",\"Query_InMem_Cnt\":\"2\",\"Query_MultiStatement_Cnt\":\"0\",\"Query_NoIO_cnt\":\"1\",\"Query_PhysIO_Cnt\":\"5\",\"Request_Cnt\":\"8\",\"Returned_Row_Cnt\":\"0\",\"Row_Key\":\"10146519\",\"Run_ID\":\"629\",\"Runtime_AMP_Sec\":\"145.2000\",\"Runtime_Parse_Sec\":\"3.5600\",\"Runtime_Total_Sec\":\"148.7600\",\"Site_ID\":\"APPLE57CRESCENT\",\"Site_Name\":\"APPLE57CRESCENT\",\"Spool_GB\":\"1880.4974\",\"Statement_Bucket\":\"Insert\",\"System_Use\":\"Production\",\"Total_AMPs\":\"1680\",\"TransferTime_Sec\":\".0000\",\"Use_Bucket\":\"ETL\",\"User_Bucket\":\"ADHOC\",\"User_Department\":\"iTunes\",\"User_SubDepartment\":\"iTunes\",\"acct_industry_name\":\"Manufacturing\",\"acct_subindustry_name\":\"Software\",\"cust_region_desc\":\"Americas\",\"gtm_acct_name\":\"Apple, Inc.\",\"sls_area_name\":\"West\",\"strategic_sgmnt_cd\":\"Hyperscale Architect\"},{\"Account_Name\":\"Apple, Inc.\",\"App_Bucket\":\"TTU\",\"CPUSec_Skew_AvgPCt\":\"-.9890\",\"CPU_AMP_Sec\":\"6.3000\",\"CPU_Parse_Sec\":\".1200\",\"CPU_Total_Sec\":\"6.4200\",\"DelayTime_Sec\":\"\",\"IOCntM_Physical\":\"0\",\"IOCntM_Total\":\"0\",\"IOCnt_Skew_AvgPct\":\"-.5695\",\"IOGB_Physical\":\".0000\",\"IOGB_Total\":\"18.4400\",\"IOTA_Used_cntB\":\".9400\",\"LogTS\":\"2020-04-12 07:00:00-04:00\",\"NumOfActiveAMPs_Avg\":\"1680.0000\",\"Query_Abort_Cnt\":\"0\",\"Query_Cnt\":\"96\",\"Query_Complexity_Score_Avg\":\"4.0000\",\"Query_Error_Cnt\":\"0\",\"Query_InMem_Cnt\":\"16\",\"Query_MultiStatement_Cnt\":\"16\",\"Query_NoIO_cnt\":\"0\",\"Query_PhysIO_Cnt\":\"80\",\"Request_Cnt\":\"80\",\"Returned_Row_Cnt\":\"0\",\"Row_Key\":\"11230446\",\"Run_ID\":\"629\",\"Runtime_AMP_Sec\":\"1.8600\",\"Runtime_Parse_Sec\":\".3700\",\"Runtime_Total_Sec\":\"2.2300\",\"Site_ID\":\"APPLE57CRESCENT\",\"Site_Name\":\"APPLE57CRESCENT\",\"Spool_GB\":\".0000\",\"Statement_Bucket\":\"Merge/Update/Delete\",\"System_Use\":\"Production\",\"Total_AMPs\":\"1680\",\"TransferTime_Sec\":\".0200\",\"Use_Bucket\":\"Stream\",\"User_Bucket\":\"CORE ETL\",\"User_Department\":\"SALESOPS\",\"User_SubDepartment\":\"SALES\",\"acct_industry_name\":\"Manufacturing\",\"acct_subindustry_name\":\"Software\",\"cust_region_desc\":\"Americas\",\"gtm_acct_name\":\"Apple, Inc.\",\"sls_area_name\":\"West\",\"strategic_sgmnt_cd\":\"Hyperscale Architect\"},{\"Account_Name\":\"Apple, Inc.\",\"App_Bucket\":\"JDBC\",\"CPUSec_Skew_AvgPCt\":\".0000\",\"CPU_AMP_Sec\":\".0000\",\"CPU_Parse_Sec\":\".0000\",\"CPU_Total_Sec\":\".0000\",\"DelayTime_Sec\":\"\",\"IOCntM_Physical\":\"0\",\"IOCntM_Total\":\"0\",\"IOCnt_Skew_AvgPct\":\".0000\",\"IOGB_Physical\":\".0000\",\"IOGB_Total\":\".0000\",\"IOTA_Used_cntB\":\".0000\",\"LogTS\":\"2020-05-12 13:00:00-04:00\",\"NumOfActiveAMPs_Avg\":\".0000\",\"Query_Abort_Cnt\":\"0\",\"Query_Cnt\":\"59\",\"Query_Complexity_Score_Avg\":\".0000\",\"Query_Error_Cnt\":\"0\",\"Query_InMem_Cnt\":\"0\",\"Query_MultiStatement_Cnt\":\"0\",\"Query_NoIO_cnt\":\"59\",\"Query_PhysIO_Cnt\":\"0\",\"Request_Cnt\":\"59\",\"Returned_Row_Cnt\":\"0\",\"Row_Key\":\"3539741\",\"Run_ID\":\"629\",\"Runtime_AMP_Sec\":\".0000\",\"Runtime_Parse_Sec\":\".0200\",\"Runtime_Total_Sec\":\".0200\",\"Site_ID\":\"APPLE57CRESCENT\",\"Site_Name\":\"APPLE57CRESCENT\",\"Spool_GB\":\".0000\",\"Statement_Bucket\":\"Select\",\"System_Use\":\"Production\",\"Total_AMPs\":\"1680\",\"TransferTime_Sec\":\".0000\",\"Use_Bucket\":\"Application\",\"User_Bucket\":\"ADHOC\",\"User_Department\":\"LEGAL_HOLD\",\"User_SubDepartment\":\"LEGAL_HOLD\",\"acct_industry_name\":\"Manufacturing\",\"acct_subindustry_name\":\"Software\",\"cust_region_desc\":\"Americas\",\"gtm_acct_name\":\"Apple, Inc.\",\"sls_area_name\":\"West\",\"strategic_sgmnt_cd\":\"Hyperscale Architect\"},{\"Account_Name\":\"Apple, Inc.\",\"App_Bucket\":\"BTEQ\",\"CPUSec_Skew_AvgPCt\":\".0000\",\"CPU_AMP_Sec\":\".0000\",\"CPU_Parse_Sec\":\".2600\",\"CPU_Total_Sec\":\".2600\",\"DelayTime_Sec\":\"\",\"IOCntM_Physical\":\"0\",\"IOCntM_Total\":\"0\",\"IOCnt_Skew_AvgPct\":\".0000\",\"IOGB_Physical\":\".0000\",\"IOGB_Total\":\".0000\",\"IOTA_Used_cntB\":\".0000\",\"LogTS\":\"2020-04-19 18:00:00-04:00\",\"NumOfActiveAMPs_Avg\":\".0000\",\"Query_Abort_Cnt\":\"0\",\"Query_Cnt\":\"76\",\"Query_Complexity_Score_Avg\":\".7776\",\"Query_Error_Cnt\":\"0\",\"Query_InMem_Cnt\":\"0\",\"Query_MultiStatement_Cnt\":\"0\",\"Query_NoIO_cnt\":\"76\",\"Query_PhysIO_Cnt\":\"0\",\"Request_Cnt\":\"76\",\"Returned_Row_Cnt\":\"0\",\"Row_Key\":\"2628670\",\"Run_ID\":\"629\",\"Runtime_AMP_Sec\":\"54.3100\",\"Runtime_Parse_Sec\":\".9100\",\"Runtime_Total_Sec\":\"55.2200\",\"Site_ID\":\"APPLE57CRESCENT\",\"Site_Name\":\"APPLE57CRESCENT\",\"Spool_GB\":\".0000\",\"Statement_Bucket\":\"Stored Proc\",\"System_Use\":\"Production\",\"Total_AMPs\":\"1680\",\"TransferTime_Sec\":\".0200\",\"Use_Bucket\":\"ETL\",\"User_Bucket\":\"CORE ETL\",\"User_Department\":\"APPLECARE\",\"User_SubDepartment\":\"AC REPAIR\",\"acct_industry_name\":\"Manufacturing\",\"acct_subindustry_name\":\"Software\",\"cust_region_desc\":\"Americas\",\"gtm_acct_name\":\"Apple, Inc.\",\"sls_area_name\":\"West\",\"strategic_sgmnt_cd\":\"Hyperscale Architect\"},{\"Account_Name\":\"Apple, Inc.\",\"App_Bucket\":\"BTEQ\",\"CPUSec_Skew_AvgPCt\":\"-.9754\",\"CPU_AMP_Sec\":\"4.5900\",\"CPU_Parse_Sec\":\".5600\",\"CPU_Total_Sec\":\"5.1500\",\"DelayTime_Sec\":\"\",\"IOCntM_Physical\":\"0\",\"IOCntM_Total\":\"0\",\"IOCnt_Skew_AvgPct\":\"-.9476\",\"IOGB_Physical\":\".0200\",\"IOGB_Total\":\"20.5000\",\"IOTA_Used_cntB\":\".1400\",\"LogTS\":\"2020-04-02 12:00:00-04:00\",\"NumOfActiveAMPs_Avg\":\"1680.0000\",\"Query_Abort_Cnt\":\"0\",\"Query_Cnt\":\"12\",\"Query_Complexity_Score_Avg\":\"11.0000\",\"Query_Error_Cnt\":\"0\",\"Query_InMem_Cnt\":\"0\",\"Query_MultiStatement_Cnt\":\"0\",\"Query_NoIO_cnt\":\"0\",\"Query_PhysIO_Cnt\":\"12\",\"Request_Cnt\":\"12\",\"Returned_Row_Cnt\":\"0\",\"Row_Key\":\"9325574\",\"Run_ID\":\"629\",\"Runtime_AMP_Sec\":\"2.6800\",\"Runtime_Parse_Sec\":\".6300\",\"Runtime_Total_Sec\":\"3.3100\",\"Site_ID\":\"APPLE57CRESCENT\",\"Site_Name\":\"APPLE57CRESCENT\",\"Spool_GB\":\".0281\",\"Statement_Bucket\":\"Collect Stats\",\"System_Use\":\"Production\",\"Total_AMPs\":\"1680\",\"TransferTime_Sec\":\".0000\",\"Use_Bucket\":\"ETL\",\"User_Bucket\":\"SEMANTIC\",\"User_Department\":\"MARKETING\",\"User_SubDepartment\":\"MARKETING\",\"acct_industry_name\":\"Manufacturing\",\"acct_subindustry_name\":\"Software\",\"cust_region_desc\":\"Americas\",\"gtm_acct_name\":\"Apple, Inc.\",\"sls_area_name\":\"West\",\"strategic_sgmnt_cd\":\"Hyperscale Architect\"},{\"Account_Name\":\"Apple, Inc.\",\"App_Bucket\":\"BTEQ\",\"CPUSec_Skew_AvgPCt\":\".0000\",\"CPU_AMP_Sec\":\".0000\",\"CPU_Parse_Sec\":\".0200\",\"CPU_Total_Sec\":\".0200\",\"DelayTime_Sec\":\"\",\"IOCntM_Physical\":\"0\",\"IOCntM_Total\":\"0\",\"IOCnt_Skew_AvgPct\":\".0000\",\"IOGB_Physical\":\".0000\",\"IOGB_Total\":\".0000\",\"IOTA_Used_cntB\":\".0000\",\"LogTS\":\"2020-04-19 16:00:00-04:00\",\"NumOfActiveAMPs_Avg\":\".3333\",\"Query_Abort_Cnt\":\"0\",\"Query_Cnt\":\"3\",\"Query_Complexity_Score_Avg\":\".3333\",\"Query_Error_Cnt\":\"2\",\"Query_InMem_Cnt\":\"0\",\"Query_MultiStatement_Cnt\":\"0\",\"Query_NoIO_cnt\":\"3\",\"Query_PhysIO_Cnt\":\"0\",\"Request_Cnt\":\"3\",\"Returned_Row_Cnt\":\"0\",\"Row_Key\":\"1326116\",\"Run_ID\":\"629\",\"Runtime_AMP_Sec\":\".0300\",\"Runtime_Parse_Sec\":\".0200\",\"Runtime_Total_Sec\":\".0500\",\"Site_ID\":\"APPLE57CRESCENT\",\"Site_Name\":\"APPLE57CRESCENT\",\"Spool_GB\":\".0000\",\"Statement_Bucket\":\"Insert\",\"System_Use\":\"Production\",\"Total_AMPs\":\"1680\",\"TransferTime_Sec\":\".0000\",\"Use_Bucket\":\"ETL\",\"User_Bucket\":\"SEMANTIC\",\"User_Department\":\"APPLECARE\",\"User_SubDepartment\":\"CONTACT CENTER\",\"acct_industry_name\":\"Manufacturing\",\"acct_subindustry_name\":\"Software\",\"cust_region_desc\":\"Americas\",\"gtm_acct_name\":\"Apple, Inc.\",\"sls_area_name\":\"West\",\"strategic_sgmnt_cd\":\"Hyperscale Architect\"},{\"Account_Name\":\"Apple, Inc.\",\"App_Bucket\":\"BTEQ\",\"CPUSec_Skew_AvgPCt\":\"-.1111\",\"CPU_AMP_Sec\":\".0000\",\"CPU_Parse_Sec\":\"41.0200\",\"CPU_Total_Sec\":\"41.0200\",\"DelayTime_Sec\":\"\",\"IOCntM_Physical\":\"0\",\"IOCntM_Total\":\"0\",\"IOCnt_Skew_AvgPct\":\"-.0556\",\"IOGB_Physical\":\".0000\",\"IOGB_Total\":\".0000\",\"IOTA_Used_cntB\":\".0000\",\"LogTS\":\"2020-04-13 17:00:00-04:00\",\"NumOfActiveAMPs_Avg\":\".5000\",\"Query_Abort_Cnt\":\"0\",\"Query_Cnt\":\"2132\",\"Query_Complexity_Score_Avg\":\".5000\",\"Query_Error_Cnt\":\"0\",\"Query_InMem_Cnt\":\"6\",\"Query_MultiStatement_Cnt\":\"0\",\"Query_NoIO_cnt\":\"2126\",\"Query_PhysIO_Cnt\":\"0\",\"Request_Cnt\":\"2132\",\"Returned_Row_Cnt\":\"0\",\"Row_Key\":\"3037075\",\"Run_ID\":\"629\",\"Runtime_AMP_Sec\":\"2.8600\",\"Runtime_Parse_Sec\":\"45.0000\",\"Runtime_Total_Sec\":\"47.8600\",\"Site_ID\":\"APPLE57CRESCENT\",\"Site_Name\":\"APPLE57CRESCENT\",\"Spool_GB\":\".0000\",\"Statement_Bucket\":\"Other\",\"System_Use\":\"Production\",\"Total_AMPs\":\"1680\",\"TransferTime_Sec\":\".0000\",\"Use_Bucket\":\"ETL\",\"User_Bucket\":\"SYSTEM\",\"User_Department\":\"SYSTEM\",\"User_SubDepartment\":\"SYSTEM\",\"acct_industry_name\":\"Manufacturing\",\"acct_subindustry_name\":\"Software\",\"cust_region_desc\":\"Americas\",\"gtm_acct_name\":\"Apple, Inc.\",\"sls_area_name\":\"West\",\"strategic_sgmnt_cd\":\"Hyperscale Architect\"},{\"Account_Name\":\"Apple, Inc.\",\"App_Bucket\":\"TTU\",\"CPUSec_Skew_AvgPCt\":\"-.6157\",\"CPU_AMP_Sec\":\"38.3200\",\"CPU_Parse_Sec\":\".9900\",\"CPU_Total_Sec\":\"39.3100\",\"DelayTime_Sec\":\"\",\"IOCntM_Physical\":\"0\",\"IOCntM_Total\":\"0\",\"IOCnt_Skew_AvgPct\":\"-.5325\",\"IOGB_Physical\":\".0000\",\"IOGB_Total\":\"32.9000\",\"IOTA_Used_cntB\":\".0100\",\"LogTS\":\"2020-04-13 20:00:00-04:00\",\"NumOfActiveAMPs_Avg\":\"800.1429\",\"Query_Abort_Cnt\":\"0\",\"Query_Cnt\":\"120\",\"Query_Complexity_Score_Avg\":\"1.7619\",\"Query_Error_Cnt\":\"12\",\"Query_InMem_Cnt\":\"44\",\"Query_MultiStatement_Cnt\":\"0\",\"Query_NoIO_cnt\":\"72\",\"Query_PhysIO_Cnt\":\"4\",\"Request_Cnt\":\"120\",\"Returned_Row_Cnt\":\"624\",\"Row_Key\":\"10829616\",\"Run_ID\":\"629\",\"Runtime_AMP_Sec\":\"4.1000\",\"Runtime_Parse_Sec\":\"2.1500\",\"Runtime_Total_Sec\":\"6.2500\",\"Site_ID\":\"APPLE57CRESCENT\",\"Site_Name\":\"APPLE57CRESCENT\",\"Spool_GB\":\".0008\",\"Statement_Bucket\":\"Select\",\"System_Use\":\"Production\",\"Total_AMPs\":\"1680\",\"TransferTime_Sec\":\".1600\",\"Use_Bucket\":\"ETL\",\"User_Bucket\":\"SEMANTIC\",\"User_Department\":\"SALESOPS\",\"User_SubDepartment\":\"RETAIL\",\"acct_industry_name\":\"Manufacturing\",\"acct_subindustry_name\":\"Software\",\"cust_region_desc\":\"Americas\",\"gtm_acct_name\":\"Apple, Inc.\",\"sls_area_name\":\"West\",\"strategic_sgmnt_cd\":\"Hyperscale Architect\"},{\"Account_Name\":\"Apple, Inc.\",\"App_Bucket\":\"TTU\",\"CPUSec_Skew_AvgPCt\":\"-.2331\",\"CPU_AMP_Sec\":\"42.4000\",\"CPU_Parse_Sec\":\"1.0000\",\"CPU_Total_Sec\":\"43.4000\",\"DelayTime_Sec\":\"\",\"IOCntM_Physical\":\"0\",\"IOCntM_Total\":\"0\",\"IOCnt_Skew_AvgPct\":\"-.0599\",\"IOGB_Physical\":\"2.0100\",\"IOGB_Total\":\"18.7400\",\"IOTA_Used_cntB\":\"74.2000\",\"LogTS\":\"2020-03-28 22:00:00-04:00\",\"NumOfActiveAMPs_Avg\":\"420.0000\",\"Query_Abort_Cnt\":\"0\",\"Query_Cnt\":\"140\",\"Query_Complexity_Score_Avg\":\".0000\",\"Query_Error_Cnt\":\"0\",\"Query_InMem_Cnt\":\"1\",\"Query_MultiStatement_Cnt\":\"0\",\"Query_NoIO_cnt\":\"110\",\"Query_PhysIO_Cnt\":\"29\",\"Request_Cnt\":\"140\",\"Returned_Row_Cnt\":\"0\",\"Row_Key\":\"8616307\",\"Run_ID\":\"629\",\"Runtime_AMP_Sec\":\"3.2900\",\"Runtime_Parse_Sec\":\"1.1600\",\"Runtime_Total_Sec\":\"4.4500\",\"Site_ID\":\"APPLE57CRESCENT\",\"Site_Name\":\"APPLE57CRESCENT\",\"Spool_GB\":\".0000\",\"Statement_Bucket\":\"Other\",\"System_Use\":\"Production\",\"Total_AMPs\":\"1680\",\"TransferTime_Sec\":\".0300\",\"Use_Bucket\":\"ETL\",\"User_Bucket\":\"SEMANTIC\",\"User_Department\":\"SALESOPS\",\"User_SubDepartment\":\"OPS\",\"acct_industry_name\":\"Manufacturing\",\"acct_subindustry_name\":\"Software\",\"cust_region_desc\":\"Americas\",\"gtm_acct_name\":\"Apple, Inc.\",\"sls_area_name\":\"West\",\"strategic_sgmnt_cd\":\"Hyperscale Architect\"},{\"Account_Name\":\"Apple, Inc.\",\"App_Bucket\":\"TTU\",\"CPUSec_Skew_AvgPCt\":\"-.9824\",\"CPU_AMP_Sec\":\"4.3800\",\"CPU_Parse_Sec\":\".1800\",\"CPU_Total_Sec\":\"4.5600\",\"DelayTime_Sec\":\"\",\"IOCntM_Physical\":\"0\",\"IOCntM_Total\":\"0\",\"IOCnt_Skew_AvgPct\":\"-.9572\",\"IOGB_Physical\":\".0600\",\"IOGB_Total\":\"3.6800\",\"IOTA_Used_cntB\":\"13.5700\",\"LogTS\":\"2020-04-05 02:00:00-04:00\",\"NumOfActiveAMPs_Avg\":\"1680.0000\",\"Query_Abort_Cnt\":\"0\",\"Query_Cnt\":\"21\",\"Query_Complexity_Score_Avg\":\"22.3750\",\"Query_Error_Cnt\":\"0\",\"Query_InMem_Cnt\":\"0\",\"Query_MultiStatement_Cnt\":\"0\",\"Query_NoIO_cnt\":\"0\",\"Query_PhysIO_Cnt\":\"21\",\"Request_Cnt\":\"18\",\"Returned_Row_Cnt\":\"0\",\"Row_Key\":\"9227127\",\"Run_ID\":\"629\",\"Runtime_AMP_Sec\":\"1.1800\",\"Runtime_Parse_Sec\":\".3100\",\"Runtime_Total_Sec\":\"1.4900\",\"Site_ID\":\"APPLE57CRESCENT\",\"Site_Name\":\"APPLE57CRESCENT\",\"Spool_GB\":\".0000\",\"Statement_Bucket\":\"Create/Drop\",\"System_Use\":\"Production\",\"Total_AMPs\":\"1680\",\"TransferTime_Sec\":\".0100\",\"Use_Bucket\":\"Stream\",\"User_Bucket\":\"SEMANTIC\",\"User_Department\":\"ITUNES\",\"User_SubDepartment\":\"ITUNES\",\"acct_industry_name\":\"Manufacturing\",\"acct_subindustry_name\":\"Software\",\"cust_region_desc\":\"Americas\",\"gtm_acct_name\":\"Apple, Inc.\",\"sls_area_name\":\"West\",\"strategic_sgmnt_cd\":\"Hyperscale Architect\"},{\"Account_Name\":\"Apple, Inc.\",\"App_Bucket\":\"Python\",\"CPUSec_Skew_AvgPCt\":\"-.8569\",\"CPU_AMP_Sec\":\"146588.8500\",\"CPU_Parse_Sec\":\"8.3400\",\"CPU_Total_Sec\":\"146597.1900\",\"DelayTime_Sec\":\"7.8600\",\"IOCntM_Physical\":\"29\",\"IOCntM_Total\":\"652\",\"IOCnt_Skew_AvgPct\":\"-.5626\",\"IOGB_Physical\":\"27189.3100\",\"IOGB_Total\":\"63693.4300\",\"IOTA_Used_cntB\":\"20317.7600\",\"LogTS\":\"2020-05-08 13:00:00-04:00\",\"NumOfActiveAMPs_Avg\":\"1680.0000\",\"Query_Abort_Cnt\":\"0\",\"Query_Cnt\":\"144\",\"Query_Complexity_Score_Avg\":\"6.1643\",\"Query_Error_Cnt\":\"0\",\"Query_InMem_Cnt\":\"23\",\"Query_MultiStatement_Cnt\":\"0\",\"Query_NoIO_cnt\":\"0\",\"Query_PhysIO_Cnt\":\"121\",\"Request_Cnt\":\"144\",\"Returned_Row_Cnt\":\"0\",\"Row_Key\":\"1129611\",\"Run_ID\":\"629\",\"Runtime_AMP_Sec\":\"348.9900\",\"Runtime_Parse_Sec\":\"18.0300\",\"Runtime_Total_Sec\":\"367.0200\",\"Site_ID\":\"APPLE57CRESCENT\",\"Site_Name\":\"APPLE57CRESCENT\",\"Spool_GB\":\"3883.7162\",\"Statement_Bucket\":\"Merge/Update/Delete\",\"System_Use\":\"Production\",\"Total_AMPs\":\"1680\",\"TransferTime_Sec\":\".1900\",\"Use_Bucket\":\"Analytic\",\"User_Bucket\":\"ADHOC\",\"User_Department\":\"iTunes\",\"User_SubDepartment\":\"iTunes\",\"acct_industry_name\":\"Manufacturing\",\"acct_subindustry_name\":\"Software\",\"cust_region_desc\":\"Americas\",\"gtm_acct_name\":\"Apple, Inc.\",\"sls_area_name\":\"West\",\"strategic_sgmnt_cd\":\"Hyperscale Architect\"},{\"Account_Name\":\"Apple, Inc.\",\"App_Bucket\":\"BTEQ\",\"CPUSec_Skew_AvgPCt\":\".0000\",\"CPU_AMP_Sec\":\".0000\",\"CPU_Parse_Sec\":\"1.2900\",\"CPU_Total_Sec\":\"1.2900\",\"DelayTime_Sec\":\"\",\"IOCntM_Physical\":\"0\",\"IOCntM_Total\":\"0\",\"IOCnt_Skew_AvgPct\":\".0000\",\"IOGB_Physical\":\".0000\",\"IOGB_Total\":\".0000\",\"IOTA_Used_cntB\":\".0000\",\"LogTS\":\"2020-03-27 17:00:00-04:00\",\"NumOfActiveAMPs_Avg\":\".0000\",\"Query_Abort_Cnt\":\"0\",\"Query_Cnt\":\"41\",\"Query_Complexity_Score_Avg\":\".0000\",\"Query_Error_Cnt\":\"0\",\"Query_InMem_Cnt\":\"0\",\"Query_MultiStatement_Cnt\":\"0\",\"Query_NoIO_cnt\":\"41\",\"Query_PhysIO_Cnt\":\"0\",\"Request_Cnt\":\"43\",\"Returned_Row_Cnt\":\"0\",\"Row_Key\":\"10528960\",\"Run_ID\":\"629\",\"Runtime_AMP_Sec\":\".0600\",\"Runtime_Parse_Sec\":\"1.4200\",\"Runtime_Total_Sec\":\"1.4800\",\"Site_ID\":\"APPLE57CRESCENT\",\"Site_Name\":\"APPLE57CRESCENT\",\"Spool_GB\":\".0000\",\"Statement_Bucket\":\"Other\",\"System_Use\":\"Production\",\"Total_AMPs\":\"1680\",\"TransferTime_Sec\":\".0000\",\"Use_Bucket\":\"ETL\",\"User_Bucket\":\"ADHOC\",\"User_Department\":\"iTunes\",\"User_SubDepartment\":\"iTunes\",\"acct_industry_name\":\"Manufacturing\",\"acct_subindustry_name\":\"Software\",\"cust_region_desc\":\"Americas\",\"gtm_acct_name\":\"Apple, Inc.\",\"sls_area_name\":\"West\",\"strategic_sgmnt_cd\":\"Hyperscale Architect\"},{\"Account_Name\":\"Apple, Inc.\",\"App_Bucket\":\"JDBC\",\"CPUSec_Skew_AvgPCt\":\"-.1190\",\"CPU_AMP_Sec\":\"88.2800\",\"CPU_Parse_Sec\":\"26.4700\",\"CPU_Total_Sec\":\"114.7500\",\"DelayTime_Sec\":\".4000\",\"IOCntM_Physical\":\"0\",\"IOCntM_Total\":\"0\",\"IOCnt_Skew_AvgPct\":\"-.0871\",\"IOGB_Physical\":\"1.9800\",\"IOGB_Total\":\"10.3900\",\"IOTA_Used_cntB\":\"23.8700\",\"LogTS\":\"2020-04-10 18:00:00-04:00\",\"NumOfActiveAMPs_Avg\":\"113.2882\",\"Query_Abort_Cnt\":\"0\",\"Query_Cnt\":\"2140\",\"Query_Complexity_Score_Avg\":\".4123\",\"Query_Error_Cnt\":\"7\",\"Query_InMem_Cnt\":\"502\",\"Query_MultiStatement_Cnt\":\"0\",\"Query_NoIO_cnt\":\"1618\",\"Query_PhysIO_Cnt\":\"20\",\"Request_Cnt\":\"2157\",\"Returned_Row_Cnt\":\"354\",\"Row_Key\":\"257202\",\"Run_ID\":\"629\",\"Runtime_AMP_Sec\":\"31.3300\",\"Runtime_Parse_Sec\":\"31.4100\",\"Runtime_Total_Sec\":\"62.7400\",\"Site_ID\":\"APPLE57CRESCENT\",\"Site_Name\":\"APPLE57CRESCENT\",\"Spool_GB\":\".0018\",\"Statement_Bucket\":\"Other\",\"System_Use\":\"Production\",\"Total_AMPs\":\"1680\",\"TransferTime_Sec\":\"2.0100\",\"Use_Bucket\":\"Application\",\"User_Bucket\":\"ADHOC\",\"User_Department\":\"ITUNES\",\"User_SubDepartment\":\"ITUNES\",\"acct_industry_name\":\"Manufacturing\",\"acct_subindustry_name\":\"Software\",\"cust_region_desc\":\"Americas\",\"gtm_acct_name\":\"Apple, Inc.\",\"sls_area_name\":\"West\",\"strategic_sgmnt_cd\":\"Hyperscale Architect\"},{\"Account_Name\":\"Apple, Inc.\",\"App_Bucket\":\"TTU\",\"CPUSec_Skew_AvgPCt\":\".0000\",\"CPU_AMP_Sec\":\".0000\",\"CPU_Parse_Sec\":\"6.8900\",\"CPU_Total_Sec\":\"6.8900\",\"DelayTime_Sec\":\"\",\"IOCntM_Physical\":\"0\",\"IOCntM_Total\":\"0\",\"IOCnt_Skew_AvgPct\":\".0000\",\"IOGB_Physical\":\".0000\",\"IOGB_Total\":\".0000\",\"IOTA_Used_cntB\":\".0000\",\"LogTS\":\"2020-04-04 21:00:00-04:00\",\"NumOfActiveAMPs_Avg\":\"1.0000\",\"Query_Abort_Cnt\":\"0\",\"Query_Cnt\":\"207\",\"Query_Complexity_Score_Avg\":\"1.0000\",\"Query_Error_Cnt\":\"0\",\"Query_InMem_Cnt\":\"207\",\"Query_MultiStatement_Cnt\":\"0\",\"Query_NoIO_cnt\":\"0\",\"Query_PhysIO_Cnt\":\"0\",\"Request_Cnt\":\"207\",\"Returned_Row_Cnt\":\"0\",\"Row_Key\":\"8617317\",\"Run_ID\":\"629\",\"Runtime_AMP_Sec\":\"1.7100\",\"Runtime_Parse_Sec\":\"7.7600\",\"Runtime_Total_Sec\":\"9.4700\",\"Site_ID\":\"APPLE57CRESCENT\",\"Site_Name\":\"APPLE57CRESCENT\",\"Spool_GB\":\".0000\",\"Statement_Bucket\":\"Admin\",\"System_Use\":\"Production\",\"Total_AMPs\":\"1680\",\"TransferTime_Sec\":\".0000\",\"Use_Bucket\":\"Stream\",\"User_Bucket\":\"CORE ETL\",\"User_Department\":\"ITUNES\",\"User_SubDepartment\":\"ITUNES\",\"acct_industry_name\":\"Manufacturing\",\"acct_subindustry_name\":\"Software\",\"cust_region_desc\":\"Americas\",\"gtm_acct_name\":\"Apple, Inc.\",\"sls_area_name\":\"West\",\"strategic_sgmnt_cd\":\"Hyperscale Architect\"},{\"Account_Name\":\"Apple, Inc.\",\"App_Bucket\":\"BTEQ\",\"CPUSec_Skew_AvgPCt\":\"-.3016\",\"CPU_AMP_Sec\":\"103.0100\",\"CPU_Parse_Sec\":\".3800\",\"CPU_Total_Sec\":\"103.3900\",\"DelayTime_Sec\":\"\",\"IOCntM_Physical\":\"0\",\"IOCntM_Total\":\"3\",\"IOCnt_Skew_AvgPct\":\"-.0580\",\"IOGB_Physical\":\".0000\",\"IOGB_Total\":\"301.5800\",\"IOTA_Used_cntB\":\".7800\",\"LogTS\":\"2020-04-13 18:00:00-04:00\",\"NumOfActiveAMPs_Avg\":\"336.8000\",\"Query_Abort_Cnt\":\"0\",\"Query_Cnt\":\"20\",\"Query_Complexity_Score_Avg\":\"2.1500\",\"Query_Error_Cnt\":\"0\",\"Query_InMem_Cnt\":\"0\",\"Query_MultiStatement_Cnt\":\"0\",\"Query_NoIO_cnt\":\"0\",\"Query_PhysIO_Cnt\":\"20\",\"Request_Cnt\":\"20\",\"Returned_Row_Cnt\":\"0\",\"Row_Key\":\"5323514\",\"Run_ID\":\"629\",\"Runtime_AMP_Sec\":\".7900\",\"Runtime_Parse_Sec\":\".4400\",\"Runtime_Total_Sec\":\"1.2300\",\"Site_ID\":\"APPLE57CRESCENT\",\"Site_Name\":\"APPLE57CRESCENT\",\"Spool_GB\":\".0448\",\"Statement_Bucket\":\"Insert\",\"System_Use\":\"Production\",\"Total_AMPs\":\"1680\",\"TransferTime_Sec\":\".0100\",\"Use_Bucket\":\"ETL\",\"User_Bucket\":\"SEMANTIC\",\"User_Department\":\"SALESOPS\",\"User_SubDepartment\":\"FINANCE\",\"acct_industry_name\":\"Manufacturing\",\"acct_subindustry_name\":\"Software\",\"cust_region_desc\":\"Americas\",\"gtm_acct_name\":\"Apple, Inc.\",\"sls_area_name\":\"West\",\"strategic_sgmnt_cd\":\"Hyperscale Architect\"},{\"Account_Name\":\"Apple, Inc.\",\"App_Bucket\":\"Tableau\",\"CPUSec_Skew_AvgPCt\":\".0000\",\"CPU_AMP_Sec\":\".0000\",\"CPU_Parse_Sec\":\"2.4100\",\"CPU_Total_Sec\":\"2.4100\",\"DelayTime_Sec\":\"\",\"IOCntM_Physical\":\"0\",\"IOCntM_Total\":\"0\",\"IOCnt_Skew_AvgPct\":\".0000\",\"IOGB_Physical\":\".0000\",\"IOGB_Total\":\".0000\",\"IOTA_Used_cntB\":\".0000\",\"LogTS\":\"2020-05-06 14:00:00-04:00\",\"NumOfActiveAMPs_Avg\":\".3333\",\"Query_Abort_Cnt\":\"0\",\"Query_Cnt\":\"195\",\"Query_Complexity_Score_Avg\":\".0000\",\"Query_Error_Cnt\":\"0\",\"Query_InMem_Cnt\":\"0\",\"Query_MultiStatement_Cnt\":\"0\",\"Query_NoIO_cnt\":\"195\",\"Query_PhysIO_Cnt\":\"0\",\"Request_Cnt\":\"195\",\"Returned_Row_Cnt\":\"0\",\"Row_Key\":\"266956\",\"Run_ID\":\"629\",\"Runtime_AMP_Sec\":\".3800\",\"Runtime_Parse_Sec\":\"2.8700\",\"Runtime_Total_Sec\":\"3.2500\",\"Site_ID\":\"APPLE57CRESCENT\",\"Site_Name\":\"APPLE57CRESCENT\",\"Spool_GB\":\".0003\",\"Statement_Bucket\":\"Other\",\"System_Use\":\"Production\",\"Total_AMPs\":\"1680\",\"TransferTime_Sec\":\".0200\",\"Use_Bucket\":\"Analytic\",\"User_Bucket\":\"ADHOC\",\"User_Department\":\"SALESOPS\",\"User_SubDepartment\":\"SALES\",\"acct_industry_name\":\"Manufacturing\",\"acct_subindustry_name\":\"Software\",\"cust_region_desc\":\"Americas\",\"gtm_acct_name\":\"Apple, Inc.\",\"sls_area_name\":\"West\",\"strategic_sgmnt_cd\":\"Hyperscale Architect\"},{\"Account_Name\":\"Apple, Inc.\",\"App_Bucket\":\"BTEQ\",\"CPUSec_Skew_AvgPCt\":\".0000\",\"CPU_AMP_Sec\":\".0000\",\"CPU_Parse_Sec\":\".0200\",\"CPU_Total_Sec\":\".0200\",\"DelayTime_Sec\":\"\",\"IOCntM_Physical\":\"0\",\"IOCntM_Total\":\"0\",\"IOCnt_Skew_AvgPct\":\".0000\",\"IOGB_Physical\":\".0000\",\"IOGB_Total\":\".0000\",\"IOTA_Used_cntB\":\".0000\",\"LogTS\":\"2020-04-03 23:00:00-04:00\",\"NumOfActiveAMPs_Avg\":\".0000\",\"Query_Abort_Cnt\":\"0\",\"Query_Cnt\":\"10\",\"Query_Complexity_Score_Avg\":\".8000\",\"Query_Error_Cnt\":\"0\",\"Query_InMem_Cnt\":\"0\",\"Query_MultiStatement_Cnt\":\"0\",\"Query_NoIO_cnt\":\"10\",\"Query_PhysIO_Cnt\":\"0\",\"Request_Cnt\":\"10\",\"Returned_Row_Cnt\":\"0\",\"Row_Key\":\"125791\",\"Run_ID\":\"629\",\"Runtime_AMP_Sec\":\"220.0700\",\"Runtime_Parse_Sec\":\".2000\",\"Runtime_Total_Sec\":\"220.2700\",\"Site_ID\":\"APPLE57CRESCENT\",\"Site_Name\":\"APPLE57CRESCENT\",\"Spool_GB\":\".0000\",\"Statement_Bucket\":\"Stored Proc\",\"System_Use\":\"Production\",\"Total_AMPs\":\"1680\",\"TransferTime_Sec\":\".0000\",\"Use_Bucket\":\"ETL\",\"User_Bucket\":\"Unknown\",\"User_Department\":\"ITUNES\",\"User_SubDepartment\":\"ITUNES\",\"acct_industry_name\":\"Manufacturing\",\"acct_subindustry_name\":\"Software\",\"cust_region_desc\":\"Americas\",\"gtm_acct_name\":\"Apple, Inc.\",\"sls_area_name\":\"West\",\"strategic_sgmnt_cd\":\"Hyperscale Architect\"},{\"Account_Name\":\"Apple, Inc.\",\"App_Bucket\":\"TTU\",\"CPUSec_Skew_AvgPCt\":\"-.8796\",\"CPU_AMP_Sec\":\"2.4200\",\"CPU_Parse_Sec\":\".0500\",\"CPU_Total_Sec\":\"2.4700\",\"DelayTime_Sec\":\"\",\"IOCntM_Physical\":\"0\",\"IOCntM_Total\":\"0\",\"IOCnt_Skew_AvgPct\":\"-.7874\",\"IOGB_Physical\":\".0000\",\"IOGB_Total\":\"2.3200\",\"IOTA_Used_cntB\":\".0000\",\"LogTS\":\"2020-04-14 09:00:00-04:00\",\"NumOfActiveAMPs_Avg\":\"840.0000\",\"Query_Abort_Cnt\":\"0\",\"Query_Cnt\":\"6\",\"Query_Complexity_Score_Avg\":\"1.5000\",\"Query_Error_Cnt\":\"0\",\"Query_InMem_Cnt\":\"3\",\"Query_MultiStatement_Cnt\":\"0\",\"Query_NoIO_cnt\":\"3\",\"Query_PhysIO_Cnt\":\"0\",\"Request_Cnt\":\"6\",\"Returned_Row_Cnt\":\"75\",\"Row_Key\":\"3530621\",\"Run_ID\":\"629\",\"Runtime_AMP_Sec\":\".1100\",\"Runtime_Parse_Sec\":\".3400\",\"Runtime_Total_Sec\":\".4500\",\"Site_ID\":\"APPLE57CRESCENT\",\"Site_Name\":\"APPLE57CRESCENT\",\"Spool_GB\":\".0000\",\"Statement_Bucket\":\"Select\",\"System_Use\":\"Production\",\"Total_AMPs\":\"1680\",\"TransferTime_Sec\":\".0000\",\"Use_Bucket\":\"Export\",\"User_Bucket\":\"ADHOC\",\"User_Department\":\"SYSTEM\",\"User_SubDepartment\":\"SYSTEM\",\"acct_industry_name\":\"Manufacturing\",\"acct_subindustry_name\":\"Software\",\"cust_region_desc\":\"Americas\",\"gtm_acct_name\":\"Apple, Inc.\",\"sls_area_name\":\"West\",\"strategic_sgmnt_cd\":\"Hyperscale Architect\"},{\"Account_Name\":\"Apple, Inc.\",\"App_Bucket\":\"TTU\",\"CPUSec_Skew_AvgPCt\":\"-.3838\",\"CPU_AMP_Sec\":\"3732.7100\",\"CPU_Parse_Sec\":\"24.1900\",\"CPU_Total_Sec\":\"3756.9000\",\"DelayTime_Sec\":\"\",\"IOCntM_Physical\":\"8\",\"IOCntM_Total\":\"79\",\"IOCnt_Skew_AvgPct\":\"-.1350\",\"IOGB_Physical\":\"934.3900\",\"IOGB_Total\":\"4896.7100\",\"IOTA_Used_cntB\":\"10833.7800\",\"LogTS\":\"2020-04-04 00:00:00-04:00\",\"NumOfActiveAMPs_Avg\":\"840.2500\",\"Query_Abort_Cnt\":\"0\",\"Query_Cnt\":\"2594\",\"Query_Complexity_Score_Avg\":\"9.7500\",\"Query_Error_Cnt\":\"0\",\"Query_InMem_Cnt\":\"0\",\"Query_MultiStatement_Cnt\":\"0\",\"Query_NoIO_cnt\":\"2019\",\"Query_PhysIO_Cnt\":\"575\",\"Request_Cnt\":\"2020\",\"Returned_Row_Cnt\":\"4650\",\"Row_Key\":\"10613947\",\"Run_ID\":\"629\",\"Runtime_AMP_Sec\":\"260.9800\",\"Runtime_Parse_Sec\":\"34.8500\",\"Runtime_Total_Sec\":\"295.8300\",\"Site_ID\":\"APPLE57CRESCENT\",\"Site_Name\":\"APPLE57CRESCENT\",\"Spool_GB\":\".0039\",\"Statement_Bucket\":\"Load\",\"System_Use\":\"Production\",\"Total_AMPs\":\"1680\",\"TransferTime_Sec\":\".4800\",\"Use_Bucket\":\"ETL\",\"User_Bucket\":\"CORE ETL\",\"User_Department\":\"ITUNES\",\"User_SubDepartment\":\"ITUNES\",\"acct_industry_name\":\"Manufacturing\",\"acct_subindustry_name\":\"Software\",\"cust_region_desc\":\"Americas\",\"gtm_acct_name\":\"Apple, Inc.\",\"sls_area_name\":\"West\",\"strategic_sgmnt_cd\":\"Hyperscale Architect\"},{\"Account_Name\":\"Apple, Inc.\",\"App_Bucket\":\"TTU\",\"CPUSec_Skew_AvgPCt\":\"-.9665\",\"CPU_AMP_Sec\":\"79.8500\",\"CPU_Parse_Sec\":\"1.5400\",\"CPU_Total_Sec\":\"81.3900\",\"DelayTime_Sec\":\"\",\"IOCntM_Physical\":\"0\",\"IOCntM_Total\":\"1\",\"IOCnt_Skew_AvgPct\":\"-.7262\",\"IOGB_Physical\":\".0000\",\"IOGB_Total\":\"71.2700\",\"IOTA_Used_cntB\":\".0000\",\"LogTS\":\"2020-04-03 05:00:00-04:00\",\"NumOfActiveAMPs_Avg\":\"1421.5385\",\"Query_Abort_Cnt\":\"0\",\"Query_Cnt\":\"299\",\"Query_Complexity_Score_Avg\":\"3.3846\",\"Query_Error_Cnt\":\"46\",\"Query_InMem_Cnt\":\"251\",\"Query_MultiStatement_Cnt\":\"0\",\"Query_NoIO_cnt\":\"46\",\"Query_PhysIO_Cnt\":\"2\",\"Request_Cnt\":\"299\",\"Returned_Row_Cnt\":\"2737\",\"Row_Key\":\"9219200\",\"Run_ID\":\"629\",\"Runtime_AMP_Sec\":\"7.5400\",\"Runtime_Parse_Sec\":\"3.1000\",\"Runtime_Total_Sec\":\"10.6400\",\"Site_ID\":\"APPLE57CRESCENT\",\"Site_Name\":\"APPLE57CRESCENT\",\"Spool_GB\":\".0019\",\"Statement_Bucket\":\"Select\",\"System_Use\":\"Production\",\"Total_AMPs\":\"1680\",\"TransferTime_Sec\":\".5700\",\"Use_Bucket\":\"Stream\",\"User_Bucket\":\"CORE ETL\",\"User_Department\":\"APPLECARE\",\"User_SubDepartment\":\"AC REPAIR\",\"acct_industry_name\":\"Manufacturing\",\"acct_subindustry_name\":\"Software\",\"cust_region_desc\":\"Americas\",\"gtm_acct_name\":\"Apple, Inc.\",\"sls_area_name\":\"West\",\"strategic_sgmnt_cd\":\"Hyperscale Architect\"},{\"Account_Name\":\"Apple, Inc.\",\"App_Bucket\":\"TTU\",\"CPUSec_Skew_AvgPCt\":\".0000\",\"CPU_AMP_Sec\":\".0000\",\"CPU_Parse_Sec\":\".0000\",\"CPU_Total_Sec\":\".0000\",\"DelayTime_Sec\":\"\",\"IOCntM_Physical\":\"0\",\"IOCntM_Total\":\"0\",\"IOCnt_Skew_AvgPct\":\".0000\",\"IOGB_Physical\":\".0000\",\"IOGB_Total\":\".0000\",\"IOTA_Used_cntB\":\".0000\",\"LogTS\":\"2020-04-04 08:00:00-04:00\",\"NumOfActiveAMPs_Avg\":\"1.3333\",\"Query_Abort_Cnt\":\"0\",\"Query_Cnt\":\"12\",\"Query_Complexity_Score_Avg\":\"2.0000\",\"Query_Error_Cnt\":\"0\",\"Query_InMem_Cnt\":\"0\",\"Query_MultiStatement_Cnt\":\"0\",\"Query_NoIO_cnt\":\"12\",\"Query_PhysIO_Cnt\":\"0\",\"Request_Cnt\":\"6\",\"Returned_Row_Cnt\":\"0\",\"Row_Key\":\"5740559\",\"Run_ID\":\"629\",\"Runtime_AMP_Sec\":\".0200\",\"Runtime_Parse_Sec\":\".0100\",\"Runtime_Total_Sec\":\".0300\",\"Site_ID\":\"APPLE57CRESCENT\",\"Site_Name\":\"APPLE57CRESCENT\",\"Spool_GB\":\".0000\",\"Statement_Bucket\":\"Load\",\"System_Use\":\"Production\",\"Total_AMPs\":\"1680\",\"TransferTime_Sec\":\".0000\",\"Use_Bucket\":\"Export\",\"User_Bucket\":\"SEMANTIC\",\"User_Department\":\"MARKETING\",\"User_SubDepartment\":\"MARKETING\",\"acct_industry_name\":\"Manufacturing\",\"acct_subindustry_name\":\"Software\",\"cust_region_desc\":\"Americas\",\"gtm_acct_name\":\"Apple, Inc.\",\"sls_area_name\":\"West\",\"strategic_sgmnt_cd\":\"Hyperscale Architect\"},{\"Account_Name\":\"Apple, Inc.\",\"App_Bucket\":\"TTU\",\"CPUSec_Skew_AvgPCt\":\"-.3613\",\"CPU_AMP_Sec\":\"112.5000\",\"CPU_Parse_Sec\":\"11.9800\",\"CPU_Total_Sec\":\"124.4800\",\"DelayTime_Sec\":\"\",\"IOCntM_Physical\":\"0\",\"IOCntM_Total\":\"1\",\"IOCnt_Skew_AvgPct\":\"-.2892\",\"IOGB_Physical\":\"4.9000\",\"IOGB_Total\":\"38.1400\",\"IOTA_Used_cntB\":\"145.6800\",\"LogTS\":\"2020-03-31 17:00:00-04:00\",\"NumOfActiveAMPs_Avg\":\"161.7450\",\"Query_Abort_Cnt\":\"0\",\"Query_Cnt\":\"3558\",\"Query_Complexity_Score_Avg\":\"1.0824\",\"Query_Error_Cnt\":\"0\",\"Query_InMem_Cnt\":\"2089\",\"Query_MultiStatement_Cnt\":\"0\",\"Query_NoIO_cnt\":\"1261\",\"Query_PhysIO_Cnt\":\"208\",\"Request_Cnt\":\"2510\",\"Returned_Row_Cnt\":\"0\",\"Row_Key\":\"5835028\",\"Run_ID\":\"629\",\"Runtime_AMP_Sec\":\"34.7800\",\"Runtime_Parse_Sec\":\"13.1400\",\"Runtime_Total_Sec\":\"47.9200\",\"Site_ID\":\"APPLE57CRESCENT\",\"Site_Name\":\"APPLE57CRESCENT\",\"Spool_GB\":\".0000\",\"Statement_Bucket\":\"Other\",\"System_Use\":\"Production\",\"Total_AMPs\":\"1680\",\"TransferTime_Sec\":\"1.1400\",\"Use_Bucket\":\"Stream\",\"User_Bucket\":\"CORE ETL\",\"User_Department\":\"APPLECARE\",\"User_SubDepartment\":\"AC REPAIR\",\"acct_industry_name\":\"Manufacturing\",\"acct_subindustry_name\":\"Software\",\"cust_region_desc\":\"Americas\",\"gtm_acct_name\":\"Apple, Inc.\",\"sls_area_name\":\"West\",\"strategic_sgmnt_cd\":\"Hyperscale Architect\"},{\"Account_Name\":\"Apple, Inc.\",\"App_Bucket\":\"TTU\",\"CPUSec_Skew_AvgPCt\":\".0000\",\"CPU_AMP_Sec\":\".0000\",\"CPU_Parse_Sec\":\"5.2200\",\"CPU_Total_Sec\":\"5.2200\",\"DelayTime_Sec\":\"\",\"IOCntM_Physical\":\"0\",\"IOCntM_Total\":\"0\",\"IOCnt_Skew_AvgPct\":\".0000\",\"IOGB_Physical\":\".0000\",\"IOGB_Total\":\".0000\",\"IOTA_Used_cntB\":\".0000\",\"LogTS\":\"2020-03-28 16:00:00-04:00\",\"NumOfActiveAMPs_Avg\":\"1.0000\",\"Query_Abort_Cnt\":\"0\",\"Query_Cnt\":\"152\",\"Query_Complexity_Score_Avg\":\"1.0000\",\"Query_Error_Cnt\":\"0\",\"Query_InMem_Cnt\":\"151\",\"Query_MultiStatement_Cnt\":\"0\",\"Query_NoIO_cnt\":\"0\",\"Query_PhysIO_Cnt\":\"1\",\"Request_Cnt\":\"152\",\"Returned_Row_Cnt\":\"0\",\"Row_Key\":\"728796\",\"Run_ID\":\"629\",\"Runtime_AMP_Sec\":\"1.5000\",\"Runtime_Parse_Sec\":\"5.8900\",\"Runtime_Total_Sec\":\"7.3900\",\"Site_ID\":\"APPLE57CRESCENT\",\"Site_Name\":\"APPLE57CRESCENT\",\"Spool_GB\":\".0000\",\"Statement_Bucket\":\"Admin\",\"System_Use\":\"Production\",\"Total_AMPs\":\"1680\",\"TransferTime_Sec\":\".0100\",\"Use_Bucket\":\"Stream\",\"User_Bucket\":\"CORE ETL\",\"User_Department\":\"SALESOPS\",\"User_SubDepartment\":\"OPS\",\"acct_industry_name\":\"Manufacturing\",\"acct_subindustry_name\":\"Software\",\"cust_region_desc\":\"Americas\",\"gtm_acct_name\":\"Apple, Inc.\",\"sls_area_name\":\"West\",\"strategic_sgmnt_cd\":\"Hyperscale Architect\"},{\"Account_Name\":\"Apple, Inc.\",\"App_Bucket\":\"JDBC\",\"CPUSec_Skew_AvgPCt\":\"-.1662\",\"CPU_AMP_Sec\":\"35106.6000\",\"CPU_Parse_Sec\":\"11.8400\",\"CPU_Total_Sec\":\"35118.4400\",\"DelayTime_Sec\":\"\",\"IOCntM_Physical\":\"60\",\"IOCntM_Total\":\"75\",\"IOCnt_Skew_AvgPct\":\"-.0864\",\"IOGB_Physical\":\"7656.5200\",\"IOGB_Total\":\"8880.2200\",\"IOTA_Used_cntB\":\"60974.8900\",\"LogTS\":\"2020-04-30 12:00:00-04:00\",\"NumOfActiveAMPs_Avg\":\"84.8769\",\"Query_Abort_Cnt\":\"0\",\"Query_Cnt\":\"4805\",\"Query_Complexity_Score_Avg\":\".1797\",\"Query_Error_Cnt\":\"0\",\"Query_InMem_Cnt\":\"674\",\"Query_MultiStatement_Cnt\":\"0\",\"Query_NoIO_cnt\":\"3895\",\"Query_PhysIO_Cnt\":\"236\",\"Request_Cnt\":\"4805\",\"Returned_Row_Cnt\":\"154233\",\"Row_Key\":\"6218450\",\"Run_ID\":\"629\",\"Runtime_AMP_Sec\":\"62.8900\",\"Runtime_Parse_Sec\":\"22.5500\",\"Runtime_Total_Sec\":\"85.4400\",\"Site_ID\":\"APPLE57CRESCENT\",\"Site_Name\":\"APPLE57CRESCENT\",\"Spool_GB\":\".6913\",\"Statement_Bucket\":\"Select\",\"System_Use\":\"Production\",\"Total_AMPs\":\"1680\",\"TransferTime_Sec\":\"53.9900\",\"Use_Bucket\":\"Application\",\"User_Bucket\":\"DASHBOARD\",\"User_Department\":\"ITUNES\",\"User_SubDepartment\":\"ITUNES\",\"acct_industry_name\":\"Manufacturing\",\"acct_subindustry_name\":\"Software\",\"cust_region_desc\":\"Americas\",\"gtm_acct_name\":\"Apple, Inc.\",\"sls_area_name\":\"West\",\"strategic_sgmnt_cd\":\"Hyperscale Architect\"},{\"Account_Name\":\"Apple, Inc.\",\"App_Bucket\":\"BTEQ\",\"CPUSec_Skew_AvgPCt\":\"-.3489\",\"CPU_AMP_Sec\":\"58897.5900\",\"CPU_Parse_Sec\":\".6400\",\"CPU_Total_Sec\":\"58898.2300\",\"DelayTime_Sec\":\"\",\"IOCntM_Physical\":\"99\",\"IOCntM_Total\":\"138\",\"IOCnt_Skew_AvgPct\":\"-.2581\",\"IOGB_Physical\":\"12430.0700\",\"IOGB_Total\":\"15838.5900\",\"IOTA_Used_cntB\":\"9380.7800\",\"LogTS\":\"2020-05-07 13:00:00-04:00\",\"NumOfActiveAMPs_Avg\":\"1680.0000\",\"Query_Abort_Cnt\":\"0\",\"Query_Cnt\":\"24\",\"Query_Complexity_Score_Avg\":\"10.8889\",\"Query_Error_Cnt\":\"0\",\"Query_InMem_Cnt\":\"3\",\"Query_MultiStatement_Cnt\":\"0\",\"Query_NoIO_cnt\":\"0\",\"Query_PhysIO_Cnt\":\"21\",\"Request_Cnt\":\"24\",\"Returned_Row_Cnt\":\"0\",\"Row_Key\":\"8961520\",\"Run_ID\":\"629\",\"Runtime_AMP_Sec\":\"127.7000\",\"Runtime_Parse_Sec\":\".9500\",\"Runtime_Total_Sec\":\"128.6500\",\"Site_ID\":\"APPLE57CRESCENT\",\"Site_Name\":\"APPLE57CRESCENT\",\"Spool_GB\":\".0000\",\"Statement_Bucket\":\"Admin\",\"System_Use\":\"Production\",\"Total_AMPs\":\"1680\",\"TransferTime_Sec\":\".0400\",\"Use_Bucket\":\"ETL\",\"User_Bucket\":\"ADHOC\",\"User_Department\":\"iTunes\",\"User_SubDepartment\":\"iTunes\",\"acct_industry_name\":\"Manufacturing\",\"acct_subindustry_name\":\"Software\",\"cust_region_desc\":\"Americas\",\"gtm_acct_name\":\"Apple, Inc.\",\"sls_area_name\":\"West\",\"strategic_sgmnt_cd\":\"Hyperscale Architect\"},{\"Account_Name\":\"Apple, Inc.\",\"App_Bucket\":\"BTEQ\",\"CPUSec_Skew_AvgPCt\":\"-.7839\",\"CPU_AMP_Sec\":\"32.3300\",\"CPU_Parse_Sec\":\".4400\",\"CPU_Total_Sec\":\"32.7700\",\"DelayTime_Sec\":\"\",\"IOCntM_Physical\":\"0\",\"IOCntM_Total\":\"0\",\"IOCnt_Skew_AvgPct\":\"-.2589\",\"IOGB_Physical\":\".0000\",\"IOGB_Total\":\"33.4900\",\"IOTA_Used_cntB\":\".0000\",\"LogTS\":\"2020-03-30 14:00:00-04:00\",\"NumOfActiveAMPs_Avg\":\"119.0619\",\"Query_Abort_Cnt\":\"0\",\"Query_Cnt\":\"226\",\"Query_Complexity_Score_Avg\":\".5310\",\"Query_Error_Cnt\":\"0\",\"Query_InMem_Cnt\":\"2\",\"Query_MultiStatement_Cnt\":\"0\",\"Query_NoIO_cnt\":\"182\",\"Query_PhysIO_Cnt\":\"42\",\"Request_Cnt\":\"226\",\"Returned_Row_Cnt\":\"1042\",\"Row_Key\":\"7117387\",\"Run_ID\":\"629\",\"Runtime_AMP_Sec\":\"2.2500\",\"Runtime_Parse_Sec\":\".8200\",\"Runtime_Total_Sec\":\"3.0700\",\"Site_ID\":\"APPLE57CRESCENT\",\"Site_Name\":\"APPLE57CRESCENT\",\"Spool_GB\":\".0011\",\"Statement_Bucket\":\"Select\",\"System_Use\":\"Production\",\"Total_AMPs\":\"1680\",\"TransferTime_Sec\":\".0800\",\"Use_Bucket\":\"ETL\",\"User_Bucket\":\"SEMANTIC\",\"User_Department\":\"SALESOPS\",\"User_SubDepartment\":\"OPS\",\"acct_industry_name\":\"Manufacturing\",\"acct_subindustry_name\":\"Software\",\"cust_region_desc\":\"Americas\",\"gtm_acct_name\":\"Apple, Inc.\",\"sls_area_name\":\"West\",\"strategic_sgmnt_cd\":\"Hyperscale Architect\"},{\"Account_Name\":\"Apple, Inc.\",\"App_Bucket\":\"JDBC\",\"CPUSec_Skew_AvgPCt\":\"-.1941\",\"CPU_AMP_Sec\":\"1834.0700\",\"CPU_Parse_Sec\":\"13.8900\",\"CPU_Total_Sec\":\"1847.9600\",\"DelayTime_Sec\":\"\",\"IOCntM_Physical\":\"1\",\"IOCntM_Total\":\"76\",\"IOCnt_Skew_AvgPct\":\"-.0761\",\"IOGB_Physical\":\"223.8700\",\"IOGB_Total\":\"4783.2100\",\"IOTA_Used_cntB\":\"507.7100\",\"LogTS\":\"2020-04-16 04:00:00-04:00\",\"NumOfActiveAMPs_Avg\":\"210.0000\",\"Query_Abort_Cnt\":\"0\",\"Query_Cnt\":\"3755\",\"Query_Complexity_Score_Avg\":\".8170\",\"Query_Error_Cnt\":\"0\",\"Query_InMem_Cnt\":\"102\",\"Query_MultiStatement_Cnt\":\"0\",\"Query_NoIO_cnt\":\"3587\",\"Query_PhysIO_Cnt\":\"66\",\"Request_Cnt\":\"3755\",\"Returned_Row_Cnt\":\"95411\",\"Row_Key\":\"9426431\",\"Run_ID\":\"629\",\"Runtime_AMP_Sec\":\"44.1300\",\"Runtime_Parse_Sec\":\"18.6900\",\"Runtime_Total_Sec\":\"62.8200\",\"Site_ID\":\"APPLE57CRESCENT\",\"Site_Name\":\"APPLE57CRESCENT\",\"Spool_GB\":\"4.3424\",\"Statement_Bucket\":\"Select\",\"System_Use\":\"Production\",\"Total_AMPs\":\"1680\",\"TransferTime_Sec\":\"14.0600\",\"Use_Bucket\":\"Application\",\"User_Bucket\":\"DASHBOARD\",\"User_Department\":\"SYSTEM\",\"User_SubDepartment\":\"SYSTEM\",\"acct_industry_name\":\"Manufacturing\",\"acct_subindustry_name\":\"Software\",\"cust_region_desc\":\"Americas\",\"gtm_acct_name\":\"Apple, Inc.\",\"sls_area_name\":\"West\",\"strategic_sgmnt_cd\":\"Hyperscale Architect\"},{\"Account_Name\":\"Apple, Inc.\",\"App_Bucket\":\"JDBC\",\"CPUSec_Skew_AvgPCt\":\"-.9321\",\"CPU_AMP_Sec\":\"3.6500\",\"CPU_Parse_Sec\":\".2000\",\"CPU_Total_Sec\":\"3.8500\",\"DelayTime_Sec\":\"\",\"IOCntM_Physical\":\"0\",\"IOCntM_Total\":\"0\",\"IOCnt_Skew_AvgPct\":\"-.4288\",\"IOGB_Physical\":\".0000\",\"IOGB_Total\":\"6.6800\",\"IOTA_Used_cntB\":\".0000\",\"LogTS\":\"2020-04-21 06:00:00-04:00\",\"NumOfActiveAMPs_Avg\":\"840.0000\",\"Query_Abort_Cnt\":\"0\",\"Query_Cnt\":\"8\",\"Query_Complexity_Score_Avg\":\"1.5000\",\"Query_Error_Cnt\":\"0\",\"Query_InMem_Cnt\":\"4\",\"Query_MultiStatement_Cnt\":\"0\",\"Query_NoIO_cnt\":\"4\",\"Query_PhysIO_Cnt\":\"0\",\"Request_Cnt\":\"8\",\"Returned_Row_Cnt\":\"0\",\"Row_Key\":\"10615103\",\"Run_ID\":\"629\",\"Runtime_AMP_Sec\":\".1100\",\"Runtime_Parse_Sec\":\".2300\",\"Runtime_Total_Sec\":\".3400\",\"Site_ID\":\"APPLE57CRESCENT\",\"Site_Name\":\"APPLE57CRESCENT\",\"Spool_GB\":\".0000\",\"Statement_Bucket\":\"Merge/Update/Delete\",\"System_Use\":\"Production\",\"Total_AMPs\":\"1680\",\"TransferTime_Sec\":\".0100\",\"Use_Bucket\":\"Application\",\"User_Bucket\":\"SYSTEM\",\"User_Department\":\"SYSTEM\",\"User_SubDepartment\":\"SYSTEM\",\"acct_industry_name\":\"Manufacturing\",\"acct_subindustry_name\":\"Software\",\"cust_region_desc\":\"Americas\",\"gtm_acct_name\":\"Apple, Inc.\",\"sls_area_name\":\"West\",\"strategic_sgmnt_cd\":\"Hyperscale Architect\"},{\"Account_Name\":\"Apple, Inc.\",\"App_Bucket\":\"BTEQ\",\"CPUSec_Skew_AvgPCt\":\"-.7159\",\"CPU_AMP_Sec\":\"7.1200\",\"CPU_Parse_Sec\":\".1000\",\"CPU_Total_Sec\":\"7.2200\",\"DelayTime_Sec\":\"\",\"IOCntM_Physical\":\"0\",\"IOCntM_Total\":\"0\",\"IOCnt_Skew_AvgPct\":\"-.2290\",\"IOGB_Physical\":\".0000\",\"IOGB_Total\":\"7.1200\",\"IOTA_Used_cntB\":\".0000\",\"LogTS\":\"2020-04-19 08:00:00-04:00\",\"NumOfActiveAMPs_Avg\":\"105.1250\",\"Query_Abort_Cnt\":\"0\",\"Query_Cnt\":\"64\",\"Query_Complexity_Score_Avg\":\".5000\",\"Query_Error_Cnt\":\"0\",\"Query_InMem_Cnt\":\"8\",\"Query_MultiStatement_Cnt\":\"0\",\"Query_NoIO_cnt\":\"52\",\"Query_PhysIO_Cnt\":\"4\",\"Request_Cnt\":\"64\",\"Returned_Row_Cnt\":\"140\",\"Row_Key\":\"12605776\",\"Run_ID\":\"629\",\"Runtime_AMP_Sec\":\".2200\",\"Runtime_Parse_Sec\":\".1600\",\"Runtime_Total_Sec\":\".3800\",\"Site_ID\":\"APPLE57CRESCENT\",\"Site_Name\":\"APPLE57CRESCENT\",\"Spool_GB\":\".0002\",\"Statement_Bucket\":\"Select\",\"System_Use\":\"Production\",\"Total_AMPs\":\"1680\",\"TransferTime_Sec\":\".0300\",\"Use_Bucket\":\"ETL\",\"User_Bucket\":\"OUTBOUND\",\"User_Department\":\"SALESOPS\",\"User_SubDepartment\":\"OPS\",\"acct_industry_name\":\"Manufacturing\",\"acct_subindustry_name\":\"Software\",\"cust_region_desc\":\"Americas\",\"gtm_acct_name\":\"Apple, Inc.\",\"sls_area_name\":\"West\",\"strategic_sgmnt_cd\":\"Hyperscale Architect\"},{\"Account_Name\":\"Apple, Inc.\",\"App_Bucket\":\"TTU\",\"CPUSec_Skew_AvgPCt\":\".0000\",\"CPU_AMP_Sec\":\".0000\",\"CPU_Parse_Sec\":\".0300\",\"CPU_Total_Sec\":\".0300\",\"DelayTime_Sec\":\"\",\"IOCntM_Physical\":\"0\",\"IOCntM_Total\":\"0\",\"IOCnt_Skew_AvgPct\":\".0000\",\"IOGB_Physical\":\".0000\",\"IOGB_Total\":\".0000\",\"IOTA_Used_cntB\":\".0000\",\"LogTS\":\"2020-05-04 17:00:00-04:00\",\"NumOfActiveAMPs_Avg\":\".0000\",\"Query_Abort_Cnt\":\"0\",\"Query_Cnt\":\"2\",\"Query_Complexity_Score_Avg\":\".0000\",\"Query_Error_Cnt\":\"0\",\"Query_InMem_Cnt\":\"0\",\"Query_MultiStatement_Cnt\":\"0\",\"Query_NoIO_cnt\":\"2\",\"Query_PhysIO_Cnt\":\"0\",\"Request_Cnt\":\"2\",\"Returned_Row_Cnt\":\"0\",\"Row_Key\":\"1053548\",\"Run_ID\":\"629\",\"Runtime_AMP_Sec\":\".0100\",\"Runtime_Parse_Sec\":\".0900\",\"Runtime_Total_Sec\":\".1000\",\"Site_ID\":\"APPLE57CRESCENT\",\"Site_Name\":\"APPLE57CRESCENT\",\"Spool_GB\":\".0000\",\"Statement_Bucket\":\"Select\",\"System_Use\":\"Production\",\"Total_AMPs\":\"1680\",\"TransferTime_Sec\":\".0000\",\"Use_Bucket\":\"ETL\",\"User_Bucket\":\"SEMANTIC\",\"User_Department\":\"MARKETING\",\"User_SubDepartment\":\"MARKETING\",\"acct_industry_name\":\"Manufacturing\",\"acct_subindustry_name\":\"Software\",\"cust_region_desc\":\"Americas\",\"gtm_acct_name\":\"Apple, Inc.\",\"sls_area_name\":\"West\",\"strategic_sgmnt_cd\":\"Hyperscale Architect\"},{\"Account_Name\":\"Apple, Inc.\",\"App_Bucket\":\"BTEQ\",\"CPUSec_Skew_AvgPCt\":\"-.9243\",\"CPU_AMP_Sec\":\"74.3000\",\"CPU_Parse_Sec\":\"2.0700\",\"CPU_Total_Sec\":\"76.3700\",\"DelayTime_Sec\":\"\",\"IOCntM_Physical\":\"0\",\"IOCntM_Total\":\"1\",\"IOCnt_Skew_AvgPct\":\"-.8595\",\"IOGB_Physical\":\".1300\",\"IOGB_Total\":\"64.9900\",\"IOTA_Used_cntB\":\"1.0900\",\"LogTS\":\"2020-03-30 16:00:00-04:00\",\"NumOfActiveAMPs_Avg\":\"1680.0000\",\"Query_Abort_Cnt\":\"0\",\"Query_Cnt\":\"5\",\"Query_Complexity_Score_Avg\":\"43.8000\",\"Query_Error_Cnt\":\"0\",\"Query_InMem_Cnt\":\"0\",\"Query_MultiStatement_Cnt\":\"0\",\"Query_NoIO_cnt\":\"0\",\"Query_PhysIO_Cnt\":\"5\",\"Request_Cnt\":\"5\",\"Returned_Row_Cnt\":\"0\",\"Row_Key\":\"5533647\",\"Run_ID\":\"629\",\"Runtime_AMP_Sec\":\"43.3400\",\"Runtime_Parse_Sec\":\"2.3400\",\"Runtime_Total_Sec\":\"45.6800\",\"Site_ID\":\"APPLE57CRESCENT\",\"Site_Name\":\"APPLE57CRESCENT\",\"Spool_GB\":\".2046\",\"Statement_Bucket\":\"Collect Stats\",\"System_Use\":\"Production\",\"Total_AMPs\":\"1680\",\"TransferTime_Sec\":\".0100\",\"Use_Bucket\":\"ETL\",\"User_Bucket\":\"OUTBOUND\",\"User_Department\":\"SALESOPS\",\"User_SubDepartment\":\"OPS\",\"acct_industry_name\":\"Manufacturing\",\"acct_subindustry_name\":\"Software\",\"cust_region_desc\":\"Americas\",\"gtm_acct_name\":\"Apple, Inc.\",\"sls_area_name\":\"West\",\"strategic_sgmnt_cd\":\"Hyperscale Architect\"},{\"Account_Name\":\"Apple, Inc.\",\"App_Bucket\":\"Tableau\",\"CPUSec_Skew_AvgPCt\":\"-.8457\",\"CPU_AMP_Sec\":\"2938.4900\",\"CPU_Parse_Sec\":\"25.8500\",\"CPU_Total_Sec\":\"2964.3400\",\"DelayTime_Sec\":\"\",\"IOCntM_Physical\":\"0\",\"IOCntM_Total\":\"7\",\"IOCnt_Skew_AvgPct\":\"-.6806\",\"IOGB_Physical\":\"3.6000\",\"IOGB_Total\":\"399.7800\",\"IOTA_Used_cntB\":\"25.1100\",\"LogTS\":\"2020-04-23 17:00:00-04:00\",\"NumOfActiveAMPs_Avg\":\"1572.7660\",\"Query_Abort_Cnt\":\"0\",\"Query_Cnt\":\"47\",\"Query_Complexity_Score_Avg\":\"11.5957\",\"Query_Error_Cnt\":\"0\",\"Query_InMem_Cnt\":\"29\",\"Query_MultiStatement_Cnt\":\"0\",\"Query_NoIO_cnt\":\"3\",\"Query_PhysIO_Cnt\":\"15\",\"Request_Cnt\":\"47\",\"Returned_Row_Cnt\":\"31992170\",\"Row_Key\":\"5326637\",\"Run_ID\":\"629\",\"Runtime_AMP_Sec\":\"20.3500\",\"Runtime_Parse_Sec\":\"27.1200\",\"Runtime_Total_Sec\":\"47.4700\",\"Site_ID\":\"APPLE57CRESCENT\",\"Site_Name\":\"APPLE57CRESCENT\",\"Spool_GB\":\"32.5689\",\"Statement_Bucket\":\"Select\",\"System_Use\":\"Production\",\"Total_AMPs\":\"1680\",\"TransferTime_Sec\":\"2305.4500\",\"Use_Bucket\":\"Analytic\",\"User_Bucket\":\"ADHOC\",\"User_Department\":\"SALESOPS\",\"User_SubDepartment\":\"FINANCE\",\"acct_industry_name\":\"Manufacturing\",\"acct_subindustry_name\":\"Software\",\"cust_region_desc\":\"Americas\",\"gtm_acct_name\":\"Apple, Inc.\",\"sls_area_name\":\"West\",\"strategic_sgmnt_cd\":\"Hyperscale Architect\"},{\"Account_Name\":\"Apple, Inc.\",\"App_Bucket\":\"TTU\",\"CPUSec_Skew_AvgPCt\":\"-.9364\",\"CPU_AMP_Sec\":\"375.1700\",\"CPU_Parse_Sec\":\".1200\",\"CPU_Total_Sec\":\"375.2900\",\"DelayTime_Sec\":\"\",\"IOCntM_Physical\":\"0\",\"IOCntM_Total\":\"9\",\"IOCnt_Skew_AvgPct\":\"-.4102\",\"IOGB_Physical\":\"28.6200\",\"IOGB_Total\":\"368.2200\",\"IOTA_Used_cntB\":\"205.5100\",\"LogTS\":\"2020-05-09 04:00:00-04:00\",\"NumOfActiveAMPs_Avg\":\"1666.5241\",\"Query_Abort_Cnt\":\"0\",\"Query_Cnt\":\"634\",\"Query_Complexity_Score_Avg\":\"4.9599\",\"Query_Error_Cnt\":\"6\",\"Query_InMem_Cnt\":\"255\",\"Query_MultiStatement_Cnt\":\"0\",\"Query_NoIO_cnt\":\"6\",\"Query_PhysIO_Cnt\":\"373\",\"Request_Cnt\":\"634\",\"Returned_Row_Cnt\":\"0\",\"Row_Key\":\"5741612\",\"Run_ID\":\"629\",\"Runtime_AMP_Sec\":\"38.3600\",\"Runtime_Parse_Sec\":\"4.5700\",\"Runtime_Total_Sec\":\"42.9300\",\"Site_ID\":\"APPLE57CRESCENT\",\"Site_Name\":\"APPLE57CRESCENT\",\"Spool_GB\":\".0000\",\"Statement_Bucket\":\"Merge/Update/Delete\",\"System_Use\":\"Production\",\"Total_AMPs\":\"1680\",\"TransferTime_Sec\":\".4300\",\"Use_Bucket\":\"ETL\",\"User_Bucket\":\"CORE ETL\",\"User_Department\":\"ITUNES\",\"User_SubDepartment\":\"ITUNES\",\"acct_industry_name\":\"Manufacturing\",\"acct_subindustry_name\":\"Software\",\"cust_region_desc\":\"Americas\",\"gtm_acct_name\":\"Apple, Inc.\",\"sls_area_name\":\"West\",\"strategic_sgmnt_cd\":\"Hyperscale Architect\"},{\"Account_Name\":\"Apple, Inc.\",\"App_Bucket\":\"Tableau\",\"CPUSec_Skew_AvgPCt\":\"-.3309\",\"CPU_AMP_Sec\":\".1000\",\"CPU_Parse_Sec\":\"7.0400\",\"CPU_Total_Sec\":\"7.1400\",\"DelayTime_Sec\":\"\",\"IOCntM_Physical\":\"0\",\"IOCntM_Total\":\"0\",\"IOCnt_Skew_AvgPct\":\"-.2625\",\"IOGB_Physical\":\".0000\",\"IOGB_Total\":\"8.3200\",\"IOTA_Used_cntB\":\".0000\",\"LogTS\":\"2020-03-29 19:00:00-04:00\",\"NumOfActiveAMPs_Avg\":\"29.0513\",\"Query_Abort_Cnt\":\"0\",\"Query_Cnt\":\"65\",\"Query_Complexity_Score_Avg\":\".0513\",\"Query_Error_Cnt\":\"24\",\"Query_InMem_Cnt\":\"2\",\"Query_MultiStatement_Cnt\":\"0\",\"Query_NoIO_cnt\":\"63\",\"Query_PhysIO_Cnt\":\"0\",\"Request_Cnt\":\"65\",\"Returned_Row_Cnt\":\"2\",\"Row_Key\":\"12605450\",\"Run_ID\":\"629\",\"Runtime_AMP_Sec\":\".1000\",\"Runtime_Parse_Sec\":\"7.4100\",\"Runtime_Total_Sec\":\"7.5100\",\"Site_ID\":\"APPLE57CRESCENT\",\"Site_Name\":\"APPLE57CRESCENT\",\"Spool_GB\":\".0001\",\"Statement_Bucket\":\"Other\",\"System_Use\":\"Production\",\"Total_AMPs\":\"1680\",\"TransferTime_Sec\":\".0700\",\"Use_Bucket\":\"Analytic\",\"User_Bucket\":\"DASHBOARD\",\"User_Department\":\"SALESOPS\",\"User_SubDepartment\":\"OPS\",\"acct_industry_name\":\"Manufacturing\",\"acct_subindustry_name\":\"Software\",\"cust_region_desc\":\"Americas\",\"gtm_acct_name\":\"Apple, Inc.\",\"sls_area_name\":\"West\",\"strategic_sgmnt_cd\":\"Hyperscale Architect\"},{\"Account_Name\":\"Apple, Inc.\",\"App_Bucket\":\"TTU\",\"CPUSec_Skew_AvgPCt\":\".0000\",\"CPU_AMP_Sec\":\".0000\",\"CPU_Parse_Sec\":\".1300\",\"CPU_Total_Sec\":\".1300\",\"DelayTime_Sec\":\"\",\"IOCntM_Physical\":\"0\",\"IOCntM_Total\":\"0\",\"IOCnt_Skew_AvgPct\":\".0000\",\"IOGB_Physical\":\".0000\",\"IOGB_Total\":\".0000\",\"IOTA_Used_cntB\":\".0000\",\"LogTS\":\"2020-04-05 07:00:00-04:00\",\"NumOfActiveAMPs_Avg\":\"1.0000\",\"Query_Abort_Cnt\":\"0\",\"Query_Cnt\":\"4\",\"Query_Complexity_Score_Avg\":\"1.0000\",\"Query_Error_Cnt\":\"0\",\"Query_InMem_Cnt\":\"4\",\"Query_MultiStatement_Cnt\":\"0\",\"Query_NoIO_cnt\":\"0\",\"Query_PhysIO_Cnt\":\"0\",\"Request_Cnt\":\"4\",\"Returned_Row_Cnt\":\"0\",\"Row_Key\":\"11427539\",\"Run_ID\":\"629\",\"Runtime_AMP_Sec\":\".0300\",\"Runtime_Parse_Sec\":\".1400\",\"Runtime_Total_Sec\":\".1700\",\"Site_ID\":\"APPLE57CRESCENT\",\"Site_Name\":\"APPLE57CRESCENT\",\"Spool_GB\":\".0000\",\"Statement_Bucket\":\"Admin\",\"System_Use\":\"Production\",\"Total_AMPs\":\"1680\",\"TransferTime_Sec\":\".0000\",\"Use_Bucket\":\"Export\",\"User_Bucket\":\"SEMANTIC\",\"User_Department\":\"MARKETING\",\"User_SubDepartment\":\"MARKETING\",\"acct_industry_name\":\"Manufacturing\",\"acct_subindustry_name\":\"Software\",\"cust_region_desc\":\"Americas\",\"gtm_acct_name\":\"Apple, Inc.\",\"sls_area_name\":\"West\",\"strategic_sgmnt_cd\":\"Hyperscale Architect\"},{\"Account_Name\":\"Apple, Inc.\",\"App_Bucket\":\"TTU\",\"CPUSec_Skew_AvgPCt\":\"-.9077\",\"CPU_AMP_Sec\":\"38.9500\",\"CPU_Parse_Sec\":\".0400\",\"CPU_Total_Sec\":\"38.9900\",\"DelayTime_Sec\":\"\",\"IOCntM_Physical\":\"0\",\"IOCntM_Total\":\"0\",\"IOCnt_Skew_AvgPct\":\"-.3376\",\"IOGB_Physical\":\"1.7100\",\"IOGB_Total\":\"25.7500\",\"IOTA_Used_cntB\":\"13.7800\",\"LogTS\":\"2020-04-07 22:00:00-04:00\",\"NumOfActiveAMPs_Avg\":\"1680.0000\",\"Query_Abort_Cnt\":\"0\",\"Query_Cnt\":\"28\",\"Query_Complexity_Score_Avg\":\"5.0000\",\"Query_Error_Cnt\":\"0\",\"Query_InMem_Cnt\":\"13\",\"Query_MultiStatement_Cnt\":\"0\",\"Query_NoIO_cnt\":\"0\",\"Query_PhysIO_Cnt\":\"15\",\"Request_Cnt\":\"28\",\"Returned_Row_Cnt\":\"0\",\"Row_Key\":\"12604474\",\"Run_ID\":\"629\",\"Runtime_AMP_Sec\":\"2.5300\",\"Runtime_Parse_Sec\":\".2400\",\"Runtime_Total_Sec\":\"2.7700\",\"Site_ID\":\"APPLE57CRESCENT\",\"Site_Name\":\"APPLE57CRESCENT\",\"Spool_GB\":\".0000\",\"Statement_Bucket\":\"Merge/Update/Delete\",\"System_Use\":\"Production\",\"Total_AMPs\":\"1680\",\"TransferTime_Sec\":\".0300\",\"Use_Bucket\":\"ETL\",\"User_Bucket\":\"SEMANTIC\",\"User_Department\":\"SALESOPS\",\"User_SubDepartment\":\"OPS\",\"acct_industry_name\":\"Manufacturing\",\"acct_subindustry_name\":\"Software\",\"cust_region_desc\":\"Americas\",\"gtm_acct_name\":\"Apple, Inc.\",\"sls_area_name\":\"West\",\"strategic_sgmnt_cd\":\"Hyperscale Architect\"},{\"Account_Name\":\"Apple, Inc.\",\"App_Bucket\":\"TTU\",\"CPUSec_Skew_AvgPCt\":\"-.9812\",\"CPU_AMP_Sec\":\"207.6100\",\"CPU_Parse_Sec\":\"9.2100\",\"CPU_Total_Sec\":\"216.8200\",\"DelayTime_Sec\":\"\",\"IOCntM_Physical\":\"0\",\"IOCntM_Total\":\"3\",\"IOCnt_Skew_AvgPct\":\"-.9520\",\"IOGB_Physical\":\"3.4100\",\"IOGB_Total\":\"185.8800\",\"IOTA_Used_cntB\":\"818.3700\",\"LogTS\":\"2020-03-28 04:00:00-04:00\",\"NumOfActiveAMPs_Avg\":\"1680.0000\",\"Query_Abort_Cnt\":\"0\",\"Query_Cnt\":\"1190\",\"Query_Complexity_Score_Avg\":\"25.1185\",\"Query_Error_Cnt\":\"0\",\"Query_InMem_Cnt\":\"139\",\"Query_MultiStatement_Cnt\":\"0\",\"Query_NoIO_cnt\":\"0\",\"Query_PhysIO_Cnt\":\"1051\",\"Request_Cnt\":\"1020\",\"Returned_Row_Cnt\":\"0\",\"Row_Key\":\"8219390\",\"Run_ID\":\"629\",\"Runtime_AMP_Sec\":\"46.8100\",\"Runtime_Parse_Sec\":\"16.1300\",\"Runtime_Total_Sec\":\"62.9400\",\"Site_ID\":\"APPLE57CRESCENT\",\"Site_Name\":\"APPLE57CRESCENT\",\"Spool_GB\":\".0000\",\"Statement_Bucket\":\"Create/Drop\",\"System_Use\":\"Production\",\"Total_AMPs\":\"1680\",\"TransferTime_Sec\":\".1600\",\"Use_Bucket\":\"Stream\",\"User_Bucket\":\"CORE ETL\",\"User_Department\":\"SALESOPS\",\"User_SubDepartment\":\"OPS\",\"acct_industry_name\":\"Manufacturing\",\"acct_subindustry_name\":\"Software\",\"cust_region_desc\":\"Americas\",\"gtm_acct_name\":\"Apple, Inc.\",\"sls_area_name\":\"West\",\"strategic_sgmnt_cd\":\"Hyperscale Architect\"},{\"Account_Name\":\"Apple, Inc.\",\"App_Bucket\":\"BTEQ\",\"CPUSec_Skew_AvgPCt\":\".0000\",\"CPU_AMP_Sec\":\".0000\",\"CPU_Parse_Sec\":\".2700\",\"CPU_Total_Sec\":\".2700\",\"DelayTime_Sec\":\"\",\"IOCntM_Physical\":\"0\",\"IOCntM_Total\":\"0\",\"IOCnt_Skew_AvgPct\":\".0000\",\"IOGB_Physical\":\".0000\",\"IOGB_Total\":\".0000\",\"IOTA_Used_cntB\":\".0000\",\"LogTS\":\"2020-04-08 18:00:00-04:00\",\"NumOfActiveAMPs_Avg\":\".0000\",\"Query_Abort_Cnt\":\"0\",\"Query_Cnt\":\"65\",\"Query_Complexity_Score_Avg\":\".6000\",\"Query_Error_Cnt\":\"0\",\"Query_InMem_Cnt\":\"0\",\"Query_MultiStatement_Cnt\":\"0\",\"Query_NoIO_cnt\":\"65\",\"Query_PhysIO_Cnt\":\"0\",\"Request_Cnt\":\"65\",\"Returned_Row_Cnt\":\"0\",\"Row_Key\":\"8439047\",\"Run_ID\":\"629\",\"Runtime_AMP_Sec\":\"69.5000\",\"Runtime_Parse_Sec\":\".3900\",\"Runtime_Total_Sec\":\"69.8900\",\"Site_ID\":\"APPLE57CRESCENT\",\"Site_Name\":\"APPLE57CRESCENT\",\"Spool_GB\":\".0000\",\"Statement_Bucket\":\"Stored Proc\",\"System_Use\":\"Production\",\"Total_AMPs\":\"1680\",\"TransferTime_Sec\":\".0000\",\"Use_Bucket\":\"ETL\",\"User_Bucket\":\"SEMANTIC\",\"User_Department\":\"SALESOPS\",\"User_SubDepartment\":\"OPS\",\"acct_industry_name\":\"Manufacturing\",\"acct_subindustry_name\":\"Software\",\"cust_region_desc\":\"Americas\",\"gtm_acct_name\":\"Apple, Inc.\",\"sls_area_name\":\"West\",\"strategic_sgmnt_cd\":\"Hyperscale Architect\"},{\"Account_Name\":\"Apple, Inc.\",\"App_Bucket\":\"BTEQ\",\"CPUSec_Skew_AvgPCt\":\"-.2191\",\"CPU_AMP_Sec\":\"5.2100\",\"CPU_Parse_Sec\":\"7.7300\",\"CPU_Total_Sec\":\"12.9400\",\"DelayTime_Sec\":\"\",\"IOCntM_Physical\":\"0\",\"IOCntM_Total\":\"0\",\"IOCnt_Skew_AvgPct\":\"-.0322\",\"IOGB_Physical\":\".0000\",\"IOGB_Total\":\".0000\",\"IOTA_Used_cntB\":\".0000\",\"LogTS\":\"2020-04-02 15:00:00-04:00\",\"NumOfActiveAMPs_Avg\":\"379.3548\",\"Query_Abort_Cnt\":\"0\",\"Query_Cnt\":\"288\",\"Query_Complexity_Score_Avg\":\".0000\",\"Query_Error_Cnt\":\"0\",\"Query_InMem_Cnt\":\"1\",\"Query_MultiStatement_Cnt\":\"0\",\"Query_NoIO_cnt\":\"287\",\"Query_PhysIO_Cnt\":\"0\",\"Request_Cnt\":\"288\",\"Returned_Row_Cnt\":\"0\",\"Row_Key\":\"5737123\",\"Run_ID\":\"629\",\"Runtime_AMP_Sec\":\".7000\",\"Runtime_Parse_Sec\":\"8.5300\",\"Runtime_Total_Sec\":\"9.2300\",\"Site_ID\":\"APPLE57CRESCENT\",\"Site_Name\":\"APPLE57CRESCENT\",\"Spool_GB\":\".0000\",\"Statement_Bucket\":\"Other\",\"System_Use\":\"Production\",\"Total_AMPs\":\"1680\",\"TransferTime_Sec\":\".0500\",\"Use_Bucket\":\"ETL\",\"User_Bucket\":\"SEMANTIC\",\"User_Department\":\"ITUNES\",\"User_SubDepartment\":\"ITUNES\",\"acct_industry_name\":\"Manufacturing\",\"acct_subindustry_name\":\"Software\",\"cust_region_desc\":\"Americas\",\"gtm_acct_name\":\"Apple, Inc.\",\"sls_area_name\":\"West\",\"strategic_sgmnt_cd\":\"Hyperscale Architect\"},{\"Account_Name\":\"Apple, Inc.\",\"App_Bucket\":\"Tableau\",\"CPUSec_Skew_AvgPCt\":\".0000\",\"CPU_AMP_Sec\":\".0000\",\"CPU_Parse_Sec\":\"1.3200\",\"CPU_Total_Sec\":\"1.3200\",\"DelayTime_Sec\":\"\",\"IOCntM_Physical\":\"0\",\"IOCntM_Total\":\"0\",\"IOCnt_Skew_AvgPct\":\".0000\",\"IOGB_Physical\":\".0000\",\"IOGB_Total\":\".0000\",\"IOTA_Used_cntB\":\".0000\",\"LogTS\":\"2020-06-09 23:00:00-04:00\",\"NumOfActiveAMPs_Avg\":\".5000\",\"Query_Abort_Cnt\":\"0\",\"Query_Cnt\":\"72\",\"Query_Complexity_Score_Avg\":\".5000\",\"Query_Error_Cnt\":\"0\",\"Query_InMem_Cnt\":\"34\",\"Query_MultiStatement_Cnt\":\"0\",\"Query_NoIO_cnt\":\"36\",\"Query_PhysIO_Cnt\":\"2\",\"Request_Cnt\":\"72\",\"Returned_Row_Cnt\":\"0\",\"Row_Key\":\"8616921\",\"Run_ID\":\"629\",\"Runtime_AMP_Sec\":\".4500\",\"Runtime_Parse_Sec\":\"1.5300\",\"Runtime_Total_Sec\":\"1.9800\",\"Site_ID\":\"APPLE57CRESCENT\",\"Site_Name\":\"APPLE57CRESCENT\",\"Spool_GB\":\".0000\",\"Statement_Bucket\":\"Admin\",\"System_Use\":\"Production\",\"Total_AMPs\":\"1680\",\"TransferTime_Sec\":\"1.1000\",\"Use_Bucket\":\"Analytic\",\"User_Bucket\":\"ADHOC\",\"User_Department\":\"SALESOPS\",\"User_SubDepartment\":\"SALES\",\"acct_industry_name\":\"Manufacturing\",\"acct_subindustry_name\":\"Software\",\"cust_region_desc\":\"Americas\",\"gtm_acct_name\":\"Apple, Inc.\",\"sls_area_name\":\"West\",\"strategic_sgmnt_cd\":\"Hyperscale Architect\"},{\"Account_Name\":\"Apple, Inc.\",\"App_Bucket\":\"BTEQ\",\"CPUSec_Skew_AvgPCt\":\"-.3201\",\"CPU_AMP_Sec\":\"1172.7800\",\"CPU_Parse_Sec\":\".1400\",\"CPU_Total_Sec\":\"1172.9200\",\"DelayTime_Sec\":\"\",\"IOCntM_Physical\":\"1\",\"IOCntM_Total\":\"15\",\"IOCnt_Skew_AvgPct\":\"-.1179\",\"IOGB_Physical\":\"240.2800\",\"IOGB_Total\":\"1623.5300\",\"IOTA_Used_cntB\":\"2794.6300\",\"LogTS\":\"2020-03-28 06:00:00-04:00\",\"NumOfActiveAMPs_Avg\":\"1680.0000\",\"Query_Abort_Cnt\":\"0\",\"Query_Cnt\":\"5\",\"Query_Complexity_Score_Avg\":\"3.8333\",\"Query_Error_Cnt\":\"0\",\"Query_InMem_Cnt\":\"1\",\"Query_MultiStatement_Cnt\":\"0\",\"Query_NoIO_cnt\":\"0\",\"Query_PhysIO_Cnt\":\"4\",\"Request_Cnt\":\"5\",\"Returned_Row_Cnt\":\"0\",\"Row_Key\":\"9433329\",\"Run_ID\":\"629\",\"Runtime_AMP_Sec\":\"4.6200\",\"Runtime_Parse_Sec\":\".3200\",\"Runtime_Total_Sec\":\"4.9400\",\"Site_ID\":\"APPLE57CRESCENT\",\"Site_Name\":\"APPLE57CRESCENT\",\"Spool_GB\":\".0000\",\"Statement_Bucket\":\"Merge/Update/Delete\",\"System_Use\":\"Production\",\"Total_AMPs\":\"1680\",\"TransferTime_Sec\":\".0000\",\"Use_Bucket\":\"ETL\",\"User_Bucket\":\"Unknown\",\"User_Department\":\"ITUNES\",\"User_SubDepartment\":\"ITUNES\",\"acct_industry_name\":\"Manufacturing\",\"acct_subindustry_name\":\"Software\",\"cust_region_desc\":\"Americas\",\"gtm_acct_name\":\"Apple, Inc.\",\"sls_area_name\":\"West\",\"strategic_sgmnt_cd\":\"Hyperscale Architect\"},{\"Account_Name\":\"Apple, Inc.\",\"App_Bucket\":\"Tableau\",\"CPUSec_Skew_AvgPCt\":\".0000\",\"CPU_AMP_Sec\":\".0000\",\"CPU_Parse_Sec\":\".0300\",\"CPU_Total_Sec\":\".0300\",\"DelayTime_Sec\":\"\",\"IOCntM_Physical\":\"0\",\"IOCntM_Total\":\"0\",\"IOCnt_Skew_AvgPct\":\".0000\",\"IOGB_Physical\":\".0000\",\"IOGB_Total\":\".0000\",\"IOTA_Used_cntB\":\".0000\",\"LogTS\":\"2020-03-29 13:00:00-04:00\",\"NumOfActiveAMPs_Avg\":\".3333\",\"Query_Abort_Cnt\":\"0\",\"Query_Cnt\":\"3\",\"Query_Complexity_Score_Avg\":\".0000\",\"Query_Error_Cnt\":\"0\",\"Query_InMem_Cnt\":\"0\",\"Query_MultiStatement_Cnt\":\"0\",\"Query_NoIO_cnt\":\"3\",\"Query_PhysIO_Cnt\":\"0\",\"Request_Cnt\":\"3\",\"Returned_Row_Cnt\":\"0\",\"Row_Key\":\"8961342\",\"Run_ID\":\"629\",\"Runtime_AMP_Sec\":\".0000\",\"Runtime_Parse_Sec\":\".0400\",\"Runtime_Total_Sec\":\".0400\",\"Site_ID\":\"APPLE57CRESCENT\",\"Site_Name\":\"APPLE57CRESCENT\",\"Spool_GB\":\".0000\",\"Statement_Bucket\":\"Other\",\"System_Use\":\"Production\",\"Total_AMPs\":\"1680\",\"TransferTime_Sec\":\".0100\",\"Use_Bucket\":\"Analytic\",\"User_Bucket\":\"ADHOC\",\"User_Department\":\"SALESOPS\",\"User_SubDepartment\":\"SALES\",\"acct_industry_name\":\"Manufacturing\",\"acct_subindustry_name\":\"Software\",\"cust_region_desc\":\"Americas\",\"gtm_acct_name\":\"Apple, Inc.\",\"sls_area_name\":\"West\",\"strategic_sgmnt_cd\":\"Hyperscale Architect\"},{\"Account_Name\":\"Apple, Inc.\",\"App_Bucket\":\"TTU\",\"CPUSec_Skew_AvgPCt\":\"-.9633\",\"CPU_AMP_Sec\":\"154.6700\",\"CPU_Parse_Sec\":\"2.9700\",\"CPU_Total_Sec\":\"157.6400\",\"DelayTime_Sec\":\"\",\"IOCntM_Physical\":\"0\",\"IOCntM_Total\":\"2\",\"IOCnt_Skew_AvgPct\":\"-.7269\",\"IOGB_Physical\":\".0000\",\"IOGB_Total\":\"118.2100\",\"IOTA_Used_cntB\":\".0100\",\"LogTS\":\"2020-04-10 16:00:00-04:00\",\"NumOfActiveAMPs_Avg\":\"1421.5385\",\"Query_Abort_Cnt\":\"0\",\"Query_Cnt\":\"520\",\"Query_Complexity_Score_Avg\":\"3.3846\",\"Query_Error_Cnt\":\"80\",\"Query_InMem_Cnt\":\"439\",\"Query_MultiStatement_Cnt\":\"0\",\"Query_NoIO_cnt\":\"80\",\"Query_PhysIO_Cnt\":\"1\",\"Request_Cnt\":\"520\",\"Returned_Row_Cnt\":\"4760\",\"Row_Key\":\"13514754\",\"Run_ID\":\"629\",\"Runtime_AMP_Sec\":\"18.2000\",\"Runtime_Parse_Sec\":\"6.0500\",\"Runtime_Total_Sec\":\"24.2500\",\"Site_ID\":\"APPLE57CRESCENT\",\"Site_Name\":\"APPLE57CRESCENT\",\"Spool_GB\":\".0033\",\"Statement_Bucket\":\"Select\",\"System_Use\":\"Production\",\"Total_AMPs\":\"1680\",\"TransferTime_Sec\":\"1.7700\",\"Use_Bucket\":\"Stream\",\"User_Bucket\":\"CORE ETL\",\"User_Department\":\"APPLECARE\",\"User_SubDepartment\":\"AC REPAIR\",\"acct_industry_name\":\"Manufacturing\",\"acct_subindustry_name\":\"Software\",\"cust_region_desc\":\"Americas\",\"gtm_acct_name\":\"Apple, Inc.\",\"sls_area_name\":\"West\",\"strategic_sgmnt_cd\":\"Hyperscale Architect\"},{\"Account_Name\":\"Apple, Inc.\",\"App_Bucket\":\"JDBC\",\"CPUSec_Skew_AvgPCt\":\"-.2616\",\"CPU_AMP_Sec\":\".5500\",\"CPU_Parse_Sec\":\"26.8900\",\"CPU_Total_Sec\":\"27.4400\",\"DelayTime_Sec\":\"\",\"IOCntM_Physical\":\"0\",\"IOCntM_Total\":\"0\",\"IOCnt_Skew_AvgPct\":\"-.1662\",\"IOGB_Physical\":\".0000\",\"IOGB_Total\":\".0100\",\"IOTA_Used_cntB\":\".0000\",\"LogTS\":\"2020-04-10 03:00:00-04:00\",\"NumOfActiveAMPs_Avg\":\"336.7000\",\"Query_Abort_Cnt\":\"0\",\"Query_Cnt\":\"760\",\"Query_Complexity_Score_Avg\":\".7000\",\"Query_Error_Cnt\":\"0\",\"Query_InMem_Cnt\":\"9\",\"Query_MultiStatement_Cnt\":\"0\",\"Query_NoIO_cnt\":\"751\",\"Query_PhysIO_Cnt\":\"0\",\"Request_Cnt\":\"2242\",\"Returned_Row_Cnt\":\"0\",\"Row_Key\":\"3243580\",\"Run_ID\":\"629\",\"Runtime_AMP_Sec\":\".6800\",\"Runtime_Parse_Sec\":\"30.7000\",\"Runtime_Total_Sec\":\"31.3800\",\"Site_ID\":\"APPLE57CRESCENT\",\"Site_Name\":\"APPLE57CRESCENT\",\"Spool_GB\":\".0000\",\"Statement_Bucket\":\"Other\",\"System_Use\":\"Production\",\"Total_AMPs\":\"1680\",\"TransferTime_Sec\":\".0000\",\"Use_Bucket\":\"Application\",\"User_Bucket\":\"SEMANTIC\",\"User_Department\":\"ITUNES\",\"User_SubDepartment\":\"ITUNES\",\"acct_industry_name\":\"Manufacturing\",\"acct_subindustry_name\":\"Software\",\"cust_region_desc\":\"Americas\",\"gtm_acct_name\":\"Apple, Inc.\",\"sls_area_name\":\"West\",\"strategic_sgmnt_cd\":\"Hyperscale Architect\"},{\"Account_Name\":\"Apple, Inc.\",\"App_Bucket\":\"TTU\",\"CPUSec_Skew_AvgPCt\":\"-.2496\",\"CPU_AMP_Sec\":\".0100\",\"CPU_Parse_Sec\":\".0400\",\"CPU_Total_Sec\":\".0500\",\"DelayTime_Sec\":\"\",\"IOCntM_Physical\":\"0\",\"IOCntM_Total\":\"0\",\"IOCnt_Skew_AvgPct\":\".0000\",\"IOGB_Physical\":\".0000\",\"IOGB_Total\":\".0000\",\"IOTA_Used_cntB\":\".0000\",\"LogTS\":\"2020-04-02 14:00:00-04:00\",\"NumOfActiveAMPs_Avg\":\"420.0000\",\"Query_Abort_Cnt\":\"0\",\"Query_Cnt\":\"5\",\"Query_Complexity_Score_Avg\":\".5000\",\"Query_Error_Cnt\":\"0\",\"Query_InMem_Cnt\":\"0\",\"Query_MultiStatement_Cnt\":\"0\",\"Query_NoIO_cnt\":\"5\",\"Query_PhysIO_Cnt\":\"0\",\"Request_Cnt\":\"4\",\"Returned_Row_Cnt\":\"0\",\"Row_Key\":\"8616216\",\"Run_ID\":\"629\",\"Runtime_AMP_Sec\":\".0000\",\"Runtime_Parse_Sec\":\".0500\",\"Runtime_Total_Sec\":\".0500\",\"Site_ID\":\"APPLE57CRESCENT\",\"Site_Name\":\"APPLE57CRESCENT\",\"Spool_GB\":\".0000\",\"Statement_Bucket\":\"Other\",\"System_Use\":\"Production\",\"Total_AMPs\":\"1680\",\"TransferTime_Sec\":\".0000\",\"Use_Bucket\":\"Export\",\"User_Bucket\":\"CORE ETL\",\"User_Department\":\"ITUNES\",\"User_SubDepartment\":\"ITUNES\",\"acct_industry_name\":\"Manufacturing\",\"acct_subindustry_name\":\"Software\",\"cust_region_desc\":\"Americas\",\"gtm_acct_name\":\"Apple, Inc.\",\"sls_area_name\":\"West\",\"strategic_sgmnt_cd\":\"Hyperscale Architect\"},{\"Account_Name\":\"Apple, Inc.\",\"App_Bucket\":\"TTU\",\"CPUSec_Skew_AvgPCt\":\".0000\",\"CPU_AMP_Sec\":\".0000\",\"CPU_Parse_Sec\":\".4100\",\"CPU_Total_Sec\":\".4100\",\"DelayTime_Sec\":\"\",\"IOCntM_Physical\":\"0\",\"IOCntM_Total\":\"0\",\"IOCnt_Skew_AvgPct\":\".0000\",\"IOGB_Physical\":\".0000\",\"IOGB_Total\":\".0000\",\"IOTA_Used_cntB\":\".0000\",\"LogTS\":\"2020-03-28 23:00:00-04:00\",\"NumOfActiveAMPs_Avg\":\"1.0000\",\"Query_Abort_Cnt\":\"0\",\"Query_Cnt\":\"12\",\"Query_Complexity_Score_Avg\":\"1.0000\",\"Query_Error_Cnt\":\"0\",\"Query_InMem_Cnt\":\"12\",\"Query_MultiStatement_Cnt\":\"0\",\"Query_NoIO_cnt\":\"0\",\"Query_PhysIO_Cnt\":\"0\",\"Request_Cnt\":\"12\",\"Returned_Row_Cnt\":\"0\",\"Row_Key\":\"8617203\",\"Run_ID\":\"629\",\"Runtime_AMP_Sec\":\".1000\",\"Runtime_Parse_Sec\":\".4300\",\"Runtime_Total_Sec\":\".5300\",\"Site_ID\":\"APPLE57CRESCENT\",\"Site_Name\":\"APPLE57CRESCENT\",\"Spool_GB\":\".0000\",\"Statement_Bucket\":\"Admin\",\"System_Use\":\"Production\",\"Total_AMPs\":\"1680\",\"TransferTime_Sec\":\".0000\",\"Use_Bucket\":\"Export\",\"User_Bucket\":\"SEMANTIC\",\"User_Department\":\"APPLECARE\",\"User_SubDepartment\":\"AC REPAIR\",\"acct_industry_name\":\"Manufacturing\",\"acct_subindustry_name\":\"Software\",\"cust_region_desc\":\"Americas\",\"gtm_acct_name\":\"Apple, Inc.\",\"sls_area_name\":\"West\",\"strategic_sgmnt_cd\":\"Hyperscale Architect\"},{\"Account_Name\":\"Apple, Inc.\",\"App_Bucket\":\"TTU\",\"CPUSec_Skew_AvgPCt\":\".0000\",\"CPU_AMP_Sec\":\".0000\",\"CPU_Parse_Sec\":\".0000\",\"CPU_Total_Sec\":\".0000\",\"DelayTime_Sec\":\"\",\"IOCntM_Physical\":\"0\",\"IOCntM_Total\":\"0\",\"IOCnt_Skew_AvgPct\":\".0000\",\"IOGB_Physical\":\".0000\",\"IOGB_Total\":\".0000\",\"IOTA_Used_cntB\":\".0000\",\"LogTS\":\"2020-04-23 22:00:00-04:00\",\"NumOfActiveAMPs_Avg\":\".0000\",\"Query_Abort_Cnt\":\"0\",\"Query_Cnt\":\"1\",\"Query_Complexity_Score_Avg\":\".0000\",\"Query_Error_Cnt\":\"1\",\"Query_InMem_Cnt\":\"0\",\"Query_MultiStatement_Cnt\":\"0\",\"Query_NoIO_cnt\":\"1\",\"Query_PhysIO_Cnt\":\"0\",\"Request_Cnt\":\"1\",\"Returned_Row_Cnt\":\"0\",\"Row_Key\":\"7025487\",\"Run_ID\":\"629\",\"Runtime_AMP_Sec\":\".0000\",\"Runtime_Parse_Sec\":\".0000\",\"Runtime_Total_Sec\":\"\",\"Site_ID\":\"APPLE57CRESCENT\",\"Site_Name\":\"APPLE57CRESCENT\",\"Spool_GB\":\".0000\",\"Statement_Bucket\":\"Merge/Update/Delete\",\"System_Use\":\"Production\",\"Total_AMPs\":\"1680\",\"TransferTime_Sec\":\".0000\",\"Use_Bucket\":\"ETL\",\"User_Bucket\":\"CORE ETL\",\"User_Department\":\"SALESOPS\",\"User_SubDepartment\":\"SALES\",\"acct_industry_name\":\"Manufacturing\",\"acct_subindustry_name\":\"Software\",\"cust_region_desc\":\"Americas\",\"gtm_acct_name\":\"Apple, Inc.\",\"sls_area_name\":\"West\",\"strategic_sgmnt_cd\":\"Hyperscale Architect\"},{\"Account_Name\":\"Apple, Inc.\",\"App_Bucket\":\"TTU\",\"CPUSec_Skew_AvgPCt\":\".0000\",\"CPU_AMP_Sec\":\".0000\",\"CPU_Parse_Sec\":\".0000\",\"CPU_Total_Sec\":\".0000\",\"DelayTime_Sec\":\"\",\"IOCntM_Physical\":\"0\",\"IOCntM_Total\":\"0\",\"IOCnt_Skew_AvgPct\":\".0000\",\"IOGB_Physical\":\".0000\",\"IOGB_Total\":\".0000\",\"IOTA_Used_cntB\":\".0000\",\"LogTS\":\"2020-04-09 12:00:00-04:00\",\"NumOfActiveAMPs_Avg\":\"1.3333\",\"Query_Abort_Cnt\":\"0\",\"Query_Cnt\":\"12\",\"Query_Complexity_Score_Avg\":\"2.0000\",\"Query_Error_Cnt\":\"0\",\"Query_InMem_Cnt\":\"0\",\"Query_MultiStatement_Cnt\":\"0\",\"Query_NoIO_cnt\":\"12\",\"Query_PhysIO_Cnt\":\"0\",\"Request_Cnt\":\"6\",\"Returned_Row_Cnt\":\"0\",\"Row_Key\":\"7031145\",\"Run_ID\":\"629\",\"Runtime_AMP_Sec\":\".0000\",\"Runtime_Parse_Sec\":\".0100\",\"Runtime_Total_Sec\":\".0100\",\"Site_ID\":\"APPLE57CRESCENT\",\"Site_Name\":\"APPLE57CRESCENT\",\"Spool_GB\":\".0000\",\"Statement_Bucket\":\"Load\",\"System_Use\":\"Production\",\"Total_AMPs\":\"1680\",\"TransferTime_Sec\":\".0000\",\"Use_Bucket\":\"Export\",\"User_Bucket\":\"SEMANTIC\",\"User_Department\":\"MARKETING\",\"User_SubDepartment\":\"MARKETING\",\"acct_industry_name\":\"Manufacturing\",\"acct_subindustry_name\":\"Software\",\"cust_region_desc\":\"Americas\",\"gtm_acct_name\":\"Apple, Inc.\",\"sls_area_name\":\"West\",\"strategic_sgmnt_cd\":\"Hyperscale Architect\"},{\"Account_Name\":\"Apple, Inc.\",\"App_Bucket\":\"BTEQ\",\"CPUSec_Skew_AvgPCt\":\".0000\",\"CPU_AMP_Sec\":\".0000\",\"CPU_Parse_Sec\":\".0400\",\"CPU_Total_Sec\":\".0400\",\"DelayTime_Sec\":\"\",\"IOCntM_Physical\":\"0\",\"IOCntM_Total\":\"0\",\"IOCnt_Skew_AvgPct\":\".0000\",\"IOGB_Physical\":\".0000\",\"IOGB_Total\":\".0000\",\"IOTA_Used_cntB\":\".0000\",\"LogTS\":\"2020-03-27 09:00:00-04:00\",\"NumOfActiveAMPs_Avg\":\".0000\",\"Query_Abort_Cnt\":\"0\",\"Query_Cnt\":\"305\",\"Query_Complexity_Score_Avg\":\".5148\",\"Query_Error_Cnt\":\"0\",\"Query_InMem_Cnt\":\"0\",\"Query_MultiStatement_Cnt\":\"0\",\"Query_NoIO_cnt\":\"305\",\"Query_PhysIO_Cnt\":\"0\",\"Request_Cnt\":\"305\",\"Returned_Row_Cnt\":\"0\",\"Row_Key\":\"837963\",\"Run_ID\":\"629\",\"Runtime_AMP_Sec\":\"118.9500\",\"Runtime_Parse_Sec\":\".6000\",\"Runtime_Total_Sec\":\"119.5500\",\"Site_ID\":\"APPLE57CRESCENT\",\"Site_Name\":\"APPLE57CRESCENT\",\"Spool_GB\":\".0000\",\"Statement_Bucket\":\"Stored Proc\",\"System_Use\":\"Production\",\"Total_AMPs\":\"1680\",\"TransferTime_Sec\":\".0100\",\"Use_Bucket\":\"ETL\",\"User_Bucket\":\"SEMANTIC\",\"User_Department\":\"MARKETING\",\"User_SubDepartment\":\"MARKETING\",\"acct_industry_name\":\"Manufacturing\",\"acct_subindustry_name\":\"Software\",\"cust_region_desc\":\"Americas\",\"gtm_acct_name\":\"Apple, Inc.\",\"sls_area_name\":\"West\",\"strategic_sgmnt_cd\":\"Hyperscale Architect\"},{\"Account_Name\":\"Apple, Inc.\",\"App_Bucket\":\"TTU\",\"CPUSec_Skew_AvgPCt\":\".0000\",\"CPU_AMP_Sec\":\".0000\",\"CPU_Parse_Sec\":\".0600\",\"CPU_Total_Sec\":\".0600\",\"DelayTime_Sec\":\"\",\"IOCntM_Physical\":\"0\",\"IOCntM_Total\":\"0\",\"IOCnt_Skew_AvgPct\":\".0000\",\"IOGB_Physical\":\".0000\",\"IOGB_Total\":\".0000\",\"IOTA_Used_cntB\":\".0000\",\"LogTS\":\"2020-04-14 01:00:00-04:00\",\"NumOfActiveAMPs_Avg\":\".0000\",\"Query_Abort_Cnt\":\"0\",\"Query_Cnt\":\"3\",\"Query_Complexity_Score_Avg\":\".0000\",\"Query_Error_Cnt\":\"0\",\"Query_InMem_Cnt\":\"0\",\"Query_MultiStatement_Cnt\":\"0\",\"Query_NoIO_cnt\":\"3\",\"Query_PhysIO_Cnt\":\"0\",\"Request_Cnt\":\"3\",\"Returned_Row_Cnt\":\"0\",\"Row_Key\":\"4928539\",\"Run_ID\":\"629\",\"Runtime_AMP_Sec\":\".0000\",\"Runtime_Parse_Sec\":\".0900\",\"Runtime_Total_Sec\":\".0900\",\"Site_ID\":\"APPLE57CRESCENT\",\"Site_Name\":\"APPLE57CRESCENT\",\"Spool_GB\":\".0000\",\"Statement_Bucket\":\"Select\",\"System_Use\":\"Production\",\"Total_AMPs\":\"1680\",\"TransferTime_Sec\":\".0000\",\"Use_Bucket\":\"ETL\",\"User_Bucket\":\"SEMANTIC\",\"User_Department\":\"APPLECARE\",\"User_SubDepartment\":\"AC REPAIR\",\"acct_industry_name\":\"Manufacturing\",\"acct_subindustry_name\":\"Software\",\"cust_region_desc\":\"Americas\",\"gtm_acct_name\":\"Apple, Inc.\",\"sls_area_name\":\"West\",\"strategic_sgmnt_cd\":\"Hyperscale Architect\"},{\"Account_Name\":\"Apple, Inc.\",\"App_Bucket\":\"TTU\",\"CPUSec_Skew_AvgPCt\":\"2.8580\",\"CPU_AMP_Sec\":\"11.5900\",\"CPU_Parse_Sec\":\"7.5600\",\"CPU_Total_Sec\":\"19.1500\",\"DelayTime_Sec\":\"\",\"IOCntM_Physical\":\"0\",\"IOCntM_Total\":\"0\",\"IOCnt_Skew_AvgPct\":\"149.6635\",\"IOGB_Physical\":\".0000\",\"IOGB_Total\":\".0000\",\"IOTA_Used_cntB\":\".0000\",\"LogTS\":\"2020-04-05 08:00:00-04:00\",\"NumOfActiveAMPs_Avg\":\".9434\",\"Query_Abort_Cnt\":\"0\",\"Query_Cnt\":\"1070\",\"Query_Complexity_Score_Avg\":\"178.3401\",\"Query_Error_Cnt\":\"0\",\"Query_InMem_Cnt\":\"891\",\"Query_MultiStatement_Cnt\":\"0\",\"Query_NoIO_cnt\":\"162\",\"Query_PhysIO_Cnt\":\"17\",\"Request_Cnt\":\"1070\",\"Returned_Row_Cnt\":\"0\",\"Row_Key\":\"8621734\",\"Run_ID\":\"629\",\"Runtime_AMP_Sec\":\"578.5300\",\"Runtime_Parse_Sec\":\"12.0100\",\"Runtime_Total_Sec\":\"590.5400\",\"Site_ID\":\"APPLE57CRESCENT\",\"Site_Name\":\"APPLE57CRESCENT\",\"Spool_GB\":\".0000\",\"Statement_Bucket\":\"Insert\",\"System_Use\":\"Production\",\"Total_AMPs\":\"1680\",\"TransferTime_Sec\":\".2000\",\"Use_Bucket\":\"Stream\",\"User_Bucket\":\"CORE ETL\",\"User_Department\":\"APPLECARE\",\"User_SubDepartment\":\"AC REPAIR\",\"acct_industry_name\":\"Manufacturing\",\"acct_subindustry_name\":\"Software\",\"cust_region_desc\":\"Americas\",\"gtm_acct_name\":\"Apple, Inc.\",\"sls_area_name\":\"West\",\"strategic_sgmnt_cd\":\"Hyperscale Architect\"},{\"Account_Name\":\"Apple, Inc.\",\"App_Bucket\":\"BTEQ\",\"CPUSec_Skew_AvgPCt\":\"-.8047\",\"CPU_AMP_Sec\":\"8096.8500\",\"CPU_Parse_Sec\":\"18.6800\",\"CPU_Total_Sec\":\"8115.5300\",\"DelayTime_Sec\":\"\",\"IOCntM_Physical\":\"2\",\"IOCntM_Total\":\"117\",\"IOCnt_Skew_AvgPct\":\"-.3986\",\"IOGB_Physical\":\"262.0900\",\"IOGB_Total\":\"8776.1800\",\"IOTA_Used_cntB\":\"1864.0300\",\"LogTS\":\"2020-03-29 05:00:00-04:00\",\"NumOfActiveAMPs_Avg\":\"1675.2837\",\"Query_Abort_Cnt\":\"0\",\"Query_Cnt\":\"135\",\"Query_Complexity_Score_Avg\":\"14.2101\",\"Query_Error_Cnt\":\"0\",\"Query_InMem_Cnt\":\"19\",\"Query_MultiStatement_Cnt\":\"11\",\"Query_NoIO_cnt\":\"0\",\"Query_PhysIO_Cnt\":\"116\",\"Request_Cnt\":\"135\",\"Returned_Row_Cnt\":\"0\",\"Row_Key\":\"8220687\",\"Run_ID\":\"629\",\"Runtime_AMP_Sec\":\"220.6200\",\"Runtime_Parse_Sec\":\"28.4600\",\"Runtime_Total_Sec\":\"249.0800\",\"Site_ID\":\"APPLE57CRESCENT\",\"Site_Name\":\"APPLE57CRESCENT\",\"Spool_GB\":\"297.7160\",\"Statement_Bucket\":\"Insert\",\"System_Use\":\"Production\",\"Total_AMPs\":\"1680\",\"TransferTime_Sec\":\".1100\",\"Use_Bucket\":\"ETL\",\"User_Bucket\":\"SYSTEM\",\"User_Department\":\"SYSTEM\",\"User_SubDepartment\":\"SYSTEM\",\"acct_industry_name\":\"Manufacturing\",\"acct_subindustry_name\":\"Software\",\"cust_region_desc\":\"Americas\",\"gtm_acct_name\":\"Apple, Inc.\",\"sls_area_name\":\"West\",\"strategic_sgmnt_cd\":\"Hyperscale Architect\"},{\"Account_Name\":\"Apple, Inc.\",\"App_Bucket\":\"TTU\",\"CPUSec_Skew_AvgPCt\":\".0000\",\"CPU_AMP_Sec\":\".0000\",\"CPU_Parse_Sec\":\".9400\",\"CPU_Total_Sec\":\".9400\",\"DelayTime_Sec\":\"\",\"IOCntM_Physical\":\"0\",\"IOCntM_Total\":\"0\",\"IOCnt_Skew_AvgPct\":\".0000\",\"IOGB_Physical\":\".0000\",\"IOGB_Total\":\".0000\",\"IOTA_Used_cntB\":\".0000\",\"LogTS\":\"2020-04-02 07:00:00-04:00\",\"NumOfActiveAMPs_Avg\":\"1.0000\",\"Query_Abort_Cnt\":\"0\",\"Query_Cnt\":\"30\",\"Query_Complexity_Score_Avg\":\"1.0000\",\"Query_Error_Cnt\":\"0\",\"Query_InMem_Cnt\":\"30\",\"Query_MultiStatement_Cnt\":\"0\",\"Query_NoIO_cnt\":\"0\",\"Query_PhysIO_Cnt\":\"0\",\"Request_Cnt\":\"30\",\"Returned_Row_Cnt\":\"0\",\"Row_Key\":\"5841731\",\"Run_ID\":\"629\",\"Runtime_AMP_Sec\":\".2900\",\"Runtime_Parse_Sec\":\"1.0700\",\"Runtime_Total_Sec\":\"1.3600\",\"Site_ID\":\"APPLE57CRESCENT\",\"Site_Name\":\"APPLE57CRESCENT\",\"Spool_GB\":\".0000\",\"Statement_Bucket\":\"Admin\",\"System_Use\":\"Production\",\"Total_AMPs\":\"1680\",\"TransferTime_Sec\":\".0000\",\"Use_Bucket\":\"Stream\",\"User_Bucket\":\"CORE ETL\",\"User_Department\":\"SALESOPS\",\"User_SubDepartment\":\"FINANCE\",\"acct_industry_name\":\"Manufacturing\",\"acct_subindustry_name\":\"Software\",\"cust_region_desc\":\"Americas\",\"gtm_acct_name\":\"Apple, Inc.\",\"sls_area_name\":\"West\",\"strategic_sgmnt_cd\":\"Hyperscale Architect\"},{\"Account_Name\":\"Apple, Inc.\",\"App_Bucket\":\"BTEQ\",\"CPUSec_Skew_AvgPCt\":\"-.9989\",\"CPU_AMP_Sec\":\"46.5200\",\"CPU_Parse_Sec\":\".7300\",\"CPU_Total_Sec\":\"47.2500\",\"DelayTime_Sec\":\"\",\"IOCntM_Physical\":\"0\",\"IOCntM_Total\":\"0\",\"IOCnt_Skew_AvgPct\":\"-.9760\",\"IOGB_Physical\":\".2900\",\"IOGB_Total\":\"34.2200\",\"IOTA_Used_cntB\":\".7700\",\"LogTS\":\"2020-05-11 15:00:00-04:00\",\"NumOfActiveAMPs_Avg\":\"1680.0000\",\"Query_Abort_Cnt\":\"0\",\"Query_Cnt\":\"14\",\"Query_Complexity_Score_Avg\":\"9.0000\",\"Query_Error_Cnt\":\"0\",\"Query_InMem_Cnt\":\"0\",\"Query_MultiStatement_Cnt\":\"0\",\"Query_NoIO_cnt\":\"0\",\"Query_PhysIO_Cnt\":\"14\",\"Request_Cnt\":\"14\",\"Returned_Row_Cnt\":\"0\",\"Row_Key\":\"3529582\",\"Run_ID\":\"629\",\"Runtime_AMP_Sec\":\"46.9600\",\"Runtime_Parse_Sec\":\"1.6400\",\"Runtime_Total_Sec\":\"48.6000\",\"Site_ID\":\"APPLE57CRESCENT\",\"Site_Name\":\"APPLE57CRESCENT\",\"Spool_GB\":\".9514\",\"Statement_Bucket\":\"Collect Stats\",\"System_Use\":\"Production\",\"Total_AMPs\":\"1680\",\"TransferTime_Sec\":\".0200\",\"Use_Bucket\":\"ETL\",\"User_Bucket\":\"CORE ETL\",\"User_Department\":\"SALESOPS\",\"User_SubDepartment\":\"OPS\",\"acct_industry_name\":\"Manufacturing\",\"acct_subindustry_name\":\"Software\",\"cust_region_desc\":\"Americas\",\"gtm_acct_name\":\"Apple, Inc.\",\"sls_area_name\":\"West\",\"strategic_sgmnt_cd\":\"Hyperscale Architect\"},{\"Account_Name\":\"Apple, Inc.\",\"App_Bucket\":\"TTU\",\"CPUSec_Skew_AvgPCt\":\"-.2031\",\"CPU_AMP_Sec\":\"840.7200\",\"CPU_Parse_Sec\":\"42.4200\",\"CPU_Total_Sec\":\"883.1400\",\"DelayTime_Sec\":\"\",\"IOCntM_Physical\":\"5\",\"IOCntM_Total\":\"13\",\"IOCnt_Skew_AvgPct\":\"-.0801\",\"IOGB_Physical\":\"34.9700\",\"IOGB_Total\":\"406.2500\",\"IOTA_Used_cntB\":\"1761.6100\",\"LogTS\":\"2020-03-28 08:00:00-04:00\",\"NumOfActiveAMPs_Avg\":\"365.2174\",\"Query_Abort_Cnt\":\"0\",\"Query_Cnt\":\"3875\",\"Query_Complexity_Score_Avg\":\".0000\",\"Query_Error_Cnt\":\"0\",\"Query_InMem_Cnt\":\"75\",\"Query_MultiStatement_Cnt\":\"0\",\"Query_NoIO_cnt\":\"3102\",\"Query_PhysIO_Cnt\":\"698\",\"Request_Cnt\":\"3875\",\"Returned_Row_Cnt\":\"0\",\"Row_Key\":\"3044183\",\"Run_ID\":\"629\",\"Runtime_AMP_Sec\":\"65.9300\",\"Runtime_Parse_Sec\":\"46.6400\",\"Runtime_Total_Sec\":\"112.5700\",\"Site_ID\":\"APPLE57CRESCENT\",\"Site_Name\":\"APPLE57CRESCENT\",\"Spool_GB\":\".0000\",\"Statement_Bucket\":\"Other\",\"System_Use\":\"Production\",\"Total_AMPs\":\"1680\",\"TransferTime_Sec\":\"1.1000\",\"Use_Bucket\":\"ETL\",\"User_Bucket\":\"CORE ETL\",\"User_Department\":\"ITUNES\",\"User_SubDepartment\":\"ITUNES\",\"acct_industry_name\":\"Manufacturing\",\"acct_subindustry_name\":\"Software\",\"cust_region_desc\":\"Americas\",\"gtm_acct_name\":\"Apple, Inc.\",\"sls_area_name\":\"West\",\"strategic_sgmnt_cd\":\"Hyperscale Architect\"},{\"Account_Name\":\"Apple, Inc.\",\"App_Bucket\":\"TTU\",\"CPUSec_Skew_AvgPCt\":\"-.9571\",\"CPU_AMP_Sec\":\"193.2100\",\"CPU_Parse_Sec\":\"3.6100\",\"CPU_Total_Sec\":\"196.8200\",\"DelayTime_Sec\":\"\",\"IOCntM_Physical\":\"0\",\"IOCntM_Total\":\"2\",\"IOCnt_Skew_AvgPct\":\"-.7273\",\"IOGB_Physical\":\".0000\",\"IOGB_Total\":\"149.1700\",\"IOTA_Used_cntB\":\"1.3900\",\"LogTS\":\"2020-04-08 17:00:00-04:00\",\"NumOfActiveAMPs_Avg\":\"1446.2929\",\"Query_Abort_Cnt\":\"0\",\"Query_Cnt\":\"619\",\"Query_Complexity_Score_Avg\":\"3.4449\",\"Query_Error_Cnt\":\"93\",\"Query_InMem_Cnt\":\"459\",\"Query_MultiStatement_Cnt\":\"0\",\"Query_NoIO_cnt\":\"93\",\"Query_PhysIO_Cnt\":\"67\",\"Request_Cnt\":\"619\",\"Returned_Row_Cnt\":\"5602\",\"Row_Key\":\"3925972\",\"Run_ID\":\"629\",\"Runtime_AMP_Sec\":\"44.6700\",\"Runtime_Parse_Sec\":\"7.6300\",\"Runtime_Total_Sec\":\"52.3000\",\"Site_ID\":\"APPLE57CRESCENT\",\"Site_Name\":\"APPLE57CRESCENT\",\"Spool_GB\":\".0039\",\"Statement_Bucket\":\"Select\",\"System_Use\":\"Production\",\"Total_AMPs\":\"1680\",\"TransferTime_Sec\":\"1.9800\",\"Use_Bucket\":\"Stream\",\"User_Bucket\":\"CORE ETL\",\"User_Department\":\"SALESOPS\",\"User_SubDepartment\":\"OPS\",\"acct_industry_name\":\"Manufacturing\",\"acct_subindustry_name\":\"Software\",\"cust_region_desc\":\"Americas\",\"gtm_acct_name\":\"Apple, Inc.\",\"sls_area_name\":\"West\",\"strategic_sgmnt_cd\":\"Hyperscale Architect\"},{\"Account_Name\":\"Apple, Inc.\",\"App_Bucket\":\"TTU\",\"CPUSec_Skew_AvgPCt\":\".0000\",\"CPU_AMP_Sec\":\".0000\",\"CPU_Parse_Sec\":\".0000\",\"CPU_Total_Sec\":\".0000\",\"DelayTime_Sec\":\"\",\"IOCntM_Physical\":\"0\",\"IOCntM_Total\":\"0\",\"IOCnt_Skew_AvgPct\":\".0000\",\"IOGB_Physical\":\".0000\",\"IOGB_Total\":\".0000\",\"IOTA_Used_cntB\":\".0000\",\"LogTS\":\"2020-04-18 00:00:00-04:00\",\"NumOfActiveAMPs_Avg\":\"1.3333\",\"Query_Abort_Cnt\":\"0\",\"Query_Cnt\":\"12\",\"Query_Complexity_Score_Avg\":\"2.0000\",\"Query_Error_Cnt\":\"0\",\"Query_InMem_Cnt\":\"0\",\"Query_MultiStatement_Cnt\":\"0\",\"Query_NoIO_cnt\":\"12\",\"Query_PhysIO_Cnt\":\"0\",\"Request_Cnt\":\"6\",\"Returned_Row_Cnt\":\"0\",\"Row_Key\":\"828618\",\"Run_ID\":\"629\",\"Runtime_AMP_Sec\":\".0000\",\"Runtime_Parse_Sec\":\".0300\",\"Runtime_Total_Sec\":\".0300\",\"Site_ID\":\"APPLE57CRESCENT\",\"Site_Name\":\"APPLE57CRESCENT\",\"Spool_GB\":\".0000\",\"Statement_Bucket\":\"Load\",\"System_Use\":\"Production\",\"Total_AMPs\":\"1680\",\"TransferTime_Sec\":\".0000\",\"Use_Bucket\":\"Export\",\"User_Bucket\":\"SEMANTIC\",\"User_Department\":\"MARKETING\",\"User_SubDepartment\":\"MARKETING\",\"acct_industry_name\":\"Manufacturing\",\"acct_subindustry_name\":\"Software\",\"cust_region_desc\":\"Americas\",\"gtm_acct_name\":\"Apple, Inc.\",\"sls_area_name\":\"West\",\"strategic_sgmnt_cd\":\"Hyperscale Architect\"},{\"Account_Name\":\"Apple, Inc.\",\"App_Bucket\":\"BTEQ\",\"CPUSec_Skew_AvgPCt\":\".0000\",\"CPU_AMP_Sec\":\".0000\",\"CPU_Parse_Sec\":\".0600\",\"CPU_Total_Sec\":\".0600\",\"DelayTime_Sec\":\"\",\"IOCntM_Physical\":\"0\",\"IOCntM_Total\":\"0\",\"IOCnt_Skew_AvgPct\":\".0000\",\"IOGB_Physical\":\".0000\",\"IOGB_Total\":\".0000\",\"IOTA_Used_cntB\":\".0000\",\"LogTS\":\"2020-04-21 07:00:00-04:00\",\"NumOfActiveAMPs_Avg\":\"1.0000\",\"Query_Abort_Cnt\":\"0\",\"Query_Cnt\":\"3\",\"Query_Complexity_Score_Avg\":\"1.0000\",\"Query_Error_Cnt\":\"0\",\"Query_InMem_Cnt\":\"3\",\"Query_MultiStatement_Cnt\":\"0\",\"Query_NoIO_cnt\":\"0\",\"Query_PhysIO_Cnt\":\"0\",\"Request_Cnt\":\"3\",\"Returned_Row_Cnt\":\"3\",\"Row_Key\":\"5134774\",\"Run_ID\":\"629\",\"Runtime_AMP_Sec\":\".0100\",\"Runtime_Parse_Sec\":\".1000\",\"Runtime_Total_Sec\":\".1100\",\"Site_ID\":\"APPLE57CRESCENT\",\"Site_Name\":\"APPLE57CRESCENT\",\"Spool_GB\":\".0000\",\"Statement_Bucket\":\"Select\",\"System_Use\":\"Production\",\"Total_AMPs\":\"1680\",\"TransferTime_Sec\":\".0200\",\"Use_Bucket\":\"ETL\",\"User_Bucket\":\"SEMANTIC\",\"User_Department\":\"APPLECARE\",\"User_SubDepartment\":\"AC REPAIR\",\"acct_industry_name\":\"Manufacturing\",\"acct_subindustry_name\":\"Software\",\"cust_region_desc\":\"Americas\",\"gtm_acct_name\":\"Apple, Inc.\",\"sls_area_name\":\"West\",\"strategic_sgmnt_cd\":\"Hyperscale Architect\"},{\"Account_Name\":\"Apple, Inc.\",\"App_Bucket\":\"TTU\",\"CPUSec_Skew_AvgPCt\":\"2.4923\",\"CPU_AMP_Sec\":\"5.6300\",\"CPU_Parse_Sec\":\"3.7400\",\"CPU_Total_Sec\":\"9.3700\",\"DelayTime_Sec\":\"\",\"IOCntM_Physical\":\"0\",\"IOCntM_Total\":\"0\",\"IOCnt_Skew_AvgPct\":\"73.3072\",\"IOGB_Physical\":\".0000\",\"IOGB_Total\":\".0000\",\"IOTA_Used_cntB\":\".0000\",\"LogTS\":\"2020-04-12 02:00:00-04:00\",\"NumOfActiveAMPs_Avg\":\".8857\",\"Query_Abort_Cnt\":\"0\",\"Query_Cnt\":\"830\",\"Query_Complexity_Score_Avg\":\"91.4472\",\"Query_Error_Cnt\":\"0\",\"Query_InMem_Cnt\":\"647\",\"Query_MultiStatement_Cnt\":\"0\",\"Query_NoIO_cnt\":\"162\",\"Query_PhysIO_Cnt\":\"21\",\"Request_Cnt\":\"830\",\"Returned_Row_Cnt\":\"0\",\"Row_Key\":\"11429176\",\"Run_ID\":\"629\",\"Runtime_AMP_Sec\":\"371.9400\",\"Runtime_Parse_Sec\":\"7.8800\",\"Runtime_Total_Sec\":\"379.8200\",\"Site_ID\":\"APPLE57CRESCENT\",\"Site_Name\":\"APPLE57CRESCENT\",\"Spool_GB\":\".0000\",\"Statement_Bucket\":\"Insert\",\"System_Use\":\"Production\",\"Total_AMPs\":\"1680\",\"TransferTime_Sec\":\".1400\",\"Use_Bucket\":\"Stream\",\"User_Bucket\":\"CORE ETL\",\"User_Department\":\"APPLECARE\",\"User_SubDepartment\":\"AC REPAIR\",\"acct_industry_name\":\"Manufacturing\",\"acct_subindustry_name\":\"Software\",\"cust_region_desc\":\"Americas\",\"gtm_acct_name\":\"Apple, Inc.\",\"sls_area_name\":\"West\",\"strategic_sgmnt_cd\":\"Hyperscale Architect\"},{\"Account_Name\":\"Apple, Inc.\",\"App_Bucket\":\"Tableau\",\"CPUSec_Skew_AvgPCt\":\"-.8218\",\"CPU_AMP_Sec\":\"109067.7700\",\"CPU_Parse_Sec\":\"15.0100\",\"CPU_Total_Sec\":\"109082.7800\",\"DelayTime_Sec\":\".5200\",\"IOCntM_Physical\":\"387\",\"IOCntM_Total\":\"688\",\"IOCnt_Skew_AvgPct\":\"-.6593\",\"IOGB_Physical\":\"40722.9100\",\"IOGB_Total\":\"70857.8300\",\"IOTA_Used_cntB\":\"10477.7100\",\"LogTS\":\"2020-05-16 12:00:00-04:00\",\"NumOfActiveAMPs_Avg\":\"1227.8156\",\"Query_Abort_Cnt\":\"0\",\"Query_Cnt\":\"159\",\"Query_Complexity_Score_Avg\":\"9.0190\",\"Query_Error_Cnt\":\"4\",\"Query_InMem_Cnt\":\"80\",\"Query_MultiStatement_Cnt\":\"0\",\"Query_NoIO_cnt\":\"33\",\"Query_PhysIO_Cnt\":\"46\",\"Request_Cnt\":\"159\",\"Returned_Row_Cnt\":\"4017206\",\"Row_Key\":\"5323827\",\"Run_ID\":\"629\",\"Runtime_AMP_Sec\":\"372.2300\",\"Runtime_Parse_Sec\":\"18.5100\",\"Runtime_Total_Sec\":\"390.7400\",\"Site_ID\":\"APPLE57CRESCENT\",\"Site_Name\":\"APPLE57CRESCENT\",\"Spool_GB\":\"1942.9028\",\"Statement_Bucket\":\"Select\",\"System_Use\":\"Production\",\"Total_AMPs\":\"1680\",\"TransferTime_Sec\":\"140.0200\",\"Use_Bucket\":\"Analytic\",\"User_Bucket\":\"ADHOC\",\"User_Department\":\"iTunes\",\"User_SubDepartment\":\"iTunes\",\"acct_industry_name\":\"Manufacturing\",\"acct_subindustry_name\":\"Software\",\"cust_region_desc\":\"Americas\",\"gtm_acct_name\":\"Apple, Inc.\",\"sls_area_name\":\"West\",\"strategic_sgmnt_cd\":\"Hyperscale Architect\"},{\"Account_Name\":\"Apple, Inc.\",\"App_Bucket\":\"BTEQ\",\"CPUSec_Skew_AvgPCt\":\"-.3104\",\"CPU_AMP_Sec\":\"357.5300\",\"CPU_Parse_Sec\":\".3900\",\"CPU_Total_Sec\":\"357.9200\",\"DelayTime_Sec\":\"\",\"IOCntM_Physical\":\"0\",\"IOCntM_Total\":\"4\",\"IOCnt_Skew_AvgPct\":\"-.1370\",\"IOGB_Physical\":\"265.6800\",\"IOGB_Total\":\"564.6300\",\"IOTA_Used_cntB\":\"594.1800\",\"LogTS\":\"2020-03-27 08:00:00-04:00\",\"NumOfActiveAMPs_Avg\":\"120.0536\",\"Query_Abort_Cnt\":\"0\",\"Query_Cnt\":\"87\",\"Query_Complexity_Score_Avg\":\".4821\",\"Query_Error_Cnt\":\"0\",\"Query_InMem_Cnt\":\"9\",\"Query_MultiStatement_Cnt\":\"0\",\"Query_NoIO_cnt\":\"66\",\"Query_PhysIO_Cnt\":\"12\",\"Request_Cnt\":\"87\",\"Returned_Row_Cnt\":\"446\",\"Row_Key\":\"1868608\",\"Run_ID\":\"629\",\"Runtime_AMP_Sec\":\"1.2400\",\"Runtime_Parse_Sec\":\".5600\",\"Runtime_Total_Sec\":\"1.8000\",\"Site_ID\":\"APPLE57CRESCENT\",\"Site_Name\":\"APPLE57CRESCENT\",\"Spool_GB\":\".0003\",\"Statement_Bucket\":\"Select\",\"System_Use\":\"Production\",\"Total_AMPs\":\"1680\",\"TransferTime_Sec\":\".0200\",\"Use_Bucket\":\"ETL\",\"User_Bucket\":\"Unknown\",\"User_Department\":\"ITUNES\",\"User_SubDepartment\":\"ITUNES\",\"acct_industry_name\":\"Manufacturing\",\"acct_subindustry_name\":\"Software\",\"cust_region_desc\":\"Americas\",\"gtm_acct_name\":\"Apple, Inc.\",\"sls_area_name\":\"West\",\"strategic_sgmnt_cd\":\"Hyperscale Architect\"},{\"Account_Name\":\"Apple, Inc.\",\"App_Bucket\":\"BTEQ\",\"CPUSec_Skew_AvgPCt\":\"-.8927\",\"CPU_AMP_Sec\":\"215000.0800\",\"CPU_Parse_Sec\":\"117.9200\",\"CPU_Total_Sec\":\"215118.0000\",\"DelayTime_Sec\":\"\",\"IOCntM_Physical\":\"1222\",\"IOCntM_Total\":\"2265\",\"IOCnt_Skew_AvgPct\":\"-.4498\",\"IOGB_Physical\":\"113841.4100\",\"IOGB_Total\":\"192845.1900\",\"IOTA_Used_cntB\":\"177818.3300\",\"LogTS\":\"2020-04-13 03:00:00-04:00\",\"NumOfActiveAMPs_Avg\":\"1649.6116\",\"Query_Abort_Cnt\":\"0\",\"Query_Cnt\":\"4834\",\"Query_Complexity_Score_Avg\":\"4.6354\",\"Query_Error_Cnt\":\"0\",\"Query_InMem_Cnt\":\"2741\",\"Query_MultiStatement_Cnt\":\"5\",\"Query_NoIO_cnt\":\"1\",\"Query_PhysIO_Cnt\":\"2092\",\"Request_Cnt\":\"4829\",\"Returned_Row_Cnt\":\"0\",\"Row_Key\":\"8958903\",\"Run_ID\":\"629\",\"Runtime_AMP_Sec\":\"1654.2500\",\"Runtime_Parse_Sec\":\"155.1600\",\"Runtime_Total_Sec\":\"1809.4100\",\"Site_ID\":\"APPLE57CRESCENT\",\"Site_Name\":\"APPLE57CRESCENT\",\"Spool_GB\":\"2872.5509\",\"Statement_Bucket\":\"Merge/Update/Delete\",\"System_Use\":\"Production\",\"Total_AMPs\":\"1680\",\"TransferTime_Sec\":\"1.1200\",\"Use_Bucket\":\"ETL\",\"User_Bucket\":\"CORE ETL\",\"User_Department\":\"ITUNES\",\"User_SubDepartment\":\"ITUNES\",\"acct_industry_name\":\"Manufacturing\",\"acct_subindustry_name\":\"Software\",\"cust_region_desc\":\"Americas\",\"gtm_acct_name\":\"Apple, Inc.\",\"sls_area_name\":\"West\",\"strategic_sgmnt_cd\":\"Hyperscale Architect\"},{\"Account_Name\":\"Apple, Inc.\",\"App_Bucket\":\"TTU\",\"CPUSec_Skew_AvgPCt\":\"-.3878\",\"CPU_AMP_Sec\":\"405.2800\",\"CPU_Parse_Sec\":\".9400\",\"CPU_Total_Sec\":\"406.2200\",\"DelayTime_Sec\":\"\",\"IOCntM_Physical\":\"0\",\"IOCntM_Total\":\"5\",\"IOCnt_Skew_AvgPct\":\"-.1984\",\"IOGB_Physical\":\"121.2600\",\"IOGB_Total\":\"504.7500\",\"IOTA_Used_cntB\":\"1185.7400\",\"LogTS\":\"2020-04-28 05:00:00-04:00\",\"NumOfActiveAMPs_Avg\":\"840.2500\",\"Query_Abort_Cnt\":\"0\",\"Query_Cnt\":\"107\",\"Query_Complexity_Score_Avg\":\"9.7500\",\"Query_Error_Cnt\":\"0\",\"Query_InMem_Cnt\":\"0\",\"Query_MultiStatement_Cnt\":\"0\",\"Query_NoIO_cnt\":\"85\",\"Query_PhysIO_Cnt\":\"22\",\"Request_Cnt\":\"85\",\"Returned_Row_Cnt\":\"75\",\"Row_Key\":\"2020635\",\"Run_ID\":\"629\",\"Runtime_AMP_Sec\":\"18.1500\",\"Runtime_Parse_Sec\":\"1.3100\",\"Runtime_Total_Sec\":\"19.4600\",\"Site_ID\":\"APPLE57CRESCENT\",\"Site_Name\":\"APPLE57CRESCENT\",\"Spool_GB\":\".0003\",\"Statement_Bucket\":\"Load\",\"System_Use\":\"Production\",\"Total_AMPs\":\"1680\",\"TransferTime_Sec\":\".0100\",\"Use_Bucket\":\"ETL\",\"User_Bucket\":\"SEMANTIC\",\"User_Department\":\"ITUNES\",\"User_SubDepartment\":\"ITUNES\",\"acct_industry_name\":\"Manufacturing\",\"acct_subindustry_name\":\"Software\",\"cust_region_desc\":\"Americas\",\"gtm_acct_name\":\"Apple, Inc.\",\"sls_area_name\":\"West\",\"strategic_sgmnt_cd\":\"Hyperscale Architect\"},{\"Account_Name\":\"Apple, Inc.\",\"App_Bucket\":\"BTEQ\",\"CPUSec_Skew_AvgPCt\":\".0000\",\"CPU_AMP_Sec\":\".0000\",\"CPU_Parse_Sec\":\".1200\",\"CPU_Total_Sec\":\".1200\",\"DelayTime_Sec\":\"\",\"IOCntM_Physical\":\"0\",\"IOCntM_Total\":\"0\",\"IOCnt_Skew_AvgPct\":\".0000\",\"IOGB_Physical\":\".0000\",\"IOGB_Total\":\".0000\",\"IOTA_Used_cntB\":\".0000\",\"LogTS\":\"2020-03-31 05:00:00-04:00\",\"NumOfActiveAMPs_Avg\":\".0000\",\"Query_Abort_Cnt\":\"0\",\"Query_Cnt\":\"23\",\"Query_Complexity_Score_Avg\":\".0000\",\"Query_Error_Cnt\":\"15\",\"Query_InMem_Cnt\":\"0\",\"Query_MultiStatement_Cnt\":\"0\",\"Query_NoIO_cnt\":\"23\",\"Query_PhysIO_Cnt\":\"0\",\"Request_Cnt\":\"23\",\"Returned_Row_Cnt\":\"0\",\"Row_Key\":\"3043697\",\"Run_ID\":\"629\",\"Runtime_AMP_Sec\":\".0000\",\"Runtime_Parse_Sec\":\".6000\",\"Runtime_Total_Sec\":\".6000\",\"Site_ID\":\"APPLE57CRESCENT\",\"Site_Name\":\"APPLE57CRESCENT\",\"Spool_GB\":\".0000\",\"Statement_Bucket\":\"Other\",\"System_Use\":\"Production\",\"Total_AMPs\":\"1680\",\"TransferTime_Sec\":\".0000\",\"Use_Bucket\":\"ETL\",\"User_Bucket\":\"ADHOC\",\"User_Department\":\"FRAUD\",\"User_SubDepartment\":\"FRAUD\",\"acct_industry_name\":\"Manufacturing\",\"acct_subindustry_name\":\"Software\",\"cust_region_desc\":\"Americas\",\"gtm_acct_name\":\"Apple, Inc.\",\"sls_area_name\":\"West\",\"strategic_sgmnt_cd\":\"Hyperscale Architect\"},{\"Account_Name\":\"Apple, Inc.\",\"App_Bucket\":\"TTU\",\"CPUSec_Skew_AvgPCt\":\"-.3627\",\"CPU_AMP_Sec\":\"41.6300\",\"CPU_Parse_Sec\":\"3.7700\",\"CPU_Total_Sec\":\"45.4000\",\"DelayTime_Sec\":\"\",\"IOCntM_Physical\":\"0\",\"IOCntM_Total\":\"0\",\"IOCnt_Skew_AvgPct\":\"-.2888\",\"IOGB_Physical\":\".6900\",\"IOGB_Total\":\"14.1500\",\"IOTA_Used_cntB\":\"63.8300\",\"LogTS\":\"2020-04-08 05:00:00-04:00\",\"NumOfActiveAMPs_Avg\":\"179.8222\",\"Query_Abort_Cnt\":\"0\",\"Query_Cnt\":\"1032\",\"Query_Complexity_Score_Avg\":\"1.0774\",\"Query_Error_Cnt\":\"0\",\"Query_InMem_Cnt\":\"620\",\"Query_MultiStatement_Cnt\":\"0\",\"Query_NoIO_cnt\":\"388\",\"Query_PhysIO_Cnt\":\"24\",\"Request_Cnt\":\"750\",\"Returned_Row_Cnt\":\"0\",\"Row_Key\":\"9332630\",\"Run_ID\":\"629\",\"Runtime_AMP_Sec\":\"5.7800\",\"Runtime_Parse_Sec\":\"3.9100\",\"Runtime_Total_Sec\":\"9.6900\",\"Site_ID\":\"APPLE57CRESCENT\",\"Site_Name\":\"APPLE57CRESCENT\",\"Spool_GB\":\".0000\",\"Statement_Bucket\":\"Other\",\"System_Use\":\"Production\",\"Total_AMPs\":\"1680\",\"TransferTime_Sec\":\".2500\",\"Use_Bucket\":\"Stream\",\"User_Bucket\":\"CORE ETL\",\"User_Department\":\"SALESOPS\",\"User_SubDepartment\":\"FINANCE\",\"acct_industry_name\":\"Manufacturing\",\"acct_subindustry_name\":\"Software\",\"cust_region_desc\":\"Americas\",\"gtm_acct_name\":\"Apple, Inc.\",\"sls_area_name\":\"West\",\"strategic_sgmnt_cd\":\"Hyperscale Architect\"},{\"Account_Name\":\"Apple, Inc.\",\"App_Bucket\":\"TTU\",\"CPUSec_Skew_AvgPCt\":\".0000\",\"CPU_AMP_Sec\":\".0000\",\"CPU_Parse_Sec\":\".9700\",\"CPU_Total_Sec\":\".9700\",\"DelayTime_Sec\":\"\",\"IOCntM_Physical\":\"0\",\"IOCntM_Total\":\"0\",\"IOCnt_Skew_AvgPct\":\".0000\",\"IOGB_Physical\":\".0000\",\"IOGB_Total\":\".0000\",\"IOTA_Used_cntB\":\".0000\",\"LogTS\":\"2020-04-02 09:00:00-04:00\",\"NumOfActiveAMPs_Avg\":\"1.0000\",\"Query_Abort_Cnt\":\"0\",\"Query_Cnt\":\"31\",\"Query_Complexity_Score_Avg\":\"1.0000\",\"Query_Error_Cnt\":\"0\",\"Query_InMem_Cnt\":\"31\",\"Query_MultiStatement_Cnt\":\"0\",\"Query_NoIO_cnt\":\"0\",\"Query_PhysIO_Cnt\":\"0\",\"Request_Cnt\":\"31\",\"Returned_Row_Cnt\":\"0\",\"Row_Key\":\"1045869\",\"Run_ID\":\"629\",\"Runtime_AMP_Sec\":\".3100\",\"Runtime_Parse_Sec\":\"1.0900\",\"Runtime_Total_Sec\":\"1.4000\",\"Site_ID\":\"APPLE57CRESCENT\",\"Site_Name\":\"APPLE57CRESCENT\",\"Spool_GB\":\".0000\",\"Statement_Bucket\":\"Admin\",\"System_Use\":\"Production\",\"Total_AMPs\":\"1680\",\"TransferTime_Sec\":\".0000\",\"Use_Bucket\":\"Stream\",\"User_Bucket\":\"CORE ETL\",\"User_Department\":\"APPLECARE\",\"User_SubDepartment\":\"AC REPAIR\",\"acct_industry_name\":\"Manufacturing\",\"acct_subindustry_name\":\"Software\",\"cust_region_desc\":\"Americas\",\"gtm_acct_name\":\"Apple, Inc.\",\"sls_area_name\":\"West\",\"strategic_sgmnt_cd\":\"Hyperscale Architect\"},{\"Account_Name\":\"Apple, Inc.\",\"App_Bucket\":\"Tableau\",\"CPUSec_Skew_AvgPCt\":\".0000\",\"CPU_AMP_Sec\":\".0000\",\"CPU_Parse_Sec\":\".0100\",\"CPU_Total_Sec\":\".0100\",\"DelayTime_Sec\":\"\",\"IOCntM_Physical\":\"0\",\"IOCntM_Total\":\"0\",\"IOCnt_Skew_AvgPct\":\".0000\",\"IOGB_Physical\":\".0000\",\"IOGB_Total\":\".0000\",\"IOTA_Used_cntB\":\".0000\",\"LogTS\":\"2020-03-28 11:00:00-04:00\",\"NumOfActiveAMPs_Avg\":\".5000\",\"Query_Abort_Cnt\":\"0\",\"Query_Cnt\":\"78\",\"Query_Complexity_Score_Avg\":\".5000\",\"Query_Error_Cnt\":\"0\",\"Query_InMem_Cnt\":\"39\",\"Query_MultiStatement_Cnt\":\"0\",\"Query_NoIO_cnt\":\"39\",\"Query_PhysIO_Cnt\":\"0\",\"Request_Cnt\":\"78\",\"Returned_Row_Cnt\":\"0\",\"Row_Key\":\"5841357\",\"Run_ID\":\"629\",\"Runtime_AMP_Sec\":\".0400\",\"Runtime_Parse_Sec\":\".6600\",\"Runtime_Total_Sec\":\".7000\",\"Site_ID\":\"APPLE57CRESCENT\",\"Site_Name\":\"APPLE57CRESCENT\",\"Spool_GB\":\".0002\",\"Statement_Bucket\":\"Insert\",\"System_Use\":\"Production\",\"Total_AMPs\":\"1680\",\"TransferTime_Sec\":\"2.7400\",\"Use_Bucket\":\"Analytic\",\"User_Bucket\":\"ADHOC\",\"User_Department\":\"iTunes\",\"User_SubDepartment\":\"iTunes\",\"acct_industry_name\":\"Manufacturing\",\"acct_subindustry_name\":\"Software\",\"cust_region_desc\":\"Americas\",\"gtm_acct_name\":\"Apple, Inc.\",\"sls_area_name\":\"West\",\"strategic_sgmnt_cd\":\"Hyperscale Architect\"},{\"Account_Name\":\"Apple, Inc.\",\"App_Bucket\":\"TTU\",\"CPUSec_Skew_AvgPCt\":\"-.3927\",\"CPU_AMP_Sec\":\"17.5000\",\"CPU_Parse_Sec\":\"1.0800\",\"CPU_Total_Sec\":\"18.5800\",\"DelayTime_Sec\":\"\",\"IOCntM_Physical\":\"0\",\"IOCntM_Total\":\"0\",\"IOCnt_Skew_AvgPct\":\"-.2286\",\"IOGB_Physical\":\".2200\",\"IOGB_Total\":\"5.2700\",\"IOTA_Used_cntB\":\"26.5400\",\"LogTS\":\"2020-05-20 11:00:00-04:00\",\"NumOfActiveAMPs_Avg\":\"329.1094\",\"Query_Abort_Cnt\":\"0\",\"Query_Cnt\":\"96\",\"Query_Complexity_Score_Avg\":\".8594\",\"Query_Error_Cnt\":\"0\",\"Query_InMem_Cnt\":\"35\",\"Query_MultiStatement_Cnt\":\"0\",\"Query_NoIO_cnt\":\"50\",\"Query_PhysIO_Cnt\":\"11\",\"Request_Cnt\":\"89\",\"Returned_Row_Cnt\":\"0\",\"Row_Key\":\"4639158\",\"Run_ID\":\"629\",\"Runtime_AMP_Sec\":\"2.0900\",\"Runtime_Parse_Sec\":\"1.3400\",\"Runtime_Total_Sec\":\"3.4300\",\"Site_ID\":\"APPLE57CRESCENT\",\"Site_Name\":\"APPLE57CRESCENT\",\"Spool_GB\":\".0000\",\"Statement_Bucket\":\"Other\",\"System_Use\":\"Production\",\"Total_AMPs\":\"1680\",\"TransferTime_Sec\":\".0200\",\"Use_Bucket\":\"Stream\",\"User_Bucket\":\"CORE ETL\",\"User_Department\":\"MARKETING\",\"User_SubDepartment\":\"MARKETING\",\"acct_industry_name\":\"Manufacturing\",\"acct_subindustry_name\":\"Software\",\"cust_region_desc\":\"Americas\",\"gtm_acct_name\":\"Apple, Inc.\",\"sls_area_name\":\"West\",\"strategic_sgmnt_cd\":\"Hyperscale Architect\"},{\"Account_Name\":\"Apple, Inc.\",\"App_Bucket\":\"TTU\",\"CPUSec_Skew_AvgPCt\":\"-.9246\",\"CPU_AMP_Sec\":\"160.4200\",\"CPU_Parse_Sec\":\".1000\",\"CPU_Total_Sec\":\"160.5200\",\"DelayTime_Sec\":\"\",\"IOCntM_Physical\":\"0\",\"IOCntM_Total\":\"2\",\"IOCnt_Skew_AvgPct\":\"-.3629\",\"IOGB_Physical\":\"8.3200\",\"IOGB_Total\":\"113.2700\",\"IOTA_Used_cntB\":\"34.5800\",\"LogTS\":\"2020-04-07 15:00:00-04:00\",\"NumOfActiveAMPs_Avg\":\"1680.0000\",\"Query_Abort_Cnt\":\"0\",\"Query_Cnt\":\"184\",\"Query_Complexity_Score_Avg\":\"5.0000\",\"Query_Error_Cnt\":\"0\",\"Query_InMem_Cnt\":\"47\",\"Query_MultiStatement_Cnt\":\"0\",\"Query_NoIO_cnt\":\"0\",\"Query_PhysIO_Cnt\":\"137\",\"Request_Cnt\":\"184\",\"Returned_Row_Cnt\":\"0\",\"Row_Key\":\"7023748\",\"Run_ID\":\"629\",\"Runtime_AMP_Sec\":\"20.7500\",\"Runtime_Parse_Sec\":\"2.0200\",\"Runtime_Total_Sec\":\"22.7700\",\"Site_ID\":\"APPLE57CRESCENT\",\"Site_Name\":\"APPLE57CRESCENT\",\"Spool_GB\":\".0000\",\"Statement_Bucket\":\"Merge/Update/Delete\",\"System_Use\":\"Production\",\"Total_AMPs\":\"1680\",\"TransferTime_Sec\":\".2700\",\"Use_Bucket\":\"ETL\",\"User_Bucket\":\"CORE ETL\",\"User_Department\":\"SALESOPS\",\"User_SubDepartment\":\"OPS\",\"acct_industry_name\":\"Manufacturing\",\"acct_subindustry_name\":\"Software\",\"cust_region_desc\":\"Americas\",\"gtm_acct_name\":\"Apple, Inc.\",\"sls_area_name\":\"West\",\"strategic_sgmnt_cd\":\"Hyperscale Architect\"},{\"Account_Name\":\"Apple, Inc.\",\"App_Bucket\":\"BTEQ\",\"CPUSec_Skew_AvgPCt\":\"-.2832\",\"CPU_AMP_Sec\":\"91294.4300\",\"CPU_Parse_Sec\":\"1.7700\",\"CPU_Total_Sec\":\"91296.2000\",\"DelayTime_Sec\":\"\",\"IOCntM_Physical\":\"8\",\"IOCntM_Total\":\"671\",\"IOCnt_Skew_AvgPct\":\"-.0231\",\"IOGB_Physical\":\"9268.3800\",\"IOGB_Total\":\"70661.1400\",\"IOTA_Used_cntB\":\"23296.8800\",\"LogTS\":\"2020-04-07 19:00:00-04:00\",\"NumOfActiveAMPs_Avg\":\"271.8901\",\"Query_Abort_Cnt\":\"0\",\"Query_Cnt\":\"234\",\"Query_Complexity_Score_Avg\":\"1.6767\",\"Query_Error_Cnt\":\"2\",\"Query_InMem_Cnt\":\"153\",\"Query_MultiStatement_Cnt\":\"0\",\"Query_NoIO_cnt\":\"10\",\"Query_PhysIO_Cnt\":\"71\",\"Request_Cnt\":\"234\",\"Returned_Row_Cnt\":\"0\",\"Row_Key\":\"13118403\",\"Run_ID\":\"629\",\"Runtime_AMP_Sec\":\"104.4200\",\"Runtime_Parse_Sec\":\"2.6600\",\"Runtime_Total_Sec\":\"107.0800\",\"Site_ID\":\"APPLE57CRESCENT\",\"Site_Name\":\"APPLE57CRESCENT\",\"Spool_GB\":\"12599.2676\",\"Statement_Bucket\":\"Insert\",\"System_Use\":\"Production\",\"Total_AMPs\":\"1680\",\"TransferTime_Sec\":\".0300\",\"Use_Bucket\":\"ETL\",\"User_Bucket\":\"SEMANTIC\",\"User_Department\":\"MARKETING\",\"User_SubDepartment\":\"MARKETING\",\"acct_industry_name\":\"Manufacturing\",\"acct_subindustry_name\":\"Software\",\"cust_region_desc\":\"Americas\",\"gtm_acct_name\":\"Apple, Inc.\",\"sls_area_name\":\"West\",\"strategic_sgmnt_cd\":\"Hyperscale Architect\"},{\"Account_Name\":\"Apple, Inc.\",\"App_Bucket\":\"TTU\",\"CPUSec_Skew_AvgPCt\":\"2.3476\",\"CPU_AMP_Sec\":\"57.5400\",\"CPU_Parse_Sec\":\"42.3000\",\"CPU_Total_Sec\":\"99.8400\",\"DelayTime_Sec\":\"\",\"IOCntM_Physical\":\"0\",\"IOCntM_Total\":\"0\",\"IOCnt_Skew_AvgPct\":\"89.5949\",\"IOGB_Physical\":\".0000\",\"IOGB_Total\":\".0000\",\"IOTA_Used_cntB\":\"5.5400\",\"LogTS\":\"2020-04-06 15:00:00-04:00\",\"NumOfActiveAMPs_Avg\":\".8679\",\"Query_Abort_Cnt\":\"0\",\"Query_Cnt\":\"5889\",\"Query_Complexity_Score_Avg\":\"103.9968\",\"Query_Error_Cnt\":\"0\",\"Query_InMem_Cnt\":\"4053\",\"Query_MultiStatement_Cnt\":\"0\",\"Query_NoIO_cnt\":\"1289\",\"Query_PhysIO_Cnt\":\"547\",\"Request_Cnt\":\"5889\",\"Returned_Row_Cnt\":\"0\",\"Row_Key\":\"12731158\",\"Run_ID\":\"629\",\"Runtime_AMP_Sec\":\"2985.6300\",\"Runtime_Parse_Sec\":\"64.2300\",\"Runtime_Total_Sec\":\"3049.8600\",\"Site_ID\":\"APPLE57CRESCENT\",\"Site_Name\":\"APPLE57CRESCENT\",\"Spool_GB\":\".0000\",\"Statement_Bucket\":\"Insert\",\"System_Use\":\"Production\",\"Total_AMPs\":\"1680\",\"TransferTime_Sec\":\".8700\",\"Use_Bucket\":\"Stream\",\"User_Bucket\":\"CORE ETL\",\"User_Department\":\"ITUNES\",\"User_SubDepartment\":\"ITUNES\",\"acct_industry_name\":\"Manufacturing\",\"acct_subindustry_name\":\"Software\",\"cust_region_desc\":\"Americas\",\"gtm_acct_name\":\"Apple, Inc.\",\"sls_area_name\":\"West\",\"strategic_sgmnt_cd\":\"Hyperscale Architect\"},{\"Account_Name\":\"Apple, Inc.\",\"App_Bucket\":\"TTU\",\"CPUSec_Skew_AvgPCt\":\"-.1111\",\"CPU_AMP_Sec\":\".0000\",\"CPU_Parse_Sec\":\"1.0800\",\"CPU_Total_Sec\":\"1.0800\",\"DelayTime_Sec\":\"\",\"IOCntM_Physical\":\"0\",\"IOCntM_Total\":\"0\",\"IOCnt_Skew_AvgPct\":\"-.0556\",\"IOGB_Physical\":\".0000\",\"IOGB_Total\":\".0000\",\"IOTA_Used_cntB\":\".0000\",\"LogTS\":\"2020-03-27 16:00:00-04:00\",\"NumOfActiveAMPs_Avg\":\".5000\",\"Query_Abort_Cnt\":\"0\",\"Query_Cnt\":\"28\",\"Query_Complexity_Score_Avg\":\".5000\",\"Query_Error_Cnt\":\"0\",\"Query_InMem_Cnt\":\"4\",\"Query_MultiStatement_Cnt\":\"0\",\"Query_NoIO_cnt\":\"24\",\"Query_PhysIO_Cnt\":\"0\",\"Request_Cnt\":\"28\",\"Returned_Row_Cnt\":\"0\",\"Row_Key\":\"3032061\",\"Run_ID\":\"629\",\"Runtime_AMP_Sec\":\".0700\",\"Runtime_Parse_Sec\":\"1.1200\",\"Runtime_Total_Sec\":\"1.1900\",\"Site_ID\":\"APPLE57CRESCENT\",\"Site_Name\":\"APPLE57CRESCENT\",\"Spool_GB\":\".0000\",\"Statement_Bucket\":\"Other\",\"System_Use\":\"Production\",\"Total_AMPs\":\"1680\",\"TransferTime_Sec\":\".0100\",\"Use_Bucket\":\"ETL\",\"User_Bucket\":\"CORE ETL\",\"User_Department\":\"SALESOPS\",\"User_SubDepartment\":\"SALES\",\"acct_industry_name\":\"Manufacturing\",\"acct_subindustry_name\":\"Software\",\"cust_region_desc\":\"Americas\",\"gtm_acct_name\":\"Apple, Inc.\",\"sls_area_name\":\"West\",\"strategic_sgmnt_cd\":\"Hyperscale Architect\"},{\"Account_Name\":\"Apple, Inc.\",\"App_Bucket\":\"BTEQ\",\"CPUSec_Skew_AvgPCt\":\"-.9385\",\"CPU_AMP_Sec\":\"2502.5800\",\"CPU_Parse_Sec\":\"2.8900\",\"CPU_Total_Sec\":\"2505.4700\",\"DelayTime_Sec\":\"\",\"IOCntM_Physical\":\"0\",\"IOCntM_Total\":\"15\",\"IOCnt_Skew_AvgPct\":\"-.8542\",\"IOGB_Physical\":\"1498.6900\",\"IOGB_Total\":\"1527.2300\",\"IOTA_Used_cntB\":\"3070.8700\",\"LogTS\":\"2020-04-11 16:00:00-04:00\",\"NumOfActiveAMPs_Avg\":\"1680.0000\",\"Query_Abort_Cnt\":\"0\",\"Query_Cnt\":\"49\",\"Query_Complexity_Score_Avg\":\"9.0000\",\"Query_Error_Cnt\":\"0\",\"Query_InMem_Cnt\":\"0\",\"Query_MultiStatement_Cnt\":\"0\",\"Query_NoIO_cnt\":\"0\",\"Query_PhysIO_Cnt\":\"49\",\"Request_Cnt\":\"49\",\"Returned_Row_Cnt\":\"0\",\"Row_Key\":\"9633266\",\"Run_ID\":\"629\",\"Runtime_AMP_Sec\":\"91.3800\",\"Runtime_Parse_Sec\":\"9.8100\",\"Runtime_Total_Sec\":\"101.1900\",\"Site_ID\":\"APPLE57CRESCENT\",\"Site_Name\":\"APPLE57CRESCENT\",\"Spool_GB\":\"5.4038\",\"Statement_Bucket\":\"Collect Stats\",\"System_Use\":\"Production\",\"Total_AMPs\":\"1680\",\"TransferTime_Sec\":\".0600\",\"Use_Bucket\":\"ETL\",\"User_Bucket\":\"CORE ETL\",\"User_Department\":\"SALESOPS\",\"User_SubDepartment\":\"FINANCE\",\"acct_industry_name\":\"Manufacturing\",\"acct_subindustry_name\":\"Software\",\"cust_region_desc\":\"Americas\",\"gtm_acct_name\":\"Apple, Inc.\",\"sls_area_name\":\"West\",\"strategic_sgmnt_cd\":\"Hyperscale Architect\"},{\"Account_Name\":\"Apple, Inc.\",\"App_Bucket\":\"BTEQ\",\"CPUSec_Skew_AvgPCt\":\"-.3216\",\"CPU_AMP_Sec\":\"4.2900\",\"CPU_Parse_Sec\":\"1.2700\",\"CPU_Total_Sec\":\"5.5600\",\"DelayTime_Sec\":\"\",\"IOCntM_Physical\":\"0\",\"IOCntM_Total\":\"0\",\"IOCnt_Skew_AvgPct\":\"-.3325\",\"IOGB_Physical\":\".0000\",\"IOGB_Total\":\".0000\",\"IOTA_Used_cntB\":\".0600\",\"LogTS\":\"2020-04-15 04:00:00-04:00\",\"NumOfActiveAMPs_Avg\":\"560.0000\",\"Query_Abort_Cnt\":\"0\",\"Query_Cnt\":\"72\",\"Query_Complexity_Score_Avg\":\".0000\",\"Query_Error_Cnt\":\"0\",\"Query_InMem_Cnt\":\"1\",\"Query_MultiStatement_Cnt\":\"0\",\"Query_NoIO_cnt\":\"71\",\"Query_PhysIO_Cnt\":\"0\",\"Request_Cnt\":\"72\",\"Returned_Row_Cnt\":\"0\",\"Row_Key\":\"1130454\",\"Run_ID\":\"629\",\"Runtime_AMP_Sec\":\"2.3300\",\"Runtime_Parse_Sec\":\"1.3700\",\"Runtime_Total_Sec\":\"3.7000\",\"Site_ID\":\"APPLE57CRESCENT\",\"Site_Name\":\"APPLE57CRESCENT\",\"Spool_GB\":\".0000\",\"Statement_Bucket\":\"Other\",\"System_Use\":\"Production\",\"Total_AMPs\":\"1680\",\"TransferTime_Sec\":\".0100\",\"Use_Bucket\":\"ETL\",\"User_Bucket\":\"CORE ETL\",\"User_Department\":\"MARKETING\",\"User_SubDepartment\":\"MARKETING\",\"acct_industry_name\":\"Manufacturing\",\"acct_subindustry_name\":\"Software\",\"cust_region_desc\":\"Americas\",\"gtm_acct_name\":\"Apple, Inc.\",\"sls_area_name\":\"West\",\"strategic_sgmnt_cd\":\"Hyperscale Architect\"},{\"Account_Name\":\"Apple, Inc.\",\"App_Bucket\":\"BTEQ\",\"CPUSec_Skew_AvgPCt\":\"-.3223\",\"CPU_AMP_Sec\":\"7.9300\",\"CPU_Parse_Sec\":\"4.8200\",\"CPU_Total_Sec\":\"12.7500\",\"DelayTime_Sec\":\"\",\"IOCntM_Physical\":\"0\",\"IOCntM_Total\":\"0\",\"IOCnt_Skew_AvgPct\":\"-.3322\",\"IOGB_Physical\":\".0000\",\"IOGB_Total\":\".0300\",\"IOTA_Used_cntB\":\".0000\",\"LogTS\":\"2020-04-06 20:00:00-04:00\",\"NumOfActiveAMPs_Avg\":\"560.0000\",\"Query_Abort_Cnt\":\"0\",\"Query_Cnt\":\"219\",\"Query_Complexity_Score_Avg\":\".0000\",\"Query_Error_Cnt\":\"0\",\"Query_InMem_Cnt\":\"1\",\"Query_MultiStatement_Cnt\":\"0\",\"Query_NoIO_cnt\":\"212\",\"Query_PhysIO_Cnt\":\"6\",\"Request_Cnt\":\"219\",\"Returned_Row_Cnt\":\"0\",\"Row_Key\":\"3038274\",\"Run_ID\":\"629\",\"Runtime_AMP_Sec\":\"4.0700\",\"Runtime_Parse_Sec\":\"5.1400\",\"Runtime_Total_Sec\":\"9.2100\",\"Site_ID\":\"APPLE57CRESCENT\",\"Site_Name\":\"APPLE57CRESCENT\",\"Spool_GB\":\".0000\",\"Statement_Bucket\":\"Other\",\"System_Use\":\"Production\",\"Total_AMPs\":\"1680\",\"TransferTime_Sec\":\".0500\",\"Use_Bucket\":\"ETL\",\"User_Bucket\":\"CORE ETL\",\"User_Department\":\"APPLECARE\",\"User_SubDepartment\":\"AC REPAIR\",\"acct_industry_name\":\"Manufacturing\",\"acct_subindustry_name\":\"Software\",\"cust_region_desc\":\"Americas\",\"gtm_acct_name\":\"Apple, Inc.\",\"sls_area_name\":\"West\",\"strategic_sgmnt_cd\":\"Hyperscale Architect\"},{\"Account_Name\":\"Apple, Inc.\",\"App_Bucket\":\"TTU\",\"CPUSec_Skew_AvgPCt\":\".0000\",\"CPU_AMP_Sec\":\".0000\",\"CPU_Parse_Sec\":\"2.6500\",\"CPU_Total_Sec\":\"2.6500\",\"DelayTime_Sec\":\"\",\"IOCntM_Physical\":\"0\",\"IOCntM_Total\":\"0\",\"IOCnt_Skew_AvgPct\":\".0000\",\"IOGB_Physical\":\".0000\",\"IOGB_Total\":\".0000\",\"IOTA_Used_cntB\":\".0000\",\"LogTS\":\"2020-06-01 23:00:00-04:00\",\"NumOfActiveAMPs_Avg\":\"1.0000\",\"Query_Abort_Cnt\":\"0\",\"Query_Cnt\":\"77\",\"Query_Complexity_Score_Avg\":\"1.0000\",\"Query_Error_Cnt\":\"0\",\"Query_InMem_Cnt\":\"77\",\"Query_MultiStatement_Cnt\":\"0\",\"Query_NoIO_cnt\":\"0\",\"Query_PhysIO_Cnt\":\"0\",\"Request_Cnt\":\"77\",\"Returned_Row_Cnt\":\"0\",\"Row_Key\":\"4228273\",\"Run_ID\":\"629\",\"Runtime_AMP_Sec\":\"1.7500\",\"Runtime_Parse_Sec\":\"2.9200\",\"Runtime_Total_Sec\":\"4.6700\",\"Site_ID\":\"APPLE57CRESCENT\",\"Site_Name\":\"APPLE57CRESCENT\",\"Spool_GB\":\".0000\",\"Statement_Bucket\":\"Admin\",\"System_Use\":\"Production\",\"Total_AMPs\":\"1680\",\"TransferTime_Sec\":\".0200\",\"Use_Bucket\":\"ETL\",\"User_Bucket\":\"CORE ETL\",\"User_Department\":\"SALESOPS\",\"User_SubDepartment\":\"FINANCE\",\"acct_industry_name\":\"Manufacturing\",\"acct_subindustry_name\":\"Software\",\"cust_region_desc\":\"Americas\",\"gtm_acct_name\":\"Apple, Inc.\",\"sls_area_name\":\"West\",\"strategic_sgmnt_cd\":\"Hyperscale Architect\"}]\n",
      "text/html": [
       "<div class = \"td-resultset-table-div\" style = \"max-height: 537px; overflow-y: auto\"><style> table {border: 1px solid rgb(207, 207, 207) !important; border-collapse: collapse !important; margin-top: 1px !important;} th {border: 1px solid rgb(198,198,198) !important; border-collapse: collapse !important; padding: 2px 5px !important; font-size: 13px !important; min-width:150px !important; max-width: 150px !important; white-space: nowrap !important; overflow:hidden !important; text-overflow:ellipsis !important;} tr:nth-child(even) {background: rgba(243, 243, 243, 0.75) !important;} td {border: 1px solid rgb(207, 207, 207) !important; border-collapse: collapse !important; padding: 2px 5px !important; font-size: 13px !important; min-width:150px !important; max-width: 150px !important; white-space: nowrap !important; overflow:hidden !important; text-overflow:ellipsis !important;}</style><table><thead><tr style= \"background: #efefef;\"><th>Row_Key</th><th>Site_ID</th><th>Site_Name</th><th>LogTS</th><th>gtm_acct_name</th><th>Account_Name</th><th>acct_industry_name</th><th>acct_subindustry_name</th><th>cust_region_desc</th><th>sls_area_name</th><th>strategic_sgmnt_cd</th><th>System_Use</th><th>App_Bucket</th><th>Use_Bucket</th><th>Statement_Bucket</th><th>User_Bucket</th><th>User_Department</th><th>User_SubDepartment</th><th>Total_AMPs</th><th>Query_Cnt</th><th>Query_MultiStatement_Cnt</th><th>Query_Error_Cnt</th><th>Query_Abort_Cnt</th><th>Query_NoIO_cnt</th><th>Query_InMem_Cnt</th><th>Query_PhysIO_Cnt</th><th>Request_Cnt</th><th>Query_Complexity_Score_Avg</th><th>Returned_Row_Cnt</th><th>DelayTime_Sec</th><th>Runtime_Parse_Sec</th><th>Runtime_AMP_Sec</th><th>Runtime_Total_Sec</th><th>TransferTime_Sec</th><th>CPU_Parse_Sec</th><th>CPU_AMP_Sec</th><th>CPU_Total_Sec</th><th>IOCntM_Physical</th><th>IOCntM_Total</th><th>IOGB_Physical</th><th>IOGB_Total</th><th>IOTA_Used_cntB</th><th>NumOfActiveAMPs_Avg</th><th>Spool_GB</th><th>CPUSec_Skew_AvgPCt</th><th>IOCnt_Skew_AvgPct</th><th>Run_ID</th></tr></thead><tr><td>4748701</td><td>APPLE57CRESCENT</td><td>APPLE57CRESCENT</td><td>2020-04-09 19:00:00-04:00</td><td>Apple, Inc.</td><td>Apple, Inc.</td><td>Manufacturing</td><td>Software</td><td>Americas</td><td>West</td><td>Hyperscale Architect</td><td>Production</td><td>TTU</td><td>Stream</td><td>Admin</td><td>CORE ETL</td><td>ITUNES</td><td>ITUNES</td><td>1680</td><td>234</td><td>0</td><td>0</td><td>0</td><td>0</td><td>234</td><td>0</td><td>234</td><td>1.0000</td><td>0</td><td></td><td>8.7300</td><td>2.0200</td><td>10.7500</td><td>.0200</td><td>7.7500</td><td>.0000</td><td>7.7500</td><td>0</td><td>0</td><td>.0000</td><td>.0000</td><td>.0000</td><td>1.0000</td><td>.0000</td><td>.0000</td><td>.0000</td><td>629</td></tr><tr><td>1134070</td><td>APPLE57CRESCENT</td><td>APPLE57CRESCENT</td><td>2020-03-28 17:00:00-04:00</td><td>Apple, Inc.</td><td>Apple, Inc.</td><td>Manufacturing</td><td>Software</td><td>Americas</td><td>West</td><td>Hyperscale Architect</td><td>Production</td><td>BTEQ</td><td>ETL</td><td>Select</td><td>SEMANTIC</td><td>SALESOPS</td><td>RETAIL</td><td>1680</td><td>186</td><td>0</td><td>0</td><td>0</td><td>156</td><td>4</td><td>26</td><td>186</td><td>.4839</td><td>547</td><td></td><td>.3300</td><td>1.0000</td><td>1.3300</td><td>.0300</td><td>.2200</td><td>19.9000</td><td>20.1200</td><td>0</td><td>0</td><td>.0000</td><td>17.2100</td><td>.0000</td><td>108.4839</td><td>.0005</td><td>-.8241</td><td>-.2867</td><td>629</td></tr><tr><td>5131700</td><td>APPLE57CRESCENT</td><td>APPLE57CRESCENT</td><td>2020-04-06 08:00:00-04:00</td><td>Apple, Inc.</td><td>Apple, Inc.</td><td>Manufacturing</td><td>Software</td><td>Americas</td><td>West</td><td>Hyperscale Architect</td><td>Production</td><td>BTEQ</td><td>ETL</td><td>Merge/Update/Delete</td><td>ADHOC</td><td>SYSTEM</td><td>SYSTEM</td><td>1680</td><td>19</td><td>0</td><td>0</td><td>0</td><td>0</td><td>10</td><td>9</td><td>19</td><td>8.7024</td><td>0</td><td></td><td>.8100</td><td>7.8500</td><td>8.6600</td><td>.0000</td><td>.6200</td><td>902.6900</td><td>903.3100</td><td>1</td><td>6</td><td>138.3600</td><td>444.4000</td><td>1696.9200</td><td>1680.0000</td><td>9.8091</td><td>-.8455</td><td>-.3218</td><td>629</td></tr><tr><td>7031890</td><td>APPLE57CRESCENT</td><td>APPLE57CRESCENT</td><td>2020-04-05 15:00:00-04:00</td><td>Apple, Inc.</td><td>Apple, Inc.</td><td>Manufacturing</td><td>Software</td><td>Americas</td><td>West</td><td>Hyperscale Architect</td><td>Production</td><td>JDBC</td><td>Application</td><td>Other</td><td>BOBJ</td><td>SALESOPS</td><td>OPS</td><td>1680</td><td>2</td><td>0</td><td>0</td><td>0</td><td>0</td><td>2</td><td>0</td><td>2</td><td>3.0000</td><td>0</td><td></td><td>.0900</td><td>.0200</td><td>.1100</td><td>.0000</td><td>.0800</td><td>.0000</td><td>.0800</td><td>0</td><td>0</td><td>.0000</td><td>.0000</td><td>.0000</td><td>3.0000</td><td>.0000</td><td>.0000</td><td>-.3333</td><td>629</td></tr><tr><td>3537377</td><td>APPLE57CRESCENT</td><td>APPLE57CRESCENT</td><td>2020-04-20 22:00:00-04:00</td><td>Apple, Inc.</td><td>Apple, Inc.</td><td>Manufacturing</td><td>Software</td><td>Americas</td><td>West</td><td>Hyperscale Architect</td><td>Production</td><td>BTEQ</td><td>ETL</td><td>Collect Stats</td><td>SEMANTIC</td><td>SALESOPS</td><td>RETAIL</td><td>1680</td><td>12</td><td>0</td><td>0</td><td>0</td><td>0</td><td>0</td><td>12</td><td>12</td><td>8.7500</td><td>0</td><td></td><td>1.4400</td><td>4.6900</td><td>6.1300</td><td>.0100</td><td>.6000</td><td>13.7400</td><td>14.3400</td><td>0</td><td>0</td><td>.0500</td><td>12.3100</td><td>.1700</td><td>1680.0000</td><td>.0547</td><td>-.9853</td><td>-.9370</td><td>629</td></tr><tr><td>9328740</td><td>APPLE57CRESCENT</td><td>APPLE57CRESCENT</td><td>2020-05-04 10:00:00-04:00</td><td>Apple, Inc.</td><td>Apple, Inc.</td><td>Manufacturing</td><td>Software</td><td>Americas</td><td>West</td><td>Hyperscale Architect</td><td>Production</td><td>BTEQ</td><td>ETL</td><td>Insert</td><td>CORE ETL</td><td>SALESOPS</td><td>FINANCE</td><td>1680</td><td>71</td><td>0</td><td>0</td><td>0</td><td>51</td><td>0</td><td>20</td><td>71</td><td>2.3274</td><td>0</td><td></td><td>2.1600</td><td>16.1400</td><td>18.3000</td><td>.0300</td><td>1.6500</td><td>862.3300</td><td>863.9800</td><td>9</td><td>11</td><td>628.2900</td><td>773.4300</td><td>3060.2900</td><td>505.6994</td><td>.5474</td><td>-.7025</td><td>-.2741</td><td>629</td></tr><tr><td>2216714</td><td>APPLE57CRESCENT</td><td>APPLE57CRESCENT</td><td>2020-03-27 20:00:00-04:00</td><td>Apple, Inc.</td><td>Apple, Inc.</td><td>Manufacturing</td><td>Software</td><td>Americas</td><td>West</td><td>Hyperscale Architect</td><td>Production</td><td>TTU</td><td>Stream</td><td>Insert</td><td>SEMANTIC</td><td>ITUNES</td><td>ITUNES</td><td>1680</td><td>92</td><td>0</td><td>0</td><td>0</td><td>18</td><td>73</td><td>1</td><td>92</td><td>121.1512</td><td>0</td><td></td><td>.9300</td><td>76.7600</td><td>77.6900</td><td>.0400</td><td>.6200</td><td>.5700</td><td>1.1900</td><td>0</td><td>0</td><td>.0000</td><td>.0200</td><td>.0000</td><td>.8907</td><td>.0000</td><td>.7672</td><td>94.2403</td><td>629</td></tr><tr><td>11120385</td><td>APPLE57CRESCENT</td><td>APPLE57CRESCENT</td><td>2020-03-30 06:00:00-04:00</td><td>Apple, Inc.</td><td>Apple, Inc.</td><td>Manufacturing</td><td>Software</td><td>Americas</td><td>West</td><td>Hyperscale Architect</td><td>Production</td><td>JDBC</td><td>Application</td><td>Other</td><td>ADHOC</td><td>SALESOPS</td><td>OPS</td><td>1680</td><td>9</td><td>0</td><td>2</td><td>0</td><td>7</td><td>0</td><td>2</td><td>9</td><td>1.2000</td><td>8</td><td></td><td>.1800</td><td>.0700</td><td>.2500</td><td>1.8000</td><td>.0200</td><td>.5500</td><td>.5700</td><td>0</td><td>0</td><td>.0000</td><td>1.2600</td><td>.0000</td><td>672.0000</td><td>.0002</td><td>-.3939</td><td>-.1780</td><td>629</td></tr><tr><td>3527068</td><td>APPLE57CRESCENT</td><td>APPLE57CRESCENT</td><td>2020-03-29 09:00:00-04:00</td><td>Apple, Inc.</td><td>Apple, Inc.</td><td>Manufacturing</td><td>Software</td><td>Americas</td><td>West</td><td>Hyperscale Architect</td><td>Production</td><td>TTU</td><td>Export</td><td>Other</td><td>ADHOC</td><td>SYSTEM</td><td>SYSTEM</td><td>1680</td><td>15</td><td>0</td><td>0</td><td>0</td><td>15</td><td>0</td><td>0</td><td>12</td><td>.5000</td><td>0</td><td></td><td>.1200</td><td>.0100</td><td>.1300</td><td>.0900</td><td>.0900</td><td>.0100</td><td>.1000</td><td>0</td><td>0</td><td>.0000</td><td>.0000</td><td>.0000</td><td>420.0000</td><td>.0000</td><td>-.2497</td><td>.0000</td><td>629</td></tr><tr><td>2015843</td><td>APPLE57CRESCENT</td><td>APPLE57CRESCENT</td><td>2020-04-25 00:00:00-04:00</td><td>Apple, Inc.</td><td>Apple, Inc.</td><td>Manufacturing</td><td>Software</td><td>Americas</td><td>West</td><td>Hyperscale Architect</td><td>Production</td><td>Python</td><td>Analytic</td><td>Select</td><td>ADHOC</td><td>SALESOPS</td><td>OPS</td><td>1680</td><td>31</td><td>0</td><td>1</td><td>0</td><td>31</td><td>0</td><td>0</td><td>31</td><td>.0000</td><td>0</td><td></td><td>.2700</td><td>.0100</td><td>.2800</td><td>.0000</td><td>.0600</td><td>.0000</td><td>.0600</td><td>0</td><td>0</td><td>.0000</td><td>.0000</td><td>.0000</td><td>.0000</td><td>.0000</td><td>.0000</td><td>.0000</td><td>629</td></tr><tr><td>12606066</td><td>APPLE57CRESCENT</td><td>APPLE57CRESCENT</td><td>2020-04-16 14:00:00-04:00</td><td>Apple, Inc.</td><td>Apple, Inc.</td><td>Manufacturing</td><td>Software</td><td>Americas</td><td>West</td><td>Hyperscale Architect</td><td>Production</td><td>TTU</td><td>Stream</td><td>Merge/Update/Delete</td><td>CORE ETL</td><td>SALESOPS</td><td>OPS</td><td>1680</td><td>522</td><td>87</td><td>0</td><td>0</td><td>0</td><td>89</td><td>433</td><td>435</td><td>4.0000</td><td>0</td><td></td><td>2.3600</td><td>47.0900</td><td>49.4500</td><td>.1000</td><td>.8200</td><td>43.9100</td><td>44.7300</td><td>0</td><td>4</td><td>.0400</td><td>101.4600</td><td>9.9600</td><td>1680.0000</td><td>.0000</td><td>-.9880</td><td>-.5604</td><td>629</td></tr><tr><td>9426920</td><td>APPLE57CRESCENT</td><td>APPLE57CRESCENT</td><td>2020-04-13 10:00:00-04:00</td><td>Apple, Inc.</td><td>Apple, Inc.</td><td>Manufacturing</td><td>Software</td><td>Americas</td><td>West</td><td>Hyperscale Architect</td><td>Production</td><td>JDBC</td><td>Application</td><td>Select</td><td>ADHOC</td><td>iTunes</td><td>iTunes</td><td>1680</td><td>462</td><td>0</td><td>8</td><td>0</td><td>190</td><td>146</td><td>126</td><td>462</td><td>11.5157</td><td>743339715</td><td>326.1200</td><td>420.9800</td><td>864.1000</td><td>1285.0800</td><td>16701.7500</td><td>84.1600</td><td>482609.2400</td><td>482693.4000</td><td>314</td><td>1797</td><td>98424.5400</td><td>179028.3900</td><td>71996.8300</td><td>939.5876</td><td>3663.7265</td><td>-.4932</td><td>-.2714</td><td>629</td></tr><tr><td>3543242</td><td>APPLE57CRESCENT</td><td>APPLE57CRESCENT</td><td>2020-04-30 07:00:00-04:00</td><td>Apple, Inc.</td><td>Apple, Inc.</td><td>Manufacturing</td><td>Software</td><td>Americas</td><td>West</td><td>Hyperscale Architect</td><td>Production</td><td>JDBC</td><td>Application</td><td>Merge/Update/Delete</td><td>SYSTEM</td><td>SYSTEM</td><td>SYSTEM</td><td>1680</td><td>8</td><td>0</td><td>0</td><td>0</td><td>4</td><td>4</td><td>0</td><td>8</td><td>1.5000</td><td>0</td><td></td><td>.2100</td><td>.1500</td><td>.3600</td><td>.0000</td><td>.1600</td><td>2.1400</td><td>2.3000</td><td>0</td><td>0</td><td>.0000</td><td>4.8400</td><td>.0000</td><td>840.0000</td><td>.0000</td><td>-.9503</td><td>-.3563</td><td>629</td></tr><tr><td>4227220</td><td>APPLE57CRESCENT</td><td>APPLE57CRESCENT</td><td>2020-04-14 06:00:00-04:00</td><td>Apple, Inc.</td><td>Apple, Inc.</td><td>Manufacturing</td><td>Software</td><td>Americas</td><td>West</td><td>Hyperscale Architect</td><td>Production</td><td>BTEQ</td><td>ETL</td><td>Other</td><td>SEMANTIC</td><td>SALESOPS</td><td>OPS</td><td>1680</td><td>68</td><td>0</td><td>0</td><td>0</td><td>64</td><td>2</td><td>2</td><td>68</td><td>.0000</td><td>0</td><td></td><td>.8500</td><td>.8200</td><td>1.6700</td><td>.0300</td><td>.7500</td><td>3.9200</td><td>4.6700</td><td>0</td><td>0</td><td>.0000</td><td>.1100</td><td>.0400</td><td>560.0000</td><td>.0000</td><td>-.3254</td><td>-.3278</td><td>629</td></tr><tr><td>6222641</td><td>APPLE57CRESCENT</td><td>APPLE57CRESCENT</td><td>2020-04-05 10:00:00-04:00</td><td>Apple, Inc.</td><td>Apple, Inc.</td><td>Manufacturing</td><td>Software</td><td>Americas</td><td>West</td><td>Hyperscale Architect</td><td>Production</td><td>BTEQ</td><td>ETL</td><td>Insert</td><td>DATA_ENG</td><td>ITUNES</td><td>ITUNES</td><td>1680</td><td>8</td><td>0</td><td>0</td><td>0</td><td>0</td><td>5</td><td>3</td><td>8</td><td>2.8750</td><td>0</td><td></td><td>.2200</td><td>2.8900</td><td>3.1100</td><td>.0000</td><td>.1700</td><td>151.7900</td><td>151.9600</td><td>1</td><td>1</td><td>102.2900</td><td>124.8700</td><td>231.3900</td><td>420.7500</td><td>.0683</td><td>-.2696</td><td>-.0447</td><td>629</td></tr><tr><td>14125962</td><td>APPLE57CRESCENT</td><td>APPLE57CRESCENT</td><td>2020-04-04 10:00:00-04:00</td><td>Apple, Inc.</td><td>Apple, Inc.</td><td>Manufacturing</td><td>Software</td><td>Americas</td><td>West</td><td>Hyperscale Architect</td><td>Production</td><td>BTEQ</td><td>ETL</td><td>Collect Stats</td><td>CORE ETL</td><td>ITUNES</td><td>ITUNES</td><td>1680</td><td>540</td><td>0</td><td>0</td><td>0</td><td>0</td><td>0</td><td>540</td><td>540</td><td>9.0226</td><td>0</td><td></td><td>29.9400</td><td>384.0400</td><td>413.9800</td><td>.3500</td><td>20.4000</td><td>45188.6100</td><td>45209.0100</td><td>0</td><td>136</td><td>10.9000</td><td>14472.8700</td><td>155.5300</td><td>1680.0000</td><td>843.9164</td><td>-.9830</td><td>-.9407</td><td>629</td></tr><tr><td>12923742</td><td>APPLE57CRESCENT</td><td>APPLE57CRESCENT</td><td>2020-03-31 06:00:00-04:00</td><td>Apple, Inc.</td><td>Apple, Inc.</td><td>Manufacturing</td><td>Software</td><td>Americas</td><td>West</td><td>Hyperscale Architect</td><td>Production</td><td>TTU</td><td>ETL</td><td>Select</td><td>SEMANTIC</td><td>MARKETING</td><td>MARKETING</td><td>1680</td><td>2</td><td>0</td><td>0</td><td>0</td><td>2</td><td>0</td><td>0</td><td>2</td><td>.0000</td><td>0</td><td></td><td>.0700</td><td>.0000</td><td>.0700</td><td>.0000</td><td>.0200</td><td>.0000</td><td>.0200</td><td>0</td><td>0</td><td>.0000</td><td>.0000</td><td>.0000</td><td>.0000</td><td>.0000</td><td>.0000</td><td>.0000</td><td>629</td></tr><tr><td>5419198</td><td>APPLE57CRESCENT</td><td>APPLE57CRESCENT</td><td>2020-04-02 13:00:00-04:00</td><td>Apple, Inc.</td><td>Apple, Inc.</td><td>Manufacturing</td><td>Software</td><td>Americas</td><td>West</td><td>Hyperscale Architect</td><td>Production</td><td>TTU</td><td>Stream</td><td>Insert</td><td>CORE ETL</td><td>SALESOPS</td><td>SALES</td><td>1680</td><td>390</td><td>0</td><td>0</td><td>0</td><td>78</td><td>312</td><td>0</td><td>390</td><td>67.2737</td><td>0</td><td></td><td>3.8400</td><td>247.2500</td><td>251.0900</td><td>.0600</td><td>1.9700</td><td>4.0800</td><td>6.0500</td><td>0</td><td>0</td><td>.0000</td><td>.0000</td><td>.0000</td><td>.8529</td><td>.0000</td><td>.9540</td><td>59.9378</td><td>629</td></tr><tr><td>10826040</td><td>APPLE57CRESCENT</td><td>APPLE57CRESCENT</td><td>2020-04-25 06:00:00-04:00</td><td>Apple, Inc.</td><td>Apple, Inc.</td><td>Manufacturing</td><td>Software</td><td>Americas</td><td>West</td><td>Hyperscale Architect</td><td>Production</td><td>Python</td><td>Analytic</td><td>Admin</td><td>SEMANTIC</td><td>ITUNES</td><td>ITUNES</td><td>1680</td><td>16</td><td>0</td><td>8</td><td>0</td><td>8</td><td>8</td><td>0</td><td>16</td><td>.5000</td><td>0</td><td></td><td>.2800</td><td>.1700</td><td>.4500</td><td>.2800</td><td>.2500</td><td>9.5300</td><td>9.7800</td><td>0</td><td>0</td><td>.0000</td><td>.0000</td><td>.0000</td><td>840.5000</td><td>.0000</td><td>-.4202</td><td>.0000</td><td>629</td></tr><tr><td>3924883</td><td>APPLE57CRESCENT</td><td>APPLE57CRESCENT</td><td>2020-03-30 07:00:00-04:00</td><td>Apple, Inc.</td><td>Apple, Inc.</td><td>Manufacturing</td><td>Software</td><td>Americas</td><td>West</td><td>Hyperscale Architect</td><td>Production</td><td>BTEQ</td><td>ETL</td><td>Other</td><td>SEMANTIC</td><td>ITUNES</td><td>ITUNES</td><td>1680</td><td>316</td><td>0</td><td>0</td><td>0</td><td>307</td><td>2</td><td>7</td><td>317</td><td>.0000</td><td>0</td><td></td><td>8.6000</td><td>1.9600</td><td>10.5600</td><td>.0400</td><td>7.8100</td><td>9.8700</td><td>17.6800</td><td>0</td><td>0</td><td>.0000</td><td>.0100</td><td>.0000</td><td>323.0769</td><td>.0000</td><td>-.1862</td><td>-.0768</td><td>629</td></tr><tr><td>4227955</td><td>APPLE57CRESCENT</td><td>APPLE57CRESCENT</td><td>2020-04-04 19:00:00-04:00</td><td>Apple, Inc.</td><td>Apple, Inc.</td><td>Manufacturing</td><td>Software</td><td>Americas</td><td>West</td><td>Hyperscale Architect</td><td>Production</td><td>BTEQ</td><td>ETL</td><td>Select</td><td>CORE ETL</td><td>APPLECARE</td><td>AC REPAIR</td><td>1680</td><td>1492</td><td>0</td><td>0</td><td>0</td><td>1124</td><td>195</td><td>173</td><td>1492</td><td>.9847</td><td>2398</td><td></td><td>7.0300</td><td>16.9500</td><td>23.9800</td><td>.6800</td><td>5.2300</td><td>324.0700</td><td>329.3000</td><td>0</td><td>5</td><td>1.0700</td><td>300.0800</td><td>8.4900</td><td>253.6993</td><td>.0077</td><td>-.8836</td><td>-.4159</td><td>629</td></tr><tr><td>10614706</td><td>APPLE57CRESCENT</td><td>APPLE57CRESCENT</td><td>2020-04-06 04:00:00-04:00</td><td>Apple, Inc.</td><td>Apple, Inc.</td><td>Manufacturing</td><td>Software</td><td>Americas</td><td>West</td><td>Hyperscale Architect</td><td>Production</td><td>BTEQ</td><td>ETL</td><td>Insert</td><td>SEMANTIC</td><td>SALESOPS</td><td>RETAIL</td><td>1680</td><td>29</td><td>0</td><td>0</td><td>0</td><td>15</td><td>1</td><td>13</td><td>29</td><td>2.9310</td><td>0</td><td></td><td>.6000</td><td>3.5600</td><td>4.1600</td><td>.0000</td><td>.4100</td><td>148.1500</td><td>148.5600</td><td>0</td><td>2</td><td>28.2100</td><td>165.2500</td><td>370.8200</td><td>811.5517</td><td>3.1037</td><td>-.7068</td><td>-.3503</td><td>629</td></tr><tr><td>10829689</td><td>APPLE57CRESCENT</td><td>APPLE57CRESCENT</td><td>2020-04-17 09:00:00-04:00</td><td>Apple, Inc.</td><td>Apple, Inc.</td><td>Manufacturing</td><td>Software</td><td>Americas</td><td>West</td><td>Hyperscale Architect</td><td>Production</td><td>JDBC</td><td>Application</td><td>Other</td><td>ADHOC</td><td>SALESOPS</td><td>OPS</td><td>1680</td><td>7</td><td>0</td><td>1</td><td>0</td><td>7</td><td>0</td><td>0</td><td>8</td><td>.0000</td><td>0</td><td></td><td>.0000</td><td>.8700</td><td>.8700</td><td>.0000</td><td>.0000</td><td>.4600</td><td>.4600</td><td>0</td><td>0</td><td>.0000</td><td>.0000</td><td>.0000</td><td>420.0000</td><td>.0000</td><td>-.3257</td><td>.0000</td><td>629</td></tr><tr><td>6215132</td><td>APPLE57CRESCENT</td><td>APPLE57CRESCENT</td><td>2020-04-02 00:00:00-04:00</td><td>Apple, Inc.</td><td>Apple, Inc.</td><td>Manufacturing</td><td>Software</td><td>Americas</td><td>West</td><td>Hyperscale Architect</td><td>Production</td><td>BTEQ</td><td>ETL</td><td>Select</td><td>OUTBOUND</td><td>SALESOPS</td><td>OPS</td><td>1680</td><td>49</td><td>0</td><td>0</td><td>0</td><td>39</td><td>5</td><td>5</td><td>49</td><td>.5102</td><td>133</td><td></td><td>.1800</td><td>.2700</td><td>.4500</td><td>.0100</td><td>.1200</td><td>5.7200</td><td>5.8400</td><td>0</td><td>0</td><td>.0000</td><td>3.9200</td><td>.0000</td><td>103.0000</td><td>.0002</td><td>-.6699</td><td>-.2061</td><td>629</td></tr><tr><td>10146519</td><td>APPLE57CRESCENT</td><td>APPLE57CRESCENT</td><td>2020-04-05 09:00:00-04:00</td><td>Apple, Inc.</td><td>Apple, Inc.</td><td>Manufacturing</td><td>Software</td><td>Americas</td><td>West</td><td>Hyperscale Architect</td><td>Production</td><td>BTEQ</td><td>ETL</td><td>Insert</td><td>ADHOC</td><td>iTunes</td><td>iTunes</td><td>1680</td><td>8</td><td>0</td><td>0</td><td>0</td><td>1</td><td>2</td><td>5</td><td>8</td><td>18.1429</td><td>0</td><td></td><td>3.5600</td><td>145.2000</td><td>148.7600</td><td>.0000</td><td>3.3800</td><td>72714.0000</td><td>72717.3800</td><td>105</td><td>454</td><td>19729.4000</td><td>52730.2500</td><td>326.2400</td><td>1560.0714</td><td>1880.4974</td><td>-.5809</td><td>-.3690</td><td>629</td></tr><tr><td>11230446</td><td>APPLE57CRESCENT</td><td>APPLE57CRESCENT</td><td>2020-04-12 07:00:00-04:00</td><td>Apple, Inc.</td><td>Apple, Inc.</td><td>Manufacturing</td><td>Software</td><td>Americas</td><td>West</td><td>Hyperscale Architect</td><td>Production</td><td>TTU</td><td>Stream</td><td>Merge/Update/Delete</td><td>CORE ETL</td><td>SALESOPS</td><td>SALES</td><td>1680</td><td>96</td><td>16</td><td>0</td><td>0</td><td>0</td><td>16</td><td>80</td><td>80</td><td>4.0000</td><td>0</td><td></td><td>.3700</td><td>1.8600</td><td>2.2300</td><td>.0200</td><td>.1200</td><td>6.3000</td><td>6.4200</td><td>0</td><td>0</td><td>.0000</td><td>18.4400</td><td>.9400</td><td>1680.0000</td><td>.0000</td><td>-.9890</td><td>-.5695</td><td>629</td></tr><tr><td>3539741</td><td>APPLE57CRESCENT</td><td>APPLE57CRESCENT</td><td>2020-05-12 13:00:00-04:00</td><td>Apple, Inc.</td><td>Apple, Inc.</td><td>Manufacturing</td><td>Software</td><td>Americas</td><td>West</td><td>Hyperscale Architect</td><td>Production</td><td>JDBC</td><td>Application</td><td>Select</td><td>ADHOC</td><td>LEGAL_HOLD</td><td>LEGAL_HOLD</td><td>1680</td><td>59</td><td>0</td><td>0</td><td>0</td><td>59</td><td>0</td><td>0</td><td>59</td><td>.0000</td><td>0</td><td></td><td>.0200</td><td>.0000</td><td>.0200</td><td>.0000</td><td>.0000</td><td>.0000</td><td>.0000</td><td>0</td><td>0</td><td>.0000</td><td>.0000</td><td>.0000</td><td>.0000</td><td>.0000</td><td>.0000</td><td>.0000</td><td>629</td></tr><tr><td>2628670</td><td>APPLE57CRESCENT</td><td>APPLE57CRESCENT</td><td>2020-04-19 18:00:00-04:00</td><td>Apple, Inc.</td><td>Apple, Inc.</td><td>Manufacturing</td><td>Software</td><td>Americas</td><td>West</td><td>Hyperscale Architect</td><td>Production</td><td>BTEQ</td><td>ETL</td><td>Stored Proc</td><td>CORE ETL</td><td>APPLECARE</td><td>AC REPAIR</td><td>1680</td><td>76</td><td>0</td><td>0</td><td>0</td><td>76</td><td>0</td><td>0</td><td>76</td><td>.7776</td><td>0</td><td></td><td>.9100</td><td>54.3100</td><td>55.2200</td><td>.0200</td><td>.2600</td><td>.0000</td><td>.2600</td><td>0</td><td>0</td><td>.0000</td><td>.0000</td><td>.0000</td><td>.0000</td><td>.0000</td><td>.0000</td><td>.0000</td><td>629</td></tr><tr><td>9325574</td><td>APPLE57CRESCENT</td><td>APPLE57CRESCENT</td><td>2020-04-02 12:00:00-04:00</td><td>Apple, Inc.</td><td>Apple, Inc.</td><td>Manufacturing</td><td>Software</td><td>Americas</td><td>West</td><td>Hyperscale Architect</td><td>Production</td><td>BTEQ</td><td>ETL</td><td>Collect Stats</td><td>SEMANTIC</td><td>MARKETING</td><td>MARKETING</td><td>1680</td><td>12</td><td>0</td><td>0</td><td>0</td><td>0</td><td>0</td><td>12</td><td>12</td><td>11.0000</td><td>0</td><td></td><td>.6300</td><td>2.6800</td><td>3.3100</td><td>.0000</td><td>.5600</td><td>4.5900</td><td>5.1500</td><td>0</td><td>0</td><td>.0200</td><td>20.5000</td><td>.1400</td><td>1680.0000</td><td>.0281</td><td>-.9754</td><td>-.9476</td><td>629</td></tr><tr><td>1326116</td><td>APPLE57CRESCENT</td><td>APPLE57CRESCENT</td><td>2020-04-19 16:00:00-04:00</td><td>Apple, Inc.</td><td>Apple, Inc.</td><td>Manufacturing</td><td>Software</td><td>Americas</td><td>West</td><td>Hyperscale Architect</td><td>Production</td><td>BTEQ</td><td>ETL</td><td>Insert</td><td>SEMANTIC</td><td>APPLECARE</td><td>CONTACT CENTER</td><td>1680</td><td>3</td><td>0</td><td>2</td><td>0</td><td>3</td><td>0</td><td>0</td><td>3</td><td>.3333</td><td>0</td><td></td><td>.0200</td><td>.0300</td><td>.0500</td><td>.0000</td><td>.0200</td><td>.0000</td><td>.0200</td><td>0</td><td>0</td><td>.0000</td><td>.0000</td><td>.0000</td><td>.3333</td><td>.0000</td><td>.0000</td><td>.0000</td><td>629</td></tr><tr><td>3037075</td><td>APPLE57CRESCENT</td><td>APPLE57CRESCENT</td><td>2020-04-13 17:00:00-04:00</td><td>Apple, Inc.</td><td>Apple, Inc.</td><td>Manufacturing</td><td>Software</td><td>Americas</td><td>West</td><td>Hyperscale Architect</td><td>Production</td><td>BTEQ</td><td>ETL</td><td>Other</td><td>SYSTEM</td><td>SYSTEM</td><td>SYSTEM</td><td>1680</td><td>2132</td><td>0</td><td>0</td><td>0</td><td>2126</td><td>6</td><td>0</td><td>2132</td><td>.5000</td><td>0</td><td></td><td>45.0000</td><td>2.8600</td><td>47.8600</td><td>.0000</td><td>41.0200</td><td>.0000</td><td>41.0200</td><td>0</td><td>0</td><td>.0000</td><td>.0000</td><td>.0000</td><td>.5000</td><td>.0000</td><td>-.1111</td><td>-.0556</td><td>629</td></tr><tr><td>10829616</td><td>APPLE57CRESCENT</td><td>APPLE57CRESCENT</td><td>2020-04-13 20:00:00-04:00</td><td>Apple, Inc.</td><td>Apple, Inc.</td><td>Manufacturing</td><td>Software</td><td>Americas</td><td>West</td><td>Hyperscale Architect</td><td>Production</td><td>TTU</td><td>ETL</td><td>Select</td><td>SEMANTIC</td><td>SALESOPS</td><td>RETAIL</td><td>1680</td><td>120</td><td>0</td><td>12</td><td>0</td><td>72</td><td>44</td><td>4</td><td>120</td><td>1.7619</td><td>624</td><td></td><td>2.1500</td><td>4.1000</td><td>6.2500</td><td>.1600</td><td>.9900</td><td>38.3200</td><td>39.3100</td><td>0</td><td>0</td><td>.0000</td><td>32.9000</td><td>.0100</td><td>800.1429</td><td>.0008</td><td>-.6157</td><td>-.5325</td><td>629</td></tr><tr><td>8616307</td><td>APPLE57CRESCENT</td><td>APPLE57CRESCENT</td><td>2020-03-28 22:00:00-04:00</td><td>Apple, Inc.</td><td>Apple, Inc.</td><td>Manufacturing</td><td>Software</td><td>Americas</td><td>West</td><td>Hyperscale Architect</td><td>Production</td><td>TTU</td><td>ETL</td><td>Other</td><td>SEMANTIC</td><td>SALESOPS</td><td>OPS</td><td>1680</td><td>140</td><td>0</td><td>0</td><td>0</td><td>110</td><td>1</td><td>29</td><td>140</td><td>.0000</td><td>0</td><td></td><td>1.1600</td><td>3.2900</td><td>4.4500</td><td>.0300</td><td>1.0000</td><td>42.4000</td><td>43.4000</td><td>0</td><td>0</td><td>2.0100</td><td>18.7400</td><td>74.2000</td><td>420.0000</td><td>.0000</td><td>-.2331</td><td>-.0599</td><td>629</td></tr><tr><td>9227127</td><td>APPLE57CRESCENT</td><td>APPLE57CRESCENT</td><td>2020-04-05 02:00:00-04:00</td><td>Apple, Inc.</td><td>Apple, Inc.</td><td>Manufacturing</td><td>Software</td><td>Americas</td><td>West</td><td>Hyperscale Architect</td><td>Production</td><td>TTU</td><td>Stream</td><td>Create/Drop</td><td>SEMANTIC</td><td>ITUNES</td><td>ITUNES</td><td>1680</td><td>21</td><td>0</td><td>0</td><td>0</td><td>0</td><td>0</td><td>21</td><td>18</td><td>22.3750</td><td>0</td><td></td><td>.3100</td><td>1.1800</td><td>1.4900</td><td>.0100</td><td>.1800</td><td>4.3800</td><td>4.5600</td><td>0</td><td>0</td><td>.0600</td><td>3.6800</td><td>13.5700</td><td>1680.0000</td><td>.0000</td><td>-.9824</td><td>-.9572</td><td>629</td></tr><tr><td>1129611</td><td>APPLE57CRESCENT</td><td>APPLE57CRESCENT</td><td>2020-05-08 13:00:00-04:00</td><td>Apple, Inc.</td><td>Apple, Inc.</td><td>Manufacturing</td><td>Software</td><td>Americas</td><td>West</td><td>Hyperscale Architect</td><td>Production</td><td>Python</td><td>Analytic</td><td>Merge/Update/Delete</td><td>ADHOC</td><td>iTunes</td><td>iTunes</td><td>1680</td><td>144</td><td>0</td><td>0</td><td>0</td><td>0</td><td>23</td><td>121</td><td>144</td><td>6.1643</td><td>0</td><td>7.8600</td><td>18.0300</td><td>348.9900</td><td>367.0200</td><td>.1900</td><td>8.3400</td><td>146588.8500</td><td>146597.1900</td><td>29</td><td>652</td><td>27189.3100</td><td>63693.4300</td><td>20317.7600</td><td>1680.0000</td><td>3883.7162</td><td>-.8569</td><td>-.5626</td><td>629</td></tr><tr><td>10528960</td><td>APPLE57CRESCENT</td><td>APPLE57CRESCENT</td><td>2020-03-27 17:00:00-04:00</td><td>Apple, Inc.</td><td>Apple, Inc.</td><td>Manufacturing</td><td>Software</td><td>Americas</td><td>West</td><td>Hyperscale Architect</td><td>Production</td><td>BTEQ</td><td>ETL</td><td>Other</td><td>ADHOC</td><td>iTunes</td><td>iTunes</td><td>1680</td><td>41</td><td>0</td><td>0</td><td>0</td><td>41</td><td>0</td><td>0</td><td>43</td><td>.0000</td><td>0</td><td></td><td>1.4200</td><td>.0600</td><td>1.4800</td><td>.0000</td><td>1.2900</td><td>.0000</td><td>1.2900</td><td>0</td><td>0</td><td>.0000</td><td>.0000</td><td>.0000</td><td>.0000</td><td>.0000</td><td>.0000</td><td>.0000</td><td>629</td></tr><tr><td>257202</td><td>APPLE57CRESCENT</td><td>APPLE57CRESCENT</td><td>2020-04-10 18:00:00-04:00</td><td>Apple, Inc.</td><td>Apple, Inc.</td><td>Manufacturing</td><td>Software</td><td>Americas</td><td>West</td><td>Hyperscale Architect</td><td>Production</td><td>JDBC</td><td>Application</td><td>Other</td><td>ADHOC</td><td>ITUNES</td><td>ITUNES</td><td>1680</td><td>2140</td><td>0</td><td>7</td><td>0</td><td>1618</td><td>502</td><td>20</td><td>2157</td><td>.4123</td><td>354</td><td>.4000</td><td>31.4100</td><td>31.3300</td><td>62.7400</td><td>2.0100</td><td>26.4700</td><td>88.2800</td><td>114.7500</td><td>0</td><td>0</td><td>1.9800</td><td>10.3900</td><td>23.8700</td><td>113.2882</td><td>.0018</td><td>-.1190</td><td>-.0871</td><td>629</td></tr><tr><td>8617317</td><td>APPLE57CRESCENT</td><td>APPLE57CRESCENT</td><td>2020-04-04 21:00:00-04:00</td><td>Apple, Inc.</td><td>Apple, Inc.</td><td>Manufacturing</td><td>Software</td><td>Americas</td><td>West</td><td>Hyperscale Architect</td><td>Production</td><td>TTU</td><td>Stream</td><td>Admin</td><td>CORE ETL</td><td>ITUNES</td><td>ITUNES</td><td>1680</td><td>207</td><td>0</td><td>0</td><td>0</td><td>0</td><td>207</td><td>0</td><td>207</td><td>1.0000</td><td>0</td><td></td><td>7.7600</td><td>1.7100</td><td>9.4700</td><td>.0000</td><td>6.8900</td><td>.0000</td><td>6.8900</td><td>0</td><td>0</td><td>.0000</td><td>.0000</td><td>.0000</td><td>1.0000</td><td>.0000</td><td>.0000</td><td>.0000</td><td>629</td></tr><tr><td>5323514</td><td>APPLE57CRESCENT</td><td>APPLE57CRESCENT</td><td>2020-04-13 18:00:00-04:00</td><td>Apple, Inc.</td><td>Apple, Inc.</td><td>Manufacturing</td><td>Software</td><td>Americas</td><td>West</td><td>Hyperscale Architect</td><td>Production</td><td>BTEQ</td><td>ETL</td><td>Insert</td><td>SEMANTIC</td><td>SALESOPS</td><td>FINANCE</td><td>1680</td><td>20</td><td>0</td><td>0</td><td>0</td><td>0</td><td>0</td><td>20</td><td>20</td><td>2.1500</td><td>0</td><td></td><td>.4400</td><td>.7900</td><td>1.2300</td><td>.0100</td><td>.3800</td><td>103.0100</td><td>103.3900</td><td>0</td><td>3</td><td>.0000</td><td>301.5800</td><td>.7800</td><td>336.8000</td><td>.0448</td><td>-.3016</td><td>-.0580</td><td>629</td></tr><tr><td>266956</td><td>APPLE57CRESCENT</td><td>APPLE57CRESCENT</td><td>2020-05-06 14:00:00-04:00</td><td>Apple, Inc.</td><td>Apple, Inc.</td><td>Manufacturing</td><td>Software</td><td>Americas</td><td>West</td><td>Hyperscale Architect</td><td>Production</td><td>Tableau</td><td>Analytic</td><td>Other</td><td>ADHOC</td><td>SALESOPS</td><td>SALES</td><td>1680</td><td>195</td><td>0</td><td>0</td><td>0</td><td>195</td><td>0</td><td>0</td><td>195</td><td>.0000</td><td>0</td><td></td><td>2.8700</td><td>.3800</td><td>3.2500</td><td>.0200</td><td>2.4100</td><td>.0000</td><td>2.4100</td><td>0</td><td>0</td><td>.0000</td><td>.0000</td><td>.0000</td><td>.3333</td><td>.0003</td><td>.0000</td><td>.0000</td><td>629</td></tr><tr><td>125791</td><td>APPLE57CRESCENT</td><td>APPLE57CRESCENT</td><td>2020-04-03 23:00:00-04:00</td><td>Apple, Inc.</td><td>Apple, Inc.</td><td>Manufacturing</td><td>Software</td><td>Americas</td><td>West</td><td>Hyperscale Architect</td><td>Production</td><td>BTEQ</td><td>ETL</td><td>Stored Proc</td><td>Unknown</td><td>ITUNES</td><td>ITUNES</td><td>1680</td><td>10</td><td>0</td><td>0</td><td>0</td><td>10</td><td>0</td><td>0</td><td>10</td><td>.8000</td><td>0</td><td></td><td>.2000</td><td>220.0700</td><td>220.2700</td><td>.0000</td><td>.0200</td><td>.0000</td><td>.0200</td><td>0</td><td>0</td><td>.0000</td><td>.0000</td><td>.0000</td><td>.0000</td><td>.0000</td><td>.0000</td><td>.0000</td><td>629</td></tr><tr><td>3530621</td><td>APPLE57CRESCENT</td><td>APPLE57CRESCENT</td><td>2020-04-14 09:00:00-04:00</td><td>Apple, Inc.</td><td>Apple, Inc.</td><td>Manufacturing</td><td>Software</td><td>Americas</td><td>West</td><td>Hyperscale Architect</td><td>Production</td><td>TTU</td><td>Export</td><td>Select</td><td>ADHOC</td><td>SYSTEM</td><td>SYSTEM</td><td>1680</td><td>6</td><td>0</td><td>0</td><td>0</td><td>3</td><td>3</td><td>0</td><td>6</td><td>1.5000</td><td>75</td><td></td><td>.3400</td><td>.1100</td><td>.4500</td><td>.0000</td><td>.0500</td><td>2.4200</td><td>2.4700</td><td>0</td><td>0</td><td>.0000</td><td>2.3200</td><td>.0000</td><td>840.0000</td><td>.0000</td><td>-.8796</td><td>-.7874</td><td>629</td></tr><tr><td>10613947</td><td>APPLE57CRESCENT</td><td>APPLE57CRESCENT</td><td>2020-04-04 00:00:00-04:00</td><td>Apple, Inc.</td><td>Apple, Inc.</td><td>Manufacturing</td><td>Software</td><td>Americas</td><td>West</td><td>Hyperscale Architect</td><td>Production</td><td>TTU</td><td>ETL</td><td>Load</td><td>CORE ETL</td><td>ITUNES</td><td>ITUNES</td><td>1680</td><td>2594</td><td>0</td><td>0</td><td>0</td><td>2019</td><td>0</td><td>575</td><td>2020</td><td>9.7500</td><td>4650</td><td></td><td>34.8500</td><td>260.9800</td><td>295.8300</td><td>.4800</td><td>24.1900</td><td>3732.7100</td><td>3756.9000</td><td>8</td><td>79</td><td>934.3900</td><td>4896.7100</td><td>10833.7800</td><td>840.2500</td><td>.0039</td><td>-.3838</td><td>-.1350</td><td>629</td></tr><tr><td>9219200</td><td>APPLE57CRESCENT</td><td>APPLE57CRESCENT</td><td>2020-04-03 05:00:00-04:00</td><td>Apple, Inc.</td><td>Apple, Inc.</td><td>Manufacturing</td><td>Software</td><td>Americas</td><td>West</td><td>Hyperscale Architect</td><td>Production</td><td>TTU</td><td>Stream</td><td>Select</td><td>CORE ETL</td><td>APPLECARE</td><td>AC REPAIR</td><td>1680</td><td>299</td><td>0</td><td>46</td><td>0</td><td>46</td><td>251</td><td>2</td><td>299</td><td>3.3846</td><td>2737</td><td></td><td>3.1000</td><td>7.5400</td><td>10.6400</td><td>.5700</td><td>1.5400</td><td>79.8500</td><td>81.3900</td><td>0</td><td>1</td><td>.0000</td><td>71.2700</td><td>.0000</td><td>1421.5385</td><td>.0019</td><td>-.9665</td><td>-.7262</td><td>629</td></tr><tr><td>5740559</td><td>APPLE57CRESCENT</td><td>APPLE57CRESCENT</td><td>2020-04-04 08:00:00-04:00</td><td>Apple, Inc.</td><td>Apple, Inc.</td><td>Manufacturing</td><td>Software</td><td>Americas</td><td>West</td><td>Hyperscale Architect</td><td>Production</td><td>TTU</td><td>Export</td><td>Load</td><td>SEMANTIC</td><td>MARKETING</td><td>MARKETING</td><td>1680</td><td>12</td><td>0</td><td>0</td><td>0</td><td>12</td><td>0</td><td>0</td><td>6</td><td>2.0000</td><td>0</td><td></td><td>.0100</td><td>.0200</td><td>.0300</td><td>.0000</td><td>.0000</td><td>.0000</td><td>.0000</td><td>0</td><td>0</td><td>.0000</td><td>.0000</td><td>.0000</td><td>1.3333</td><td>.0000</td><td>.0000</td><td>.0000</td><td>629</td></tr><tr><td>5835028</td><td>APPLE57CRESCENT</td><td>APPLE57CRESCENT</td><td>2020-03-31 17:00:00-04:00</td><td>Apple, Inc.</td><td>Apple, Inc.</td><td>Manufacturing</td><td>Software</td><td>Americas</td><td>West</td><td>Hyperscale Architect</td><td>Production</td><td>TTU</td><td>Stream</td><td>Other</td><td>CORE ETL</td><td>APPLECARE</td><td>AC REPAIR</td><td>1680</td><td>3558</td><td>0</td><td>0</td><td>0</td><td>1261</td><td>2089</td><td>208</td><td>2510</td><td>1.0824</td><td>0</td><td></td><td>13.1400</td><td>34.7800</td><td>47.9200</td><td>1.1400</td><td>11.9800</td><td>112.5000</td><td>124.4800</td><td>0</td><td>1</td><td>4.9000</td><td>38.1400</td><td>145.6800</td><td>161.7450</td><td>.0000</td><td>-.3613</td><td>-.2892</td><td>629</td></tr><tr><td>728796</td><td>APPLE57CRESCENT</td><td>APPLE57CRESCENT</td><td>2020-03-28 16:00:00-04:00</td><td>Apple, Inc.</td><td>Apple, Inc.</td><td>Manufacturing</td><td>Software</td><td>Americas</td><td>West</td><td>Hyperscale Architect</td><td>Production</td><td>TTU</td><td>Stream</td><td>Admin</td><td>CORE ETL</td><td>SALESOPS</td><td>OPS</td><td>1680</td><td>152</td><td>0</td><td>0</td><td>0</td><td>0</td><td>151</td><td>1</td><td>152</td><td>1.0000</td><td>0</td><td></td><td>5.8900</td><td>1.5000</td><td>7.3900</td><td>.0100</td><td>5.2200</td><td>.0000</td><td>5.2200</td><td>0</td><td>0</td><td>.0000</td><td>.0000</td><td>.0000</td><td>1.0000</td><td>.0000</td><td>.0000</td><td>.0000</td><td>629</td></tr><tr><td>6218450</td><td>APPLE57CRESCENT</td><td>APPLE57CRESCENT</td><td>2020-04-30 12:00:00-04:00</td><td>Apple, Inc.</td><td>Apple, Inc.</td><td>Manufacturing</td><td>Software</td><td>Americas</td><td>West</td><td>Hyperscale Architect</td><td>Production</td><td>JDBC</td><td>Application</td><td>Select</td><td>DASHBOARD</td><td>ITUNES</td><td>ITUNES</td><td>1680</td><td>4805</td><td>0</td><td>0</td><td>0</td><td>3895</td><td>674</td><td>236</td><td>4805</td><td>.1797</td><td>154233</td><td></td><td>22.5500</td><td>62.8900</td><td>85.4400</td><td>53.9900</td><td>11.8400</td><td>35106.6000</td><td>35118.4400</td><td>60</td><td>75</td><td>7656.5200</td><td>8880.2200</td><td>60974.8900</td><td>84.8769</td><td>.6913</td><td>-.1662</td><td>-.0864</td><td>629</td></tr><tr><td>8961520</td><td>APPLE57CRESCENT</td><td>APPLE57CRESCENT</td><td>2020-05-07 13:00:00-04:00</td><td>Apple, Inc.</td><td>Apple, Inc.</td><td>Manufacturing</td><td>Software</td><td>Americas</td><td>West</td><td>Hyperscale Architect</td><td>Production</td><td>BTEQ</td><td>ETL</td><td>Admin</td><td>ADHOC</td><td>iTunes</td><td>iTunes</td><td>1680</td><td>24</td><td>0</td><td>0</td><td>0</td><td>0</td><td>3</td><td>21</td><td>24</td><td>10.8889</td><td>0</td><td></td><td>.9500</td><td>127.7000</td><td>128.6500</td><td>.0400</td><td>.6400</td><td>58897.5900</td><td>58898.2300</td><td>99</td><td>138</td><td>12430.0700</td><td>15838.5900</td><td>9380.7800</td><td>1680.0000</td><td>.0000</td><td>-.3489</td><td>-.2581</td><td>629</td></tr><tr><td>7117387</td><td>APPLE57CRESCENT</td><td>APPLE57CRESCENT</td><td>2020-03-30 14:00:00-04:00</td><td>Apple, Inc.</td><td>Apple, Inc.</td><td>Manufacturing</td><td>Software</td><td>Americas</td><td>West</td><td>Hyperscale Architect</td><td>Production</td><td>BTEQ</td><td>ETL</td><td>Select</td><td>SEMANTIC</td><td>SALESOPS</td><td>OPS</td><td>1680</td><td>226</td><td>0</td><td>0</td><td>0</td><td>182</td><td>2</td><td>42</td><td>226</td><td>.5310</td><td>1042</td><td></td><td>.8200</td><td>2.2500</td><td>3.0700</td><td>.0800</td><td>.4400</td><td>32.3300</td><td>32.7700</td><td>0</td><td>0</td><td>.0000</td><td>33.4900</td><td>.0000</td><td>119.0619</td><td>.0011</td><td>-.7839</td><td>-.2589</td><td>629</td></tr><tr><td>9426431</td><td>APPLE57CRESCENT</td><td>APPLE57CRESCENT</td><td>2020-04-16 04:00:00-04:00</td><td>Apple, Inc.</td><td>Apple, Inc.</td><td>Manufacturing</td><td>Software</td><td>Americas</td><td>West</td><td>Hyperscale Architect</td><td>Production</td><td>JDBC</td><td>Application</td><td>Select</td><td>DASHBOARD</td><td>SYSTEM</td><td>SYSTEM</td><td>1680</td><td>3755</td><td>0</td><td>0</td><td>0</td><td>3587</td><td>102</td><td>66</td><td>3755</td><td>.8170</td><td>95411</td><td></td><td>18.6900</td><td>44.1300</td><td>62.8200</td><td>14.0600</td><td>13.8900</td><td>1834.0700</td><td>1847.9600</td><td>1</td><td>76</td><td>223.8700</td><td>4783.2100</td><td>507.7100</td><td>210.0000</td><td>4.3424</td><td>-.1941</td><td>-.0761</td><td>629</td></tr><tr><td>10615103</td><td>APPLE57CRESCENT</td><td>APPLE57CRESCENT</td><td>2020-04-21 06:00:00-04:00</td><td>Apple, Inc.</td><td>Apple, Inc.</td><td>Manufacturing</td><td>Software</td><td>Americas</td><td>West</td><td>Hyperscale Architect</td><td>Production</td><td>JDBC</td><td>Application</td><td>Merge/Update/Delete</td><td>SYSTEM</td><td>SYSTEM</td><td>SYSTEM</td><td>1680</td><td>8</td><td>0</td><td>0</td><td>0</td><td>4</td><td>4</td><td>0</td><td>8</td><td>1.5000</td><td>0</td><td></td><td>.2300</td><td>.1100</td><td>.3400</td><td>.0100</td><td>.2000</td><td>3.6500</td><td>3.8500</td><td>0</td><td>0</td><td>.0000</td><td>6.6800</td><td>.0000</td><td>840.0000</td><td>.0000</td><td>-.9321</td><td>-.4288</td><td>629</td></tr><tr><td>12605776</td><td>APPLE57CRESCENT</td><td>APPLE57CRESCENT</td><td>2020-04-19 08:00:00-04:00</td><td>Apple, Inc.</td><td>Apple, Inc.</td><td>Manufacturing</td><td>Software</td><td>Americas</td><td>West</td><td>Hyperscale Architect</td><td>Production</td><td>BTEQ</td><td>ETL</td><td>Select</td><td>OUTBOUND</td><td>SALESOPS</td><td>OPS</td><td>1680</td><td>64</td><td>0</td><td>0</td><td>0</td><td>52</td><td>8</td><td>4</td><td>64</td><td>.5000</td><td>140</td><td></td><td>.1600</td><td>.2200</td><td>.3800</td><td>.0300</td><td>.1000</td><td>7.1200</td><td>7.2200</td><td>0</td><td>0</td><td>.0000</td><td>7.1200</td><td>.0000</td><td>105.1250</td><td>.0002</td><td>-.7159</td><td>-.2290</td><td>629</td></tr><tr><td>1053548</td><td>APPLE57CRESCENT</td><td>APPLE57CRESCENT</td><td>2020-05-04 17:00:00-04:00</td><td>Apple, Inc.</td><td>Apple, Inc.</td><td>Manufacturing</td><td>Software</td><td>Americas</td><td>West</td><td>Hyperscale Architect</td><td>Production</td><td>TTU</td><td>ETL</td><td>Select</td><td>SEMANTIC</td><td>MARKETING</td><td>MARKETING</td><td>1680</td><td>2</td><td>0</td><td>0</td><td>0</td><td>2</td><td>0</td><td>0</td><td>2</td><td>.0000</td><td>0</td><td></td><td>.0900</td><td>.0100</td><td>.1000</td><td>.0000</td><td>.0300</td><td>.0000</td><td>.0300</td><td>0</td><td>0</td><td>.0000</td><td>.0000</td><td>.0000</td><td>.0000</td><td>.0000</td><td>.0000</td><td>.0000</td><td>629</td></tr><tr><td>5533647</td><td>APPLE57CRESCENT</td><td>APPLE57CRESCENT</td><td>2020-03-30 16:00:00-04:00</td><td>Apple, Inc.</td><td>Apple, Inc.</td><td>Manufacturing</td><td>Software</td><td>Americas</td><td>West</td><td>Hyperscale Architect</td><td>Production</td><td>BTEQ</td><td>ETL</td><td>Collect Stats</td><td>OUTBOUND</td><td>SALESOPS</td><td>OPS</td><td>1680</td><td>5</td><td>0</td><td>0</td><td>0</td><td>0</td><td>0</td><td>5</td><td>5</td><td>43.8000</td><td>0</td><td></td><td>2.3400</td><td>43.3400</td><td>45.6800</td><td>.0100</td><td>2.0700</td><td>74.3000</td><td>76.3700</td><td>0</td><td>1</td><td>.1300</td><td>64.9900</td><td>1.0900</td><td>1680.0000</td><td>.2046</td><td>-.9243</td><td>-.8595</td><td>629</td></tr><tr><td>5326637</td><td>APPLE57CRESCENT</td><td>APPLE57CRESCENT</td><td>2020-04-23 17:00:00-04:00</td><td>Apple, Inc.</td><td>Apple, Inc.</td><td>Manufacturing</td><td>Software</td><td>Americas</td><td>West</td><td>Hyperscale Architect</td><td>Production</td><td>Tableau</td><td>Analytic</td><td>Select</td><td>ADHOC</td><td>SALESOPS</td><td>FINANCE</td><td>1680</td><td>47</td><td>0</td><td>0</td><td>0</td><td>3</td><td>29</td><td>15</td><td>47</td><td>11.5957</td><td>31992170</td><td></td><td>27.1200</td><td>20.3500</td><td>47.4700</td><td>2305.4500</td><td>25.8500</td><td>2938.4900</td><td>2964.3400</td><td>0</td><td>7</td><td>3.6000</td><td>399.7800</td><td>25.1100</td><td>1572.7660</td><td>32.5689</td><td>-.8457</td><td>-.6806</td><td>629</td></tr><tr><td>5741612</td><td>APPLE57CRESCENT</td><td>APPLE57CRESCENT</td><td>2020-05-09 04:00:00-04:00</td><td>Apple, Inc.</td><td>Apple, Inc.</td><td>Manufacturing</td><td>Software</td><td>Americas</td><td>West</td><td>Hyperscale Architect</td><td>Production</td><td>TTU</td><td>ETL</td><td>Merge/Update/Delete</td><td>CORE ETL</td><td>ITUNES</td><td>ITUNES</td><td>1680</td><td>634</td><td>0</td><td>6</td><td>0</td><td>6</td><td>255</td><td>373</td><td>634</td><td>4.9599</td><td>0</td><td></td><td>4.5700</td><td>38.3600</td><td>42.9300</td><td>.4300</td><td>.1200</td><td>375.1700</td><td>375.2900</td><td>0</td><td>9</td><td>28.6200</td><td>368.2200</td><td>205.5100</td><td>1666.5241</td><td>.0000</td><td>-.9364</td><td>-.4102</td><td>629</td></tr><tr><td>12605450</td><td>APPLE57CRESCENT</td><td>APPLE57CRESCENT</td><td>2020-03-29 19:00:00-04:00</td><td>Apple, Inc.</td><td>Apple, Inc.</td><td>Manufacturing</td><td>Software</td><td>Americas</td><td>West</td><td>Hyperscale Architect</td><td>Production</td><td>Tableau</td><td>Analytic</td><td>Other</td><td>DASHBOARD</td><td>SALESOPS</td><td>OPS</td><td>1680</td><td>65</td><td>0</td><td>24</td><td>0</td><td>63</td><td>2</td><td>0</td><td>65</td><td>.0513</td><td>2</td><td></td><td>7.4100</td><td>.1000</td><td>7.5100</td><td>.0700</td><td>7.0400</td><td>.1000</td><td>7.1400</td><td>0</td><td>0</td><td>.0000</td><td>8.3200</td><td>.0000</td><td>29.0513</td><td>.0001</td><td>-.3309</td><td>-.2625</td><td>629</td></tr><tr><td>11427539</td><td>APPLE57CRESCENT</td><td>APPLE57CRESCENT</td><td>2020-04-05 07:00:00-04:00</td><td>Apple, Inc.</td><td>Apple, Inc.</td><td>Manufacturing</td><td>Software</td><td>Americas</td><td>West</td><td>Hyperscale Architect</td><td>Production</td><td>TTU</td><td>Export</td><td>Admin</td><td>SEMANTIC</td><td>MARKETING</td><td>MARKETING</td><td>1680</td><td>4</td><td>0</td><td>0</td><td>0</td><td>0</td><td>4</td><td>0</td><td>4</td><td>1.0000</td><td>0</td><td></td><td>.1400</td><td>.0300</td><td>.1700</td><td>.0000</td><td>.1300</td><td>.0000</td><td>.1300</td><td>0</td><td>0</td><td>.0000</td><td>.0000</td><td>.0000</td><td>1.0000</td><td>.0000</td><td>.0000</td><td>.0000</td><td>629</td></tr><tr><td>12604474</td><td>APPLE57CRESCENT</td><td>APPLE57CRESCENT</td><td>2020-04-07 22:00:00-04:00</td><td>Apple, Inc.</td><td>Apple, Inc.</td><td>Manufacturing</td><td>Software</td><td>Americas</td><td>West</td><td>Hyperscale Architect</td><td>Production</td><td>TTU</td><td>ETL</td><td>Merge/Update/Delete</td><td>SEMANTIC</td><td>SALESOPS</td><td>OPS</td><td>1680</td><td>28</td><td>0</td><td>0</td><td>0</td><td>0</td><td>13</td><td>15</td><td>28</td><td>5.0000</td><td>0</td><td></td><td>.2400</td><td>2.5300</td><td>2.7700</td><td>.0300</td><td>.0400</td><td>38.9500</td><td>38.9900</td><td>0</td><td>0</td><td>1.7100</td><td>25.7500</td><td>13.7800</td><td>1680.0000</td><td>.0000</td><td>-.9077</td><td>-.3376</td><td>629</td></tr><tr><td>8219390</td><td>APPLE57CRESCENT</td><td>APPLE57CRESCENT</td><td>2020-03-28 04:00:00-04:00</td><td>Apple, Inc.</td><td>Apple, Inc.</td><td>Manufacturing</td><td>Software</td><td>Americas</td><td>West</td><td>Hyperscale Architect</td><td>Production</td><td>TTU</td><td>Stream</td><td>Create/Drop</td><td>CORE ETL</td><td>SALESOPS</td><td>OPS</td><td>1680</td><td>1190</td><td>0</td><td>0</td><td>0</td><td>0</td><td>139</td><td>1051</td><td>1020</td><td>25.1185</td><td>0</td><td></td><td>16.1300</td><td>46.8100</td><td>62.9400</td><td>.1600</td><td>9.2100</td><td>207.6100</td><td>216.8200</td><td>0</td><td>3</td><td>3.4100</td><td>185.8800</td><td>818.3700</td><td>1680.0000</td><td>.0000</td><td>-.9812</td><td>-.9520</td><td>629</td></tr><tr><td>8439047</td><td>APPLE57CRESCENT</td><td>APPLE57CRESCENT</td><td>2020-04-08 18:00:00-04:00</td><td>Apple, Inc.</td><td>Apple, Inc.</td><td>Manufacturing</td><td>Software</td><td>Americas</td><td>West</td><td>Hyperscale Architect</td><td>Production</td><td>BTEQ</td><td>ETL</td><td>Stored Proc</td><td>SEMANTIC</td><td>SALESOPS</td><td>OPS</td><td>1680</td><td>65</td><td>0</td><td>0</td><td>0</td><td>65</td><td>0</td><td>0</td><td>65</td><td>.6000</td><td>0</td><td></td><td>.3900</td><td>69.5000</td><td>69.8900</td><td>.0000</td><td>.2700</td><td>.0000</td><td>.2700</td><td>0</td><td>0</td><td>.0000</td><td>.0000</td><td>.0000</td><td>.0000</td><td>.0000</td><td>.0000</td><td>.0000</td><td>629</td></tr><tr><td>5737123</td><td>APPLE57CRESCENT</td><td>APPLE57CRESCENT</td><td>2020-04-02 15:00:00-04:00</td><td>Apple, Inc.</td><td>Apple, Inc.</td><td>Manufacturing</td><td>Software</td><td>Americas</td><td>West</td><td>Hyperscale Architect</td><td>Production</td><td>BTEQ</td><td>ETL</td><td>Other</td><td>SEMANTIC</td><td>ITUNES</td><td>ITUNES</td><td>1680</td><td>288</td><td>0</td><td>0</td><td>0</td><td>287</td><td>1</td><td>0</td><td>288</td><td>.0000</td><td>0</td><td></td><td>8.5300</td><td>.7000</td><td>9.2300</td><td>.0500</td><td>7.7300</td><td>5.2100</td><td>12.9400</td><td>0</td><td>0</td><td>.0000</td><td>.0000</td><td>.0000</td><td>379.3548</td><td>.0000</td><td>-.2191</td><td>-.0322</td><td>629</td></tr><tr><td>8616921</td><td>APPLE57CRESCENT</td><td>APPLE57CRESCENT</td><td>2020-06-09 23:00:00-04:00</td><td>Apple, Inc.</td><td>Apple, Inc.</td><td>Manufacturing</td><td>Software</td><td>Americas</td><td>West</td><td>Hyperscale Architect</td><td>Production</td><td>Tableau</td><td>Analytic</td><td>Admin</td><td>ADHOC</td><td>SALESOPS</td><td>SALES</td><td>1680</td><td>72</td><td>0</td><td>0</td><td>0</td><td>36</td><td>34</td><td>2</td><td>72</td><td>.5000</td><td>0</td><td></td><td>1.5300</td><td>.4500</td><td>1.9800</td><td>1.1000</td><td>1.3200</td><td>.0000</td><td>1.3200</td><td>0</td><td>0</td><td>.0000</td><td>.0000</td><td>.0000</td><td>.5000</td><td>.0000</td><td>.0000</td><td>.0000</td><td>629</td></tr><tr><td>9433329</td><td>APPLE57CRESCENT</td><td>APPLE57CRESCENT</td><td>2020-03-28 06:00:00-04:00</td><td>Apple, Inc.</td><td>Apple, Inc.</td><td>Manufacturing</td><td>Software</td><td>Americas</td><td>West</td><td>Hyperscale Architect</td><td>Production</td><td>BTEQ</td><td>ETL</td><td>Merge/Update/Delete</td><td>Unknown</td><td>ITUNES</td><td>ITUNES</td><td>1680</td><td>5</td><td>0</td><td>0</td><td>0</td><td>0</td><td>1</td><td>4</td><td>5</td><td>3.8333</td><td>0</td><td></td><td>.3200</td><td>4.6200</td><td>4.9400</td><td>.0000</td><td>.1400</td><td>1172.7800</td><td>1172.9200</td><td>1</td><td>15</td><td>240.2800</td><td>1623.5300</td><td>2794.6300</td><td>1680.0000</td><td>.0000</td><td>-.3201</td><td>-.1179</td><td>629</td></tr><tr><td>8961342</td><td>APPLE57CRESCENT</td><td>APPLE57CRESCENT</td><td>2020-03-29 13:00:00-04:00</td><td>Apple, Inc.</td><td>Apple, Inc.</td><td>Manufacturing</td><td>Software</td><td>Americas</td><td>West</td><td>Hyperscale Architect</td><td>Production</td><td>Tableau</td><td>Analytic</td><td>Other</td><td>ADHOC</td><td>SALESOPS</td><td>SALES</td><td>1680</td><td>3</td><td>0</td><td>0</td><td>0</td><td>3</td><td>0</td><td>0</td><td>3</td><td>.0000</td><td>0</td><td></td><td>.0400</td><td>.0000</td><td>.0400</td><td>.0100</td><td>.0300</td><td>.0000</td><td>.0300</td><td>0</td><td>0</td><td>.0000</td><td>.0000</td><td>.0000</td><td>.3333</td><td>.0000</td><td>.0000</td><td>.0000</td><td>629</td></tr><tr><td>13514754</td><td>APPLE57CRESCENT</td><td>APPLE57CRESCENT</td><td>2020-04-10 16:00:00-04:00</td><td>Apple, Inc.</td><td>Apple, Inc.</td><td>Manufacturing</td><td>Software</td><td>Americas</td><td>West</td><td>Hyperscale Architect</td><td>Production</td><td>TTU</td><td>Stream</td><td>Select</td><td>CORE ETL</td><td>APPLECARE</td><td>AC REPAIR</td><td>1680</td><td>520</td><td>0</td><td>80</td><td>0</td><td>80</td><td>439</td><td>1</td><td>520</td><td>3.3846</td><td>4760</td><td></td><td>6.0500</td><td>18.2000</td><td>24.2500</td><td>1.7700</td><td>2.9700</td><td>154.6700</td><td>157.6400</td><td>0</td><td>2</td><td>.0000</td><td>118.2100</td><td>.0100</td><td>1421.5385</td><td>.0033</td><td>-.9633</td><td>-.7269</td><td>629</td></tr><tr><td>3243580</td><td>APPLE57CRESCENT</td><td>APPLE57CRESCENT</td><td>2020-04-10 03:00:00-04:00</td><td>Apple, Inc.</td><td>Apple, Inc.</td><td>Manufacturing</td><td>Software</td><td>Americas</td><td>West</td><td>Hyperscale Architect</td><td>Production</td><td>JDBC</td><td>Application</td><td>Other</td><td>SEMANTIC</td><td>ITUNES</td><td>ITUNES</td><td>1680</td><td>760</td><td>0</td><td>0</td><td>0</td><td>751</td><td>9</td><td>0</td><td>2242</td><td>.7000</td><td>0</td><td></td><td>30.7000</td><td>.6800</td><td>31.3800</td><td>.0000</td><td>26.8900</td><td>.5500</td><td>27.4400</td><td>0</td><td>0</td><td>.0000</td><td>.0100</td><td>.0000</td><td>336.7000</td><td>.0000</td><td>-.2616</td><td>-.1662</td><td>629</td></tr><tr><td>8616216</td><td>APPLE57CRESCENT</td><td>APPLE57CRESCENT</td><td>2020-04-02 14:00:00-04:00</td><td>Apple, Inc.</td><td>Apple, Inc.</td><td>Manufacturing</td><td>Software</td><td>Americas</td><td>West</td><td>Hyperscale Architect</td><td>Production</td><td>TTU</td><td>Export</td><td>Other</td><td>CORE ETL</td><td>ITUNES</td><td>ITUNES</td><td>1680</td><td>5</td><td>0</td><td>0</td><td>0</td><td>5</td><td>0</td><td>0</td><td>4</td><td>.5000</td><td>0</td><td></td><td>.0500</td><td>.0000</td><td>.0500</td><td>.0000</td><td>.0400</td><td>.0100</td><td>.0500</td><td>0</td><td>0</td><td>.0000</td><td>.0000</td><td>.0000</td><td>420.0000</td><td>.0000</td><td>-.2496</td><td>.0000</td><td>629</td></tr><tr><td>8617203</td><td>APPLE57CRESCENT</td><td>APPLE57CRESCENT</td><td>2020-03-28 23:00:00-04:00</td><td>Apple, Inc.</td><td>Apple, Inc.</td><td>Manufacturing</td><td>Software</td><td>Americas</td><td>West</td><td>Hyperscale Architect</td><td>Production</td><td>TTU</td><td>Export</td><td>Admin</td><td>SEMANTIC</td><td>APPLECARE</td><td>AC REPAIR</td><td>1680</td><td>12</td><td>0</td><td>0</td><td>0</td><td>0</td><td>12</td><td>0</td><td>12</td><td>1.0000</td><td>0</td><td></td><td>.4300</td><td>.1000</td><td>.5300</td><td>.0000</td><td>.4100</td><td>.0000</td><td>.4100</td><td>0</td><td>0</td><td>.0000</td><td>.0000</td><td>.0000</td><td>1.0000</td><td>.0000</td><td>.0000</td><td>.0000</td><td>629</td></tr><tr><td>7025487</td><td>APPLE57CRESCENT</td><td>APPLE57CRESCENT</td><td>2020-04-23 22:00:00-04:00</td><td>Apple, Inc.</td><td>Apple, Inc.</td><td>Manufacturing</td><td>Software</td><td>Americas</td><td>West</td><td>Hyperscale Architect</td><td>Production</td><td>TTU</td><td>ETL</td><td>Merge/Update/Delete</td><td>CORE ETL</td><td>SALESOPS</td><td>SALES</td><td>1680</td><td>1</td><td>0</td><td>1</td><td>0</td><td>1</td><td>0</td><td>0</td><td>1</td><td>.0000</td><td>0</td><td></td><td>.0000</td><td>.0000</td><td></td><td>.0000</td><td>.0000</td><td>.0000</td><td>.0000</td><td>0</td><td>0</td><td>.0000</td><td>.0000</td><td>.0000</td><td>.0000</td><td>.0000</td><td>.0000</td><td>.0000</td><td>629</td></tr><tr><td>7031145</td><td>APPLE57CRESCENT</td><td>APPLE57CRESCENT</td><td>2020-04-09 12:00:00-04:00</td><td>Apple, Inc.</td><td>Apple, Inc.</td><td>Manufacturing</td><td>Software</td><td>Americas</td><td>West</td><td>Hyperscale Architect</td><td>Production</td><td>TTU</td><td>Export</td><td>Load</td><td>SEMANTIC</td><td>MARKETING</td><td>MARKETING</td><td>1680</td><td>12</td><td>0</td><td>0</td><td>0</td><td>12</td><td>0</td><td>0</td><td>6</td><td>2.0000</td><td>0</td><td></td><td>.0100</td><td>.0000</td><td>.0100</td><td>.0000</td><td>.0000</td><td>.0000</td><td>.0000</td><td>0</td><td>0</td><td>.0000</td><td>.0000</td><td>.0000</td><td>1.3333</td><td>.0000</td><td>.0000</td><td>.0000</td><td>629</td></tr><tr><td>837963</td><td>APPLE57CRESCENT</td><td>APPLE57CRESCENT</td><td>2020-03-27 09:00:00-04:00</td><td>Apple, Inc.</td><td>Apple, Inc.</td><td>Manufacturing</td><td>Software</td><td>Americas</td><td>West</td><td>Hyperscale Architect</td><td>Production</td><td>BTEQ</td><td>ETL</td><td>Stored Proc</td><td>SEMANTIC</td><td>MARKETING</td><td>MARKETING</td><td>1680</td><td>305</td><td>0</td><td>0</td><td>0</td><td>305</td><td>0</td><td>0</td><td>305</td><td>.5148</td><td>0</td><td></td><td>.6000</td><td>118.9500</td><td>119.5500</td><td>.0100</td><td>.0400</td><td>.0000</td><td>.0400</td><td>0</td><td>0</td><td>.0000</td><td>.0000</td><td>.0000</td><td>.0000</td><td>.0000</td><td>.0000</td><td>.0000</td><td>629</td></tr><tr><td>4928539</td><td>APPLE57CRESCENT</td><td>APPLE57CRESCENT</td><td>2020-04-14 01:00:00-04:00</td><td>Apple, Inc.</td><td>Apple, Inc.</td><td>Manufacturing</td><td>Software</td><td>Americas</td><td>West</td><td>Hyperscale Architect</td><td>Production</td><td>TTU</td><td>ETL</td><td>Select</td><td>SEMANTIC</td><td>APPLECARE</td><td>AC REPAIR</td><td>1680</td><td>3</td><td>0</td><td>0</td><td>0</td><td>3</td><td>0</td><td>0</td><td>3</td><td>.0000</td><td>0</td><td></td><td>.0900</td><td>.0000</td><td>.0900</td><td>.0000</td><td>.0600</td><td>.0000</td><td>.0600</td><td>0</td><td>0</td><td>.0000</td><td>.0000</td><td>.0000</td><td>.0000</td><td>.0000</td><td>.0000</td><td>.0000</td><td>629</td></tr><tr><td>8621734</td><td>APPLE57CRESCENT</td><td>APPLE57CRESCENT</td><td>2020-04-05 08:00:00-04:00</td><td>Apple, Inc.</td><td>Apple, Inc.</td><td>Manufacturing</td><td>Software</td><td>Americas</td><td>West</td><td>Hyperscale Architect</td><td>Production</td><td>TTU</td><td>Stream</td><td>Insert</td><td>CORE ETL</td><td>APPLECARE</td><td>AC REPAIR</td><td>1680</td><td>1070</td><td>0</td><td>0</td><td>0</td><td>162</td><td>891</td><td>17</td><td>1070</td><td>178.3401</td><td>0</td><td></td><td>12.0100</td><td>578.5300</td><td>590.5400</td><td>.2000</td><td>7.5600</td><td>11.5900</td><td>19.1500</td><td>0</td><td>0</td><td>.0000</td><td>.0000</td><td>.0000</td><td>.9434</td><td>.0000</td><td>2.8580</td><td>149.6635</td><td>629</td></tr><tr><td>8220687</td><td>APPLE57CRESCENT</td><td>APPLE57CRESCENT</td><td>2020-03-29 05:00:00-04:00</td><td>Apple, Inc.</td><td>Apple, Inc.</td><td>Manufacturing</td><td>Software</td><td>Americas</td><td>West</td><td>Hyperscale Architect</td><td>Production</td><td>BTEQ</td><td>ETL</td><td>Insert</td><td>SYSTEM</td><td>SYSTEM</td><td>SYSTEM</td><td>1680</td><td>135</td><td>11</td><td>0</td><td>0</td><td>0</td><td>19</td><td>116</td><td>135</td><td>14.2101</td><td>0</td><td></td><td>28.4600</td><td>220.6200</td><td>249.0800</td><td>.1100</td><td>18.6800</td><td>8096.8500</td><td>8115.5300</td><td>2</td><td>117</td><td>262.0900</td><td>8776.1800</td><td>1864.0300</td><td>1675.2837</td><td>297.7160</td><td>-.8047</td><td>-.3986</td><td>629</td></tr><tr><td>5841731</td><td>APPLE57CRESCENT</td><td>APPLE57CRESCENT</td><td>2020-04-02 07:00:00-04:00</td><td>Apple, Inc.</td><td>Apple, Inc.</td><td>Manufacturing</td><td>Software</td><td>Americas</td><td>West</td><td>Hyperscale Architect</td><td>Production</td><td>TTU</td><td>Stream</td><td>Admin</td><td>CORE ETL</td><td>SALESOPS</td><td>FINANCE</td><td>1680</td><td>30</td><td>0</td><td>0</td><td>0</td><td>0</td><td>30</td><td>0</td><td>30</td><td>1.0000</td><td>0</td><td></td><td>1.0700</td><td>.2900</td><td>1.3600</td><td>.0000</td><td>.9400</td><td>.0000</td><td>.9400</td><td>0</td><td>0</td><td>.0000</td><td>.0000</td><td>.0000</td><td>1.0000</td><td>.0000</td><td>.0000</td><td>.0000</td><td>629</td></tr><tr><td>3529582</td><td>APPLE57CRESCENT</td><td>APPLE57CRESCENT</td><td>2020-05-11 15:00:00-04:00</td><td>Apple, Inc.</td><td>Apple, Inc.</td><td>Manufacturing</td><td>Software</td><td>Americas</td><td>West</td><td>Hyperscale Architect</td><td>Production</td><td>BTEQ</td><td>ETL</td><td>Collect Stats</td><td>CORE ETL</td><td>SALESOPS</td><td>OPS</td><td>1680</td><td>14</td><td>0</td><td>0</td><td>0</td><td>0</td><td>0</td><td>14</td><td>14</td><td>9.0000</td><td>0</td><td></td><td>1.6400</td><td>46.9600</td><td>48.6000</td><td>.0200</td><td>.7300</td><td>46.5200</td><td>47.2500</td><td>0</td><td>0</td><td>.2900</td><td>34.2200</td><td>.7700</td><td>1680.0000</td><td>.9514</td><td>-.9989</td><td>-.9760</td><td>629</td></tr><tr><td>3044183</td><td>APPLE57CRESCENT</td><td>APPLE57CRESCENT</td><td>2020-03-28 08:00:00-04:00</td><td>Apple, Inc.</td><td>Apple, Inc.</td><td>Manufacturing</td><td>Software</td><td>Americas</td><td>West</td><td>Hyperscale Architect</td><td>Production</td><td>TTU</td><td>ETL</td><td>Other</td><td>CORE ETL</td><td>ITUNES</td><td>ITUNES</td><td>1680</td><td>3875</td><td>0</td><td>0</td><td>0</td><td>3102</td><td>75</td><td>698</td><td>3875</td><td>.0000</td><td>0</td><td></td><td>46.6400</td><td>65.9300</td><td>112.5700</td><td>1.1000</td><td>42.4200</td><td>840.7200</td><td>883.1400</td><td>5</td><td>13</td><td>34.9700</td><td>406.2500</td><td>1761.6100</td><td>365.2174</td><td>.0000</td><td>-.2031</td><td>-.0801</td><td>629</td></tr><tr><td>3925972</td><td>APPLE57CRESCENT</td><td>APPLE57CRESCENT</td><td>2020-04-08 17:00:00-04:00</td><td>Apple, Inc.</td><td>Apple, Inc.</td><td>Manufacturing</td><td>Software</td><td>Americas</td><td>West</td><td>Hyperscale Architect</td><td>Production</td><td>TTU</td><td>Stream</td><td>Select</td><td>CORE ETL</td><td>SALESOPS</td><td>OPS</td><td>1680</td><td>619</td><td>0</td><td>93</td><td>0</td><td>93</td><td>459</td><td>67</td><td>619</td><td>3.4449</td><td>5602</td><td></td><td>7.6300</td><td>44.6700</td><td>52.3000</td><td>1.9800</td><td>3.6100</td><td>193.2100</td><td>196.8200</td><td>0</td><td>2</td><td>.0000</td><td>149.1700</td><td>1.3900</td><td>1446.2929</td><td>.0039</td><td>-.9571</td><td>-.7273</td><td>629</td></tr><tr><td>828618</td><td>APPLE57CRESCENT</td><td>APPLE57CRESCENT</td><td>2020-04-18 00:00:00-04:00</td><td>Apple, Inc.</td><td>Apple, Inc.</td><td>Manufacturing</td><td>Software</td><td>Americas</td><td>West</td><td>Hyperscale Architect</td><td>Production</td><td>TTU</td><td>Export</td><td>Load</td><td>SEMANTIC</td><td>MARKETING</td><td>MARKETING</td><td>1680</td><td>12</td><td>0</td><td>0</td><td>0</td><td>12</td><td>0</td><td>0</td><td>6</td><td>2.0000</td><td>0</td><td></td><td>.0300</td><td>.0000</td><td>.0300</td><td>.0000</td><td>.0000</td><td>.0000</td><td>.0000</td><td>0</td><td>0</td><td>.0000</td><td>.0000</td><td>.0000</td><td>1.3333</td><td>.0000</td><td>.0000</td><td>.0000</td><td>629</td></tr><tr><td>5134774</td><td>APPLE57CRESCENT</td><td>APPLE57CRESCENT</td><td>2020-04-21 07:00:00-04:00</td><td>Apple, Inc.</td><td>Apple, Inc.</td><td>Manufacturing</td><td>Software</td><td>Americas</td><td>West</td><td>Hyperscale Architect</td><td>Production</td><td>BTEQ</td><td>ETL</td><td>Select</td><td>SEMANTIC</td><td>APPLECARE</td><td>AC REPAIR</td><td>1680</td><td>3</td><td>0</td><td>0</td><td>0</td><td>0</td><td>3</td><td>0</td><td>3</td><td>1.0000</td><td>3</td><td></td><td>.1000</td><td>.0100</td><td>.1100</td><td>.0200</td><td>.0600</td><td>.0000</td><td>.0600</td><td>0</td><td>0</td><td>.0000</td><td>.0000</td><td>.0000</td><td>1.0000</td><td>.0000</td><td>.0000</td><td>.0000</td><td>629</td></tr><tr><td>11429176</td><td>APPLE57CRESCENT</td><td>APPLE57CRESCENT</td><td>2020-04-12 02:00:00-04:00</td><td>Apple, Inc.</td><td>Apple, Inc.</td><td>Manufacturing</td><td>Software</td><td>Americas</td><td>West</td><td>Hyperscale Architect</td><td>Production</td><td>TTU</td><td>Stream</td><td>Insert</td><td>CORE ETL</td><td>APPLECARE</td><td>AC REPAIR</td><td>1680</td><td>830</td><td>0</td><td>0</td><td>0</td><td>162</td><td>647</td><td>21</td><td>830</td><td>91.4472</td><td>0</td><td></td><td>7.8800</td><td>371.9400</td><td>379.8200</td><td>.1400</td><td>3.7400</td><td>5.6300</td><td>9.3700</td><td>0</td><td>0</td><td>.0000</td><td>.0000</td><td>.0000</td><td>.8857</td><td>.0000</td><td>2.4923</td><td>73.3072</td><td>629</td></tr><tr><td>5323827</td><td>APPLE57CRESCENT</td><td>APPLE57CRESCENT</td><td>2020-05-16 12:00:00-04:00</td><td>Apple, Inc.</td><td>Apple, Inc.</td><td>Manufacturing</td><td>Software</td><td>Americas</td><td>West</td><td>Hyperscale Architect</td><td>Production</td><td>Tableau</td><td>Analytic</td><td>Select</td><td>ADHOC</td><td>iTunes</td><td>iTunes</td><td>1680</td><td>159</td><td>0</td><td>4</td><td>0</td><td>33</td><td>80</td><td>46</td><td>159</td><td>9.0190</td><td>4017206</td><td>.5200</td><td>18.5100</td><td>372.2300</td><td>390.7400</td><td>140.0200</td><td>15.0100</td><td>109067.7700</td><td>109082.7800</td><td>387</td><td>688</td><td>40722.9100</td><td>70857.8300</td><td>10477.7100</td><td>1227.8156</td><td>1942.9028</td><td>-.8218</td><td>-.6593</td><td>629</td></tr><tr><td>1868608</td><td>APPLE57CRESCENT</td><td>APPLE57CRESCENT</td><td>2020-03-27 08:00:00-04:00</td><td>Apple, Inc.</td><td>Apple, Inc.</td><td>Manufacturing</td><td>Software</td><td>Americas</td><td>West</td><td>Hyperscale Architect</td><td>Production</td><td>BTEQ</td><td>ETL</td><td>Select</td><td>Unknown</td><td>ITUNES</td><td>ITUNES</td><td>1680</td><td>87</td><td>0</td><td>0</td><td>0</td><td>66</td><td>9</td><td>12</td><td>87</td><td>.4821</td><td>446</td><td></td><td>.5600</td><td>1.2400</td><td>1.8000</td><td>.0200</td><td>.3900</td><td>357.5300</td><td>357.9200</td><td>0</td><td>4</td><td>265.6800</td><td>564.6300</td><td>594.1800</td><td>120.0536</td><td>.0003</td><td>-.3104</td><td>-.1370</td><td>629</td></tr><tr><td>8958903</td><td>APPLE57CRESCENT</td><td>APPLE57CRESCENT</td><td>2020-04-13 03:00:00-04:00</td><td>Apple, Inc.</td><td>Apple, Inc.</td><td>Manufacturing</td><td>Software</td><td>Americas</td><td>West</td><td>Hyperscale Architect</td><td>Production</td><td>BTEQ</td><td>ETL</td><td>Merge/Update/Delete</td><td>CORE ETL</td><td>ITUNES</td><td>ITUNES</td><td>1680</td><td>4834</td><td>5</td><td>0</td><td>0</td><td>1</td><td>2741</td><td>2092</td><td>4829</td><td>4.6354</td><td>0</td><td></td><td>155.1600</td><td>1654.2500</td><td>1809.4100</td><td>1.1200</td><td>117.9200</td><td>215000.0800</td><td>215118.0000</td><td>1222</td><td>2265</td><td>113841.4100</td><td>192845.1900</td><td>177818.3300</td><td>1649.6116</td><td>2872.5509</td><td>-.8927</td><td>-.4498</td><td>629</td></tr><tr><td>2020635</td><td>APPLE57CRESCENT</td><td>APPLE57CRESCENT</td><td>2020-04-28 05:00:00-04:00</td><td>Apple, Inc.</td><td>Apple, Inc.</td><td>Manufacturing</td><td>Software</td><td>Americas</td><td>West</td><td>Hyperscale Architect</td><td>Production</td><td>TTU</td><td>ETL</td><td>Load</td><td>SEMANTIC</td><td>ITUNES</td><td>ITUNES</td><td>1680</td><td>107</td><td>0</td><td>0</td><td>0</td><td>85</td><td>0</td><td>22</td><td>85</td><td>9.7500</td><td>75</td><td></td><td>1.3100</td><td>18.1500</td><td>19.4600</td><td>.0100</td><td>.9400</td><td>405.2800</td><td>406.2200</td><td>0</td><td>5</td><td>121.2600</td><td>504.7500</td><td>1185.7400</td><td>840.2500</td><td>.0003</td><td>-.3878</td><td>-.1984</td><td>629</td></tr><tr><td>3043697</td><td>APPLE57CRESCENT</td><td>APPLE57CRESCENT</td><td>2020-03-31 05:00:00-04:00</td><td>Apple, Inc.</td><td>Apple, Inc.</td><td>Manufacturing</td><td>Software</td><td>Americas</td><td>West</td><td>Hyperscale Architect</td><td>Production</td><td>BTEQ</td><td>ETL</td><td>Other</td><td>ADHOC</td><td>FRAUD</td><td>FRAUD</td><td>1680</td><td>23</td><td>0</td><td>15</td><td>0</td><td>23</td><td>0</td><td>0</td><td>23</td><td>.0000</td><td>0</td><td></td><td>.6000</td><td>.0000</td><td>.6000</td><td>.0000</td><td>.1200</td><td>.0000</td><td>.1200</td><td>0</td><td>0</td><td>.0000</td><td>.0000</td><td>.0000</td><td>.0000</td><td>.0000</td><td>.0000</td><td>.0000</td><td>629</td></tr><tr><td>9332630</td><td>APPLE57CRESCENT</td><td>APPLE57CRESCENT</td><td>2020-04-08 05:00:00-04:00</td><td>Apple, Inc.</td><td>Apple, Inc.</td><td>Manufacturing</td><td>Software</td><td>Americas</td><td>West</td><td>Hyperscale Architect</td><td>Production</td><td>TTU</td><td>Stream</td><td>Other</td><td>CORE ETL</td><td>SALESOPS</td><td>FINANCE</td><td>1680</td><td>1032</td><td>0</td><td>0</td><td>0</td><td>388</td><td>620</td><td>24</td><td>750</td><td>1.0774</td><td>0</td><td></td><td>3.9100</td><td>5.7800</td><td>9.6900</td><td>.2500</td><td>3.7700</td><td>41.6300</td><td>45.4000</td><td>0</td><td>0</td><td>.6900</td><td>14.1500</td><td>63.8300</td><td>179.8222</td><td>.0000</td><td>-.3627</td><td>-.2888</td><td>629</td></tr><tr><td>1045869</td><td>APPLE57CRESCENT</td><td>APPLE57CRESCENT</td><td>2020-04-02 09:00:00-04:00</td><td>Apple, Inc.</td><td>Apple, Inc.</td><td>Manufacturing</td><td>Software</td><td>Americas</td><td>West</td><td>Hyperscale Architect</td><td>Production</td><td>TTU</td><td>Stream</td><td>Admin</td><td>CORE ETL</td><td>APPLECARE</td><td>AC REPAIR</td><td>1680</td><td>31</td><td>0</td><td>0</td><td>0</td><td>0</td><td>31</td><td>0</td><td>31</td><td>1.0000</td><td>0</td><td></td><td>1.0900</td><td>.3100</td><td>1.4000</td><td>.0000</td><td>.9700</td><td>.0000</td><td>.9700</td><td>0</td><td>0</td><td>.0000</td><td>.0000</td><td>.0000</td><td>1.0000</td><td>.0000</td><td>.0000</td><td>.0000</td><td>629</td></tr><tr><td>5841357</td><td>APPLE57CRESCENT</td><td>APPLE57CRESCENT</td><td>2020-03-28 11:00:00-04:00</td><td>Apple, Inc.</td><td>Apple, Inc.</td><td>Manufacturing</td><td>Software</td><td>Americas</td><td>West</td><td>Hyperscale Architect</td><td>Production</td><td>Tableau</td><td>Analytic</td><td>Insert</td><td>ADHOC</td><td>iTunes</td><td>iTunes</td><td>1680</td><td>78</td><td>0</td><td>0</td><td>0</td><td>39</td><td>39</td><td>0</td><td>78</td><td>.5000</td><td>0</td><td></td><td>.6600</td><td>.0400</td><td>.7000</td><td>2.7400</td><td>.0100</td><td>.0000</td><td>.0100</td><td>0</td><td>0</td><td>.0000</td><td>.0000</td><td>.0000</td><td>.5000</td><td>.0002</td><td>.0000</td><td>.0000</td><td>629</td></tr><tr><td>4639158</td><td>APPLE57CRESCENT</td><td>APPLE57CRESCENT</td><td>2020-05-20 11:00:00-04:00</td><td>Apple, Inc.</td><td>Apple, Inc.</td><td>Manufacturing</td><td>Software</td><td>Americas</td><td>West</td><td>Hyperscale Architect</td><td>Production</td><td>TTU</td><td>Stream</td><td>Other</td><td>CORE ETL</td><td>MARKETING</td><td>MARKETING</td><td>1680</td><td>96</td><td>0</td><td>0</td><td>0</td><td>50</td><td>35</td><td>11</td><td>89</td><td>.8594</td><td>0</td><td></td><td>1.3400</td><td>2.0900</td><td>3.4300</td><td>.0200</td><td>1.0800</td><td>17.5000</td><td>18.5800</td><td>0</td><td>0</td><td>.2200</td><td>5.2700</td><td>26.5400</td><td>329.1094</td><td>.0000</td><td>-.3927</td><td>-.2286</td><td>629</td></tr><tr><td>7023748</td><td>APPLE57CRESCENT</td><td>APPLE57CRESCENT</td><td>2020-04-07 15:00:00-04:00</td><td>Apple, Inc.</td><td>Apple, Inc.</td><td>Manufacturing</td><td>Software</td><td>Americas</td><td>West</td><td>Hyperscale Architect</td><td>Production</td><td>TTU</td><td>ETL</td><td>Merge/Update/Delete</td><td>CORE ETL</td><td>SALESOPS</td><td>OPS</td><td>1680</td><td>184</td><td>0</td><td>0</td><td>0</td><td>0</td><td>47</td><td>137</td><td>184</td><td>5.0000</td><td>0</td><td></td><td>2.0200</td><td>20.7500</td><td>22.7700</td><td>.2700</td><td>.1000</td><td>160.4200</td><td>160.5200</td><td>0</td><td>2</td><td>8.3200</td><td>113.2700</td><td>34.5800</td><td>1680.0000</td><td>.0000</td><td>-.9246</td><td>-.3629</td><td>629</td></tr><tr><td>13118403</td><td>APPLE57CRESCENT</td><td>APPLE57CRESCENT</td><td>2020-04-07 19:00:00-04:00</td><td>Apple, Inc.</td><td>Apple, Inc.</td><td>Manufacturing</td><td>Software</td><td>Americas</td><td>West</td><td>Hyperscale Architect</td><td>Production</td><td>BTEQ</td><td>ETL</td><td>Insert</td><td>SEMANTIC</td><td>MARKETING</td><td>MARKETING</td><td>1680</td><td>234</td><td>0</td><td>2</td><td>0</td><td>10</td><td>153</td><td>71</td><td>234</td><td>1.6767</td><td>0</td><td></td><td>2.6600</td><td>104.4200</td><td>107.0800</td><td>.0300</td><td>1.7700</td><td>91294.4300</td><td>91296.2000</td><td>8</td><td>671</td><td>9268.3800</td><td>70661.1400</td><td>23296.8800</td><td>271.8901</td><td>12599.2676</td><td>-.2832</td><td>-.0231</td><td>629</td></tr><tr><td>12731158</td><td>APPLE57CRESCENT</td><td>APPLE57CRESCENT</td><td>2020-04-06 15:00:00-04:00</td><td>Apple, Inc.</td><td>Apple, Inc.</td><td>Manufacturing</td><td>Software</td><td>Americas</td><td>West</td><td>Hyperscale Architect</td><td>Production</td><td>TTU</td><td>Stream</td><td>Insert</td><td>CORE ETL</td><td>ITUNES</td><td>ITUNES</td><td>1680</td><td>5889</td><td>0</td><td>0</td><td>0</td><td>1289</td><td>4053</td><td>547</td><td>5889</td><td>103.9968</td><td>0</td><td></td><td>64.2300</td><td>2985.6300</td><td>3049.8600</td><td>.8700</td><td>42.3000</td><td>57.5400</td><td>99.8400</td><td>0</td><td>0</td><td>.0000</td><td>.0000</td><td>5.5400</td><td>.8679</td><td>.0000</td><td>2.3476</td><td>89.5949</td><td>629</td></tr><tr><td>3032061</td><td>APPLE57CRESCENT</td><td>APPLE57CRESCENT</td><td>2020-03-27 16:00:00-04:00</td><td>Apple, Inc.</td><td>Apple, Inc.</td><td>Manufacturing</td><td>Software</td><td>Americas</td><td>West</td><td>Hyperscale Architect</td><td>Production</td><td>TTU</td><td>ETL</td><td>Other</td><td>CORE ETL</td><td>SALESOPS</td><td>SALES</td><td>1680</td><td>28</td><td>0</td><td>0</td><td>0</td><td>24</td><td>4</td><td>0</td><td>28</td><td>.5000</td><td>0</td><td></td><td>1.1200</td><td>.0700</td><td>1.1900</td><td>.0100</td><td>1.0800</td><td>.0000</td><td>1.0800</td><td>0</td><td>0</td><td>.0000</td><td>.0000</td><td>.0000</td><td>.5000</td><td>.0000</td><td>-.1111</td><td>-.0556</td><td>629</td></tr><tr><td>9633266</td><td>APPLE57CRESCENT</td><td>APPLE57CRESCENT</td><td>2020-04-11 16:00:00-04:00</td><td>Apple, Inc.</td><td>Apple, Inc.</td><td>Manufacturing</td><td>Software</td><td>Americas</td><td>West</td><td>Hyperscale Architect</td><td>Production</td><td>BTEQ</td><td>ETL</td><td>Collect Stats</td><td>CORE ETL</td><td>SALESOPS</td><td>FINANCE</td><td>1680</td><td>49</td><td>0</td><td>0</td><td>0</td><td>0</td><td>0</td><td>49</td><td>49</td><td>9.0000</td><td>0</td><td></td><td>9.8100</td><td>91.3800</td><td>101.1900</td><td>.0600</td><td>2.8900</td><td>2502.5800</td><td>2505.4700</td><td>0</td><td>15</td><td>1498.6900</td><td>1527.2300</td><td>3070.8700</td><td>1680.0000</td><td>5.4038</td><td>-.9385</td><td>-.8542</td><td>629</td></tr><tr><td>1130454</td><td>APPLE57CRESCENT</td><td>APPLE57CRESCENT</td><td>2020-04-15 04:00:00-04:00</td><td>Apple, Inc.</td><td>Apple, Inc.</td><td>Manufacturing</td><td>Software</td><td>Americas</td><td>West</td><td>Hyperscale Architect</td><td>Production</td><td>BTEQ</td><td>ETL</td><td>Other</td><td>CORE ETL</td><td>MARKETING</td><td>MARKETING</td><td>1680</td><td>72</td><td>0</td><td>0</td><td>0</td><td>71</td><td>1</td><td>0</td><td>72</td><td>.0000</td><td>0</td><td></td><td>1.3700</td><td>2.3300</td><td>3.7000</td><td>.0100</td><td>1.2700</td><td>4.2900</td><td>5.5600</td><td>0</td><td>0</td><td>.0000</td><td>.0000</td><td>.0600</td><td>560.0000</td><td>.0000</td><td>-.3216</td><td>-.3325</td><td>629</td></tr><tr><td>3038274</td><td>APPLE57CRESCENT</td><td>APPLE57CRESCENT</td><td>2020-04-06 20:00:00-04:00</td><td>Apple, Inc.</td><td>Apple, Inc.</td><td>Manufacturing</td><td>Software</td><td>Americas</td><td>West</td><td>Hyperscale Architect</td><td>Production</td><td>BTEQ</td><td>ETL</td><td>Other</td><td>CORE ETL</td><td>APPLECARE</td><td>AC REPAIR</td><td>1680</td><td>219</td><td>0</td><td>0</td><td>0</td><td>212</td><td>1</td><td>6</td><td>219</td><td>.0000</td><td>0</td><td></td><td>5.1400</td><td>4.0700</td><td>9.2100</td><td>.0500</td><td>4.8200</td><td>7.9300</td><td>12.7500</td><td>0</td><td>0</td><td>.0000</td><td>.0300</td><td>.0000</td><td>560.0000</td><td>.0000</td><td>-.3223</td><td>-.3322</td><td>629</td></tr><tr><td>4228273</td><td>APPLE57CRESCENT</td><td>APPLE57CRESCENT</td><td>2020-06-01 23:00:00-04:00</td><td>Apple, Inc.</td><td>Apple, Inc.</td><td>Manufacturing</td><td>Software</td><td>Americas</td><td>West</td><td>Hyperscale Architect</td><td>Production</td><td>TTU</td><td>ETL</td><td>Admin</td><td>CORE ETL</td><td>SALESOPS</td><td>FINANCE</td><td>1680</td><td>77</td><td>0</td><td>0</td><td>0</td><td>0</td><td>77</td><td>0</td><td>77</td><td>1.0000</td><td>0</td><td></td><td>2.9200</td><td>1.7500</td><td>4.6700</td><td>.0200</td><td>2.6500</td><td>.0000</td><td>2.6500</td><td>0</td><td>0</td><td>.0000</td><td>.0000</td><td>.0000</td><td>1.0000</td><td>.0000</td><td>.0000</td><td>.0000</td><td>629</td></tr></table></div>"
      ]
     },
     "execution_count": 4,
     "metadata": {
      "application/vnd.teradata.resultset": "{\"resultSetID\":\"/home/jovyan/JupyterLabRoot/Teradata/Resultsets/2020.09.29_22.07.48.965_UTC\",\"historyID\":3903,\"chunkID\":\"00001\",\"sessionid\":\"\",\"portnum\":\"\",\"dockermode\":\"docker\",\"totalRowCount\":100,\"rowLimit\":0,\"columnMetadata\":[{\"columnName\":\"Row_Key\",\"columnTypeName\":\"BIGINT\"},{\"columnNumber\":1,\"columnName\":\"Site_ID\",\"columnTypeName\":\"VARCHAR\",\"length\":64,\"scale\":64},{\"columnNumber\":2,\"columnName\":\"Site_Name\",\"columnTypeName\":\"VARCHAR\",\"length\":64,\"scale\":64},{\"columnNumber\":3,\"columnName\":\"LogTS\",\"columnTypeName\":\"TIMESTAMP WITH TIME ZONE\"},{\"columnNumber\":4,\"columnName\":\"gtm_acct_name\",\"columnTypeName\":\"VARCHAR\",\"length\":240,\"scale\":240},{\"columnNumber\":5,\"columnName\":\"Account_Name\",\"columnTypeName\":\"VARCHAR\",\"length\":240,\"scale\":240},{\"columnNumber\":6,\"columnName\":\"acct_industry_name\",\"columnTypeName\":\"VARCHAR\",\"length\":100,\"scale\":100},{\"columnNumber\":7,\"columnName\":\"acct_subindustry_name\",\"columnTypeName\":\"VARCHAR\",\"length\":100,\"scale\":100},{\"columnNumber\":8,\"columnName\":\"cust_region_desc\",\"columnTypeName\":\"VARCHAR\",\"length\":50,\"scale\":50},{\"columnNumber\":9,\"columnName\":\"sls_area_name\",\"columnTypeName\":\"VARCHAR\",\"length\":100,\"scale\":100},{\"columnNumber\":10,\"columnName\":\"strategic_sgmnt_cd\",\"columnTypeName\":\"VARCHAR\",\"length\":75,\"scale\":75},{\"columnNumber\":11,\"columnName\":\"System_Use\",\"columnTypeName\":\"VARCHAR\",\"length\":20,\"scale\":20},{\"columnNumber\":12,\"columnName\":\"App_Bucket\",\"columnTypeName\":\"VARCHAR\",\"length\":256,\"scale\":256},{\"columnNumber\":13,\"columnName\":\"Use_Bucket\",\"columnTypeName\":\"VARCHAR\",\"length\":256,\"scale\":256},{\"columnNumber\":14,\"columnName\":\"Statement_Bucket\",\"columnTypeName\":\"VARCHAR\",\"length\":256,\"scale\":256},{\"columnNumber\":15,\"columnName\":\"User_Bucket\",\"columnTypeName\":\"VARCHAR\",\"length\":256,\"scale\":256},{\"columnNumber\":16,\"columnName\":\"User_Department\",\"columnTypeName\":\"VARCHAR\",\"length\":256,\"scale\":256},{\"columnNumber\":17,\"columnName\":\"User_SubDepartment\",\"columnTypeName\":\"VARCHAR\",\"length\":256,\"scale\":256},{\"columnNumber\":18,\"columnName\":\"Total_AMPs\",\"columnTypeName\":\"INTEGER\"},{\"columnNumber\":19,\"columnName\":\"Query_Cnt\",\"columnTypeName\":\"INTEGER\"},{\"columnNumber\":20,\"columnName\":\"Query_MultiStatement_Cnt\",\"columnTypeName\":\"INTEGER\"},{\"columnNumber\":21,\"columnName\":\"Query_Error_Cnt\",\"columnTypeName\":\"INTEGER\"},{\"columnNumber\":22,\"columnName\":\"Query_Abort_Cnt\",\"columnTypeName\":\"INTEGER\"},{\"columnNumber\":23,\"columnName\":\"Query_NoIO_cnt\",\"columnTypeName\":\"INTEGER\"},{\"columnNumber\":24,\"columnName\":\"Query_InMem_Cnt\",\"columnTypeName\":\"INTEGER\"},{\"columnNumber\":25,\"columnName\":\"Query_PhysIO_Cnt\",\"columnTypeName\":\"INTEGER\"},{\"columnNumber\":26,\"columnName\":\"Request_Cnt\",\"columnTypeName\":\"INTEGER\"},{\"columnNumber\":27,\"columnName\":\"Query_Complexity_Score_Avg\",\"columnTypeName\":\"DECIMAL\",\"length\":4,\"precision\":18,\"scale\":4},{\"columnNumber\":28,\"columnName\":\"Returned_Row_Cnt\",\"columnTypeName\":\"BIGINT\"},{\"columnNumber\":29,\"columnName\":\"DelayTime_Sec\",\"columnTypeName\":\"DECIMAL\",\"length\":4,\"precision\":18,\"scale\":4},{\"columnNumber\":30,\"columnName\":\"Runtime_Parse_Sec\",\"columnTypeName\":\"DECIMAL\",\"length\":4,\"precision\":18,\"scale\":4},{\"columnNumber\":31,\"columnName\":\"Runtime_AMP_Sec\",\"columnTypeName\":\"DECIMAL\",\"length\":4,\"precision\":18,\"scale\":4},{\"columnNumber\":32,\"columnName\":\"Runtime_Total_Sec\",\"columnTypeName\":\"DECIMAL\",\"length\":4,\"precision\":18,\"scale\":4},{\"columnNumber\":33,\"columnName\":\"TransferTime_Sec\",\"columnTypeName\":\"DECIMAL\",\"length\":4,\"precision\":18,\"scale\":4},{\"columnNumber\":34,\"columnName\":\"CPU_Parse_Sec\",\"columnTypeName\":\"DECIMAL\",\"length\":4,\"precision\":18,\"scale\":4},{\"columnNumber\":35,\"columnName\":\"CPU_AMP_Sec\",\"columnTypeName\":\"DECIMAL\",\"length\":4,\"precision\":18,\"scale\":4},{\"columnNumber\":36,\"columnName\":\"CPU_Total_Sec\",\"columnTypeName\":\"DECIMAL\",\"length\":4,\"precision\":18,\"scale\":4},{\"columnNumber\":37,\"columnName\":\"IOCntM_Physical\",\"columnTypeName\":\"INTEGER\"},{\"columnNumber\":38,\"columnName\":\"IOCntM_Total\",\"columnTypeName\":\"INTEGER\"},{\"columnNumber\":39,\"columnName\":\"IOGB_Physical\",\"columnTypeName\":\"DECIMAL\",\"length\":4,\"precision\":18,\"scale\":4},{\"columnNumber\":40,\"columnName\":\"IOGB_Total\",\"columnTypeName\":\"DECIMAL\",\"length\":4,\"precision\":18,\"scale\":4},{\"columnNumber\":41,\"columnName\":\"IOTA_Used_cntB\",\"columnTypeName\":\"DECIMAL\",\"length\":4,\"precision\":18,\"scale\":4},{\"columnNumber\":42,\"columnName\":\"NumOfActiveAMPs_Avg\",\"columnTypeName\":\"DECIMAL\",\"length\":4,\"precision\":9,\"scale\":4},{\"columnNumber\":43,\"columnName\":\"Spool_GB\",\"columnTypeName\":\"DECIMAL\",\"length\":4,\"precision\":18,\"scale\":4},{\"columnNumber\":44,\"columnName\":\"CPUSec_Skew_AvgPCt\",\"columnTypeName\":\"DECIMAL\",\"length\":4,\"precision\":9,\"scale\":4},{\"columnNumber\":45,\"columnName\":\"IOCnt_Skew_AvgPct\",\"columnTypeName\":\"DECIMAL\",\"length\":4,\"precision\":9,\"scale\":4},{\"columnNumber\":46,\"columnName\":\"Run_ID\",\"columnTypeName\":\"INTEGER\"}]}"
     },
     "output_type": "execute_result"
    }
   ],
   "source": [
    "select top 100 * from adlste_coa.coa_DBQL_Core;"
   ]
  },
  {
   "cell_type": "markdown",
   "metadata": {},
   "source": [
    "<br/><br/><br/><hr>\n",
    "## Test for Consumption"
   ]
  },
  {
   "cell_type": "code",
   "execution_count": null,
   "metadata": {},
   "outputs": [],
   "source": [
    "Select top 100\n",
    "QueryID, StartTime, STatementType,  QueryText\n",
    ",zeroifnull((SpoolUsage/1e9))  as Spool_GB\n",
    ",zeroifnull(( cast(dbql.AMPCPUtime     as decimal(18,2)))) as CPU_AMP_Sec\n",
    ",zeroifnull(( cast(ReqIOKB/1e6           as decimal(18,2)))) as IOGB_Total\n",
    ",(cast(dbql.DelayTime as decimal(18,2))) as DelayTime_Sec\n",
    ",zeroifnull((NumOfActiveAMPs)) as NumOfActiveAMPs_Avg\n",
    ",cast(HashAmp()+1 as Integer) as Total_AMPs\n",
    ",AppID, ClientID\n",
    "from dbc.DBQLogTbl as dbql\n",
    "where STartTime > \n",
    "    (Select min(StartTime)-interval '1' second as MarkerTS\n",
    "     from dbc.DBQLogTbl as dbql\n",
    "     where STartTime > (current_Timestamp - interval '240' minute)\n",
    "       and statementtype in('select')\n",
    "       and QueryText like '/* Start COA:%') \n",
    "  and AppID = 'PYTHON'\n",
    "  and UserName = USER\n",
    "  and statementtype not in('abort','help','null')\n",
    "  and NumOfActiveAMPs <>0\n",
    "  and QueryText not like '%dbc.tablesvx%'\n",
    "  and QueryText not like '%Select top%'\n",
    "    -- and querytext not like '%dbql_core:QueryComplexity%'\n",
    "order by StartTime desc"
   ]
  },
  {
   "cell_type": "code",
   "execution_count": null,
   "metadata": {},
   "outputs": [],
   "source": [
    "Select DatabaseName, SpoolSpace/1e9 as Total_Available_Spool_GB, Total_Available_Spool_GB/144 as Per_AMP_Available_Spool_GB\n",
    "from dbc.databases \n",
    "where databasename = USER"
   ]
  },
  {
   "cell_type": "code",
   "execution_count": null,
   "metadata": {},
   "outputs": [],
   "source": [
    "select top 10 * from dbc.DBQLStepTbl\n",
    "where QueryID = 307164923071407657\n",
    "order by StepLev1Num, StepLev2Num"
   ]
  },
  {
   "cell_type": "code",
   "execution_count": null,
   "metadata": {},
   "outputs": [],
   "source": [
    "Select * from dbc.tables where databasename = 'DBC' and tablename like 'dbq%'"
   ]
  },
  {
   "cell_type": "markdown",
   "metadata": {},
   "source": [
    "## debug csm_dashboard"
   ]
  },
  {
   "cell_type": "code",
   "execution_count": 5,
   "metadata": {},
   "outputs": [
    {
     "name": "stdin",
     "output_type": "stream",
     "text": [
      "Connection failure detected. Reconnect required for connection: Transcend.\n",
      "Re-enter Password ············\n"
     ]
    },
    {
     "name": "stdout",
     "output_type": "stream",
     "text": [
      "Success: 'Transcend' connection established\n"
     ]
    }
   ],
   "source": [
    "\n",
    "CREATE VOLATILE TABLE CB_DAILY_TCORE_METRICS ,FALLBACK ,\n",
    "     NO BEFORE JOURNAL,\n",
    "     NO AFTER JOURNAL,\n",
    "     CHECKSUM = DEFAULT,\n",
    "     DEFAULT MERGEBLOCKRATIO,\n",
    "     MAP = TD_MAP1\n",
    "     (\n",
    "      LOGDATE DATE FORMAT 'YYYY-MM-DD',\n",
    "      SYSTEM_ID VARCHAR(100) CHARACTER SET UNICODE NOT CASESPECIFIC,\n",
    "      SYSTEM_VERSION VARCHAR(16384) CHARACTER SET LATIN NOT CASESPECIFIC,\n",
    "      SYSTEM_NODE_CNT INTEGER,\n",
    "      SYSTEM_TCORE_CAPACITY INTEGER,\n",
    "      CPU_RATIO DECIMAL(10,5),\n",
    "      IO_RATIO DECIMAL(10,5),\n",
    "      TCORE_HRS_DAY INTEGER,\n",
    "      TCORE_HRS_MTD INTEGER,\n",
    "      MTD_AVG INTEGER,\n",
    "      JOB_NM VARCHAR(27) CHARACTER SET UNICODE NOT CASESPECIFIC,\n",
    "      USR_NM VARCHAR(12) CHARACTER SET UNICODE NOT CASESPECIFIC,\n",
    "      EDW_START_TSP TIMESTAMP(6) WITH TIME ZONE)\n",
    "PRIMARY INDEX ( LOGDATE )  ON COMMIT PRESERVE ROWS\n",
    ";\n"
   ]
  },
  {
   "cell_type": "code",
   "execution_count": 7,
   "metadata": {},
   "outputs": [
    {
     "data": {
      "text/plain": [
       "Success: 0 rows affected"
      ]
     },
     "execution_count": 7,
     "metadata": {
      "application/vnd.teradata.resultset": ""
     },
     "output_type": "execute_result"
    }
   ],
   "source": [
    "\n",
    "\n",
    "CREATE VOLATILE TABLE CB_DAILY_TCORE_METRICS ,FALLBACK ,\n",
    "     NO BEFORE JOURNAL,\n",
    "     NO AFTER JOURNAL,\n",
    "     CHECKSUM = DEFAULT,\n",
    "     DEFAULT MERGEBLOCKRATIO,\n",
    "     MAP = TD_MAP1\n",
    "     (\n",
    "      LOGDATE DATE FORMAT 'YYYY-MM-DD',\n",
    "      SYSTEM_ID VARCHAR(100) CHARACTER SET UNICODE NOT CASESPECIFIC,\n",
    "      SYSTEM_VERSION VARCHAR(16384) CHARACTER SET LATIN NOT CASESPECIFIC,\n",
    "      SYSTEM_NODE_CNT INTEGER,\n",
    "      SYSTEM_TCORE_CAPACITY INTEGER,\n",
    "      CPU_RATIO DECIMAL(10,5),\n",
    "      IO_RATIO DECIMAL(10,5),\n",
    "      TCORE_HRS_DAY INTEGER,\n",
    "      TCORE_HRS_MTD INTEGER,\n",
    "      MTD_AVG INTEGER,\n",
    "      JOB_NM VARCHAR(27) CHARACTER SET UNICODE NOT CASESPECIFIC,\n",
    "      USR_NM VARCHAR(12) CHARACTER SET UNICODE NOT CASESPECIFIC,\n",
    "      EDW_START_TSP TIMESTAMP(6) WITH TIME ZONE)\n",
    "PRIMARY INDEX ( LOGDATE )  ON COMMIT PRESERVE ROWS\n",
    ";\n",
    "\n"
   ]
  },
  {
   "cell_type": "code",
   "execution_count": 8,
   "metadata": {},
   "outputs": [
    {
     "ename": "ERROR",
     "evalue": "Unable to run SQL: Unable to run SQL query: Database reported error:3535:A character string failed conversion to a numeric value.",
     "output_type": "error",
     "traceback": [
      "Unable to run SQL: Unable to run SQL query: Database reported error:3535:A character string failed conversion to a numeric value."
     ]
    }
   ],
   "source": [
    "\n",
    "\n",
    "INSERT INTO CB_DAILY_TCORE_METRICS\n",
    "SELECT\n",
    "\t\t\tLogdate ,\n",
    "\t\t\tSystem_id,\n",
    "\t\t\tsystem_version,\n",
    "\t\t\tnumnodes as System_Node_Cnt,\n",
    "\t\t\tSystem_TCore_Capacity,\n",
    "\t\t\tCPU_Ratio,\n",
    "\t\t\tIO_Ratio,\n",
    "\t\t\tCAST(ROUND(TCore_hrs_day,0) as INT) (named \"TCore_hrs_day\"),\n",
    "\t\t\tCAST(ROUND(TCore_hrs_MTD,0) as INT) (named \"TCore_hrs_MTD\"),\n",
    "\t\t\tCAST(ROUND(Daily_Avg,0) as INT) (named \"MTD_Avg\"),\n",
    "\t\t\t'CB_DAILY_TCORE_METRICS_Load' as JOB_NM,\n",
    "\t\t\t'CSM_Usr' as USR_NM,\n",
    "\t\t\tcurrent_timestamp(6) as EDW_START_TSP\n",
    "    FROM\n",
    "    (\n",
    "\t\t\tSELECT\n",
    "\t\t\t\tSystem_id,\n",
    "\t\t\t\tsystem_version,\n",
    "\t\t\t\tnumnodes,\n",
    "\t\t\t\tSystem_TCore_Capacity,\n",
    "\t\t\t\tLogdate,\n",
    "\t\t\t\tTCore_hrs_day,\n",
    "\t\t\t\tCPU_Ratio,\n",
    "\t\t\t\tIO_Ratio,\n",
    "\t\t\t\tTCore_hrs_MTD/EXTRACT(DAY\n",
    "\t\t\t\tFROM logdate) AS Daily_Avg,\n",
    "\t\t\t\tSUM(TCore_hrs_day) OVER (ORDER BY logdate ROWS UNBOUNDED PRECEDING) AS TCore_hrs_MTD\n",
    "\t\t\tFROM\n",
    "\t\t\t(\n",
    "\t\t\t\tSELECT\n",
    "\t\t\t\t\tSystem_id,\n",
    "\t\t\t\t\tsystem_version,\n",
    "\t\t\t\t\tSystem_TCore_Capacity,\n",
    "\t\t\t\t\tnumnodes,\n",
    "\t\t\t\t\tLogdate,\n",
    "\t\t\t\t\tsum(TCore_CPU_cnt)/(sum(TCore_CPU_cnt) + sum(TCore_IO_cnt)) as CPU_Ratio,\n",
    "\t\t\t\t\tsum(TCore_IO_cnt)/(sum(TCore_CPU_cnt) + sum(TCore_IO_cnt)) as IO_Ratio,\n",
    "\t\t\t\t\tSUM(normalized_tcore_consumed)/cast(6 as  integer)  AS TCore_hrs_day\n",
    "\t\t\t\tFROM\n",
    "\t\t\t\t\t(\n",
    "\t\t\t\t\t\tSELECT\n",
    "\t\t\t\t\t\t\tCAST(core_dt.System_ID AS VARCHAR(100)) (NAMED \"System_ID\")\n",
    "\t\t\t\t\t\t\t,core_dt.NumNodes\n",
    "\t\t\t\t\t\t\t,core_dt.System_Version\n",
    "\t\t\t\t\t\t\t,core_dt.LogDate\n",
    "\t\t\t\t\t\t\t,core_dt.Timestamp_dt\n",
    "\t\t\t\t\t\t\t,core_dt.Hour_dt\n",
    "\t\t\t\t\t\t\t,CAST(core_dt.AvgCPUBusy/100 AS FLOAT) (NAMED \"Percent_Compute_consumed\")\n",
    "\t\t\t\t\t\t\t,CAST(core_dt.AvgMBSecNode/9334 AS FLOAT) (NAMED \"Percent_IO_consumed\")\n",
    "\t\t\t\t\t\t\t,CAST(System_TCore_Capacity AS INT) (NAMED \"System_TCore_Capacity\")\n",
    "\t\t\t\t\t\t\t,CAST(CEILING(System_TCore_Capacity * Percent_Compute_consumed) AS INT) (NAMED \"TCore_CPU_consumed\")\n",
    "\t\t\t\t\t\t\t,CAST(CEILING(System_TCore_Capacity * Percent_IO_consumed) AS INT) (NAMED \"TCore_IO_consumed\")\n",
    "\t\t\t\t\t\t\t,CAST(GREATEST(TCore_CPU_consumed,TCore_IO_consumed) AS INT) (NAMED \"TCore_consumed\")\n",
    "\t\t\t\t\t\t\t,case when ( TCore_CPU_consumed > TCore_IO_consumed ) then 1.00000 else 0.00000 end as TCore_CPU_cnt\n",
    "\t\t\t\t\t\t\t,case when ( TCore_CPU_consumed <= TCore_IO_consumed ) then 1.00000 else 0.00000 end as TCore_IO_cnt\n",
    "\t\t\t\t\t\t\t,CASE\n",
    "\t\t\t\t\t\t\t\tWHEN TCore_consumed >= System_TCore_Capacity THEN System_TCore_Capacity\n",
    "\t\t\t\t\t\t\tELSE TCore_consumed\n",
    "\t\t\t\t\t\t\tEND AS Normalized_TCore_consumed\n",
    "\t\t\t\t\t\tFROM\n",
    "\t\t\t\t\t\t\t(\n",
    "\t\t\t\t\t\t\t\t\tSELECT\n",
    "\t\t\t\t\t\t\t\t\t\t\t/* Time Data */\n",
    "\t\t\t\t\t\t\t\t\t\tspma_dt.LogDate (NAMED \"LogDate\")\n",
    "\t\t\t\t\t\t\t\t\t\t,CAST((spma_dt.LogDate || ' ' || spma_dt.LogTime) AS TIMESTAMP(0)) (NAMED \"Timestamp_dt\")\n",
    "\t\t\t\t\t\t\t\t\t\t,EXTRACT(HOUR FROM \"Timestamp_dt\") (NAMED \"Hour_dt\")\n",
    "\t\t\t\t\t\t\t\t\t\t,SPMAInterval (NAMED \"RSSInterval\")\n",
    "\t\t\t\t\t\t\t\t\t\t\t/* System data */\n",
    "\t\t\t\t\t\t\t\t\t\t,'TRNAWS01' (NAMED \"System_ID\")\n",
    "\t\t\t\t\t\t\t\t\t\t,info.infodata (NAMED \"System_Version\")\n",
    "\t\t\t\t\t\t\t\t\t\t,cast(270  as integer) (NAMED \"System_TCore_Capacity\")\n",
    "\t\t\t\t\t\t\t\t\t\t,spma_dt.NCPUs (NAMED \"CPUs\")\n",
    "\t\t\t\t\t\t\t\t\t\t,COUNT(DISTINCT(spma_dt.NodeID)) (NAMED \"NumNodes\")\n",
    "\t\t\t\t\t\t\t\t\t\t\t/* CPU/IO data */\n",
    "\t\t\t\t\t\t\t\t\t\t,CAST(SUM(CPUUtil) / NumNodes / CPUs / RSSInterval AS FLOAT) (NAMED \"AvgCPUBusy\")\n",
    "\t\t\t\t\t\t\t\t\t\t,CAST(SUM(SPMAPhysReadKB + SPMAPhysPreReadKB + SPMAPhysWriteKB) / 1024.0 / NumNodes / RSSInterval AS FLOAT) (NAMED \"AvgMBSecNode\")\n",
    "\t\t\t\t\t\t\t\t\tFROM dbc.dbcinfo info,\n",
    "\t\t\t\t\t\t\t\t\t\t(\n",
    "\t\t\t\t\t\t\t\t\t\t\tSELECT\n",
    "\t\t\t\t\t\t\t\t\t\t\t\tthedate (FORMAT 'yyyy-mm-dd')(NAMED \"LogDate\")\n",
    "\t\t\t\t\t\t\t\t\t\t\t\t,CAST(thetime AS INT) / 1000 * 1000   (FORMAT '99:99:99') (NAMED \"LogTime\")\n",
    "\t\t\t\t\t\t\t\t\t\t\t\t,600 (NAMED \"SPMAInterval\")\n",
    "\t\t\t\t\t\t\t\t\t\t\t\t,NodeID\n",
    "\t\t\t\t\t\t\t\t\t\t\t\t,NCpus\n",
    "\t\t\t\t\t\t\t\t\t\t\t\t\t/* CPU */\n",
    "\t\t\t\t\t\t\t\t\t\t\t\t,CAST(SUM(CPUUExec+CPUUServ) AS FLOAT) (NAMED \"CPUUtil\")\n",
    "\t\t\t\t\t\t\t\t\t\t\t\t\t/* Physical I/O */\n",
    "\t\t\t\t\t\t\t\t\t\t\t\t,CAST(SUM(FileAcqReadKB) AS FLOAT)  (NAMED \"SPMAPhysReadKB\")\n",
    "\t\t\t\t\t\t\t\t\t\t\t\t,CAST(SUM(FilePreReadKB) AS FLOAT) (NAMED \"SPMAPhysPreReadKB\")\n",
    "\t\t\t\t\t\t\t\t\t\t\t\t,CAST(SUM(FileWriteKB) AS FLOAT) (NAMED \"SPMAPhysWriteKB\")\n",
    "\t\t\t\t\t\t\t\t\t\t\tFROM pdcrinfo.ResUsageSpma\n",
    "\t\t\t\t\t\t\t\t\t\t\t\tWHERE ( ( THEDATE > ('Current_Date - 15' ) AND THETIME >= 0 ) OR\t( THEDATE = ('Current_Date - 15' ) ) )\n",
    "\t\t\t\t\t\t\t\t\t\t\t\tAND   ( ( THEDATE = ('Current_Date - 1') AND THETIME <= 240000 ) OR ( THEDATE < ('Current_Date - 1') ) )\n",
    "\t\t\t\t\t\t\t\t\t\t\t\tGROUP BY 1,2,3,4,5\n",
    "\t\t\t\t\t\t\t\t\t\t) spma_dt\n",
    "\t\t\t\t\t\t\t\t\t\tWHERE  info.infokey (NOT CS) = 'VERSION' (NOT CS)\n",
    "\t\t\t\t\t\t\t\t\t\tGROUP BY 1,2,3,4,5,6,7,8\n",
    "\t\t\t\t\t\t\t) core_dt\n",
    "\t\t\t\t\t) tcore_metrics_eng\n",
    "\t\t\t\t\tGROUP BY 1,2,3,4,5\n",
    "\t\t\t) a\n",
    "\t\t) b\n",
    ";\n"
   ]
  },
  {
   "cell_type": "code",
   "execution_count": 19,
   "metadata": {},
   "outputs": [
    {
     "ename": "ERROR",
     "evalue": "Unable to run SQL: Unable to run SQL query: Database reported error:3535:A character string failed conversion to a numeric value.",
     "output_type": "error",
     "traceback": [
      "Unable to run SQL: Unable to run SQL query: Database reported error:3535:A character string failed conversion to a numeric value."
     ]
    }
   ],
   "source": [
    "\t\t\t\t\t\t\t\t\t\t\tSELECT\n",
    "\t\t\t\t\t\t\t\t\t\t\t\tthedate (FORMAT 'yyyy-mm-dd')(NAMED \"LogDate\")\n",
    "\t\t\t\t\t\t\t\t\t\t\t\t--,CAST(thetime AS INT) / 1000 * 1000   (FORMAT '99:99:99') (NAMED \"LogTime\")\n",
    "\t\t\t\t\t\t\t\t\t\t\t\t--,600 (NAMED \"SPMAInterval\")\n",
    "\t\t\t\t\t\t\t\t\t\t\t\t--,NodeID\n",
    "\t\t\t\t\t\t\t\t\t\t\t\t--,NCpus\n",
    "\t\t\t\t\t\t\t\t\t\t\t\t\t/* CPU */\n",
    "\t\t\t\t\t\t\t\t\t\t\t\t--,CAST(SUM(CPUUExec+CPUUServ) AS FLOAT) (NAMED \"CPUUtil\")\n",
    "\t\t\t\t\t\t\t\t\t\t\t\t\t/* Physical I/O */\n",
    "\t\t\t\t\t\t\t\t\t\t\t\t--,CAST(SUM(FileAcqReadKB) AS FLOAT)  (NAMED \"SPMAPhysReadKB\")\n",
    "\t\t\t\t\t\t\t\t\t\t\t\t--,CAST(SUM(FilePreReadKB) AS FLOAT) (NAMED \"SPMAPhysPreReadKB\")\n",
    "\t\t\t\t\t\t\t\t\t\t\t\t--,CAST(SUM(FileWriteKB) AS FLOAT) (NAMED \"SPMAPhysWriteKB\")\n",
    "\t\t\t\t\t\t\t\t\t\t\tFROM pdcrinfo.ResUsageSpma\n",
    "\t\t\t\t\t\t\t\t\t\t\t\tWHERE THEDATE between 'Current_Date - 15' and 'Current_Date - 1') AND THETIME <= 240000 ) OR ( THEDATE < ('Current_Date - 1') ) )\n",
    "\t\t\t\t\t\t\t\t\t\t\t\tGROUP BY 1"
   ]
  },
  {
   "cell_type": "code",
   "execution_count": 6,
   "metadata": {},
   "outputs": [
    {
     "ename": "ERROR",
     "evalue": "Unable to run SQL: Unable to run SQL query: Database reported error:3807:Object 'CB_DAILY_TCORE_METRICS' does not exist.",
     "output_type": "error",
     "traceback": [
      "Unable to run SQL: Unable to run SQL query: Database reported error:3807:Object 'CB_DAILY_TCORE_METRICS' does not exist."
     ]
    }
   ],
   "source": [
    "\n",
    "\n",
    "INSERT INTO CB_DAILY_TCORE_METRICS\n",
    "SELECT\n",
    "\t\t\tLogdate ,\n",
    "\t\t\tSystem_id,\n",
    "\t\t\tsystem_version,\n",
    "\t\t\tnumnodes as System_Node_Cnt,\n",
    "\t\t\tSystem_TCore_Capacity,\n",
    "\t\t\tCPU_Ratio,\n",
    "\t\t\tIO_Ratio,\n",
    "\t\t\tCAST(ROUND(TCore_hrs_day,0) as INT) (named \"TCore_hrs_day\"),\n",
    "\t\t\tCAST(ROUND(TCore_hrs_MTD,0) as INT) (named \"TCore_hrs_MTD\"),\n",
    "\t\t\tCAST(ROUND(Daily_Avg,0) as INT) (named \"MTD_Avg\"),\n",
    "\t\t\t'CB_DAILY_TCORE_METRICS_Load' as JOB_NM,\n",
    "\t\t\t'CSM_Usr' as USR_NM,\n",
    "\t\t\tcurrent_timestamp(6) as EDW_START_TSP\n",
    "    FROM\n",
    "    (\n",
    "\t\t\tSELECT\n",
    "\t\t\t\tSystem_id,\n",
    "\t\t\t\tsystem_version,\n",
    "\t\t\t\tnumnodes,\n",
    "\t\t\t\tSystem_TCore_Capacity,\n",
    "\t\t\t\tLogdate,\n",
    "\t\t\t\tTCore_hrs_day,\n",
    "\t\t\t\tCPU_Ratio,\n",
    "\t\t\t\tIO_Ratio,\n",
    "\t\t\t\tTCore_hrs_MTD/EXTRACT(DAY\n",
    "\t\t\t\tFROM logdate) AS Daily_Avg,\n",
    "\t\t\t\tSUM(TCore_hrs_day) OVER (ORDER BY logdate ROWS UNBOUNDED PRECEDING) AS TCore_hrs_MTD\n",
    "\t\t\tFROM\n",
    "\t\t\t(\n",
    "\t\t\t\tSELECT\n",
    "\t\t\t\t\tSystem_id,\n",
    "\t\t\t\t\tsystem_version,\n",
    "\t\t\t\t\tSystem_TCore_Capacity,\n",
    "\t\t\t\t\tnumnodes,\n",
    "\t\t\t\t\tLogdate,\n",
    "\t\t\t\t\tsum(TCore_CPU_cnt)/(sum(TCore_CPU_cnt) + sum(TCore_IO_cnt)) as CPU_Ratio,\n",
    "\t\t\t\t\tsum(TCore_IO_cnt)/(sum(TCore_CPU_cnt) + sum(TCore_IO_cnt)) as IO_Ratio,\n",
    "\t\t\t\t\tSUM(normalized_tcore_consumed)/cast(6 as  integer)  AS TCore_hrs_day\n",
    "\t\t\t\tFROM\n",
    "\t\t\t\t\t(\n",
    "\t\t\t\t\t\tSELECT\n",
    "\t\t\t\t\t\t\tCAST(core_dt.System_ID AS VARCHAR(100)) (NAMED \"System_ID\")\n",
    "\t\t\t\t\t\t\t,core_dt.NumNodes\n",
    "\t\t\t\t\t\t\t,core_dt.System_Version\n",
    "\t\t\t\t\t\t\t,core_dt.LogDate\n",
    "\t\t\t\t\t\t\t,core_dt.Timestamp_dt\n",
    "\t\t\t\t\t\t\t,core_dt.Hour_dt\n",
    "\t\t\t\t\t\t\t,CAST(core_dt.AvgCPUBusy/100 AS FLOAT) (NAMED \"Percent_Compute_consumed\")\n",
    "\t\t\t\t\t\t\t,CAST(core_dt.AvgMBSecNode/9334 AS FLOAT) (NAMED \"Percent_IO_consumed\")\n",
    "\t\t\t\t\t\t\t,CAST(System_TCore_Capacity AS INT) (NAMED \"System_TCore_Capacity\")\n",
    "\t\t\t\t\t\t\t,CAST(CEILING(System_TCore_Capacity * Percent_Compute_consumed) AS INT) (NAMED \"TCore_CPU_consumed\")\n",
    "\t\t\t\t\t\t\t,CAST(CEILING(System_TCore_Capacity * Percent_IO_consumed) AS INT) (NAMED \"TCore_IO_consumed\")\n",
    "\t\t\t\t\t\t\t,CAST(GREATEST(TCore_CPU_consumed,TCore_IO_consumed) AS INT) (NAMED \"TCore_consumed\")\n",
    "\t\t\t\t\t\t\t,case when ( TCore_CPU_consumed > TCore_IO_consumed ) then 1.00000 else 0.00000 end as TCore_CPU_cnt\n",
    "\t\t\t\t\t\t\t,case when ( TCore_CPU_consumed <= TCore_IO_consumed ) then 1.00000 else 0.00000 end as TCore_IO_cnt\n",
    "\t\t\t\t\t\t\t,CASE\n",
    "\t\t\t\t\t\t\t\tWHEN TCore_consumed >= System_TCore_Capacity THEN System_TCore_Capacity\n",
    "\t\t\t\t\t\t\tELSE TCore_consumed\n",
    "\t\t\t\t\t\t\tEND AS Normalized_TCore_consumed\n",
    "\t\t\t\t\t\tFROM\n",
    "\t\t\t\t\t\t\t(\n",
    "\t\t\t\t\t\t\t\t\tSELECT\n",
    "\t\t\t\t\t\t\t\t\t\t\t/* Time Data */\n",
    "\t\t\t\t\t\t\t\t\t\tspma_dt.LogDate (NAMED \"LogDate\")\n",
    "\t\t\t\t\t\t\t\t\t\t,CAST((spma_dt.LogDate || ' ' || spma_dt.LogTime) AS TIMESTAMP(0)) (NAMED \"Timestamp_dt\")\n",
    "\t\t\t\t\t\t\t\t\t\t,EXTRACT(HOUR FROM \"Timestamp_dt\") (NAMED \"Hour_dt\")\n",
    "\t\t\t\t\t\t\t\t\t\t,SPMAInterval (NAMED \"RSSInterval\")\n",
    "\t\t\t\t\t\t\t\t\t\t\t/* System data */\n",
    "\t\t\t\t\t\t\t\t\t\t,'TRNAWS01' (NAMED \"System_ID\")\n",
    "\t\t\t\t\t\t\t\t\t\t,info.infodata (NAMED \"System_Version\")\n",
    "\t\t\t\t\t\t\t\t\t\t,cast(270  as integer) (NAMED \"System_TCore_Capacity\")\n",
    "\t\t\t\t\t\t\t\t\t\t,spma_dt.NCPUs (NAMED \"CPUs\")\n",
    "\t\t\t\t\t\t\t\t\t\t,COUNT(DISTINCT(spma_dt.NodeID)) (NAMED \"NumNodes\")\n",
    "\t\t\t\t\t\t\t\t\t\t\t/* CPU/IO data */\n",
    "\t\t\t\t\t\t\t\t\t\t,CAST(SUM(CPUUtil) / NumNodes / CPUs / RSSInterval AS FLOAT) (NAMED \"AvgCPUBusy\")\n",
    "\t\t\t\t\t\t\t\t\t\t,CAST(SUM(SPMAPhysReadKB + SPMAPhysPreReadKB + SPMAPhysWriteKB) / 1024.0 / NumNodes / RSSInterval AS FLOAT) (NAMED \"AvgMBSecNode\")\n",
    "\t\t\t\t\t\t\t\t\tFROM dbc.dbcinfo info,\n",
    "\t\t\t\t\t\t\t\t\t\t(\n",
    "\t\t\t\t\t\t\t\t\t\t\tSELECT\n",
    "\t\t\t\t\t\t\t\t\t\t\t\tthedate (FORMAT 'yyyy-mm-dd')(NAMED \"LogDate\")\n",
    "\t\t\t\t\t\t\t\t\t\t\t\t,CAST(thetime AS INT) / 1000 * 1000   (FORMAT '99:99:99') (NAMED \"LogTime\")\n",
    "\t\t\t\t\t\t\t\t\t\t\t\t,600 (NAMED \"SPMAInterval\")\n",
    "\t\t\t\t\t\t\t\t\t\t\t\t,NodeID\n",
    "\t\t\t\t\t\t\t\t\t\t\t\t,NCpus\n",
    "\t\t\t\t\t\t\t\t\t\t\t\t\t/* CPU */\n",
    "\t\t\t\t\t\t\t\t\t\t\t\t,CAST(SUM(CPUUExec+CPUUServ) AS FLOAT) (NAMED \"CPUUtil\")\n",
    "\t\t\t\t\t\t\t\t\t\t\t\t\t/* Physical I/O */\n",
    "\t\t\t\t\t\t\t\t\t\t\t\t,CAST(SUM(FileAcqReadKB) AS FLOAT)  (NAMED \"SPMAPhysReadKB\")\n",
    "\t\t\t\t\t\t\t\t\t\t\t\t,CAST(SUM(FilePreReadKB) AS FLOAT) (NAMED \"SPMAPhysPreReadKB\")\n",
    "\t\t\t\t\t\t\t\t\t\t\t\t,CAST(SUM(FileWriteKB) AS FLOAT) (NAMED \"SPMAPhysWriteKB\")\n",
    "\t\t\t\t\t\t\t\t\t\t\tFROM pdcrinfo.ResUsageSpma\n",
    "\t\t\t\t\t\t\t\t\t\t\t\tWHERE ( ( THEDATE > ('Current_Date - 15' ) AND THETIME >= 0 ) OR\t( THEDATE = ('Current_Date - 15' ) ) )\n",
    "\t\t\t\t\t\t\t\t\t\t\t\tAND   ( ( THEDATE = ('Current_Date - 1') AND THETIME <= 240000 ) OR ( THEDATE < ('Current_Date - 1') ) )\n",
    "\t\t\t\t\t\t\t\t\t\t\t\tGROUP BY 1,2,3,4,5\n",
    "\t\t\t\t\t\t\t\t\t\t) spma_dt\n",
    "\t\t\t\t\t\t\t\t\t\tWHERE  info.infokey (NOT CS) = 'VERSION' (NOT CS)\n",
    "\t\t\t\t\t\t\t\t\t\tGROUP BY 1,2,3,4,5,6,7,8\n",
    "\t\t\t\t\t\t\t) core_dt\n",
    "\t\t\t\t\t) tcore_metrics_eng\n",
    "\t\t\t\t\tGROUP BY 1,2,3,4,5\n",
    "\t\t\t) a\n",
    "\t\t) b\n",
    ";\n"
   ]
  },
  {
   "cell_type": "code",
   "execution_count": null,
   "metadata": {},
   "outputs": [],
   "source": []
  }
 ],
 "metadata": {
  "kernelspec": {
   "display_name": "Teradata SQL",
   "language": "Teradata SQL",
   "name": "teradatasql"
  },
  "language_info": {
   "codemirror_mode": "Teradata SQL",
   "file_extension": ".tdrs",
   "mimetype": "application/vnd.teradata.resultset",
   "name": "Teradata SQL",
   "nbconvert_exporter": "",
   "pygments_lexer": "",
   "version": "16.20"
  }
 },
 "nbformat": 4,
 "nbformat_minor": 2
}
