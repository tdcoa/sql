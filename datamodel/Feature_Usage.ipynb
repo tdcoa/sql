{
 "cells": [
  {
   "cell_type": "markdown",
   "metadata": {},
   "source": [
    "# Create Feature_Usage Objects in ADLSTE_COA "
   ]
  },
  {
   "cell_type": "code",
   "execution_count": 1,
   "metadata": {},
   "outputs": [
    {
     "name": "stdin",
     "output_type": "stream",
     "text": [
      "Password ············\n"
     ]
    },
    {
     "name": "stdout",
     "output_type": "stream",
     "text": [
      "Success: 'Transcend' connection established\n"
     ]
    }
   ],
   "source": [
    "%connect name=Transcend"
   ]
  },
  {
   "cell_type": "markdown",
   "metadata": {},
   "source": [
    "<br/><br/><br/>\n",
    "## COA Populated Tables - Feature_Usage_Log"
   ]
  },
  {
   "cell_type": "code",
   "execution_count": null,
   "metadata": {},
   "outputs": [],
   "source": [
    "drop table adlste_coa_stg.stg_dat_feature_usage_log"
   ]
  },
  {
   "cell_type": "code",
   "execution_count": null,
   "metadata": {},
   "outputs": [],
   "source": [
    "-- GTT table\n",
    "CREATE MULTISET GLOBAL TEMPORARY TABLE adlste_coa_stg.stg_dat_feature_usage_log \n",
    "(\n",
    "  Site_ID             VARCHAR(128) CHARACTER SET LATIN NOT NULL\n",
    ", LogDate             DATE FORMAT 'yyyy-mm-dd' NOT NULL\n",
    ", BitPOS              INTEGER NOT NULL\n",
    ", Feature_Name        VARCHAR(256) CHARACTER SET LATIN NOT NULL\n",
    ", User_Bucket         VARCHAR(128) CHARACTER SET LATIN \n",
    ", User_Department     VARCHAR(128) CHARACTER SET LATIN\n",
    ", User_Subdepartment  VARCHAR(128) CHARACTER SET LATIN\n",
    ", User_Region         VARCHAR(128) CHARACTER SET LATIN\n",
    ", Feature_Usage_Cnt   INTEGER\n",
    ") NO PRIMARY INDEX \n",
    "ON COMMIT PRESERVE ROWS;"
   ]
  },
  {
   "cell_type": "code",
   "execution_count": 72,
   "metadata": {},
   "outputs": [
    {
     "data": {
      "text/plain": [
       "Success: 2 rows affected"
      ]
     },
     "execution_count": 72,
     "metadata": {
      "application/vnd.teradata.resultset": ""
     },
     "output_type": "execute_result"
    }
   ],
   "source": [
    "rename table adlste_coa.coat_dat_feature_usage_log to adlste_coa.coat_dat_feature_usage_log_tmp"
   ]
  },
  {
   "cell_type": "code",
   "execution_count": 73,
   "metadata": {},
   "outputs": [
    {
     "data": {
      "text/plain": [
       "Success: 0 rows affected"
      ]
     },
     "execution_count": 73,
     "metadata": {
      "application/vnd.teradata.resultset": ""
     },
     "output_type": "execute_result"
    }
   ],
   "source": [
    "-- PERM table\n",
    "CREATE MULTISET TABLE adlste_coa.coat_dat_feature_usage_log \n",
    "(\n",
    "  Site_ID             VARCHAR(128) CHARACTER SET LATIN  NOT NULL\n",
    ", LogDate             DATE FORMAT 'yyyy-mm-dd' NOT NULL\n",
    ", Feature_ID          INTEGER NOT NULL\n",
    ", Feature_Name        VARCHAR(256) CHARACTER SET LATIN NOT NULL\n",
    ", User_Bucket         VARCHAR(128) CHARACTER SET LATIN \n",
    ", User_Department     VARCHAR(128) CHARACTER SET LATIN\n",
    ", User_Subdepartment  VARCHAR(128) CHARACTER SET LATIN\n",
    ", User_Region         VARCHAR(128) CHARACTER SET LATIN\n",
    ", Feature_Usage_Cnt   INTEGER\n",
    ", Run_Id              INTEGER\n",
    ") PRIMARY INDEX ( Site_Id ,LogDate ,Feature_Id ) \n",
    "PARTITION BY RANGE_N(LogDate BETWEEN DATE '2019-01-01' AND DATE '2021-12-31' EACH INTERVAL '1' DAY \n",
    "                     ,NO RANGE OR UNKNOWN);"
   ]
  },
  {
   "cell_type": "code",
   "execution_count": 79,
   "metadata": {},
   "outputs": [
    {
     "data": {
      "text/plain": [
       "Success: 10 rows affected"
      ]
     },
     "execution_count": 79,
     "metadata": {
      "application/vnd.teradata.resultset": ""
     },
     "output_type": "execute_result"
    }
   ],
   "source": [
    "insert into adlste_coa.coat_dat_feature_usage_log\n",
    "select Site_ID, LogDate, f.feature_ID, f.Feature_Name, \n",
    "User_Bucket, User_Department, User_Subdepartment, User_Region, Feature_Usage_Cnt, l.Run_Id\n",
    "from adlste_coa.coat_dat_feature_usage_log_tmp as l\n",
    "join adlste_coa.coat_dim_feature as f\n",
    "  on l.Feature_ID = f.Feature_ID"
   ]
  },
  {
   "cell_type": "code",
   "execution_count": 80,
   "metadata": {},
   "outputs": [
    {
     "data": {
      "text/plain": [
       "Success: 38 rows affected"
      ]
     },
     "execution_count": 80,
     "metadata": {
      "application/vnd.teradata.resultset": ""
     },
     "output_type": "execute_result"
    }
   ],
   "source": [
    "drop table adlste_coa.coat_dat_feature_usage_log_tmp"
   ]
  },
  {
   "cell_type": "code",
   "execution_count": 81,
   "metadata": {},
   "outputs": [
    {
     "data": {
      "text/plain": [
       "Success: 11 rows affected"
      ]
     },
     "execution_count": 81,
     "metadata": {
      "application/vnd.teradata.resultset": ""
     },
     "output_type": "execute_result"
    }
   ],
   "source": [
    "\n",
    "-- view\n",
    "replace view adlste_coa.coa_dat_feature_usage_log as locking row for access\n",
    "select * from adlste_coa.coat_dat_feature_usage_log"
   ]
  },
  {
   "cell_type": "code",
   "execution_count": 112,
   "metadata": {},
   "outputs": [
    {
     "data": {
      "text/plain": [
       "Success: 0 rows affected"
      ]
     },
     "execution_count": 112,
     "metadata": {
      "application/vnd.teradata.resultset": ""
     },
     "output_type": "execute_result"
    }
   ],
   "source": [
    "REPLACE PROCEDURE adlste_coa.SP_dat_feature_usage_log ( spversion VARCHAR(128) ) \n",
    "SQL SECURITY CREATOR\n",
    "BEGIN \n",
    "\n",
    "    /* start setup audit process */\n",
    "    \n",
    "    DECLARE runid  INTEGER;\n",
    "    DECLARE siteid VARCHAR(128);\n",
    "    DECLARE tablename VARCHAR(128);\n",
    "    DECLARE callingsp VARCHAR(128); \n",
    "    DECLARE startdate DATE;\n",
    "    DECLARE enddate DATE;\n",
    "    \n",
    "    SET runid = 0;\n",
    "    SET tablename = 'adlste_coa.coat_dat_feature_usage_log';\n",
    "    SET callingsp = 'adlste_coa.sp_dat_feature_usage_log';\n",
    "    SET siteid = 'Empty Table';\n",
    "    SET startdate = DATE;\n",
    "    SET enddate = DATE;\n",
    "\n",
    "    SELECT \n",
    "     coalesce(Site_ID,'empty table')       \n",
    "    ,min(LogDate) as StartDate\n",
    "    ,max(LogDate) as EndDate\n",
    "    INTO siteid, startdate, enddate\n",
    "    FROM adlste_coa_stg.stg_dat_feature_usage_log\n",
    "    Group by 1\n",
    "    ;\n",
    "    \n",
    "    /* end setup audit process */\n",
    "    \n",
    "    \n",
    "    \n",
    "    CALL adlste_coa.sp_audit_log(runid, :siteid, :tablename, :callingsp, :spversion, :startdate, :enddate,\n",
    "                              'normal run', 'START',  '') ;\n",
    "\n",
    "    DELETE FROM adlste_coa.coat_dat_feature_usage_log WHERE (Site_ID, LogDate ) IN\n",
    "    (Select Site_ID, LogDate From adlste_coa_stg.stg_dat_feature_usage_log );\n",
    "    \n",
    "    Insert into adlste_coa.coat_dat_feature_usage_log \n",
    "    SELECT\n",
    "      l.Site_ID\n",
    "    , l.LogDate\n",
    "    , coalesce(f.Feature_ID, -1) as Feature_ID\n",
    "    , coalesce(f.Feature_Name, trim(l.Feature_Name)||' ('|| trim(l.BitPos)||')') as Feature_Name\n",
    "    , l.User_Bucket\n",
    "    , l.User_Department\n",
    "    , l.User_Subdepartment\n",
    "    , l.User_Region\n",
    "    , l.Feature_Usage_Cnt  \n",
    "    , :runid\n",
    "    FROM adlste_coa_stg.stg_dat_feature_usage_log as l\n",
    "    LEFT OUTER JOIN adlste_coa.coat_dim_feature as f\n",
    "      on (f.Feature_Name) = (l.Feature_Name);\n",
    "\n",
    "    delete from adlste_coa_stg.stg_dat_feature_usage_log;\n",
    "        \n",
    "    CALL adlste_coa.sp_audit_log(runid, :siteid, :tablename, :callingsp, :spversion, :startdate, :enddate,\n",
    "                              'normal run', 'END', '') ;\n",
    "\n",
    "END;"
   ]
  },
  {
   "cell_type": "markdown",
   "metadata": {},
   "source": [
    "### Test:"
   ]
  },
  {
   "cell_type": "code",
   "execution_count": 118,
   "metadata": {},
   "outputs": [
    {
     "data": {
      "text/plain": [
       "Success: 2 rows affected"
      ]
     },
     "execution_count": 118,
     "metadata": {
      "application/vnd.teradata.resultset": ""
     },
     "output_type": "execute_result"
    }
   ],
   "source": [
    "-- put records into STG\n",
    "insert into adlste_coa_stg.stg_dat_feature_usage_log\n",
    "SELECT l.Site_ID, l.LogDate, l.Feature_ID, f.Feature_Name, \n",
    " l.User_Bucket, l.User_Department, l.User_Subdepartment, l.User_Region, \n",
    " l.Feature_Usage_Cnt   \n",
    "FROM adlste_coa.coa_dat_feature_usage_log as l\n",
    "JOIN adlste_coa.coa_dim_feature as f\n",
    "  on l.Feature_ID = f.Feature_ID\n",
    "Qualify l.LogDate = min(LogDate) over()\n",
    "and Site_ID = max(Site_ID)over()"
   ]
  },
  {
   "cell_type": "code",
   "execution_count": 119,
   "metadata": {},
   "outputs": [
    {
     "data": {
      "text/plain": [
       "Success: 0 rows affected"
      ]
     },
     "execution_count": 119,
     "metadata": {
      "application/vnd.teradata.resultset": ""
     },
     "output_type": "execute_result"
    }
   ],
   "source": [
    "call adlste_coa.SP_dat_feature_usage_log('test')"
   ]
  },
  {
   "cell_type": "code",
   "execution_count": 120,
   "metadata": {},
   "outputs": [
    {
     "data": {
      "application/vnd.teradata.resultset": "[{\"Feature_ID\":\"18300\",\"Feature_Name\":\"Partition Level Locking\",\"Feature_Usage_Cnt\":\"0\",\"LogDate\":\"2020-05-08\",\"Run_Id\":\"178\",\"Site_ID\":\"APPLE57CRESCENT\",\"User_Bucket\":\"OUTBOUND\",\"User_Department\":\"SALESOPS\",\"User_Region\":\"na\",\"User_Subdepartment\":\"na\"},{\"Feature_ID\":\"19500\",\"Feature_Name\":\"SET TRANSFORM\",\"Feature_Usage_Cnt\":\"0\",\"LogDate\":\"2020-05-08\",\"Run_Id\":\"178\",\"Site_ID\":\"APPLE57CRESCENT\",\"User_Bucket\":\"SYSTEM\",\"User_Department\":\"OTHERS\",\"User_Region\":\"na\",\"User_Subdepartment\":\"na\"},{\"Feature_ID\":\"22100\",\"Feature_Name\":\"Not System-Default Map\",\"Feature_Usage_Cnt\":\"0\",\"LogDate\":\"2020-05-09\",\"Run_Id\":\"178\",\"Site_ID\":\"APPLE57CRESCENT\",\"User_Bucket\":\"ADHOC\",\"User_Department\":\"APPLECARE\",\"User_Region\":\"na\",\"User_Subdepartment\":\"na\"},{\"Feature_ID\":\"26600\",\"Feature_Name\":\"Partial Redistribution Partial Duplication\",\"Feature_Usage_Cnt\":\"0\",\"LogDate\":\"2020-05-08\",\"Run_Id\":\"178\",\"Site_ID\":\"APPLE57CRESCENT\",\"User_Bucket\":\"SEMANTIC\",\"User_Department\":\"SYSTEM\",\"User_Region\":\"na\",\"User_Subdepartment\":\"na\"},{\"Feature_ID\":\"22600\",\"Feature_Name\":\"SET Table\",\"Feature_Usage_Cnt\":\"0\",\"LogDate\":\"2020-05-08\",\"Run_Id\":\"2089\",\"Site_ID\":\"APPLE62SEDONA\",\"User_Bucket\":\"DASHBOARD\",\"User_Department\":\"SYSTEM\",\"User_Region\":\"na\",\"User_Subdepartment\":\"na\"},{\"Feature_ID\":\"26500\",\"Feature_Name\":\"In-Memory Bulk Qualification Enhancements\",\"Feature_Usage_Cnt\":\"0\",\"LogDate\":\"2020-05-08\",\"Run_Id\":\"190\",\"Site_ID\":\"APPLE46REDWOOD\",\"User_Bucket\":\"DASHBOARD\",\"User_Department\":\"SALESOPS\",\"User_Region\":\"na\",\"User_Subdepartment\":\"na\"},{\"Feature_ID\":\"18600\",\"Feature_Name\":\"Array Data Type\",\"Feature_Usage_Cnt\":\"0\",\"LogDate\":\"2020-05-08\",\"Run_Id\":\"190\",\"Site_ID\":\"APPLE46REDWOOD\",\"User_Bucket\":\"SEMANTIC\",\"User_Department\":\"ITUNES\",\"User_Region\":\"na\",\"User_Subdepartment\":\"na\"},{\"Feature_ID\":\"23500\",\"Feature_Name\":\"Fallback\",\"Feature_Usage_Cnt\":\"0\",\"LogDate\":\"2020-05-08\",\"Run_Id\":\"190\",\"Site_ID\":\"APPLE46REDWOOD\",\"User_Bucket\":\"BOBJ\",\"User_Department\":\"APPLECARE\",\"User_Region\":\"na\",\"User_Subdepartment\":\"na\"},{\"Feature_ID\":\"26000\",\"Feature_Name\":\"Incremental Planning and Execution\",\"Feature_Usage_Cnt\":\"0\",\"LogDate\":\"2020-05-12\",\"Run_Id\":\"178\",\"Site_ID\":\"APPLE57CRESCENT\",\"User_Bucket\":\"ADHOC\",\"User_Department\":\"OTHERS\",\"User_Region\":\"na\",\"User_Subdepartment\":\"na\"},{\"Feature_ID\":\"22200\",\"Feature_Name\":\"Primary Index\",\"Feature_Usage_Cnt\":\"0\",\"LogDate\":\"2020-05-08\",\"Run_Id\":\"2089\",\"Site_ID\":\"APPLE62SEDONA\",\"User_Bucket\":\"BOBJ\",\"User_Department\":\"SALESOPS\",\"User_Region\":\"na\",\"User_Subdepartment\":\"na\"}]\n",
      "text/html": [
       "<div class = \"td-resultset-table-div\" style = \"max-height: 257px; overflow-y: auto\"><style> table {border: 1px solid rgb(207, 207, 207) !important; border-collapse: collapse !important; margin-top: 1px !important;} th {border: 1px solid rgb(198,198,198) !important; border-collapse: collapse !important; padding: 2px 5px !important; font-size: 13px !important; min-width:150px !important; max-width: 150px !important; white-space: nowrap !important; overflow:hidden !important; text-overflow:ellipsis !important;} tr:nth-child(even) {background: rgba(243, 243, 243, 0.75) !important;} td {border: 1px solid rgb(207, 207, 207) !important; border-collapse: collapse !important; padding: 2px 5px !important; font-size: 13px !important; min-width:150px !important; max-width: 150px !important; white-space: nowrap !important; overflow:hidden !important; text-overflow:ellipsis !important;}</style><table><thead><tr style= \"background: #efefef;\"><th>Site_ID</th><th>LogDate</th><th>Feature_ID</th><th>Feature_Name</th><th>User_Bucket</th><th>User_Department</th><th>User_Subdepartment</th><th>User_Region</th><th>Feature_Usage_Cnt</th><th>Run_Id</th></tr></thead><tr><td>APPLE57CRESCENT</td><td>2020-05-08</td><td>18300</td><td>Partition Level Locking</td><td>OUTBOUND</td><td>SALESOPS</td><td>na</td><td>na</td><td>0</td><td>178</td></tr><tr><td>APPLE57CRESCENT</td><td>2020-05-08</td><td>19500</td><td>SET TRANSFORM</td><td>SYSTEM</td><td>OTHERS</td><td>na</td><td>na</td><td>0</td><td>178</td></tr><tr><td>APPLE57CRESCENT</td><td>2020-05-09</td><td>22100</td><td>Not System-Default Map</td><td>ADHOC</td><td>APPLECARE</td><td>na</td><td>na</td><td>0</td><td>178</td></tr><tr><td>APPLE57CRESCENT</td><td>2020-05-08</td><td>26600</td><td>Partial Redistribution Partial Duplication</td><td>SEMANTIC</td><td>SYSTEM</td><td>na</td><td>na</td><td>0</td><td>178</td></tr><tr><td>APPLE62SEDONA</td><td>2020-05-08</td><td>22600</td><td>SET Table</td><td>DASHBOARD</td><td>SYSTEM</td><td>na</td><td>na</td><td>0</td><td>2089</td></tr><tr><td>APPLE46REDWOOD</td><td>2020-05-08</td><td>26500</td><td>In-Memory Bulk Qualification Enhancements</td><td>DASHBOARD</td><td>SALESOPS</td><td>na</td><td>na</td><td>0</td><td>190</td></tr><tr><td>APPLE46REDWOOD</td><td>2020-05-08</td><td>18600</td><td>Array Data Type</td><td>SEMANTIC</td><td>ITUNES</td><td>na</td><td>na</td><td>0</td><td>190</td></tr><tr><td>APPLE46REDWOOD</td><td>2020-05-08</td><td>23500</td><td>Fallback</td><td>BOBJ</td><td>APPLECARE</td><td>na</td><td>na</td><td>0</td><td>190</td></tr><tr><td>APPLE57CRESCENT</td><td>2020-05-12</td><td>26000</td><td>Incremental Planning and Execution</td><td>ADHOC</td><td>OTHERS</td><td>na</td><td>na</td><td>0</td><td>178</td></tr><tr><td>APPLE62SEDONA</td><td>2020-05-08</td><td>22200</td><td>Primary Index</td><td>BOBJ</td><td>SALESOPS</td><td>na</td><td>na</td><td>0</td><td>2089</td></tr></table></div>"
      ]
     },
     "execution_count": 120,
     "metadata": {
      "application/vnd.teradata.resultset": "{\"resultSetID\":\"/home/jovyan/JupyterLabRoot/Teradata/Resultsets/2020.09.23_14.24.43.909_UTC\",\"historyID\":3839,\"chunkID\":\"00001\",\"sessionid\":\"\",\"portnum\":\"\",\"dockermode\":\"docker\",\"totalRowCount\":10,\"rowLimit\":0,\"columnMetadata\":[{\"columnName\":\"Site_ID\",\"columnTypeName\":\"VARCHAR\",\"length\":128,\"scale\":128},{\"columnNumber\":1,\"columnName\":\"LogDate\",\"columnTypeName\":\"DATE\"},{\"columnNumber\":2,\"columnName\":\"Feature_ID\",\"columnTypeName\":\"INTEGER\"},{\"columnNumber\":3,\"columnName\":\"Feature_Name\",\"columnTypeName\":\"VARCHAR\",\"length\":256,\"scale\":256},{\"columnNumber\":4,\"columnName\":\"User_Bucket\",\"columnTypeName\":\"VARCHAR\",\"length\":128,\"scale\":128},{\"columnNumber\":5,\"columnName\":\"User_Department\",\"columnTypeName\":\"VARCHAR\",\"length\":128,\"scale\":128},{\"columnNumber\":6,\"columnName\":\"User_Subdepartment\",\"columnTypeName\":\"VARCHAR\",\"length\":128,\"scale\":128},{\"columnNumber\":7,\"columnName\":\"User_Region\",\"columnTypeName\":\"VARCHAR\",\"length\":128,\"scale\":128},{\"columnNumber\":8,\"columnName\":\"Feature_Usage_Cnt\",\"columnTypeName\":\"INTEGER\"},{\"columnNumber\":9,\"columnName\":\"Run_Id\",\"columnTypeName\":\"INTEGER\"}]}"
     },
     "output_type": "execute_result"
    }
   ],
   "source": [
    "select top 10 * from adlste_coa.coat_dat_feature_usage_log"
   ]
  },
  {
   "cell_type": "code",
   "execution_count": null,
   "metadata": {},
   "outputs": [],
   "source": []
  },
  {
   "cell_type": "code",
   "execution_count": null,
   "metadata": {},
   "outputs": [],
   "source": []
  },
  {
   "cell_type": "markdown",
   "metadata": {},
   "source": [
    "<br/><br/><br/>\n",
    "## View:  adlste_coa.coa_dat_feature"
   ]
  },
  {
   "cell_type": "code",
   "execution_count": null,
   "metadata": {},
   "outputs": [],
   "source": [
    "replace view adlste_coa.coa_dat_feature as locking row for access\n",
    "SELECT \n",
    " coalesce(Site_ID,'') as Site_ID\n",
    ",coalesce(LogDate,cast('9999-12-31' as date)) as LogDate\n",
    ",Product_Category\n",
    ",Feature_Category\n",
    ",Feature_SubCategory\n",
    ",Feature_Name\n",
    ",Feature_Usage_Cnt as Usage_Cnt\n",
    ",DBQL_FeatureInfo_Flag as DBQL_Flg\n",
    ",MBO_Ind\n",
    ",Feature_Weight as MBO_Weight\n",
    ",User_Bucket\n",
    ",User_Department\n",
    ",Objective_Name\n",
    ",Solution_Type\n",
    ",Business_Value_Desc\n",
    ",User_Experience_Level_Name\n",
    ",Initiator_Role_Category\n",
    ",Differentiator_Ind \n",
    ",Enabled_Thru\n",
    ",Feature_SQL_URL\n",
    ",Playbook_URL\n",
    "from adlste_coa.coa_dim_feature f\n",
    "left outer join adlste_coa.coa_dat_feature_usage_log d\n",
    "  on d.Feature_ID = f.Feature_ID "
   ]
  },
  {
   "cell_type": "code",
   "execution_count": null,
   "metadata": {},
   "outputs": [],
   "source": [
    "select * from adlste_coa.coa_dat_feature \n",
    "where Site_ID = 'TDCloud14TD03' and LogDate = '2020-06-10' \n",
    "order by Product_Category, Feature_Category, Feature_SubCategory, Feature_Name"
   ]
  },
  {
   "cell_type": "markdown",
   "metadata": {},
   "source": [
    "<br/><br/><br/>\n",
    "## Feature_Usage_LOG  sql for COA"
   ]
  },
  {
   "cell_type": "code",
   "execution_count": null,
   "metadata": {},
   "outputs": [],
   "source": [
    "select  * from adlste_coa_stg.stg_dat_feature_usage_log"
   ]
  },
  {
   "cell_type": "code",
   "execution_count": null,
   "metadata": {},
   "outputs": [],
   "source": []
  }
 ],
 "metadata": {
  "kernelspec": {
   "display_name": "Teradata SQL",
   "language": "Teradata SQL",
   "name": "teradatasql"
  },
  "language_info": {
   "codemirror_mode": "Teradata SQL",
   "file_extension": ".tdrs",
   "mimetype": "application/vnd.teradata.resultset",
   "name": "Teradata SQL",
   "nbconvert_exporter": "",
   "pygments_lexer": "",
   "version": "16.20"
  }
 },
 "nbformat": 4,
 "nbformat_minor": 2
}
