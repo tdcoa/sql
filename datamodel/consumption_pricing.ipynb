{
 "cells": [
  {
   "cell_type": "markdown",
   "metadata": {},
   "source": [
    "# Create Consumption Pricing objects in ADLSTE_COA"
   ]
  },
  {
   "cell_type": "code",
   "execution_count": 1,
   "metadata": {},
   "outputs": [
    {
     "name": "stdin",
     "output_type": "stream",
     "text": [
      "Password: ············\n"
     ]
    },
    {
     "name": "stdout",
     "output_type": "stream",
     "text": [
      "Success: 'Transcend' connection established and activated for user 'sh186014'\n"
     ]
    }
   ],
   "source": [
    "%connect name=Transcend"
   ]
  },
  {
   "cell_type": "markdown",
   "metadata": {},
   "source": [
    "<br/><br/><br/>\n",
    "## COA Populated Tables - Consumption Pricing"
   ]
  },
  {
   "cell_type": "code",
   "execution_count": 8,
   "metadata": {},
   "outputs": [
    {
     "data": {
      "text/plain": [
       "Success: 19 rows affected"
      ]
     },
     "execution_count": 8,
     "metadata": {
      "application/vnd.teradata.resultset": ""
     },
     "output_type": "execute_result"
    }
   ],
   "source": [
    "drop table adlste_coa_stg.stg_dat_consumption_vantage_units"
   ]
  },
  {
   "cell_type": "code",
   "execution_count": 10,
   "metadata": {},
   "outputs": [
    {
     "data": {
      "text/plain": [
       "Success: 0 rows affected"
      ]
     },
     "execution_count": 10,
     "metadata": {
      "application/vnd.teradata.resultset": ""
     },
     "output_type": "execute_result"
    }
   ],
   "source": [
    "-- GTT Table\n",
    "CREATE GLOBAL TEMPORARY TABLE adlste_coa_stg.stg_dat_consumption_vantage_units \n",
    "( Site_ID  VARCHAR(8) CHARACTER SET UNICODE \n",
    ", LogDate  DATE       FORMAT 'YYYY-MM-DD'\n",
    ", LogHour  INTEGER\n",
    ", CPU_VU   FLOAT\n",
    ", IO_VU    FLOAT\n",
    ") Primary Index (Site_ID, LogDate)\n",
    "ON COMMIT PRESERVE ROWS;"
   ]
  },
  {
   "cell_type": "code",
   "execution_count": 13,
   "metadata": {},
   "outputs": [
    {
     "data": {
      "text/plain": [
       "Success: 0 rows affected"
      ]
     },
     "execution_count": 13,
     "metadata": {
      "application/vnd.teradata.resultset": ""
     },
     "output_type": "execute_result"
    }
   ],
   "source": [
    "-- GTT Table\n",
    "CREATE TABLE adlste_coa.coat_dat_consumption_vantage_units \n",
    "( Site_ID  VARCHAR(8) CHARACTER SET UNICODE \n",
    ", LogDate  DATE       FORMAT 'YYYY-MM-DD'\n",
    ", LogHour  INTEGER\n",
    ", CPU_VU   FLOAT\n",
    ", IO_VU    FLOAT\n",
    ", Run_Id   INTEGER\n",
    ") Primary Index (Site_ID, LogDate);"
   ]
  },
  {
   "cell_type": "code",
   "execution_count": 16,
   "metadata": {},
   "outputs": [
    {
     "data": {
      "text/plain": [
       "Success: 0 rows affected"
      ]
     },
     "execution_count": 16,
     "metadata": {
      "application/vnd.teradata.resultset": ""
     },
     "output_type": "execute_result"
    }
   ],
   "source": [
    "replace view adlste_coa.coa_dat_consumption_vantage_units\n",
    "as locking row for access\n",
    "select * from adlste_coa.coat_dat_consumption_vantage_units;"
   ]
  },
  {
   "cell_type": "code",
   "execution_count": 17,
   "metadata": {},
   "outputs": [
    {
     "data": {
      "text/plain": [
       "Success: 0 rows affected"
      ]
     },
     "execution_count": 17,
     "metadata": {
      "application/vnd.teradata.resultset": ""
     },
     "output_type": "execute_result"
    }
   ],
   "source": [
    "REPLACE PROCEDURE adlste_coa.sp_dat_consumption_vantage_units ( spversion VARCHAR(128) ) \n",
    "SQL SECURITY CREATOR\n",
    "BEGIN \n",
    "\n",
    "    /* start setup audit process */\n",
    "    \n",
    "    DECLARE runid  INTEGER;\n",
    "    DECLARE siteid VARCHAR(128);\n",
    "    DECLARE tablename VARCHAR(128);\n",
    "    DECLARE callingsp VARCHAR(128); \n",
    "    DECLARE startdate DATE;\n",
    "    DECLARE enddate DATE;\n",
    "    \n",
    "    SET runid = 0;\n",
    "    SET tablename = 'adlste_coa.coa_dat_consumption_vantage_units';\n",
    "    SET callingsp = 'adlste_coa.sp_dat_consumption_vantage_units';\n",
    "    SET siteid = 'Empty Table';\n",
    "    SET startdate = DATE;\n",
    "    SET enddate = DATE;\n",
    "\n",
    "    SELECT \n",
    "     coalesce(Site_ID,'empty table')       \n",
    "    ,min(LogDate) as StartDate\n",
    "    ,max(LogDate) as EndDate\n",
    "    INTO siteid, startdate, enddate\n",
    "    FROM adlste_coa_stg.stg_dat_consumption_vantage_units\n",
    "    Group by 1\n",
    "    ;\n",
    "    \n",
    "    /* end setup audit process */\n",
    "    \n",
    "    \n",
    "    \n",
    "    CALL adlste_coa.sp_audit_log(runid, :siteid, :tablename, :callingsp, :spversion, :startdate, :enddate,\n",
    "                              'normal run', 'START',  '') ;\n",
    "\n",
    "    DELETE FROM adlste_coa.coat_dat_consumption_vantage_units WHERE (Site_ID, LogDate ) IN\n",
    "    (Select Site_ID, LogDate From adlste_coa_stg.stg_dat_consumption_vantage_units );\n",
    "\n",
    "    Insert into adlste_coa.coat_dat_consumption_vantage_units \n",
    "    SELECT\n",
    "      Site_ID\n",
    "    , LogDate\n",
    "    , LogHour\n",
    "    , CPU_VU\n",
    "    ,IO_VU\n",
    "    , :runid\n",
    "    FROM adlste_coa_stg.stg_dat_consumption_vantage_units;\n",
    "\n",
    "    delete from adlste_coa_stg.stg_dat_consumption_vantage_units;\n",
    "        \n",
    "    CALL adlste_coa.sp_audit_log(runid, :siteid, :tablename, :callingsp, :spversion, :startdate, :enddate,\n",
    "                              'normal run', 'END', '') ;\n",
    "\n",
    "END;"
   ]
  },
  {
   "cell_type": "markdown",
   "metadata": {},
   "source": [
    "# Test:"
   ]
  },
  {
   "cell_type": "code",
   "execution_count": 20,
   "metadata": {},
   "outputs": [
    {
     "data": {
      "text/plain": [
       "Success: 0 rows affected"
      ]
     },
     "execution_count": 20,
     "metadata": {
      "application/vnd.teradata.resultset": ""
     },
     "output_type": "execute_result"
    }
   ],
   "source": [
    "call adlste_coa.sp_dat_consumption_vantage_units('test')"
   ]
  },
  {
   "cell_type": "code",
   "execution_count": 11,
   "metadata": {},
   "outputs": [
    {
     "data": {
      "text/plain": [
       "Success: 2182 rows affected"
      ]
     },
     "execution_count": 11,
     "metadata": {
      "application/vnd.teradata.resultset": ""
     },
     "output_type": "execute_result"
    }
   ],
   "source": [
    "insert into adlste_coa_stg.stg_dat_consumption_vantage_units \n",
    "select\n",
    " '{siteid}' as Site_ID,\n",
    " cast(coalesce(vu1.logdate, vu4.logdate) as format 'Y4-MM-DD') as LogDate,\n",
    " coalesce(vu1.loghr, vu4.loghr) as LogHour,\n",
    " zeroifnull(vu1.vantageunithrs) + zeroifnull(vu4.vantageunitutilityhrs) (format 'ZZ9.999') as CPU_VU,\n",
    " zeroifnull(vu1.vantageunitTB) + zeroifnull(vu4.vantageunitutilityTB) (format 'ZZ9.999') as IO_VU\n",
    "from\n",
    "    (select logdate,\n",
    "     extract(hour from firstresptime) as LogHr,\n",
    "     zeroifnull(sum(ampcputime + parsercputime + discputime)) / 3600 (format 'ZZ9.999') as VantageUnitHrs,\n",
    "     zeroifnull(sum(reqiokb)) / (1024*1024*1024) (format 'ZZ9.999') as VantageUnitTB\n",
    "    from\n",
    "    pdcrinfo.dbqlogtbl_hst\n",
    "    where logdate between DATE-91 and DATE-1\n",
    "      and errorcode not in (2631, 2646, 3610, 3702, 3710, 3711, 5405, 7453, 7487, 7583, 7596, 9124, 9990)\n",
    "      and username not in ('vcmuser','PDCRAccess','LockLogShredder','PDCRTPCD','console','tdap_admin','TDPUSER','tdwm',\n",
    "                           'PDCRAdmin','SystemFe','PDCRCanary1M','PDCRCanary3M','td_ffe_svc_acct','PDCRCanary4M','PDCRCanary0M',\n",
    "                           'PDCR users','PDCRCanary2M','TDMaps','SysAdmin','Crashdumps','Sys_Calendar')\n",
    "    group by 1, 2) vu1\n",
    "full outer join\n",
    "    (select LogDate, LogHr,\n",
    "     sum(Phase0IO) as TotalIOP0,\n",
    "     sum(Phase1IO) as TotalIOP1,\n",
    "     sum(Phase2IO) as TotalIOP2,\n",
    "     sum(Phase3IO) as TotalIOP3,\n",
    "     sum(Phase4IO) as TotalIOP4,\n",
    "     sum(Phase0CPU) as TotalCPUP0,\n",
    "     sum(Phase1CPU) as TotalCPUP1,\n",
    "     sum(Phase2CPU) as TotalCPUP2,\n",
    "     sum(Phase3CPU) as TotalCPUP3,\n",
    "     sum(Phase4CPU) as TotalCPUP4,\n",
    "     zeroifnull(TotalIOP0 + TotalIOP1  + TotalIOP2 + TotalIOP3 + TotalIOP4) / (1024*1024*1024) (format 'ZZ9.999') as VantageUnitUtilityTB,\n",
    "     zeroifnull(TotalCPUP0 + TotalCPUP1  + TotalCPUP2 + TotalCPUP3 + TotalCPUP4)/3600 (format 'ZZ9.999') as VantageUnitUtilityHrs\n",
    "    from\n",
    "    (select\n",
    "      cast(jobendtime as date) as LogDate,\n",
    "      extract(hour from jobendtime) as LogHr,\n",
    "      0 as Phase0CPU,\n",
    "      0 as Phase0IO,\n",
    "      case when utilityname = 'FASTLOAD' or utilityname = 'TPTLOAD' or (utilityname = 'FASTEXP' and fastexportnospool = 'Y')\n",
    "      then phase1totalcputime\n",
    "      else 0 end as Phase1CPU,\n",
    "      case when utilityname = 'FASTLOAD' or utilityname = 'TPTLOAD' or (utilityname = 'FASTEXP' and fastexportnospool = 'Y')\n",
    "      then phase1iokb\n",
    "      else 0 end as Phase1IO,\n",
    "      case when utilityname = 'FASTEXP' or utilityname = 'BAR'\n",
    "      then phase2totalcputime\n",
    "      else 0 end as Phase2CPU,\n",
    "      case when utilityname = 'FASTEXP' or utilityname = 'BAR'\n",
    "      then phase2iokb\n",
    "      else 0 end as Phase2IO,\n",
    "      case when utilityname = 'BAR'\n",
    "      then phase3totalcputime\n",
    "      else 0 end as Phase3CPU,\n",
    "      case when utilityname = 'BAR'\n",
    "      then phase3iokb\n",
    "      else 0 end as Phase3IO,\n",
    "      0 as Phase4CPU,\n",
    "      0 as Phase4IO\n",
    "    from pdcrinfo.dbqlutilitytbl_hst\n",
    "    where logdate between DATE-91 and DATE-1\n",
    "  ) dbu\n",
    "group by 1, 2) vu4\n",
    "on\n",
    "vu1.logdate = vu4.logdate and\n",
    "vu1.loghr = vu4.loghr\n"
   ]
  },
  {
   "cell_type": "code",
   "execution_count": 22,
   "metadata": {},
   "outputs": [
    {
     "data": {
      "application/vnd.teradata.resultset": "[{\"CPU_VU\":\"285.82198444444504\",\"IO_VU\":\"168.9397226497531\",\"LogDate\":\"2020-09-17\",\"LogHour\":\"11\",\"Run_Id\":\"2534\",\"Site_ID\":\"{siteid}\"},{\"CPU_VU\":\"314.59422888888923\",\"IO_VU\":\"160.91878675296903\",\"LogDate\":\"2020-09-29\",\"LogHour\":\"20\",\"Run_Id\":\"2534\",\"Site_ID\":\"{siteid}\"},{\"CPU_VU\":\"156.209018888889\",\"IO_VU\":\"94.56823365017772\",\"LogDate\":\"2020-08-21\",\"LogHour\":\"23\",\"Run_Id\":\"2534\",\"Site_ID\":\"{siteid}\"},{\"CPU_VU\":\"185.10314888888908\",\"IO_VU\":\"104.85672608017921\",\"LogDate\":\"2020-08-01\",\"LogHour\":\"22\",\"Run_Id\":\"2534\",\"Site_ID\":\"{siteid}\"},{\"CPU_VU\":\"377.68926111111125\",\"IO_VU\":\"212.69554916024208\",\"LogDate\":\"2020-08-20\",\"LogHour\":\"17\",\"Run_Id\":\"2534\",\"Site_ID\":\"{siteid}\"},{\"CPU_VU\":\"294.4965133333336\",\"IO_VU\":\"154.59358675405383\",\"LogDate\":\"2020-09-21\",\"LogHour\":\"14\",\"Run_Id\":\"2534\",\"Site_ID\":\"{siteid}\"},{\"CPU_VU\":\"356.9863433333335\",\"IO_VU\":\"184.39835879579186\",\"LogDate\":\"2020-08-14\",\"LogHour\":\"14\",\"Run_Id\":\"2534\",\"Site_ID\":\"{siteid}\"},{\"CPU_VU\":\"295.17226111111165\",\"IO_VU\":\"140.17980228364468\",\"LogDate\":\"2020-10-05\",\"LogHour\":\"19\",\"Run_Id\":\"2534\",\"Site_ID\":\"{siteid}\"},{\"CPU_VU\":\"547.6712044444448\",\"IO_VU\":\"163.16909041628242\",\"LogDate\":\"2020-10-17\",\"LogHour\":\"18\",\"Run_Id\":\"2534\",\"Site_ID\":\"{siteid}\"},{\"CPU_VU\":\"279.6428177777778\",\"IO_VU\":\"140.65394676849246\",\"LogDate\":\"2020-09-30\",\"LogHour\":\"0\",\"Run_Id\":\"2534\",\"Site_ID\":\"{siteid}\"}]\n",
      "text/html": [
       "<div class = \"td-resultset-table-div\" style = \"max-height: 273px; overflow-y: auto\">\n",
       "  <table class=\"tdhistory407191\"><style>\n",
       "    table.tdhistory407191 { display: block !important; min-height: 273px !important; overflow: auto !important; height: 273px !important; width: 100% !important; border: 1px solid rgb(207, 207, 207) !important; border-collapse: collapse !important; ; color: var(--jp-ui-font-color1) !important; }\n",
       "    th.tdhistory407191 { border: 1px solid rgb(198,198,198) !important; border-collapse: collapse !important; ; padding: 2px 5px !important; ; font-size: 13px !important; ; text-align: center !important; white-space: normal !important; color: var(--jp-ui-font-color1) !important; }\n",
       "    th.tdhistory407191:last-child { text-align: left !important; }\n",
       "    tbody.tdhistory407191 tr:nth-child(even) { background: rgba(243, 243, 243, 0.75) !important; }\n",
       "    tbody.tdhistory407191 tr:nth-child(odd) { background: var(--jp-ui-inverse-font-color1) !important; }\n",
       "  td.tdhistory407191 { border: 1px solid rgb(207, 207, 207) !important; border-collapse: collapse !important; ; padding: 2px 5px !important; ; font-size: 13px !important; ; min-width:150px !important; max-width: 150px !important;text-align: left !important;        white-space: nowrap !important; overflow:hidden !important; text-overflow:ellipsis !important;; }\n",
       "  </style><thead><tr style= \"background: #bababa;\"><th class=\"tdhistory407191\">Site_ID</th><th class=\"tdhistory407191\">LogDate</th><th class=\"tdhistory407191\">LogHour</th><th class=\"tdhistory407191\">CPU_VU</th><th class=\"tdhistory407191\">IO_VU</th><th class=\"tdhistory407191\">Run_Id</th></tr></thead><tbody class=\"tdhistory407191 resultset-body\"><tr><td class=\"tdhistory407191\">{siteid}</td><td class=\"tdhistory407191\">2020-09-17</td><td class=\"tdhistory407191\">11</td><td class=\"tdhistory407191\">285.82198444444504</td><td class=\"tdhistory407191\">168.9397226497531</td><td class=\"tdhistory407191\">2534</td></tr><tr><td class=\"tdhistory407191\">{siteid}</td><td class=\"tdhistory407191\">2020-09-29</td><td class=\"tdhistory407191\">20</td><td class=\"tdhistory407191\">314.59422888888923</td><td class=\"tdhistory407191\">160.91878675296903</td><td class=\"tdhistory407191\">2534</td></tr><tr><td class=\"tdhistory407191\">{siteid}</td><td class=\"tdhistory407191\">2020-08-21</td><td class=\"tdhistory407191\">23</td><td class=\"tdhistory407191\">156.209018888889</td><td class=\"tdhistory407191\">94.56823365017772</td><td class=\"tdhistory407191\">2534</td></tr><tr><td class=\"tdhistory407191\">{siteid}</td><td class=\"tdhistory407191\">2020-08-01</td><td class=\"tdhistory407191\">22</td><td class=\"tdhistory407191\">185.10314888888908</td><td class=\"tdhistory407191\">104.85672608017921</td><td class=\"tdhistory407191\">2534</td></tr><tr><td class=\"tdhistory407191\">{siteid}</td><td class=\"tdhistory407191\">2020-08-20</td><td class=\"tdhistory407191\">17</td><td class=\"tdhistory407191\">377.68926111111125</td><td class=\"tdhistory407191\">212.69554916024208</td><td class=\"tdhistory407191\">2534</td></tr><tr><td class=\"tdhistory407191\">{siteid}</td><td class=\"tdhistory407191\">2020-09-21</td><td class=\"tdhistory407191\">14</td><td class=\"tdhistory407191\">294.4965133333336</td><td class=\"tdhistory407191\">154.59358675405383</td><td class=\"tdhistory407191\">2534</td></tr><tr><td class=\"tdhistory407191\">{siteid}</td><td class=\"tdhistory407191\">2020-08-14</td><td class=\"tdhistory407191\">14</td><td class=\"tdhistory407191\">356.9863433333335</td><td class=\"tdhistory407191\">184.39835879579186</td><td class=\"tdhistory407191\">2534</td></tr><tr><td class=\"tdhistory407191\">{siteid}</td><td class=\"tdhistory407191\">2020-10-05</td><td class=\"tdhistory407191\">19</td><td class=\"tdhistory407191\">295.17226111111165</td><td class=\"tdhistory407191\">140.17980228364468</td><td class=\"tdhistory407191\">2534</td></tr><tr><td class=\"tdhistory407191\">{siteid}</td><td class=\"tdhistory407191\">2020-10-17</td><td class=\"tdhistory407191\">18</td><td class=\"tdhistory407191\">547.6712044444448</td><td class=\"tdhistory407191\">163.16909041628242</td><td class=\"tdhistory407191\">2534</td></tr><tr><td class=\"tdhistory407191\">{siteid}</td><td class=\"tdhistory407191\">2020-09-30</td><td class=\"tdhistory407191\">0</td><td class=\"tdhistory407191\">279.6428177777778</td><td class=\"tdhistory407191\">140.65394676849246</td><td class=\"tdhistory407191\">2534</td></tr></tbody></table></div>"
      ]
     },
     "execution_count": 22,
     "metadata": {
      "application/vnd.teradata.resultset": "{\"resultSetID\":\"/home/jovyan/JupyterLabRoot/Teradata/Resultsets/2020.10.21_22.00.53.557_UTC\",\"historyID\":46,\"chunkID\":\"00001\",\"sessionid\":\"\",\"portnum\":\"\",\"dockermode\":\"docker\",\"totalRowCount\":10,\"chunkCount\":0,\"rowLimit\":0,\"columnMetadata\":[{\"columnName\":\"Site_ID\",\"columnTypeName\":\"VARCHAR\",\"length\":8,\"scale\":8},{\"columnNumber\":1,\"columnName\":\"LogDate\",\"columnTypeName\":\"DATE\"},{\"columnNumber\":2,\"columnName\":\"LogHour\",\"columnTypeName\":\"INTEGER\"},{\"columnNumber\":3,\"columnName\":\"CPU_VU\",\"columnTypeName\":\"FLOAT\"},{\"columnNumber\":4,\"columnName\":\"IO_VU\",\"columnTypeName\":\"FLOAT\"},{\"columnNumber\":5,\"columnName\":\"Run_Id\",\"columnTypeName\":\"INTEGER\"}]}"
     },
     "output_type": "execute_result"
    }
   ],
   "source": [
    "select top 10 * from adlste_coa.coa_dat_consumption_vantage_units"
   ]
  },
  {
   "cell_type": "code",
   "execution_count": null,
   "metadata": {},
   "outputs": [],
   "source": []
  }
 ],
 "metadata": {
  "kernelspec": {
   "display_name": "Teradata SQL",
   "language": "Teradata SQL",
   "name": "teradatasql"
  },
  "language_info": {
   "codemirror_mode": "Teradata SQL",
   "file_extension": ".tdrs",
   "mimetype": "application/vnd.teradata.resultset",
   "name": "Teradata SQL",
   "nbconvert_exporter": "",
   "pygments_lexer": "",
   "version": "16.20"
  }
 },
 "nbformat": 4,
 "nbformat_minor": 4
}
