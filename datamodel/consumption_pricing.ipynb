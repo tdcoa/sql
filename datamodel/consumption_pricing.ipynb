{
 "cells": [
  {
   "cell_type": "markdown",
   "metadata": {},
   "source": [
    "# Create Consumption Pricing objects in ADLSTE_COA"
   ]
  },
  {
   "cell_type": "code",
   "execution_count": 53,
   "metadata": {},
   "outputs": [
    {
     "name": "stdout",
     "output_type": "stream",
     "text": [
      "Connected: 'Transcend' connection activated for user 'sh186014'\n"
     ]
    }
   ],
   "source": [
    "%connect name=Transcend"
   ]
  },
  {
   "cell_type": "markdown",
   "metadata": {},
   "source": [
    "<br/><br/><br/>\n",
    "## COA Populated Tables - Consumption Pricing"
   ]
  },
  {
   "cell_type": "code",
   "execution_count": 82,
   "metadata": {},
   "outputs": [
    {
     "data": {
      "text/plain": [
       "Success: 26 rows affected"
      ]
     },
     "execution_count": 82,
     "metadata": {
      "application/vnd.teradata.resultset": ""
     },
     "output_type": "execute_result"
    }
   ],
   "source": [
    "drop table adlste_coa_stg.stg_dat_consumption_vantage_units"
   ]
  },
  {
   "cell_type": "code",
   "execution_count": 83,
   "metadata": {},
   "outputs": [
    {
     "data": {
      "text/plain": [
       "Success: 0 rows affected"
      ]
     },
     "execution_count": 83,
     "metadata": {
      "application/vnd.teradata.resultset": ""
     },
     "output_type": "execute_result"
    }
   ],
   "source": [
    "-- GTT Table\n",
    "CREATE GLOBAL TEMPORARY TABLE adlste_coa_stg.stg_dat_consumption_vantage_units \n",
    "( Site_ID  VARCHAR(128) CHARACTER SET UNICODE \n",
    ", LogDate  DATE         FORMAT 'YYYY-MM-DD'\n",
    ", LogHour  INTEGER\n",
    ", CPU_VU   DECIMAL(18,2)\n",
    ", IO_VU    DECIMAL(18,2)\n",
    ") Primary Index (Site_ID, LogDate)\n",
    "ON COMMIT PRESERVE ROWS;"
   ]
  },
  {
   "cell_type": "code",
   "execution_count": 75,
   "metadata": {},
   "outputs": [
    {
     "data": {
      "text/plain": [
       "Success: 2 rows affected"
      ]
     },
     "execution_count": 75,
     "metadata": {
      "application/vnd.teradata.resultset": ""
     },
     "output_type": "execute_result"
    }
   ],
   "source": [
    "rename table adlste_coa.coat_dat_consumption_vantage_units to adlste_coa.coat_dat_consumption_vantage_units_bkup"
   ]
  },
  {
   "cell_type": "code",
   "execution_count": 76,
   "metadata": {},
   "outputs": [
    {
     "data": {
      "text/plain": [
       "Success: 0 rows affected"
      ]
     },
     "execution_count": 76,
     "metadata": {
      "application/vnd.teradata.resultset": ""
     },
     "output_type": "execute_result"
    }
   ],
   "source": [
    "-- TARGET Table\n",
    "CREATE TABLE adlste_coa.coat_dat_consumption_vantage_units \n",
    "( Site_ID  VARCHAR(128) CHARACTER SET UNICODE \n",
    ", LogDate  DATE         FORMAT 'YYYY-MM-DD'\n",
    ", LogHour  INTEGER\n",
    ", CPU_VU   DECIMAL(18,2)\n",
    ", IO_VU    DECIMAL(18,2)\n",
    ", Run_Id   INTEGER\n",
    ") Primary Index (Site_ID, LogDate);"
   ]
  },
  {
   "cell_type": "code",
   "execution_count": 77,
   "metadata": {},
   "outputs": [
    {
     "data": {
      "text/plain": [
       "Success: 28203 rows affected"
      ]
     },
     "execution_count": 77,
     "metadata": {
      "application/vnd.teradata.resultset": ""
     },
     "output_type": "execute_result"
    }
   ],
   "source": [
    "insert into adlste_coa.coat_dat_consumption_vantage_units\n",
    "select * from adlste_coa.coat_dat_consumption_vantage_units_bkup"
   ]
  },
  {
   "cell_type": "code",
   "execution_count": 78,
   "metadata": {},
   "outputs": [
    {
     "data": {
      "text/plain": [
       "Success: 28 rows affected"
      ]
     },
     "execution_count": 78,
     "metadata": {
      "application/vnd.teradata.resultset": ""
     },
     "output_type": "execute_result"
    }
   ],
   "source": [
    "drop table adlste_coa.coat_dat_consumption_vantage_units_bkup"
   ]
  },
  {
   "cell_type": "code",
   "execution_count": 84,
   "metadata": {},
   "outputs": [
    {
     "data": {
      "text/plain": [
       "Success: 7 rows affected"
      ]
     },
     "execution_count": 84,
     "metadata": {
      "application/vnd.teradata.resultset": ""
     },
     "output_type": "execute_result"
    }
   ],
   "source": [
    "replace view adlste_coa.coa_dat_consumption_vantage_units\n",
    "as locking row for access\n",
    "select * from adlste_coa.coat_dat_consumption_vantage_units;"
   ]
  },
  {
   "cell_type": "code",
   "execution_count": 80,
   "metadata": {},
   "outputs": [
    {
     "data": {
      "text/plain": [
       "Success: 0 rows affected"
      ]
     },
     "execution_count": 80,
     "metadata": {
      "application/vnd.teradata.resultset": ""
     },
     "output_type": "execute_result"
    }
   ],
   "source": [
    "REPLACE PROCEDURE adlste_coa.sp_dat_consumption_vantage_units ( spversion VARCHAR(128) ) \n",
    "SQL SECURITY CREATOR\n",
    "BEGIN \n",
    "\n",
    "    /* start setup audit process */\n",
    "    \n",
    "    DECLARE runid  INTEGER;\n",
    "    DECLARE siteid VARCHAR(128);\n",
    "    DECLARE tablename VARCHAR(128);\n",
    "    DECLARE callingsp VARCHAR(128); \n",
    "    DECLARE startdate DATE;\n",
    "    DECLARE enddate DATE;\n",
    "    \n",
    "    SET runid = 0;\n",
    "    SET tablename = 'adlste_coa.coa_dat_consumption_vantage_units';\n",
    "    SET callingsp = 'adlste_coa.sp_dat_consumption_vantage_units';\n",
    "    SET siteid = 'Empty Table';\n",
    "    SET startdate = DATE;\n",
    "    SET enddate = DATE;\n",
    "\n",
    "    SELECT \n",
    "     coalesce(Site_ID,'empty table')       \n",
    "    ,min(LogDate) as StartDate\n",
    "    ,max(LogDate) as EndDate\n",
    "    INTO siteid, startdate, enddate\n",
    "    FROM adlste_coa_stg.stg_dat_consumption_vantage_units\n",
    "    Group by 1\n",
    "    ;\n",
    "    \n",
    "    /* end setup audit process */\n",
    "    \n",
    "    \n",
    "    \n",
    "    CALL adlste_coa.sp_audit_log(runid, :siteid, :tablename, :callingsp, :spversion, :startdate, :enddate,\n",
    "                              'normal run', 'START',  '') ;\n",
    "\n",
    "    DELETE FROM adlste_coa.coat_dat_consumption_vantage_units WHERE (Site_ID, LogDate ) IN\n",
    "    (Select Site_ID, LogDate From adlste_coa_stg.stg_dat_consumption_vantage_units );\n",
    "\n",
    "    Insert into adlste_coa.coat_dat_consumption_vantage_units \n",
    "    SELECT\n",
    "      Site_ID\n",
    "    , LogDate\n",
    "    , LogHour\n",
    "    , CPU_VU\n",
    "    , IO_VU\n",
    "    , :runid\n",
    "    FROM adlste_coa_stg.stg_dat_consumption_vantage_units;\n",
    "\n",
    "    delete from adlste_coa_stg.stg_dat_consumption_vantage_units;\n",
    "        \n",
    "    CALL adlste_coa.sp_audit_log(runid, :siteid, :tablename, :callingsp, :spversion, :startdate, :enddate,\n",
    "                              'normal run', 'END', '') ;\n",
    "\n",
    "END;"
   ]
  },
  {
   "cell_type": "code",
   "execution_count": 85,
   "metadata": {},
   "outputs": [
    {
     "data": {
      "text/plain": [
       "Success: 0 rows affected"
      ]
     },
     "execution_count": 85,
     "metadata": {
      "application/vnd.teradata.resultset": ""
     },
     "output_type": "execute_result"
    }
   ],
   "source": [
    "call adlste_coa.sp_dat_consumption_vantage_units('purge')"
   ]
  },
  {
   "cell_type": "markdown",
   "metadata": {},
   "source": [
    "# Test:"
   ]
  },
  {
   "cell_type": "code",
   "execution_count": 30,
   "metadata": {},
   "outputs": [
    {
     "data": {
      "text/plain": [
       "Success: 2179 rows affected"
      ]
     },
     "execution_count": 30,
     "metadata": {
      "application/vnd.teradata.resultset": ""
     },
     "output_type": "execute_result"
    }
   ],
   "source": [
    "delete from adlste_coa_stg.stg_dat_consumption_vantage_units ;\n",
    "\n",
    "insert into adlste_coa_stg.stg_dat_consumption_vantage_units \n",
    "select\n",
    " '{siteid}' as Site_ID,\n",
    " cast(coalesce(vu1.logdate, vu4.logdate) as format 'Y4-MM-DD') as LogDate,\n",
    " coalesce(vu1.loghr, vu4.loghr) as LogHour,\n",
    " zeroifnull(vu1.vantageunithrs) + zeroifnull(vu4.vantageunitutilityhrs) (format 'ZZ9.999') as CPU_VU,\n",
    " zeroifnull(vu1.vantageunitTB) + zeroifnull(vu4.vantageunitutilityTB) (format 'ZZ9.999') as IO_VU\n",
    "from\n",
    "    (select logdate,\n",
    "     extract(hour from firstresptime) as LogHr,\n",
    "     zeroifnull(sum(ampcputime + parsercputime + discputime)) / 3600 (format 'ZZ9.999') as VantageUnitHrs,\n",
    "     zeroifnull(sum(reqiokb)) / (1024*1024*1024) (format 'ZZ9.999') as VantageUnitTB\n",
    "    from\n",
    "    pdcrinfo.dbqlogtbl_hst\n",
    "    where logdate between DATE-91 and DATE-1\n",
    "      and errorcode not in (2631, 2646, 3610, 3702, 3710, 3711, 5405, 7453, 7487, 7583, 7596, 9124, 9990)\n",
    "      and username not in ('vcmuser','PDCRAccess','LockLogShredder','PDCRTPCD','console','tdap_admin','TDPUSER','tdwm',\n",
    "                           'PDCRAdmin','SystemFe','PDCRCanary1M','PDCRCanary3M','td_ffe_svc_acct','PDCRCanary4M','PDCRCanary0M',\n",
    "                           'PDCR users','PDCRCanary2M','TDMaps','SysAdmin','Crashdumps','Sys_Calendar')\n",
    "    group by 1, 2) vu1\n",
    "full outer join\n",
    "    (select LogDate, LogHr,\n",
    "     sum(Phase0IO) as TotalIOP0,\n",
    "     sum(Phase1IO) as TotalIOP1,\n",
    "     sum(Phase2IO) as TotalIOP2,\n",
    "     sum(Phase3IO) as TotalIOP3,\n",
    "     sum(Phase4IO) as TotalIOP4,\n",
    "     sum(Phase0CPU) as TotalCPUP0,\n",
    "     sum(Phase1CPU) as TotalCPUP1,\n",
    "     sum(Phase2CPU) as TotalCPUP2,\n",
    "     sum(Phase3CPU) as TotalCPUP3,\n",
    "     sum(Phase4CPU) as TotalCPUP4,\n",
    "     zeroifnull(TotalIOP0 + TotalIOP1  + TotalIOP2 + TotalIOP3 + TotalIOP4) / (1024*1024*1024) (format 'ZZ9.999') as VantageUnitUtilityTB,\n",
    "     zeroifnull(TotalCPUP0 + TotalCPUP1  + TotalCPUP2 + TotalCPUP3 + TotalCPUP4)/3600 (format 'ZZ9.999') as VantageUnitUtilityHrs\n",
    "    from\n",
    "    (select\n",
    "      cast(jobendtime as date) as LogDate,\n",
    "      extract(hour from jobendtime) as LogHr,\n",
    "      0 as Phase0CPU,\n",
    "      0 as Phase0IO,\n",
    "      case when utilityname = 'FASTLOAD' or utilityname = 'TPTLOAD' or (utilityname = 'FASTEXP' and fastexportnospool = 'Y')\n",
    "      then phase1totalcputime\n",
    "      else 0 end as Phase1CPU,\n",
    "      case when utilityname = 'FASTLOAD' or utilityname = 'TPTLOAD' or (utilityname = 'FASTEXP' and fastexportnospool = 'Y')\n",
    "      then phase1iokb\n",
    "      else 0 end as Phase1IO,\n",
    "      case when utilityname = 'FASTEXP' or utilityname = 'BAR'\n",
    "      then phase2totalcputime\n",
    "      else 0 end as Phase2CPU,\n",
    "      case when utilityname = 'FASTEXP' or utilityname = 'BAR'\n",
    "      then phase2iokb\n",
    "      else 0 end as Phase2IO,\n",
    "      case when utilityname = 'BAR'\n",
    "      then phase3totalcputime\n",
    "      else 0 end as Phase3CPU,\n",
    "      case when utilityname = 'BAR'\n",
    "      then phase3iokb\n",
    "      else 0 end as Phase3IO,\n",
    "      0 as Phase4CPU,\n",
    "      0 as Phase4IO\n",
    "    from pdcrinfo.dbqlutilitytbl_hst\n",
    "    where logdate between DATE-91 and DATE-1\n",
    "  ) dbu\n",
    "group by 1, 2) vu4\n",
    "on\n",
    "vu1.logdate = vu4.logdate and\n",
    "vu1.loghr = vu4.loghr ;\n",
    "\n",
    "Select Site_ID, Count(*) as SiteCount \n",
    "from adlste_coa_stg.stg_dat_consumption_vantage_units\n",
    "group by 1;"
   ]
  },
  {
   "cell_type": "code",
   "execution_count": 55,
   "metadata": {},
   "outputs": [
    {
     "data": {
      "application/vnd.teradata.resultset": "[{\"SiteCount\":\"2225\",\"tbl\":\"target\"},{\"SiteCount\":\"0\",\"tbl\":\"stage\"}]\n",
      "text/html": [
       "<div class = \"td-resultset-table-div\" style = \"max-height: 105px; overflow-y: auto\">\n",
       "  <table class=\"tdhistory323054\"><style>\n",
       "    table.tdhistory323054 { display: block !important; min-height: 105px !important; overflow: auto !important; height: 105px !important; width: 100% !important; border: 1px solid rgb(207, 207, 207) !important; border-collapse: collapse !important; ; color: var(--jp-ui-font-color1) !important; }\n",
       "    th.tdhistory323054 { border: 1px solid rgb(198,198,198) !important; border-collapse: collapse !important; ; padding: 2px 5px !important; ; font-size: 13px !important; ; text-align: center !important; white-space: normal !important; color: var(--jp-ui-font-color1) !important; }\n",
       "    th.tdhistory323054:last-child { text-align: left !important; }\n",
       "    tbody.tdhistory323054 tr:nth-child(even) { background: rgba(243, 243, 243, 0.75) !important; }\n",
       "    tbody.tdhistory323054 tr:nth-child(odd) { background: var(--jp-ui-inverse-font-color1) !important; }\n",
       "  td.tdhistory323054 { border: 1px solid rgb(207, 207, 207) !important; border-collapse: collapse !important; ; padding: 2px 5px !important; ; font-size: 13px !important; ; min-width:150px !important; max-width: 150px !important;text-align: left !important;        white-space: nowrap !important; overflow:hidden !important; text-overflow:ellipsis !important;; }\n",
       "  </style><thead><tr style= \"background: #bababa;\"><th class=\"tdhistory323054\">tbl</th><th class=\"tdhistory323054\">SiteCount</th></tr></thead><tbody class=\"tdhistory323054 resultset-body\"><tr><td class=\"tdhistory323054\">target</td><td class=\"tdhistory323054\">2225</td></tr><tr><td class=\"tdhistory323054\">stage</td><td class=\"tdhistory323054\">0</td></tr></tbody></table></div>"
      ]
     },
     "execution_count": 55,
     "metadata": {
      "application/vnd.teradata.resultset": "{\"resultSetID\":\"/home/jovyan/JupyterLabRoot/Teradata/Resultsets/2020.10.22_03.01.52.378_UTC\",\"historyID\":78,\"chunkID\":\"00001\",\"sessionid\":\"\",\"portnum\":\"\",\"dockermode\":\"docker\",\"totalRowCount\":2,\"chunkCount\":0,\"rowLimit\":0,\"columnMetadata\":[{\"columnName\":\"tbl\",\"columnTypeName\":\"VARCHAR\",\"length\":6,\"scale\":6},{\"columnNumber\":1,\"columnName\":\"SiteCount\",\"columnTypeName\":\"INTEGER\"}]}"
     },
     "output_type": "execute_result"
    }
   ],
   "source": [
    "Select 'target' as tbl, Count(*) as SiteCount from adlste_coa.coa_dat_consumption_vantage_units    union all \n",
    "Select 'stage'  as tbl, Count(*) as SiteCount from adlste_coa_stg.stg_dat_consumption_vantage_units"
   ]
  },
  {
   "cell_type": "code",
   "execution_count": 50,
   "metadata": {},
   "outputs": [
    {
     "data": {
      "text/plain": [
       "Success: 0 rows affected"
      ]
     },
     "execution_count": 50,
     "metadata": {
      "application/vnd.teradata.resultset": ""
     },
     "output_type": "execute_result"
    }
   ],
   "source": [
    "call adlste_coa.sp_dat_consumption_vantage_units('test') ;"
   ]
  },
  {
   "cell_type": "code",
   "execution_count": 52,
   "metadata": {},
   "outputs": [
    {
     "data": {
      "application/vnd.teradata.resultset": "[{\"SiteCount\":\"2225\"}]\n",
      "text/html": [
       "<div class = \"td-resultset-table-div\" style = \"max-height: 84px; overflow-y: auto\">\n",
       "  <table class=\"tdhistory801066\"><style>\n",
       "    table.tdhistory801066 { display: block !important; min-height: 84px !important; overflow: auto !important; height: 84px !important; width: 100% !important; border: 1px solid rgb(207, 207, 207) !important; border-collapse: collapse !important; ; color: var(--jp-ui-font-color1) !important; }\n",
       "    th.tdhistory801066 { border: 1px solid rgb(198,198,198) !important; border-collapse: collapse !important; ; padding: 2px 5px !important; ; font-size: 13px !important; ; text-align: center !important; white-space: normal !important; color: var(--jp-ui-font-color1) !important; }\n",
       "    th.tdhistory801066:last-child { text-align: left !important; }\n",
       "    tbody.tdhistory801066 tr:nth-child(even) { background: rgba(243, 243, 243, 0.75) !important; }\n",
       "    tbody.tdhistory801066 tr:nth-child(odd) { background: var(--jp-ui-inverse-font-color1) !important; }\n",
       "  td.tdhistory801066 { border: 1px solid rgb(207, 207, 207) !important; border-collapse: collapse !important; ; padding: 2px 5px !important; ; font-size: 13px !important; ; min-width:150px !important; max-width: 150px !important;text-align: left !important;        white-space: nowrap !important; overflow:hidden !important; text-overflow:ellipsis !important;; }\n",
       "  </style><thead><tr style= \"background: #bababa;\"><th class=\"tdhistory801066\">SiteCount</th></tr></thead><tbody class=\"tdhistory801066 resultset-body\"><tr><td class=\"tdhistory801066\">2225</td></tr></tbody></table></div>"
      ]
     },
     "execution_count": 52,
     "metadata": {
      "application/vnd.teradata.resultset": "{\"resultSetID\":\"/home/jovyan/JupyterLabRoot/Teradata/Resultsets/2020.10.21_22.47.19.288_UTC\",\"historyID\":76,\"chunkID\":\"00001\",\"sessionid\":\"\",\"portnum\":\"\",\"dockermode\":\"docker\",\"totalRowCount\":1,\"chunkCount\":0,\"rowLimit\":0,\"columnMetadata\":[{\"columnName\":\"SiteCount\",\"columnTypeName\":\"INTEGER\"}]}"
     },
     "output_type": "execute_result"
    }
   ],
   "source": [
    "Select Count(*) as SiteCount from adlste_coa.coa_dat_consumption_vantage_units"
   ]
  },
  {
   "cell_type": "code",
   "execution_count": 48,
   "metadata": {},
   "outputs": [
    {
     "data": {
      "text/plain": [
       "Success: 24 rows affected"
      ]
     },
     "execution_count": 48,
     "metadata": {
      "application/vnd.teradata.resultset": ""
     },
     "output_type": "execute_result"
    }
   ],
   "source": [
    "insert into adlste_coa_stg.stg_dat_consumption_vantage_units\n",
    "select * from adlste_coa_stg.stg_dat_consumption_vantage_units_102120201516"
   ]
  },
  {
   "cell_type": "code",
   "execution_count": null,
   "metadata": {},
   "outputs": [],
   "source": []
  }
 ],
 "metadata": {
  "kernelspec": {
   "display_name": "Teradata SQL",
   "language": "Teradata SQL",
   "name": "teradatasql"
  },
  "language_info": {
   "codemirror_mode": "Teradata SQL",
   "file_extension": ".tdrs",
   "mimetype": "application/vnd.teradata.resultset",
   "name": "Teradata SQL",
   "nbconvert_exporter": "",
   "pygments_lexer": "",
   "version": "16.20"
  }
 },
 "nbformat": 4,
 "nbformat_minor": 4
}
