{
 "cells": [
  {
   "cell_type": "markdown",
   "metadata": {},
   "source": [
    "# Telemetry Collection Agent (TCA) loads via COA\n",
    "# dbc.DBCInfo"
   ]
  },
  {
   "cell_type": "code",
   "execution_count": null,
   "metadata": {},
   "outputs": [],
   "source": [
    "%disconnect Transcend"
   ]
  },
  {
   "cell_type": "code",
   "execution_count": null,
   "metadata": {},
   "outputs": [],
   "source": [
    "%connect TranscendDev"
   ]
  },
  {
   "cell_type": "code",
   "execution_count": null,
   "metadata": {},
   "outputs": [],
   "source": [
    "SET TIME ZONE 'America Pacific';"
   ]
  },
  {
   "cell_type": "code",
   "execution_count": null,
   "metadata": {},
   "outputs": [],
   "source": [
    "-- Time right now:\n",
    "Select Current_Timestamp(0);"
   ]
  },
  {
   "cell_type": "markdown",
   "metadata": {},
   "source": [
    "<br><br><br>\n",
    "# Build objects required to \"catch\" COA data\n",
    "```\n",
    "  LOGICAL STEP       DATABASE       TABLE              DOES WHAT?\n",
    "- GTT Stage table    app_tca_tmp    stg_tca_dbcinfo    Catches raw data from COA application\n",
    "- Target Table       app_tca_tbl    coa_tca_dbcinfo    Long-term storage of data\n",
    "- Stored Proc        app_tca_tbl    coa_tca_dbcinfo    Merges stage into Target\n",
    "- View of Target     app_tca_vw      sp_tca_dbcinfo    Access View on Target\n",
    "```"
   ]
  },
  {
   "cell_type": "markdown",
   "metadata": {},
   "source": [
    "<br><br><br>\n",
    "## SQL for generating upload file"
   ]
  },
  {
   "cell_type": "code",
   "execution_count": null,
   "metadata": {},
   "outputs": [],
   "source": [
    "-- SQL for generating .csv file:\n",
    "select \n",
    "  '{siteid}' as Site_ID\n",
    ", InfoKey\n",
    ", InfoData\n",
    "from dbc.dbcinfo as a"
   ]
  },
  {
   "cell_type": "markdown",
   "metadata": {},
   "source": [
    "<br>\n",
    "\n",
    "## APP_TCA_TMP -- STAGE Table"
   ]
  },
  {
   "cell_type": "code",
   "execution_count": null,
   "metadata": {},
   "outputs": [],
   "source": [
    "drop table APP_TCA_TMP.stg_tca_dbcinfo"
   ]
  },
  {
   "cell_type": "code",
   "execution_count": null,
   "metadata": {},
   "outputs": [],
   "source": [
    "/* GLOBAL TEMP TABLE for stage data coming from COA\n",
    "   note: all users of ADLSTE_COA datalab will need \n",
    "         SELECT, INSERT, DELETE, and UPDATE to this object */\n",
    "CREATE SET GLOBAL TEMPORARY TABLE APP_TCA_TMP.stg_tca_dbcinfo \n",
    "( Site_ID       VARCHAR(128)\n",
    ", InfoKey       VARCHAR(128)\n",
    ", InfoData      VARCHAR(128)\n",
    ") PRIMARY INDEX (Site_ID)\n",
    "on commit preserve rows"
   ]
  },
  {
   "cell_type": "code",
   "execution_count": null,
   "metadata": {},
   "outputs": [],
   "source": [
    "select * from APP_TCA_TMP.stg_tca_dbcinfo"
   ]
  },
  {
   "cell_type": "markdown",
   "metadata": {},
   "source": [
    "<br>\n",
    "\n",
    "## APP_TCA_TBL -- TARGET Table"
   ]
  },
  {
   "cell_type": "code",
   "execution_count": null,
   "metadata": {},
   "outputs": [],
   "source": [
    "drop table APP_TCA_TBL.coa_tca_dbcinfo"
   ]
  },
  {
   "cell_type": "code",
   "execution_count": null,
   "metadata": {},
   "outputs": [],
   "source": [
    "-- TARGET TABLE:\n",
    "CREATE TABLE APP_TCA_TBL.coa_tca_dbcinfo\n",
    "( Site_ID        VARCHAR(128)\n",
    ", InfoKey        VARCHAR(128)\n",
    ", InfoData       VARCHAR(128)\n",
    ", di_created_ts  TIMESTAMP(6)   DEFAULT CURRENT_TIMESTAMP(6)\n",
    ", di_upd_ts      TIMESTAMP(6)   \n",
    ", di_data_src_cd VARCHAR(4)\n",
    ", di_proc_name   CHAR(30)\n",
    ", di_batch_nbr   INTEGER\n",
    ") PRIMARY INDEX(Site_ID);"
   ]
  },
  {
   "cell_type": "markdown",
   "metadata": {},
   "source": [
    "## APP_TCA_VW.coa_tca_dbcinfo"
   ]
  },
  {
   "cell_type": "code",
   "execution_count": null,
   "metadata": {},
   "outputs": [],
   "source": [
    "-- ABSTRACTION LAYER VIEW  (** OPTIONAL **) --\n",
    "replace view APP_TCA_VW.coa_tca_dbcinfo as locking row for access\n",
    "Select * from APP_TCA_TBL.coa_tca_dbcinfo;"
   ]
  },
  {
   "cell_type": "markdown",
   "metadata": {},
   "source": [
    "## APP_TCA_TBL.sp_tca_dbcinfo"
   ]
  },
  {
   "cell_type": "code",
   "execution_count": null,
   "metadata": {},
   "outputs": [],
   "source": [
    "drop procedure APP_TCA_TBL.sp_tca_dbcinfo"
   ]
  },
  {
   "cell_type": "code",
   "execution_count": null,
   "metadata": {},
   "outputs": [],
   "source": [
    "REPLACE PROCEDURE APP_TCA_TBL.sp_tca_dbcinfo () \n",
    "SQL SECURITY CREATOR\n",
    "BEGIN     /* this is a simplified example, excluding any audit logging */ \n",
    "\n",
    "    DECLARE proc_name CHAR(30);  \n",
    "    DECLARE batch_nbr INTEGER ;  \n",
    "    \n",
    "    /* someone will need to fill these values from ETL */\n",
    "    SET proc_name = 'Unknown';\n",
    "    SET batch_nbr = 0        ;   \n",
    "   \n",
    "    \n",
    "    MERGE INTO APP_TCA_TBL.coat_tca_dbcinfo  tgt\n",
    "         USING APP_TCA_TMP.stg_tca_dbcinfo   stg\n",
    "            ON (tgt.Site_ID = stg.Site_ID and\n",
    "                tgt.InfoKey = stg.InfoKey)\n",
    "    WHEN MATCHED THEN \n",
    "        UPDATE SET \n",
    "              InfoKey        = stg.InfoKey\n",
    "            , InfoData       = stg.InfoData\n",
    "            , di_upd_ts      = Current_Timestamp(6)\n",
    "            , di_data_src_cd = 'COA'\n",
    "            , di_proc_name   = :proc_name \n",
    "            , di_batch_nbr   = :batch_nbr\n",
    "    WHEN NOT MATCHED THEN \n",
    "        INSERT VALUES \n",
    "            ( Site_ID        = stg.Site_ID\n",
    "            , InfoKey        = stg.InfoKey\n",
    "            , InfoData       = stg.InfoData\n",
    "            , di_created_ts  = Current_Timestamp(6)\n",
    "            , di_upd_ts      = NULL\n",
    "            , di_data_src_cd = 'COA'\n",
    "            , di_proc_name   = :proc_name \n",
    "            , di_batch_nbr   = :batch_nbr ) \n",
    "    ;\n",
    "\n",
    "    delete from APP_TCA_TMP.stg_tca_dbcinfo ;\n",
    "        \n",
    "END;"
   ]
  },
  {
   "cell_type": "markdown",
   "metadata": {},
   "source": [
    "<br><br>\n",
    "# Unit Test:\n",
    "run this a few times over, to emulate repeat runs"
   ]
  },
  {
   "cell_type": "code",
   "execution_count": null,
   "metadata": {},
   "outputs": [],
   "source": [
    "insert into APP_TCA_TMP.stg_tca_dbcinfo\n",
    "select \n",
    " 'Transcend02' as Site_ID\n",
    ", InfoKey\n",
    ", InfoData\n",
    "from dbc.dbcinfo as a;"
   ]
  },
  {
   "cell_type": "code",
   "execution_count": null,
   "metadata": {},
   "outputs": [],
   "source": [
    "call APP_TCA_TBL.sp_tca_dbcinfo();"
   ]
  },
  {
   "cell_type": "code",
   "execution_count": null,
   "metadata": {},
   "outputs": [],
   "source": [
    "-- should see upd_ts move, while created_ts remains static\n",
    "Select * from APP_TCA_VW.coa_tca_dbcinfo\n",
    "order by 1,2;"
   ]
  },
  {
   "cell_type": "markdown",
   "metadata": {},
   "source": [
    "<br><br>\n",
    "## Again:"
   ]
  },
  {
   "cell_type": "code",
   "execution_count": null,
   "metadata": {},
   "outputs": [],
   "source": [
    "insert into APP_TCA_TMP.stg_tca_dbcinfo\n",
    "select \n",
    " 'Transcend02' as Site_ID\n",
    ", InfoKey\n",
    ", InfoData\n",
    "from dbc.dbcinfo as a;\n",
    "\n",
    "insert into APP_TCA_TMP.stg_tca_dbcinfo\n",
    "select \n",
    " 'Transcend02' as Site_ID\n",
    ", InfoKey\n",
    ", InfoData\n",
    "from dbc.dbcinfo as a;"
   ]
  },
  {
   "cell_type": "code",
   "execution_count": null,
   "metadata": {},
   "outputs": [],
   "source": [
    "call APP_TCA_TBL.sp_tca_dbcinfo();"
   ]
  },
  {
   "cell_type": "code",
   "execution_count": null,
   "metadata": {},
   "outputs": [],
   "source": [
    "-- should see upd_ts move, while created_ts remains static\n",
    "Select * from APP_TCA_VW.coa_tca_dbcinfo\n",
    "order by 1,2;"
   ]
  },
  {
   "cell_type": "code",
   "execution_count": null,
   "metadata": {},
   "outputs": [],
   "source": []
  }
 ],
 "metadata": {
  "kernelspec": {
   "display_name": "Teradata SQL",
   "language": "Teradata SQL",
   "name": "teradatasql"
  },
  "language_info": {
   "codemirror_mode": "Teradata SQL",
   "file_extension": ".tdrs",
   "mimetype": "application/vnd.teradata.resultset",
   "name": "Teradata SQL",
   "nbconvert_exporter": "",
   "pygments_lexer": "",
   "version": "16.20"
  }
 },
 "nbformat": 4,
 "nbformat_minor": 4
}
