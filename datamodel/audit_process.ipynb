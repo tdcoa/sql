{
 "cells": [
  {
   "cell_type": "markdown",
   "metadata": {},
   "source": [
    "# Define Audit Process"
   ]
  },
  {
   "cell_type": "code",
   "execution_count": null,
   "metadata": {},
   "outputs": [],
   "source": [
    "%addconnect name=Transcend, user=sh186014, host=tdprdcop3.td.teradata.com, props=\"LOGMECH=LDAP\""
   ]
  },
  {
   "cell_type": "code",
   "execution_count": 8,
   "metadata": {},
   "outputs": [
    {
     "name": "stdin",
     "output_type": "stream",
     "text": [
      "Password ············\n"
     ]
    },
    {
     "name": "stdout",
     "output_type": "stream",
     "text": [
      "Success: 'Transcend' connection established\n"
     ]
    }
   ],
   "source": [
    "%connect name=Transcend"
   ]
  },
  {
   "cell_type": "code",
   "execution_count": 11,
   "metadata": {},
   "outputs": [
    {
     "data": {
      "application/vnd.teradata.resultset": "[{\"CallingSP\":\"adlste_coa.sp_dat_top_users\",\"End_TS\":\"2020-09-29 06:39:15\",\"Errors\":\"0\",\"LogDate\":\"2020-09-29\",\"Run_ID\":\"2179\",\"Run_Type\":\"normal run\",\"SQLVersion\":\"v1\",\"Site_ID\":\"TRANSCEND02\",\"Start_TS\":\"2020-09-29 06:39:13\",\"Steps\":\"2\",\"TableName\":\"adlste_coa.coat_dat_top_users\",\"Warnings\":\"0\"},{\"CallingSP\":\"adlste_coa.sp_dat_feature_usage_log\",\"End_TS\":\"2020-09-29 06:38:51\",\"Errors\":\"0\",\"LogDate\":\"2020-09-29\",\"Run_ID\":\"2177\",\"Run_Type\":\"normal run\",\"SQLVersion\":\"v1\",\"Site_ID\":\"TRANSCEND02\",\"Start_TS\":\"2020-09-29 06:38:49\",\"Steps\":\"2\",\"TableName\":\"adlste_coa.coat_dat_feature_usage_log\",\"Warnings\":\"0\"},{\"CallingSP\":\"adlste_coa.sp_dat_permspace_week\",\"End_TS\":\"2020-09-29 06:38:41\",\"Errors\":\"0\",\"LogDate\":\"2020-09-29\",\"Run_ID\":\"2175\",\"Run_Type\":\"normal run\",\"SQLVersion\":\"v1\",\"Site_ID\":\"TRANSCEN\",\"Start_TS\":\"2020-09-29 06:38:40\",\"Steps\":\"2\",\"TableName\":\"adlste_coa.coat_dat_permspace_week\",\"Warnings\":\"0\"},{\"CallingSP\":\"adlste_coa.sp_dat_DBQL_Core_QryCnt_Ranges\",\"End_TS\":\"2020-09-29 06:38:28\",\"Errors\":\"0\",\"LogDate\":\"2020-09-29\",\"Run_ID\":\"2171\",\"Run_Type\":\"normal run\",\"SQLVersion\":\"6.0\",\"Site_ID\":\"TRANSCEND02\",\"Start_TS\":\"2020-09-29 06:38:27\",\"Steps\":\"4\",\"TableName\":\"adlste_coa.coat_dat_DBQL_Core_QryCnt_Ranges\",\"Warnings\":\"0\"},{\"CallingSP\":\"adlste_coa.sp_dat_DBQL_core\",\"End_TS\":\"2020-09-29 06:38:25\",\"Errors\":\"0\",\"LogDate\":\"2020-09-29\",\"Run_ID\":\"2167\",\"Run_Type\":\"normal run\",\"SQLVersion\":\"6.0\",\"Site_ID\":\"TRANSCEND02\",\"Start_TS\":\"2020-09-29 06:38:19\",\"Steps\":\"4\",\"TableName\":\"adlste_coa.coat_dat_DBQL_core\",\"Warnings\":\"0\"},{\"CallingSP\":\"adlste_coa.sp_dat_DBQL_Core_MaxCPU\",\"End_TS\":\"2020-09-29 06:36:15\",\"Errors\":\"0\",\"LogDate\":\"2020-09-29\",\"Run_ID\":\"2165\",\"Run_Type\":\"normal run\",\"SQLVersion\":\"6.0\",\"Site_ID\":\"TRANSCEND02\",\"Start_TS\":\"2020-09-29 06:36:14\",\"Steps\":\"2\",\"TableName\":\"adlste_coa.coat_dat_DBQL_Core_MaxCPU\",\"Warnings\":\"0\"},{\"CallingSP\":\"adlste_coa.sp_dat_permspace_week\",\"End_TS\":\"2020-09-29 06:36:13\",\"Errors\":\"0\",\"LogDate\":\"2020-09-29\",\"Run_ID\":\"2163\",\"Run_Type\":\"normal run\",\"SQLVersion\":\"v1\",\"Site_ID\":\"TRANSCEN\",\"Start_TS\":\"2020-09-29 06:36:12\",\"Steps\":\"2\",\"TableName\":\"adlste_coa.coat_dat_permspace_week\",\"Warnings\":\"0\"},{\"CallingSP\":\"adlste_coa.sp_dat_permspace_week\",\"End_TS\":\"2020-09-29 06:36:03\",\"Errors\":\"0\",\"LogDate\":\"2020-09-29\",\"Run_ID\":\"2161\",\"Run_Type\":\"normal run\",\"SQLVersion\":\"v1\",\"Site_ID\":\"TRANSCEN\",\"Start_TS\":\"2020-09-29 06:36:02\",\"Steps\":\"2\",\"TableName\":\"adlste_coa.coat_dat_permspace_week\",\"Warnings\":\"0\"},{\"CallingSP\":\"adlste_coa.sp_dat_CB_DAILY_SUMMARY_CURR_PREV\",\"End_TS\":\"2020-09-29 01:37:08\",\"Errors\":\"0\",\"LogDate\":\"2020-09-29\",\"Run_ID\":\"2157\",\"Run_Type\":\"normal run\",\"SQLVersion\":\"0.6\",\"Site_ID\":\"AAPROD4\",\"Start_TS\":\"2020-09-29 01:37:07\",\"Steps\":\"4\",\"TableName\":\"adlste_coa.CB_DAILY_SUMMARY_CURR_PREV\",\"Warnings\":\"0\"},{\"CallingSP\":\"adlste_coa.sp_dat_CB_DAILY_SUMMARY_CURR_PREV\",\"End_TS\":\"2020-09-28 22:55:28\",\"Errors\":\"0\",\"LogDate\":\"2020-09-28\",\"Run_ID\":\"2153\",\"Run_Type\":\"normal run\",\"SQLVersion\":\"0.6\",\"Site_ID\":\"AAPROD4\",\"Start_TS\":\"2020-09-28 22:55:28\",\"Steps\":\"4\",\"TableName\":\"adlste_coa.CB_DAILY_SUMMARY_CURR_PREV\",\"Warnings\":\"0\"}]\n",
      "text/html": [
       "<div class = \"td-resultset-table-div\" style = \"max-height: 257px; overflow-y: auto\"><style> table {border: 1px solid rgb(207, 207, 207) !important; border-collapse: collapse !important; margin-top: 1px !important;} th {border: 1px solid rgb(198,198,198) !important; border-collapse: collapse !important; padding: 2px 5px !important; font-size: 13px !important; min-width:150px !important; max-width: 150px !important; white-space: nowrap !important; overflow:hidden !important; text-overflow:ellipsis !important;} tr:nth-child(even) {background: rgba(243, 243, 243, 0.75) !important;} td {border: 1px solid rgb(207, 207, 207) !important; border-collapse: collapse !important; padding: 2px 5px !important; font-size: 13px !important; min-width:150px !important; max-width: 150px !important; white-space: nowrap !important; overflow:hidden !important; text-overflow:ellipsis !important;}</style><table><thead><tr style= \"background: #efefef;\"><th>Run_ID</th><th>Site_ID</th><th>LogDate</th><th>TableName</th><th>CallingSP</th><th>SQLVersion</th><th>Run_Type</th><th>Steps</th><th>Errors</th><th>Warnings</th><th>Start_TS</th><th>End_TS</th></tr></thead><tr><td>2179</td><td>TRANSCEND02</td><td>2020-09-29</td><td>adlste_coa.coat_dat_top_users</td><td>adlste_coa.sp_dat_top_users</td><td>v1</td><td>normal run</td><td>2</td><td>0</td><td>0</td><td>2020-09-29 06:39:13</td><td>2020-09-29 06:39:15</td></tr><tr><td>2177</td><td>TRANSCEND02</td><td>2020-09-29</td><td>adlste_coa.coat_dat_feature_usage_log</td><td>adlste_coa.sp_dat_feature_usage_log</td><td>v1</td><td>normal run</td><td>2</td><td>0</td><td>0</td><td>2020-09-29 06:38:49</td><td>2020-09-29 06:38:51</td></tr><tr><td>2175</td><td>TRANSCEN</td><td>2020-09-29</td><td>adlste_coa.coat_dat_permspace_week</td><td>adlste_coa.sp_dat_permspace_week</td><td>v1</td><td>normal run</td><td>2</td><td>0</td><td>0</td><td>2020-09-29 06:38:40</td><td>2020-09-29 06:38:41</td></tr><tr><td>2171</td><td>TRANSCEND02</td><td>2020-09-29</td><td>adlste_coa.coat_dat_DBQL_Core_QryCnt_Ranges</td><td>adlste_coa.sp_dat_DBQL_Core_QryCnt_Ranges</td><td>6.0</td><td>normal run</td><td>4</td><td>0</td><td>0</td><td>2020-09-29 06:38:27</td><td>2020-09-29 06:38:28</td></tr><tr><td>2167</td><td>TRANSCEND02</td><td>2020-09-29</td><td>adlste_coa.coat_dat_DBQL_core</td><td>adlste_coa.sp_dat_DBQL_core</td><td>6.0</td><td>normal run</td><td>4</td><td>0</td><td>0</td><td>2020-09-29 06:38:19</td><td>2020-09-29 06:38:25</td></tr><tr><td>2165</td><td>TRANSCEND02</td><td>2020-09-29</td><td>adlste_coa.coat_dat_DBQL_Core_MaxCPU</td><td>adlste_coa.sp_dat_DBQL_Core_MaxCPU</td><td>6.0</td><td>normal run</td><td>2</td><td>0</td><td>0</td><td>2020-09-29 06:36:14</td><td>2020-09-29 06:36:15</td></tr><tr><td>2163</td><td>TRANSCEN</td><td>2020-09-29</td><td>adlste_coa.coat_dat_permspace_week</td><td>adlste_coa.sp_dat_permspace_week</td><td>v1</td><td>normal run</td><td>2</td><td>0</td><td>0</td><td>2020-09-29 06:36:12</td><td>2020-09-29 06:36:13</td></tr><tr><td>2161</td><td>TRANSCEN</td><td>2020-09-29</td><td>adlste_coa.coat_dat_permspace_week</td><td>adlste_coa.sp_dat_permspace_week</td><td>v1</td><td>normal run</td><td>2</td><td>0</td><td>0</td><td>2020-09-29 06:36:02</td><td>2020-09-29 06:36:03</td></tr><tr><td>2157</td><td>AAPROD4</td><td>2020-09-29</td><td>adlste_coa.CB_DAILY_SUMMARY_CURR_PREV</td><td>adlste_coa.sp_dat_CB_DAILY_SUMMARY_CURR_PREV</td><td>0.6</td><td>normal run</td><td>4</td><td>0</td><td>0</td><td>2020-09-29 01:37:07</td><td>2020-09-29 01:37:08</td></tr><tr><td>2153</td><td>AAPROD4</td><td>2020-09-28</td><td>adlste_coa.CB_DAILY_SUMMARY_CURR_PREV</td><td>adlste_coa.sp_dat_CB_DAILY_SUMMARY_CURR_PREV</td><td>0.6</td><td>normal run</td><td>4</td><td>0</td><td>0</td><td>2020-09-28 22:55:28</td><td>2020-09-28 22:55:28</td></tr></table></div>"
      ]
     },
     "execution_count": 11,
     "metadata": {
      "application/vnd.teradata.resultset": "{\"resultSetID\":\"/home/jovyan/JupyterLabRoot/Teradata/Resultsets/2020.09.29_21.51.29.812_UTC\",\"historyID\":3898,\"chunkID\":\"00001\",\"sessionid\":\"\",\"portnum\":\"\",\"dockermode\":\"docker\",\"totalRowCount\":10,\"rowLimit\":0,\"columnMetadata\":[{\"columnName\":\"Run_ID\",\"columnTypeName\":\"INTEGER\"},{\"columnNumber\":1,\"columnName\":\"Site_ID\",\"columnTypeName\":\"VARCHAR\",\"length\":128,\"scale\":128},{\"columnNumber\":2,\"columnName\":\"LogDate\",\"columnTypeName\":\"DATE\"},{\"columnNumber\":3,\"columnName\":\"TableName\",\"columnTypeName\":\"VARCHAR\",\"length\":128,\"scale\":128},{\"columnNumber\":4,\"columnName\":\"CallingSP\",\"columnTypeName\":\"VARCHAR\",\"length\":128,\"scale\":128},{\"columnNumber\":5,\"columnName\":\"SQLVersion\",\"columnTypeName\":\"VARCHAR\",\"length\":128,\"scale\":128},{\"columnNumber\":6,\"columnName\":\"Run_Type\",\"columnTypeName\":\"VARCHAR\",\"length\":128,\"scale\":128},{\"columnNumber\":7,\"columnName\":\"Steps\",\"columnTypeName\":\"INTEGER\"},{\"columnNumber\":8,\"columnName\":\"Errors\",\"columnTypeName\":\"INTEGER\"},{\"columnNumber\":9,\"columnName\":\"Warnings\",\"columnTypeName\":\"INTEGER\"},{\"columnNumber\":10,\"columnName\":\"Start_TS\",\"columnTypeName\":\"TIMESTAMP\"},{\"columnNumber\":11,\"columnName\":\"End_TS\",\"columnTypeName\":\"TIMESTAMP\"}]}"
     },
     "output_type": "execute_result"
    }
   ],
   "source": [
    "select top 10 * \n",
    "from adlste_coa.coa_audit_summary \n",
    "order by 1 desc"
   ]
  },
  {
   "cell_type": "code",
   "execution_count": null,
   "metadata": {},
   "outputs": [],
   "source": [
    "select top 10 * from adlste_coa.coa_audit_summary order by 1 desc"
   ]
  },
  {
   "cell_type": "code",
   "execution_count": null,
   "metadata": {},
   "outputs": [],
   "source": [
    "call adlste_coa.sp_meta_objects_refresh('none');"
   ]
  },
  {
   "cell_type": "code",
   "execution_count": null,
   "metadata": {},
   "outputs": [],
   "source": [
    "Select * from adlste_coa.coa_meta_objects\n",
    "where Tablename  like '%mat%'\n",
    "order by ObjType, ProcessName,  ObjType desc;"
   ]
  },
  {
   "cell_type": "markdown",
   "metadata": {},
   "source": [
    "<br/><br/><br/>\n",
    "## Audit_Run (sub-stored_procedure)\n",
    "### for tracking audit columns per row while minimizing storage\n",
    "- database:    adlste_coa\n",
    "- table:       coat_audit_run\n",
    "- view:        coa_audit_run\n",
    "- stored proc: sp_audit_run"
   ]
  },
  {
   "cell_type": "code",
   "execution_count": null,
   "metadata": {},
   "outputs": [],
   "source": [
    "drop table adlste_coa.coat_audit_runlog"
   ]
  },
  {
   "cell_type": "code",
   "execution_count": null,
   "metadata": {},
   "outputs": [],
   "source": [
    "Create multiset table adlste_coa.coat_audit_runlog\n",
    "(\n",
    " Run_ID       INTEGER \n",
    ",ParentRun_ID INTEGER\n",
    ",Site_ID      VARCHAR(128)\n",
    ",TableName    VARCHAR(128)\n",
    ",StartDate    DATE\n",
    ",EndDate      DATE\n",
    ",CallingSP    VARCHAR(128)\n",
    ",SQLVersion   VARCHAR(128)\n",
    ",Run_Type     VARCHAR(128)\n",
    ",Run_Status   VARCHAR(128)\n",
    ",Run_Message  VARCHAR(512)\n",
    ",Run_User     VARCHAR(128) Default USER\n",
    ",Run_TS       Timestamp(0) Default Current_Timestamp(0)\n",
    ") \n",
    "primary index (Site_ID, TableName);"
   ]
  },
  {
   "cell_type": "code",
   "execution_count": null,
   "metadata": {},
   "outputs": [],
   "source": [
    "replace view adlste_coa.coa_audit_runlog \n",
    "as locking row for access\n",
    "Select * from adlste_coa.coat_audit_runlog"
   ]
  },
  {
   "cell_type": "code",
   "execution_count": null,
   "metadata": {},
   "outputs": [],
   "source": [
    "replace PROCEDURE adlste_coa.sp_audit_log (inout runid integer\n",
    "                                              ,in siteid varchar(128)\n",
    "                                              ,in tblname varchar(128)\n",
    "                                              ,in callingsp varchar(128)\n",
    "                                              ,in sqlversion varchar(128)\n",
    "                                              ,in startdate date\n",
    "                                              ,in enddate date\n",
    "                                              ,in runtype varchar(128)\n",
    "                                              ,in runstatus varchar(128)\n",
    "                                              ,in runmessage varchar(512)\n",
    "                                              )\n",
    "SQL SECURITY CREATOR\n",
    "BEGIN\n",
    "DECLARE runidout INTEGER;\n",
    "\n",
    "    SELECT coalesce(Max(Run_ID)+1,1) as Run_ID   INTO runidout \n",
    "    FROM adlste_coa.coat_audit_runlog \n",
    "    ;\n",
    "    \n",
    "    Insert into adlste_coa.coat_audit_runlog \n",
    "    values\n",
    "    ( :runidout\n",
    "     ,:runid --parentrunid\n",
    "     ,:siteid\n",
    "     ,:tblname\n",
    "     ,:startdate\n",
    "     ,:enddate\n",
    "     ,:callingsp\n",
    "     ,:sqlversion\n",
    "     ,:runtype\n",
    "     ,:runstatus\n",
    "     ,:runmessage\n",
    "     ,USER \n",
    "     ,Current_Timestamp(0)\n",
    "    );\n",
    "    \n",
    "    SET runid = runidout ;\n",
    "\n",
    "END;"
   ]
  },
  {
   "cell_type": "code",
   "execution_count": null,
   "metadata": {},
   "outputs": [],
   "source": [
    "-- delete from adlste_coa.coat_audit_runlog -- don't do this"
   ]
  },
  {
   "cell_type": "markdown",
   "metadata": {},
   "source": [
    "### Example of some calls - designed to be embedded in other SPs"
   ]
  },
  {
   "cell_type": "code",
   "execution_count": null,
   "metadata": {},
   "outputs": [],
   "source": [
    "-- start SP()\n",
    "CALL adlste_coa.sp_audit_log(0\n",
    "                            ,'test_SiteID'  -- Site_ID\n",
    "                            ,'adlste_coa.coat_audit_run'  -- Table Name\n",
    "                            ,'adlste_coa.sp_test'  -- Calling SP\n",
    "                            ,'v1.15'  -- StoredProc Version\n",
    "                            ,DATE-7 -- Start Date\n",
    "                            ,DATE-1 -- End Date\n",
    "                            ,'Test Run'  -- Run Type\n",
    "                            ,'START' );  -- Run Status"
   ]
  },
  {
   "cell_type": "code",
   "execution_count": null,
   "metadata": {},
   "outputs": [],
   "source": [
    "-- do stuff, but need a checkpoint \n",
    "-- (number above becomes last parameter below)\n",
    "call adlste_coa.sp_audit_log(4\n",
    "                            ,'test_SiteID'  -- Site_ID\n",
    "                            ,'adlste_coa.coat_audit_run'  -- Table Name\n",
    "                            ,'adlste_coa.sp_test'  -- Calling SP\n",
    "                            ,'v1.15'  -- StoredProc Version\n",
    "                            ,DATE-7 -- Start Date\n",
    "                            ,DATE-1 -- End Date\n",
    "                            ,'Test Run'  -- Run Type\n",
    "                            ,'CHECKPOINT' );  -- Run Status"
   ]
  },
  {
   "cell_type": "code",
   "execution_count": null,
   "metadata": {},
   "outputs": [],
   "source": [
    "-- end of SP()\n",
    "-- (number above becomes last parameter below)\n",
    "call adlste_coa.sp_audit_log(4\n",
    "                            ,'test_SiteID'  -- Site_ID\n",
    "                            ,'adlste_coa.coat_audit_run'  -- Table Name\n",
    "                            ,'adlste_coa.sp_test'  -- Calling SP\n",
    "                            ,'v1.15'  -- StoredProc Version\n",
    "                            ,DATE-7 -- Start Date\n",
    "                            ,DATE-1 -- End Date\n",
    "                            ,'Test Run'  -- Run Type\n",
    "                            ,'END'); -- Run Status"
   ]
  },
  {
   "cell_type": "code",
   "execution_count": null,
   "metadata": {},
   "outputs": [],
   "source": [
    "replace view adlste_coa.coa_audit_log as\n",
    "locking row for access\n",
    "Select * from adlste_coa.coat_audit_runlog"
   ]
  },
  {
   "cell_type": "code",
   "execution_count": null,
   "metadata": {},
   "outputs": [],
   "source": [
    "replace view adlste_coa.coa_audit_summary   as locking row for access\n",
    "Select \n",
    " case when ParentRun_ID=0 then Run_ID else ParentRun_ID end as Run_ID\n",
    ",Site_ID\n",
    ",min(cast(Run_TS as DATE)) as LogDate\n",
    ",TableName\n",
    ",CallingSP\n",
    ",SQLVersion\n",
    ",Run_Type\n",
    ",count(*) as Steps\n",
    ",sum(case when Run_Status='ERROR' then 1 else 0 end) as Errors\n",
    ",sum(case when Run_Status='WARNING' then 1 else 0 end) as Warnings\n",
    ",min(case when Run_Status='START' then Run_TS else NULL end) as Start_TS\n",
    ",max(case when Run_Status='END' then Run_TS else NULL end) as End_TS\n",
    "from adlste_coa.coa_audit_runlog\n",
    "Group by 1,2,4,5,6,7"
   ]
  },
  {
   "cell_type": "code",
   "execution_count": null,
   "metadata": {},
   "outputs": [],
   "source": [
    "replace view adlste_coa.coa_audit_log_summary as\n",
    "select * from adlste_coa.coa_audit_summary "
   ]
  },
  {
   "cell_type": "code",
   "execution_count": null,
   "metadata": {},
   "outputs": [],
   "source": [
    "select * from adlste_coa.coa_audit_log order  by 1 desc"
   ]
  },
  {
   "cell_type": "code",
   "execution_count": null,
   "metadata": {},
   "outputs": [],
   "source": [
    "select * from adlste_coa.coa_audit_summary order  by 1 desc"
   ]
  },
  {
   "cell_type": "code",
   "execution_count": null,
   "metadata": {},
   "outputs": [],
   "source": []
  }
 ],
 "metadata": {
  "kernelspec": {
   "display_name": "Teradata SQL",
   "language": "Teradata SQL",
   "name": "teradatasql"
  },
  "language_info": {
   "codemirror_mode": "Teradata SQL",
   "file_extension": ".tdrs",
   "mimetype": "application/vnd.teradata.resultset",
   "name": "Teradata SQL",
   "nbconvert_exporter": "",
   "pygments_lexer": "",
   "version": "16.20"
  }
 },
 "nbformat": 4,
 "nbformat_minor": 2
}
