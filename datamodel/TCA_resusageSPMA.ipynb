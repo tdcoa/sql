{
 "cells": [
  {
   "cell_type": "markdown",
   "metadata": {},
   "source": [
    "# Telemetry Collection Agent (TCA) loads via COA\n",
    "# ResUsageSPMA"
   ]
  },
  {
   "cell_type": "code",
   "execution_count": 64,
   "metadata": {},
   "outputs": [
    {
     "name": "stdout",
     "output_type": "stream",
     "text": [
      "Success: 'TranscendDev' disconnected"
     ]
    }
   ],
   "source": [
    "%disconnect TranscendDev"
   ]
  },
  {
   "cell_type": "code",
   "execution_count": 65,
   "metadata": {},
   "outputs": [
    {
     "name": "stdin",
     "output_type": "stream",
     "text": [
      "Password: ············\n"
     ]
    },
    {
     "name": "stdout",
     "output_type": "stream",
     "text": [
      "Success: 'Transcend' connection established and activated for user 'sh186014'\n"
     ]
    }
   ],
   "source": [
    "%connect Transcend"
   ]
  },
  {
   "cell_type": "code",
   "execution_count": 66,
   "metadata": {},
   "outputs": [
    {
     "data": {
      "text/plain": [
       "Success: 1 rows affected"
      ]
     },
     "execution_count": 66,
     "metadata": {
      "application/vnd.teradata.resultset": ""
     },
     "output_type": "execute_result"
    }
   ],
   "source": [
    "SET TIME ZONE 'America Pacific';"
   ]
  },
  {
   "cell_type": "code",
   "execution_count": 67,
   "metadata": {},
   "outputs": [
    {
     "data": {
      "application/vnd.teradata.resultset": "[{\"InfoData\":\"2020-11-25 13:45:40-08:00\",\"InfoKey\":\"Current Time\"},{\"InfoData\":\"Standard\",\"InfoKey\":\"LANGUAGE SUPPORT MODE\"},{\"InfoData\":\"16.20.53.06\",\"InfoKey\":\"RELEASE\"},{\"InfoData\":\"TRANSCEND02    \",\"InfoKey\":\"SystemName\"},{\"InfoData\":\"7011   \",\"InfoKey\":\"SystemType\"},{\"InfoData\":\"16.20.53.06\",\"InfoKey\":\"VERSION\"}]\n",
      "text/html": [
       "<div class = \"td-resultset-table-div\" style = \"max-height: 189px; overflow-y: auto\">\n",
       "  <table class=\"tdhistory313402\"><style>\n",
       "    table.tdhistory313402 { display: block !important; min-height: 189px !important; overflow: auto !important; height: 189px !important; width: 100% !important; border: 1px solid rgb(207, 207, 207) !important; border-collapse: collapse !important; ; color: var(--jp-ui-font-color1) !important; }\n",
       "    th.tdhistory313402 { border: 1px solid rgb(198,198,198) !important; border-collapse: collapse !important; ; padding: 2px 5px !important; ; font-size: 13px !important; ; text-align: center !important; white-space: normal !important; color: var(--jp-ui-font-color1) !important; }\n",
       "    th.tdhistory313402:last-child { text-align: left !important; }\n",
       "    tbody.tdhistory313402 tr:nth-child(even) { background: rgba(243, 243, 243, 0.75) !important; }\n",
       "    tbody.tdhistory313402 tr:nth-child(odd) { background: var(--jp-ui-inverse-font-color1) !important; }\n",
       "  td.tdhistory313402 { border: 1px solid rgb(207, 207, 207) !important; border-collapse: collapse !important; ; padding: 2px 5px !important; ; font-size: 13px !important; ; min-width:150px !important; max-width: 150px !important;text-align: left !important;        white-space: nowrap !important; overflow:hidden !important; text-overflow:ellipsis !important;; }\n",
       "  </style><thead><tr style= \"background: #bababa;\"><th class=\"tdhistory313402\">InfoKey</th><th class=\"tdhistory313402\">InfoData</th></tr></thead><tbody class=\"tdhistory313402 resultset-body\"><tr><td class=\"tdhistory313402\">Current Time</td><td class=\"tdhistory313402\">2020-11-25 13:45:40-08:00</td></tr><tr><td class=\"tdhistory313402\">LANGUAGE SUPPORT MODE</td><td class=\"tdhistory313402\">Standard</td></tr><tr><td class=\"tdhistory313402\">RELEASE</td><td class=\"tdhistory313402\">16.20.53.06</td></tr><tr><td class=\"tdhistory313402\">SystemName</td><td class=\"tdhistory313402\">TRANSCEND02    </td></tr><tr><td class=\"tdhistory313402\">SystemType</td><td class=\"tdhistory313402\">7011   </td></tr><tr><td class=\"tdhistory313402\">VERSION</td><td class=\"tdhistory313402\">16.20.53.06</td></tr></tbody></table></div>"
      ]
     },
     "execution_count": 67,
     "metadata": {
      "application/vnd.teradata.resultset": "{\"resultSetID\":\"/home/jovyan/JupyterLabRoot/Teradata/Resultsets/2020.11.25_21.45.40.804_UTC\",\"historyID\":2192,\"chunkID\":\"00001\",\"sessionid\":\"\",\"portnum\":\"\",\"dockermode\":\"docker\",\"totalRowCount\":6,\"chunkCount\":0,\"rowLimit\":0,\"columnMetadata\":[{\"columnName\":\"InfoKey\",\"columnTypeName\":\"VARCHAR\",\"length\":30,\"scale\":30},{\"columnNumber\":1,\"columnName\":\"InfoData\",\"columnTypeName\":\"VARCHAR\",\"length\":16384,\"scale\":16384}]}"
     },
     "output_type": "execute_result"
    }
   ],
   "source": [
    "-- super DBCInfo\n",
    "Select InfoKey, InfoData from dbc.dbcinfo\n",
    "union all \n",
    "Select 'SystemType', SystemType FROM  TABLE (SYSLIB.MonitorSystemPhysicalConfig()) as CFG\n",
    "union all \n",
    "Select 'SystemName', SystemName FROM  TABLE (SYSLIB.MonitorSystemPhysicalConfig()) as CFG\n",
    "union all \n",
    "select 'Current Time', nowish from (select Current_Timestamp(0)(varchar(25)) as nowish) as n \n",
    "order by 1"
   ]
  },
  {
   "cell_type": "markdown",
   "metadata": {},
   "source": [
    "<br><br><br>\n",
    "# Build objects required to \"catch\" COA data\n",
    "```\n",
    "LOGICAL STEP       DATABASE       TABLE (per version)          DOES WHAT?\n",
    "GTT Stage table    app_tca_tmp    stg_tca_resusageSPMA_xxyy    Catches raw data  \n",
    "Target Table       app_tca_tbl    coa_tca_resusageSPMA_xxyy    Long-term storage\n",
    "Stored Proc        app_tca_tbl    coa_tca_resusageSPMA_xxyy    Merges stg to tgt\n",
    "View of Target     app_tca_vw      sp_tca_resusageSPMA_xxyy    Access View on Target\n",
    "```"
   ]
  },
  {
   "cell_type": "markdown",
   "metadata": {},
   "source": [
    "<br><br><br>\n",
    "## SQL for generating upload file"
   ]
  },
  {
   "cell_type": "code",
   "execution_count": null,
   "metadata": {},
   "outputs": [],
   "source": [
    "-- SQL for generating .csv file (PDCR):\n",
    "select '{siteid}' as Site_ID, a.*\n",
    "from pdcrinfo.resusageSPMA as a\n",
    "where TheDate between DATE-1 and DATE"
   ]
  },
  {
   "cell_type": "markdown",
   "metadata": {},
   "source": [
    "<br>\n",
    "\n",
    "## APP_TCA_TMP -- STAGE Table -- _1620"
   ]
  },
  {
   "cell_type": "code",
   "execution_count": 105,
   "metadata": {},
   "outputs": [
    {
     "data": {
      "text/plain": [
       "Success: 1 rows affected"
      ]
     },
     "execution_count": 105,
     "metadata": {
      "application/vnd.teradata.resultset": ""
     },
     "output_type": "execute_result"
    }
   ],
   "source": [
    "database adlste_coa_stg;"
   ]
  },
  {
   "cell_type": "code",
   "execution_count": 106,
   "metadata": {},
   "outputs": [
    {
     "data": {
      "text/plain": [
       "Success: 278 rows affected"
      ]
     },
     "execution_count": 106,
     "metadata": {
      "application/vnd.teradata.resultset": ""
     },
     "output_type": "execute_result"
    }
   ],
   "source": [
    "drop table stg_tca_resusageSPMA_1620"
   ]
  },
  {
   "cell_type": "code",
   "execution_count": 87,
   "metadata": {},
   "outputs": [
    {
     "data": {
      "text/plain": [
       "Success: 0 rows affected"
      ]
     },
     "execution_count": 87,
     "metadata": {
      "application/vnd.teradata.resultset": ""
     },
     "output_type": "execute_result"
    }
   ],
   "source": [
    "/* GLOBAL TEMP TABLE for stage data coming from COA\n",
    "   note: all users of ADLSTE_COA datalab will need \n",
    "         SELECT, INSERT, DELETE, and UPDATE to this object */\n",
    "CREATE SET GLOBAL TEMPORARY TABLE stg_tca_resusageSPMA_1620  as\n",
    "(\n",
    " SELECT ''(varchar(128)) as Site_ID, a.*  \n",
    " FROM raw_wla_vw.resusageSPMA_hst_1620 as a\n",
    ") \n",
    "with no data\n",
    "primary index (Site_ID, TheDate, NodeID)\n",
    "on commit preserve rows;"
   ]
  },
  {
   "cell_type": "markdown",
   "metadata": {},
   "source": [
    "### Drop audit columns to return to inital source table state"
   ]
  },
  {
   "cell_type": "code",
   "execution_count": 88,
   "metadata": {},
   "outputs": [
    {
     "data": {
      "text/plain": [
       "Success: 2 rows affected"
      ]
     },
     "execution_count": 88,
     "metadata": {
      "application/vnd.teradata.resultset": ""
     },
     "output_type": "execute_result"
    }
   ],
   "source": [
    "ALTER TABLE stg_tca_resusageSPMA_1620 DROP tca_system_id;"
   ]
  },
  {
   "cell_type": "code",
   "execution_count": 89,
   "metadata": {},
   "outputs": [
    {
     "data": {
      "text/plain": [
       "Success: 2 rows affected"
      ]
     },
     "execution_count": 89,
     "metadata": {
      "application/vnd.teradata.resultset": ""
     },
     "output_type": "execute_result"
    }
   ],
   "source": [
    "ALTER TABLE stg_tca_resusageSPMA_1620 DROP di_batch_nbr;"
   ]
  },
  {
   "cell_type": "code",
   "execution_count": 90,
   "metadata": {},
   "outputs": [
    {
     "data": {
      "text/plain": [
       "Success: 2 rows affected"
      ]
     },
     "execution_count": 90,
     "metadata": {
      "application/vnd.teradata.resultset": ""
     },
     "output_type": "execute_result"
    }
   ],
   "source": [
    "ALTER TABLE stg_tca_resusageSPMA_1620 DROP di_proc_name;"
   ]
  },
  {
   "cell_type": "code",
   "execution_count": 91,
   "metadata": {},
   "outputs": [
    {
     "data": {
      "text/plain": [
       "Success: 2 rows affected"
      ]
     },
     "execution_count": 91,
     "metadata": {
      "application/vnd.teradata.resultset": ""
     },
     "output_type": "execute_result"
    }
   ],
   "source": [
    "ALTER TABLE stg_tca_resusageSPMA_1620 DROP di_create_ts;"
   ]
  },
  {
   "cell_type": "code",
   "execution_count": 92,
   "metadata": {},
   "outputs": [
    {
     "data": {
      "text/plain": [
       "Success: 2 rows affected"
      ]
     },
     "execution_count": 92,
     "metadata": {
      "application/vnd.teradata.resultset": ""
     },
     "output_type": "execute_result"
    }
   ],
   "source": [
    "ALTER TABLE stg_tca_resusageSPMA_1620 DROP di_update_ts;"
   ]
  },
  {
   "cell_type": "markdown",
   "metadata": {},
   "source": [
    "## Unit test:"
   ]
  },
  {
   "cell_type": "code",
   "execution_count": 93,
   "metadata": {},
   "outputs": [
    {
     "data": {
      "text/plain": [
       "Success: 10 rows affected"
      ]
     },
     "execution_count": 93,
     "metadata": {
      "application/vnd.teradata.resultset": ""
     },
     "output_type": "execute_result"
    }
   ],
   "source": [
    "insert into stg_tca_resusageSPMA_1620\n",
    "SELECT top 10 'SiteID', r.* FROM pdcrinfo.ResusageSPMA_hst as r"
   ]
  },
  {
   "cell_type": "code",
   "execution_count": null,
   "metadata": {},
   "outputs": [],
   "source": [
    "-- remove audit colums from GTT table (should match SEL*)\n",
    "ALTER TABLE APP_TCA_TMP.stg_tca_resusageSPMA_1620 DROP tca_system_id;"
   ]
  },
  {
   "cell_type": "code",
   "execution_count": null,
   "metadata": {},
   "outputs": [],
   "source": [
    "ALTER TABLE APP_TCA_TMP.stg_tca_resusageSPMA_1620 DROP di_batch_nbr;"
   ]
  },
  {
   "cell_type": "code",
   "execution_count": null,
   "metadata": {},
   "outputs": [],
   "source": [
    "ALTER TABLE APP_TCA_TMP.stg_tca_resusageSPMA_1620 DROP di_proc_name;"
   ]
  },
  {
   "cell_type": "code",
   "execution_count": null,
   "metadata": {},
   "outputs": [],
   "source": [
    "ALTER TABLE APP_TCA_TMP.stg_tca_resusageSPMA_1620 DROP di_create_ts;"
   ]
  },
  {
   "cell_type": "code",
   "execution_count": null,
   "metadata": {},
   "outputs": [],
   "source": [
    "ALTER TABLE APP_TCA_TMP.stg_tca_resusageSPMA_1620 DROP di_update_ts;"
   ]
  },
  {
   "cell_type": "code",
   "execution_count": 24,
   "metadata": {},
   "outputs": [
    {
     "ename": "ERROR",
     "evalue": "Unable to run SQL: Unable to run SQL query: Database reported error:3523:The user does not have SELECT access to PDCRINFO.ResUsageSpma.",
     "output_type": "error",
     "traceback": [
      "Unable to run SQL: Unable to run SQL query: Database reported error:3523:The user does not have SELECT access to PDCRINFO.ResUsageSpma."
     ]
    }
   ],
   "source": [
    "-- TEST:\n",
    "INSERT INTO APP_TCA_TMP.stg_tca_resusageSPMA_1620\n",
    "Select 'TestSite', a.* From pdcrinfo.resusageSPMA as a\n",
    "where TheDate = DATE-1"
   ]
  },
  {
   "cell_type": "markdown",
   "metadata": {},
   "source": [
    "<br>\n",
    "\n",
    "## APP_TCA_TBL -- TARGET Table"
   ]
  },
  {
   "cell_type": "code",
   "execution_count": 97,
   "metadata": {},
   "outputs": [
    {
     "data": {
      "text/plain": [
       "Success: 1 rows affected"
      ]
     },
     "execution_count": 97,
     "metadata": {
      "application/vnd.teradata.resultset": ""
     },
     "output_type": "execute_result"
    }
   ],
   "source": [
    "database adlste_coa;"
   ]
  },
  {
   "cell_type": "code",
   "execution_count": 99,
   "metadata": {},
   "outputs": [
    {
     "data": {
      "text/plain": [
       "Success: 282 rows affected"
      ]
     },
     "execution_count": 99,
     "metadata": {
      "application/vnd.teradata.resultset": ""
     },
     "output_type": "execute_result"
    }
   ],
   "source": [
    "drop Table coa_tca_resusageSPMA_1620"
   ]
  },
  {
   "cell_type": "code",
   "execution_count": 100,
   "metadata": {},
   "outputs": [
    {
     "data": {
      "text/plain": [
       "Success: 0 rows affected"
      ]
     },
     "execution_count": 100,
     "metadata": {
      "application/vnd.teradata.resultset": ""
     },
     "output_type": "execute_result"
    }
   ],
   "source": [
    "-- TARGET TABLE:\n",
    "CREATE SET GLOBAL TEMPORARY TABLE coa_tca_resusageSPMA_1620  as\n",
    "(\n",
    " SELECT ''(varchar(128)) as Site_ID, a.*  \n",
    " FROM raw_wla_vw.resusageSPMA_hst_1620 as a\n",
    ") \n",
    "with no data\n",
    "primary index (Site_ID, TheDate, NodeID)\n",
    "on commit preserve rows;"
   ]
  },
  {
   "cell_type": "markdown",
   "metadata": {},
   "source": [
    "## APP_TCA_VW.coa_tca_dbcinfo"
   ]
  },
  {
   "cell_type": "code",
   "execution_count": 101,
   "metadata": {},
   "outputs": [
    {
     "data": {
      "text/plain": [
       "Success: 1 rows affected"
      ]
     },
     "execution_count": 101,
     "metadata": {
      "application/vnd.teradata.resultset": ""
     },
     "output_type": "execute_result"
    }
   ],
   "source": [
    "database adlste_coa;"
   ]
  },
  {
   "cell_type": "code",
   "execution_count": 103,
   "metadata": {},
   "outputs": [
    {
     "data": {
      "text/plain": [
       "Success: 0 rows affected"
      ]
     },
     "execution_count": 103,
     "metadata": {
      "application/vnd.teradata.resultset": ""
     },
     "output_type": "execute_result"
    }
   ],
   "source": [
    "-- ABSTRACTION LAYER VIEW  (** OPTIONAL **) --\n",
    "replace view coav_tca_resusageSPMA_1620 as locking row for access\n",
    "Select * from coa_tca_resusageSPMA_1620;"
   ]
  },
  {
   "cell_type": "markdown",
   "metadata": {},
   "source": [
    "## APP_TCA_TBL.sp_tca_dbcinfo"
   ]
  },
  {
   "cell_type": "code",
   "execution_count": null,
   "metadata": {},
   "outputs": [],
   "source": [
    "drop procedure APP_TCA_TBL.sp_tca_dbcinfo"
   ]
  },
  {
   "cell_type": "code",
   "execution_count": null,
   "metadata": {},
   "outputs": [],
   "source": [
    "REPLACE PROCEDURE APP_TCA_TBL.sp_tca_dbcinfo () \n",
    "SQL SECURITY CREATOR\n",
    "BEGIN     /* this is a simplified example, excluding any audit logging */ \n",
    "\n",
    "    DECLARE proc_name CHAR(30);  \n",
    "    DECLARE batch_nbr INTEGER ;  \n",
    "    \n",
    "    /* someone will need to fill these values from ETL */\n",
    "    SET proc_name = 'Unknown';\n",
    "    SET batch_nbr = 0        ;   \n",
    "   \n",
    "    \n",
    "    MERGE INTO APP_TCA_TBL.coat_tca_dbcinfo  tgt\n",
    "         USING APP_TCA_TMP.stg_tca_dbcinfo   stg\n",
    "            ON (tgt.Site_ID = stg.Site_ID and\n",
    "                tgt.InfoKey = stg.InfoKey)\n",
    "    WHEN MATCHED THEN \n",
    "        UPDATE SET \n",
    "              InfoKey        = stg.InfoKey\n",
    "            , InfoData       = stg.InfoData\n",
    "            , di_upd_ts      = Current_Timestamp(6)\n",
    "            , di_data_src_cd = 'COA'\n",
    "            , di_proc_name   = :proc_name \n",
    "            , di_batch_nbr   = :batch_nbr\n",
    "    WHEN NOT MATCHED THEN \n",
    "        INSERT VALUES \n",
    "            ( Site_ID        = stg.Site_ID\n",
    "            , InfoKey        = stg.InfoKey\n",
    "            , InfoData       = stg.InfoData\n",
    "            , di_created_ts  = Current_Timestamp(6)\n",
    "            , di_upd_ts      = NULL\n",
    "            , di_data_src_cd = 'COA'\n",
    "            , di_proc_name   = :proc_name \n",
    "            , di_batch_nbr   = :batch_nbr ) \n",
    "    ;\n",
    "\n",
    "    delete from APP_TCA_TMP.stg_tca_dbcinfo ;\n",
    "        \n",
    "END;"
   ]
  },
  {
   "cell_type": "markdown",
   "metadata": {},
   "source": [
    "<br><br>\n",
    "# Unit Test:\n",
    "run this a few times over, to emulate repeat runs"
   ]
  },
  {
   "cell_type": "code",
   "execution_count": null,
   "metadata": {},
   "outputs": [],
   "source": [
    "insert into APP_TCA_TMP.stg_tca_dbcinfo\n",
    "select \n",
    " 'Transcend02' as Site_ID\n",
    ", InfoKey\n",
    ", InfoData\n",
    "from dbc.dbcinfo as a;"
   ]
  },
  {
   "cell_type": "code",
   "execution_count": null,
   "metadata": {},
   "outputs": [],
   "source": [
    "call APP_TCA_TBL.sp_tca_dbcinfo();"
   ]
  },
  {
   "cell_type": "code",
   "execution_count": null,
   "metadata": {},
   "outputs": [],
   "source": [
    "-- should see upd_ts move, while created_ts remains static\n",
    "Select * from APP_TCA_VW.coa_tca_dbcinfo\n",
    "order by 1,2;"
   ]
  },
  {
   "cell_type": "markdown",
   "metadata": {},
   "source": [
    "<br><br>\n",
    "## Again:"
   ]
  },
  {
   "cell_type": "code",
   "execution_count": null,
   "metadata": {},
   "outputs": [],
   "source": [
    "insert into APP_TCA_TMP.stg_tca_dbcinfo\n",
    "select \n",
    " 'Transcend02' as Site_ID\n",
    ", InfoKey\n",
    ", InfoData\n",
    "from dbc.dbcinfo as a;\n",
    "\n",
    "insert into APP_TCA_TMP.stg_tca_dbcinfo\n",
    "select \n",
    " 'Transcend02' as Site_ID\n",
    ", InfoKey\n",
    ", InfoData\n",
    "from dbc.dbcinfo as a;"
   ]
  },
  {
   "cell_type": "code",
   "execution_count": null,
   "metadata": {},
   "outputs": [],
   "source": [
    "call APP_TCA_TBL.sp_tca_dbcinfo();"
   ]
  },
  {
   "cell_type": "code",
   "execution_count": null,
   "metadata": {},
   "outputs": [],
   "source": [
    "-- should see upd_ts move, while created_ts remains static\n",
    "Select * from APP_TCA_VW.coa_tca_dbcinfo\n",
    "order by 1,2;"
   ]
  },
  {
   "cell_type": "code",
   "execution_count": null,
   "metadata": {},
   "outputs": [],
   "source": []
  }
 ],
 "metadata": {
  "kernelspec": {
   "display_name": "Teradata SQL",
   "language": "Teradata SQL",
   "name": "teradatasql"
  },
  "language_info": {
   "codemirror_mode": "Teradata SQL",
   "file_extension": ".tdrs",
   "mimetype": "application/vnd.teradata.resultset",
   "name": "Teradata SQL",
   "nbconvert_exporter": "",
   "pygments_lexer": "",
   "version": "16.20"
  }
 },
 "nbformat": 4,
 "nbformat_minor": 4
}
