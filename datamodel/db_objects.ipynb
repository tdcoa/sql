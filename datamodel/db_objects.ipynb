{
 "cells": [
  {
   "cell_type": "markdown",
   "metadata": {},
   "source": [
    "# Deploy COA Objects in Transcend:   DB_Objects (including CDS)"
   ]
  },
  {
   "cell_type": "code",
   "execution_count": null,
   "metadata": {},
   "outputs": [],
   "source": [
    "%addconnect name=Transcend, user=sh186014, host=tdprdcop3.td.teradata.com, props=\"LOGMECH=LDAP\""
   ]
  },
  {
   "cell_type": "code",
   "execution_count": null,
   "metadata": {},
   "outputs": [],
   "source": [
    "%addconnect name=TranscendAWS, user=sh186014, host=tdprd2cop3.td.teradata.com, props=\"LOGMECH=LDAP\""
   ]
  },
  {
   "cell_type": "code",
   "execution_count": 1,
   "metadata": {},
   "outputs": [
    {
     "name": "stdin",
     "output_type": "stream",
     "text": [
      "Password ············\n"
     ]
    },
    {
     "name": "stdout",
     "output_type": "stream",
     "text": [
      "Success: 'Transcend' connection established\n"
     ]
    }
   ],
   "source": [
    "%connect Transcend"
   ]
  },
  {
   "cell_type": "code",
   "execution_count": 2,
   "metadata": {},
   "outputs": [
    {
     "data": {
      "text/plain": [
       "Success: 1 rows affected"
      ]
     },
     "execution_count": 2,
     "metadata": {
      "application/vnd.teradata.resultset": ""
     },
     "output_type": "execute_result"
    }
   ],
   "source": [
    "database adlste_coa;"
   ]
  },
  {
   "cell_type": "markdown",
   "metadata": {},
   "source": [
    "# Perm Space (CDS) per week"
   ]
  },
  {
   "cell_type": "code",
   "execution_count": 7,
   "metadata": {},
   "outputs": [
    {
     "data": {
      "text/plain": [
       "Success: 23 rows affected"
      ]
     },
     "execution_count": 7,
     "metadata": {
      "application/vnd.teradata.resultset": ""
     },
     "output_type": "execute_result"
    }
   ],
   "source": [
    "Drop Table adlste_coa_stg.stg_dat_permspace_week "
   ]
  },
  {
   "cell_type": "code",
   "execution_count": 8,
   "metadata": {},
   "outputs": [
    {
     "data": {
      "text/plain": [
       "Success: 0 rows affected"
      ]
     },
     "execution_count": 8,
     "metadata": {
      "application/vnd.teradata.resultset": ""
     },
     "output_type": "execute_result"
    }
   ],
   "source": [
    "-- GLOBAL TEMP TABLE:\n",
    "CREATE MULTISET GLOBAL TEMPORARY TABLE adlste_coa_stg.stg_dat_permspace_week \n",
    "(\n",
    "    Site_ID         VARCHAR(8)   CHARACTER SET UNICODE NOT CASESPECIFIC\n",
    "  , Week_ID         INTEGER\n",
    "  , DatabaseName    VARCHAR(128) CHARACTER SET UNICODE NOT CASESPECIFIC\n",
    "  , Spool_Pct       DECIMAL(4,3)\n",
    "  , CommentString   VARCHAR(61)  CHARACTER SET UNICODE NOT CASESPECIFIC\n",
    "  , MaxPerm_GB      DECIMAL(18,6)\n",
    "  , CurrPerm_GB     DECIMAL(18,6)\n",
    "  , Fill_Pct        DECIMAL(18,6)\n",
    "  , CurrPerm_Rank   INTEGER\n",
    ") NO PRIMARY INDEX \n",
    "  ON COMMIT PRESERVE ROWS;"
   ]
  },
  {
   "cell_type": "code",
   "execution_count": 9,
   "metadata": {},
   "outputs": [
    {
     "data": {
      "text/plain": [
       "Success: 0 rows affected"
      ]
     },
     "execution_count": 9,
     "metadata": {
      "application/vnd.teradata.resultset": ""
     },
     "output_type": "execute_result"
    }
   ],
   "source": [
    "CREATE MULTISET TABLE adlste_coa.coat_dat_permspace_week \n",
    "(\n",
    "    Site_ID         VARCHAR(8)   CHARACTER SET UNICODE NOT CASESPECIFIC\n",
    "  , Week_ID         INTEGER\n",
    "  , DatabaseName    VARCHAR(128) CHARACTER SET UNICODE NOT CASESPECIFIC\n",
    "  , Spool_Pct       DECIMAL(4,3)\n",
    "  , CommentString   VARCHAR(61)  CHARACTER SET UNICODE NOT CASESPECIFIC\n",
    "  , MaxPerm_GB      DECIMAL(18,6)\n",
    "  , CurrPerm_GB     DECIMAL(18,6)\n",
    "  , Fill_Pct        DECIMAL(18,6)\n",
    "  , CurrPerm_Rank   INTEGER\n",
    "  , Run_ID           INTEGER\n",
    ") PRIMARY INDEX (Site_ID, Week_ID)\n",
    ";"
   ]
  },
  {
   "cell_type": "code",
   "execution_count": 10,
   "metadata": {},
   "outputs": [
    {
     "data": {
      "text/plain": [
       "Success: 0 rows affected"
      ]
     },
     "execution_count": 10,
     "metadata": {
      "application/vnd.teradata.resultset": ""
     },
     "output_type": "execute_result"
    }
   ],
   "source": [
    "replace view adlste_coa.coa_dat_permspace_week\n",
    "as  locking row for access\n",
    "select * from adlste_coa.coat_dat_permspace_week"
   ]
  },
  {
   "cell_type": "code",
   "execution_count": 3,
   "metadata": {},
   "outputs": [
    {
     "data": {
      "text/plain": [
       "Success: 0 rows affected"
      ]
     },
     "execution_count": 3,
     "metadata": {
      "application/vnd.teradata.resultset": ""
     },
     "output_type": "execute_result"
    }
   ],
   "source": [
    "REPLACE PROCEDURE adlste_coa.sp_dat_permspace_week ( spversion VARCHAR(128) ) \n",
    "SQL SECURITY CREATOR\n",
    "BEGIN \n",
    "\n",
    "    /* start setup audit process */\n",
    "    \n",
    "    DECLARE runid  INTEGER;\n",
    "    DECLARE siteid VARCHAR(128);\n",
    "    DECLARE tablename VARCHAR(128);\n",
    "    DECLARE callingsp VARCHAR(128); \n",
    "    DECLARE startdate DATE;\n",
    "    DECLARE enddate DATE;\n",
    "    \n",
    "    SET runid = 0;\n",
    "    SET tablename = 'adlste_coa.coat_dat_permspace_week';\n",
    "    SET callingsp = 'adlste_coa.sp_dat_permspace_week';\n",
    "    SET siteid = 'Empty Table';\n",
    "    SET startdate = DATE;\n",
    "    SET enddate = DATE;\n",
    "\n",
    "    SELECT \n",
    "     coalesce(Site_ID,'empty table')       \n",
    "    ,min(substr(trim(Week_ID),1,4)||'-'||substr(trim(Week_ID),5,2)||'-'||\n",
    "     cast(cast((cast(substr(trim(Week_ID),7,1) as int)*7)-6 as int format'99') as char(2)) )(DATE) as StartDate\n",
    "    ,max(substr(trim(Week_ID),1,4)||'-'||substr(trim(Week_ID),5,2)||'-'||\n",
    "     cast(cast((cast(substr(trim(Week_ID),7,1) as int)*7)-6 as int format'99') as char(2)) )(DATE) as EndDate\n",
    "    INTO siteid, startdate, enddate\n",
    "    FROM adlste_coa_stg.stg_dat_permspace_week\n",
    "    Group by 1\n",
    "    ;\n",
    "    \n",
    "    /* end setup audit process */\n",
    "        \n",
    "    CALL adlste_coa.sp_audit_log(runid, :siteid, :tablename, :callingsp, :spversion, :startdate, :enddate,\n",
    "                              'normal run', 'START',  '') ;\n",
    "\n",
    "    DELETE FROM adlste_coa.coat_dat_permspace_week \n",
    "    WHERE (Site_ID, Week_ID) IN\n",
    "    (Select Site_ID, Week_ID From adlste_coa_stg.stg_dat_permspace_week );\n",
    "    \n",
    "    Insert into adlste_coa.coat_dat_permspace_week \n",
    "    Select \n",
    "      Site_ID          \n",
    "    , Week_ID          \n",
    "    , DatabaseName   \n",
    "    , Spool_Pct\n",
    "    , CommentString\n",
    "    , MaxPerm_GB\n",
    "    , CurrPerm_GB\n",
    "    , Fill_Pct\n",
    "    , CurrPerm_Rank\n",
    "    , :runid\n",
    "    from adlste_coa_stg.stg_dat_permspace_week ; \n",
    "    \n",
    "    delete from adlste_coa_stg.stg_dat_permspace_week;\n",
    "        \n",
    "    CALL adlste_coa.sp_audit_log(runid, :siteid, :tablename, :callingsp, :spversion, :startdate, :enddate,\n",
    "                              'normal run', 'END', '') ;\n",
    "\n",
    "END;"
   ]
  },
  {
   "cell_type": "code",
   "execution_count": 18,
   "metadata": {},
   "outputs": [
    {
     "data": {
      "text/plain": [
       "Success: 0 rows affected"
      ]
     },
     "execution_count": 18,
     "metadata": {
      "application/vnd.teradata.resultset": ""
     },
     "output_type": "execute_result"
    }
   ],
   "source": [
    "insert into adlste_coa_stg.stg_dat_permspace_week \n",
    "select Site_ID, Week_ID, DatabaseName, Spool_Pct, CommentString, MaxPerm_GB, CurrPerm_GB, Fill_Pct, CurrPerm_Rank\n",
    "from adlste_coa.coa_dat_permspace_week \n",
    "qualify rank()over(order by Site_ID, Week_ID) = 1"
   ]
  },
  {
   "cell_type": "code",
   "execution_count": 19,
   "metadata": {},
   "outputs": [
    {
     "data": {
      "text/plain": [
       "Success: 0 rows affected"
      ]
     },
     "execution_count": 19,
     "metadata": {
      "application/vnd.teradata.resultset": ""
     },
     "output_type": "execute_result"
    }
   ],
   "source": [
    "call adlste_coa.sp_dat_permspace_week('test')"
   ]
  },
  {
   "cell_type": "code",
   "execution_count": 20,
   "metadata": {},
   "outputs": [],
   "source": [
    "select top 100 * from adlste_coa.coa_audit_log \n",
    "where TableName = 'adlste_coa.sp_dat_permspace_week'\n",
    "order by 1 desc"
   ]
  },
  {
   "cell_type": "markdown",
   "metadata": {},
   "source": [
    "# DB_Objects including CDS"
   ]
  },
  {
   "cell_type": "code",
   "execution_count": null,
   "metadata": {},
   "outputs": [],
   "source": [
    "--Drop Table adlste_coa_stg.stg_dat_DB_Objects"
   ]
  },
  {
   "cell_type": "code",
   "execution_count": null,
   "metadata": {},
   "outputs": [],
   "source": [
    "-- GLOBAL TEMP TABLE:\n",
    "CREATE MULTISET GLOBAL TEMPORARY TABLE adlste_coa_stg.stg_dat_DB_Objects \n",
    "(  Site_ID          VARCHAR(128)  CHARACTER SET LATIN\n",
    " , Week_ID          INTEGER\n",
    " , DatabaseName     VARCHAR(128)  CHARACTER SET UNICODE \n",
    " , CurrPermGB_Rank  INTEGER       \n",
    " , CommentString    VARCHAR(1024) CHARACTER SET UNICODE \n",
    " , MaxPermGB        DECIMAL(18,2)  \n",
    " , CurrentPermGB    DECIMAL(18,2)  \n",
    " , FilledPct        DECIMAL(9,4)\n",
    " , Table_Count      INTEGER    \n",
    " , View_Count       INTEGER   \n",
    " , Index_Count      INTEGER    \n",
    " , Macro_Count      INTEGER    \n",
    " , SPTrig_Count     INTEGER     \n",
    " , UDObject_Count   INTEGER       \n",
    " , Other_Count      INTEGER    \n",
    ") NO PRIMARY INDEX \n",
    "  ON COMMIT PRESERVE ROWS;"
   ]
  },
  {
   "cell_type": "code",
   "execution_count": null,
   "metadata": {},
   "outputs": [],
   "source": [
    "CREATE TABLE adlste_coa.coat_dat_DB_Objects_bkup as \n",
    "    (select * from adlste_coa.coat_dat_DB_Objects) with data;\n",
    "DROP TABLE adlste_coa.coat_dat_DB_Objects;\n",
    "INSERT INTO adlste_coa.coat_dat_DB_Objects\n",
    "    Select * from adlste_coa.coat_dat_DB_Objects_bkup;"
   ]
  },
  {
   "cell_type": "code",
   "execution_count": null,
   "metadata": {},
   "outputs": [],
   "source": [
    "-- PERM Table\n",
    "CREATE MULTISET TABLE adlste_coa.coat_dat_DB_Objects \n",
    "(  Site_ID          VARCHAR(128)  CHARACTER SET LATIN\n",
    " , Week_ID          INTEGER\n",
    " , DatabaseName     VARCHAR(128)  CHARACTER SET UNICODE \n",
    " , CurrPermGB_Rank  INTEGER       COMPRESS(0,1,2,3,4,5,6,7,8,9,10,11,12,13,14,15,16,17,18,19,20,21,22,23,24,25,26,27,28,29,30,31,32,33,34,35,36,37,38,39,40,41,42,43,44,45,46,47,48,49,50,51,52,53,54,55,56,57,58,59,60,61,62,63,64,65,66,67,68,69,70,71,72,73,74,75,76,77,78,79,80,81,82,83,84,85,86,87,88,89,90,91,92,93,94,95,96,97,98,99,100,101,102,103,104,105,106,107,108,109,110,111,112,113,114,115,116,117,118,119,120,121,122,123,124,125,126,127,128,129,130,131,132,133,134,135,136,137,138,139,140,141,142,143,144,145,146,147,148,149,150,151,152,153,154,155,156,157,158,159,160,161,162,163,164,165,166,167,168,169,170,171,172,173,174,175,176,177,178,179,180,181,182,183,184,185,186,187,188,189,190,191,192,193,194,195,196,197,198,199,200,201,202,203,204,205,206,207,208,209,210,211,212,213,214,215,216,217,218,219,220,221,222,223,224,225,226,227,228,229,230,231,232,233,234,235,236,237,238,239,240,241,242,243,244,245,246,247,248,249,250)\n",
    " , CommentString    VARCHAR(1024) CHARACTER SET UNICODE \n",
    " , MaxPermGB        DECIMAL(18,2) COMPRESS(0) \n",
    " , CurrentPermGB    DECIMAL(18,2) COMPRESS(0) \n",
    " , FilledPct        DECIMAL(9,4)  COMPRESS(0.0000)\n",
    " , Table_Count      INTEGER       COMPRESS(0) \n",
    " , View_Count       INTEGER       COMPRESS(0)\n",
    " , Index_Count      INTEGER       COMPRESS(0) \n",
    " , Macro_Count      INTEGER       COMPRESS(0) \n",
    " , SPTrig_Count     INTEGER       COMPRESS(0)  \n",
    " , UDObject_Count   INTEGER       COMPRESS(0)    \n",
    " , Other_Count      INTEGER       COMPRESS(0) \n",
    " , Run_ID           INTEGER\n",
    ") PRIMARY INDEX (Site_ID, Week_ID, DatabaseName);"
   ]
  },
  {
   "cell_type": "code",
   "execution_count": null,
   "metadata": {},
   "outputs": [],
   "source": [
    "replace view adlste_coa.coa_dat_DB_Objects\n",
    "as  locking row for access\n",
    "select * from adlste_coa.coat_dat_DB_Objects"
   ]
  },
  {
   "cell_type": "code",
   "execution_count": null,
   "metadata": {},
   "outputs": [],
   "source": [
    "REPLACE PROCEDURE adlste_coa.sp_dat_DB_Objects ( spversion VARCHAR(128) ) \n",
    "SQL SECURITY CREATOR\n",
    "BEGIN \n",
    "\n",
    "    /* start setup audit process */\n",
    "    \n",
    "    DECLARE runid  INTEGER;\n",
    "    DECLARE siteid VARCHAR(128);\n",
    "    DECLARE tablename VARCHAR(128);\n",
    "    DECLARE callingsp VARCHAR(128); \n",
    "    DECLARE startdate DATE;\n",
    "    DECLARE enddate DATE;\n",
    "    \n",
    "    SET runid = 0;\n",
    "    SET tablename = 'adlste_coa.coat_dat_DB_Objects';\n",
    "    SET callingsp = 'adlste_coa.sp_dat_DB_Objects';\n",
    "    SET siteid = 'Empty Table';\n",
    "    SET startdate = DATE;\n",
    "    SET enddate = DATE;\n",
    "\n",
    "    SELECT \n",
    "     coalesce(Site_ID,'empty table')       \n",
    "    ,min(substr(trim(Week_ID),1,4)||'-'||substr(trim(Week_ID),5,2)||'-'||\n",
    "     cast(cast((cast(substr(trim(Week_ID),7,1) as int)*7)-6 as int format'99') as char(2)) )(DATE) as StartDate\n",
    "    ,max(substr(trim(Week_ID),1,4)||'-'||substr(trim(Week_ID),5,2)||'-'||\n",
    "     cast(cast((cast(substr(trim(Week_ID),7,1) as int)*7)-6 as int format'99') as char(2)) )(DATE) as EndDate\n",
    "    INTO siteid, startdate, enddate\n",
    "    FROM adlste_coa_stg.stg_dat_DB_Objects\n",
    "    Group by 1\n",
    "    ;\n",
    "    \n",
    "    /* end setup audit process */\n",
    "    \n",
    "    \n",
    "    \n",
    "    CALL adlste_coa.sp_audit_log(runid, :siteid, :tablename, :callingsp, :spversion, :startdate, :enddate,\n",
    "                              'normal run', 'START',  '') ;\n",
    "\n",
    "    DELETE FROM adlste_coa.coat_dat_DB_Objects \n",
    "    WHERE (Site_ID, Week_ID) IN\n",
    "    (Select Site_ID, Week_ID From adlste_coa_stg.stg_dat_DB_Objects );\n",
    "    \n",
    "    Insert into adlste_coa.coat_dat_DB_Objects \n",
    "    Select \n",
    "      Site_ID          \n",
    "    , Week_ID          \n",
    "    , DatabaseName           \n",
    "    , CurrPermGB_Rank  \n",
    "    , CommentString    \n",
    "    , MaxPermGB        \n",
    "    , CurrentPermGB    \n",
    "    , FilledPct        \n",
    "    , Table_Count      \n",
    "    , View_Count       \n",
    "    , Index_Count      \n",
    "    , Macro_Count      \n",
    "    , SPTrig_Count     \n",
    "    , UDObject_Count   \n",
    "    , Other_Count      \n",
    "    , :runid\n",
    "    from adlste_coa_stg.stg_dat_DB_Objects ; \n",
    "    \n",
    "    delete from adlste_coa_stg.stg_dat_DB_Objects;\n",
    "        \n",
    "    CALL adlste_coa.sp_audit_log(runid, :siteid, :tablename, :callingsp, :spversion, :startdate, :enddate,\n",
    "                              'normal run', 'END', '') ;\n",
    "\n",
    "END;"
   ]
  },
  {
   "cell_type": "code",
   "execution_count": null,
   "metadata": {},
   "outputs": [],
   "source": [
    "insert into adlste_coa_stg.stg_dat_DB_Objects \n",
    "select \n",
    "site_id, week_id, databasename, currpermgb_rank, commentstring, maxpermgb, currentpermgb, filledpct,\n",
    " table_count, view_count, index_count, macro_count, sptrig_count,  udobject_count,  other_count\n",
    "from adlste_coa.coat_dat_DB_Objects \n",
    "qualify rank()over(order by Site_ID, Week_ID) = 1"
   ]
  },
  {
   "cell_type": "code",
   "execution_count": null,
   "metadata": {},
   "outputs": [],
   "source": [
    "call adlste_coa.sp_dat_DB_Objects('test')"
   ]
  },
  {
   "cell_type": "code",
   "execution_count": null,
   "metadata": {},
   "outputs": [],
   "source": [
    "select top 100 * from adlste_coa.coa_audit_log where TableName = 'adlste_coa.coat_dat_DB_Objects'\n",
    "order by 1 desc"
   ]
  },
  {
   "cell_type": "code",
   "execution_count": null,
   "metadata": {},
   "outputs": [],
   "source": []
  },
  {
   "cell_type": "markdown",
   "metadata": {},
   "source": [
    "<br/><br/><br/><br/>\n",
    "# Column Type"
   ]
  },
  {
   "cell_type": "code",
   "execution_count": null,
   "metadata": {},
   "outputs": [],
   "source": [
    "drop table adlste_coa_stg.stg_dat_column_type ;"
   ]
  },
  {
   "cell_type": "code",
   "execution_count": null,
   "metadata": {},
   "outputs": [],
   "source": [
    "CREATE MULTISET GLOBAL TEMPORARY TABLE adlste_coa_stg.stg_dat_column_type \n",
    "( Site_ID          VARCHAR(128) CHARACTER SET LATIN\n",
    ", LogDate          DATE \n",
    ", Column_Type      VARCHAR(256) CHARACTER SET LATIN \n",
    ", Column_Category  VARCHAR(128) CHARACTER SET LATIN \n",
    ", Total_Cnt        INT\n",
    ")\n",
    "NO PRIMARY INDEX \n",
    "ON COMMIT PRESERVE ROWS;"
   ]
  },
  {
   "cell_type": "code",
   "execution_count": null,
   "metadata": {},
   "outputs": [],
   "source": [
    "drop table adlste_coa.coat_dat_column_type"
   ]
  },
  {
   "cell_type": "code",
   "execution_count": null,
   "metadata": {},
   "outputs": [],
   "source": [
    "CREATE MULTISET TABLE adlste_coa.coat_dat_column_type \n",
    "( Site_ID          VARCHAR(128) CHARACTER SET LATIN\n",
    ", LogDate          DATE\n",
    ", Column_Type      VARCHAR(256) CHARACTER SET LATIN \n",
    ", Column_Category  VARCHAR(128) CHARACTER SET LATIN \n",
    ", Total_Cnt        INT\n",
    ", Run_ID           INT\n",
    ")\n",
    "PRIMARY INDEX (Site_ID, LogDate);"
   ]
  },
  {
   "cell_type": "code",
   "execution_count": null,
   "metadata": {},
   "outputs": [],
   "source": [
    "replace view adlste_coa.coa_dat_column_type\n",
    "as locking row for access\n",
    "select * from adlste_coa.coat_dat_column_type"
   ]
  },
  {
   "cell_type": "code",
   "execution_count": null,
   "metadata": {},
   "outputs": [],
   "source": [
    "REPLACE PROCEDURE adlste_coa.sp_dat_column_type ( spversion VARCHAR(128) ) \n",
    "SQL SECURITY CREATOR\n",
    "BEGIN \n",
    "\n",
    "    /* start setup audit process */\n",
    "    \n",
    "    DECLARE runid  INTEGER;\n",
    "    DECLARE siteid VARCHAR(128);\n",
    "    DECLARE tablename VARCHAR(128);\n",
    "    DECLARE callingsp VARCHAR(128); \n",
    "    DECLARE startdate DATE;\n",
    "    DECLARE enddate DATE;\n",
    "    \n",
    "    SET runid = 0;\n",
    "    SET tablename = 'adlste_coa.coat_dat_column_type';\n",
    "    SET callingsp = 'adlste_coa.sp_dat_column_type';\n",
    "    SET siteid = 'Empty Table';\n",
    "    SET startdate = DATE;\n",
    "    SET enddate = DATE;\n",
    "\n",
    "    SELECT \n",
    "     coalesce(Site_ID,'empty table')       \n",
    "    ,min(LogDate) as StartDate\n",
    "    ,max(LogDate) as EndDate\n",
    "    INTO siteid, startdate, enddate\n",
    "    FROM adlste_coa_stg.stg_dat_column_type\n",
    "    Group by 1\n",
    "    ;\n",
    "    \n",
    "    /* end setup audit process */\n",
    "    \n",
    "    \n",
    "    \n",
    "    CALL adlste_coa.sp_audit_log(runid, :siteid, :tablename, :callingsp, :spversion, :startdate, :enddate,\n",
    "                              'normal run', 'START',  '') ;\n",
    "\n",
    "    DELETE FROM adlste_coa.coat_dat_column_type \n",
    "    WHERE (Site_ID, LogDate) IN\n",
    "    (Select Site_ID, LogDate From adlste_coa_stg.stg_dat_column_type );\n",
    "    \n",
    "    Insert into adlste_coa.coat_dat_column_type \n",
    "    Select\n",
    "     Site_ID\n",
    "    ,LogDate\n",
    "    ,Column_Type\n",
    "    ,Column_Category\n",
    "    ,Total_Cnt\n",
    "    , :runid\n",
    "    from adlste_coa_stg.stg_dat_column_type as a ; \n",
    "    \n",
    "    delete from adlste_coa_stg.stg_dat_column_type;\n",
    "        \n",
    "    CALL adlste_coa.sp_audit_log(runid, :siteid, :tablename, :callingsp, :spversion, :startdate, :enddate,\n",
    "                              'normal run', 'END', '') ;\n",
    "\n",
    "END;"
   ]
  },
  {
   "cell_type": "code",
   "execution_count": null,
   "metadata": {},
   "outputs": [],
   "source": [
    "select * from adlste_coa.coat_dat_column_type"
   ]
  },
  {
   "cell_type": "code",
   "execution_count": null,
   "metadata": {},
   "outputs": [],
   "source": [
    "select top 100 * from adlste_coa.coa_audit_log \n",
    "where TableName = 'adlste_coa.coat_dat_column_type'\n",
    "order by 1 desc"
   ]
  },
  {
   "cell_type": "markdown",
   "metadata": {},
   "source": [
    "<br/><br/><br/><br/>\n",
    "# Other sql"
   ]
  },
  {
   "cell_type": "code",
   "execution_count": null,
   "metadata": {},
   "outputs": [],
   "source": [
    "-- return set, multiset, and other table types\n",
    "/*{{save:table_set_type.csv}}*/\n",
    "SELECT '{siteid}' as Site_ID\n",
    ",sum(case when CheckOpt = 'Y' then 1 else 0 end) as MultiSet_Cnt\n",
    ",sum(case when CheckOpt = 'N' then 1 else 0 end) as Set_Cnt\n",
    ",sum(case when CheckOpt not in('Y','N') then 1 else 0 end) as Other_Cnt\n",
    "FROM DBC.Tables\n",
    "\n",
    " "
   ]
  },
  {
   "cell_type": "code",
   "execution_count": null,
   "metadata": {},
   "outputs": [],
   "source": [
    "\n",
    "CREATE VOLATILE TABLE FeatureDataType AS -- column datatypes\n",
    "    (\n",
    "        SELECT\n",
    "            '++' AS DataType\n",
    "            ,CAST('TD_ANYTYPE' AS VARCHAR(50)) AS DataTypeDesc\n",
    "        FROM\n",
    "            DBC.DBCINFO\n",
    "        UNION\n",
    "        SELECT\n",
    "            'A1' AS DataType\n",
    "            ,CAST('ARRAY (one dimensional)' AS VARCHAR(50)) AS DataTypeDesc\n",
    "        FROM\n",
    "            DBC.DBCINFO\n",
    "        UNION\n",
    "        SELECT\n",
    "            'AN' AS DataType\n",
    "            ,CAST('ARRAY (multidimensional)' AS VARCHAR(50)) AS DataTypeDesc\n",
    "        FROM\n",
    "            DBC.DBCINFO\n",
    "        UNION\n",
    "        SELECT\n",
    "            'AT' AS DataType\n",
    "            ,CAST('TIME' AS VARCHAR(50)) AS DataTypeDesc\n",
    "        FROM\n",
    "            DBC.DBCINFO\n",
    "        UNION\n",
    "        SELECT\n",
    "            'BF' AS DataType\n",
    "            ,CAST('BYTE' AS VARCHAR(50)) AS DataTypeDesc\n",
    "        FROM\n",
    "            DBC.DBCINFO\n",
    "        UNION\n",
    "        SELECT\n",
    "            'BN' AS DataType\n",
    "            ,CAST('BSON' AS VARCHAR(50)) AS DataTypeDesc\n",
    "        FROM\n",
    "            DBC.DBCINFO\n",
    "        UNION\n",
    "        SELECT\n",
    "            'BO' AS DataType\n",
    "            ,CAST('BINARY LARGE OBJECT' AS VARCHAR(50)) AS DataTypeDesc\n",
    "        FROM\n",
    "            DBC.DBCINFO\n",
    "        UNION\n",
    "        SELECT\n",
    "            'BV' AS DataType\n",
    "            ,CAST('BYTE VARYING' AS VARCHAR(50)) AS DataTypeDesc\n",
    "        FROM\n",
    "            DBC.DBCINFO\n",
    "        UNION\n",
    "        SELECT\n",
    "            'CF' AS DataType\n",
    "            ,CAST('CHARACTER (fixed)' AS VARCHAR(50)) AS DataTypeDesc\n",
    "        FROM\n",
    "            DBC.DBCINFO\n",
    "        UNION\n",
    "        SELECT\n",
    "            'CO' AS DataType\n",
    "            ,CAST('CHARACTER LARGE OBJECT' AS VARCHAR(50)) AS DataTypeDesc\n",
    "        FROM\n",
    "            DBC.DBCINFO\n",
    "        UNION\n",
    "        SELECT\n",
    "            'CV' AS DataType\n",
    "            ,CAST('CHARACTER (varying)' AS VARCHAR(50)) AS DataTypeDesc\n",
    "        FROM\n",
    "            DBC.DBCINFO\n",
    "        UNION\n",
    "        SELECT\n",
    "            'D' AS DataType\n",
    "            ,CAST('DECIMAL' AS VARCHAR(50)) AS DataTypeDesc\n",
    "        FROM\n",
    "            DBC.DBCINFO\n",
    "        UNION\n",
    "        SELECT\n",
    "            'DA' AS DataType\n",
    "            ,CAST('DATE' AS VARCHAR(50)) AS DataTypeDesc\n",
    "        FROM\n",
    "            DBC.DBCINFO\n",
    "        UNION\n",
    "        SELECT\n",
    "            'DH' AS DataType\n",
    "            ,CAST('INTERVAL DAY TO HOUR' AS VARCHAR(50)) AS DataTypeDesc\n",
    "        FROM\n",
    "            DBC.DBCINFO\n",
    "        UNION\n",
    "        SELECT\n",
    "            'DM' AS DataType\n",
    "            ,CAST('INTERVAL DAY TO MINUTE' AS VARCHAR(50)) AS DataTypeDesc\n",
    "        FROM\n",
    "            DBC.DBCINFO\n",
    "        UNION\n",
    "        SELECT\n",
    "            'DS' AS DataType\n",
    "            ,CAST('INTERVAL DAY TO SECOND' AS VARCHAR(50)) AS DataTypeDesc\n",
    "        FROM\n",
    "            DBC.DBCINFO\n",
    "        UNION\n",
    "        SELECT\n",
    "            'DY' AS DataType\n",
    "            ,CAST('INTERVAL DAY' AS VARCHAR(50)) AS DataTypeDesc\n",
    "        FROM\n",
    "            DBC.DBCINFO\n",
    "        UNION\n",
    "        SELECT\n",
    "            'F' AS DataType\n",
    "            ,CAST('FLOAT' AS VARCHAR(50)) AS DataTypeDesc\n",
    "        FROM\n",
    "            DBC.DBCINFO\n",
    "        UNION\n",
    "        SELECT\n",
    "            'HM' AS DataType\n",
    "            ,CAST('INTERVAL HOUR TO MINUTE' AS VARCHAR(50)) AS DataTypeDesc\n",
    "        FROM\n",
    "            DBC.DBCINFO\n",
    "        UNION\n",
    "        SELECT\n",
    "            'HR' AS DataType\n",
    "            ,CAST('INTERVAL HOUR' AS VARCHAR(50)) AS DataTypeDesc\n",
    "        FROM\n",
    "            DBC.DBCINFO\n",
    "        UNION\n",
    "        SELECT\n",
    "            'HS' AS DataType\n",
    "            ,CAST('INTERVAL HOUR TO SECOND' AS VARCHAR(50)) AS DataTypeDesc\n",
    "        FROM\n",
    "            DBC.DBCINFO\n",
    "        UNION\n",
    "        SELECT\n",
    "            'I' AS DataType\n",
    "            ,CAST('INTEGER' AS VARCHAR(50)) AS DataTypeDesc\n",
    "        FROM\n",
    "            DBC.DBCINFO\n",
    "        UNION\n",
    "        SELECT\n",
    "            'I1' AS DataType\n",
    "            ,CAST('BYTEINT' AS VARCHAR(50)) AS DataTypeDesc\n",
    "        FROM\n",
    "            DBC.DBCINFO\n",
    "        UNION\n",
    "        SELECT\n",
    "            'I2' AS DataType\n",
    "            ,CAST('SMALLINT' AS VARCHAR(50)) AS DataTypeDesc\n",
    "        FROM\n",
    "            DBC.DBCINFO\n",
    "        UNION\n",
    "        SELECT\n",
    "            'I8' AS DataType\n",
    "            ,CAST('BIGINT' AS VARCHAR(50)) AS DataTypeDesc\n",
    "        FROM\n",
    "            DBC.DBCINFO\n",
    "        UNION\n",
    "        SELECT\n",
    "            'JN' AS DataType\n",
    "            ,CAST('JSON' AS VARCHAR(50)) AS DataTypeDesc\n",
    "        FROM\n",
    "            DBC.DBCINFO\n",
    "        UNION\n",
    "        SELECT\n",
    "            'MI' AS DataType\n",
    "            ,CAST('INTERVAL MINUTE' AS VARCHAR(50)) AS DataTypeDesc\n",
    "        FROM\n",
    "            DBC.DBCINFO\n",
    "        UNION\n",
    "        SELECT\n",
    "            'MO' AS DataType\n",
    "            ,CAST('INTERVAL MONTH' AS VARCHAR(50)) AS DataTypeDesc\n",
    "        FROM\n",
    "            DBC.DBCINFO\n",
    "        UNION\n",
    "        SELECT\n",
    "            'MS' AS DataType\n",
    "            ,CAST('INTERVAL MINUTE TO SECOND' AS VARCHAR(50)) AS DataTypeDesc\n",
    "        FROM\n",
    "            DBC.DBCINFO\n",
    "        UNION\n",
    "        SELECT\n",
    "            'N' AS DataType\n",
    "            ,CAST('NUMBER' AS VARCHAR(50)) AS DataTypeDesc\n",
    "        FROM\n",
    "            DBC.DBCINFO\n",
    "        UNION\n",
    "        SELECT\n",
    "            'PD' AS DataType\n",
    "            ,CAST('PERIOD(DATE)' AS VARCHAR(50)) AS DataTypeDesc\n",
    "        FROM\n",
    "            DBC.DBCINFO\n",
    "        UNION\n",
    "        SELECT\n",
    "            'PM' AS DataType\n",
    "            ,CAST('PERIOD(TIMESTAMP(n) WITH TIME ZONE)' AS VARCHAR(50)) AS DataTypeDesc\n",
    "        FROM\n",
    "            DBC.DBCINFO\n",
    "        UNION\n",
    "        SELECT\n",
    "            'PS' AS DataType\n",
    "            ,CAST('PERIOD(TIMESTAMP(n))' AS VARCHAR(50)) AS DataTypeDesc\n",
    "        FROM\n",
    "            DBC.DBCINFO\n",
    "        UNION\n",
    "        SELECT\n",
    "            'PT' AS DataType\n",
    "            ,CAST('PERIOD(TIME(n))' AS VARCHAR(50)) AS DataTypeDesc\n",
    "        FROM\n",
    "            DBC.DBCINFO\n",
    "        UNION\n",
    "        SELECT\n",
    "            'PZ' AS DataType\n",
    "            ,CAST('PERIOD(TIME(n) WITH TIME ZONE)' AS VARCHAR(50)) AS DataTypeDesc\n",
    "        FROM\n",
    "            DBC.DBCINFO\n",
    "        UNION\n",
    "        SELECT\n",
    "            'SC' AS DataType\n",
    "            ,CAST('INTERVAL SECOND' AS VARCHAR(50)) AS DataTypeDesc\n",
    "        FROM\n",
    "            DBC.DBCINFO\n",
    "        UNION\n",
    "        SELECT\n",
    "            'SZ' AS DataType\n",
    "            ,CAST('TIMESTAMP WITH TIME ZONE' AS VARCHAR(50)) AS DataTypeDesc\n",
    "        FROM\n",
    "            DBC.DBCINFO\n",
    "        UNION\n",
    "        SELECT\n",
    "            'TS' AS DataType\n",
    "            ,CAST('TIMESTAMP' AS VARCHAR(50)) AS DataTypeDesc\n",
    "        FROM\n",
    "            DBC.DBCINFO\n",
    "        UNION\n",
    "        SELECT\n",
    "            'TZ' AS DataType\n",
    "            ,CAST('TIME WITH TIME ZONE' AS VARCHAR(50)) AS DataTypeDesc\n",
    "        FROM\n",
    "            DBC.DBCINFO\n",
    "        UNION\n",
    "        SELECT\n",
    "            'UN' AS DataType\n",
    "            ,CAST('UBJSON' AS VARCHAR(50)) AS DataTypeDesc\n",
    "        FROM\n",
    "            DBC.DBCINFO\n",
    "        UNION\n",
    "        SELECT\n",
    "            'UT' AS DataType\n",
    "            ,CAST('USER-DEFINED TYPE (all types)' AS VARCHAR(50)) AS DataTypeDesc\n",
    "        FROM\n",
    "            DBC.DBCINFO\n",
    "        UNION\n",
    "        SELECT\n",
    "            'XM' AS DataType\n",
    "            ,CAST('XML' AS VARCHAR(50)) AS DataTypeDesc\n",
    "        FROM\n",
    "            DBC.DBCINFO\n",
    "        UNION\n",
    "        SELECT\n",
    "            'YM' AS DataType\n",
    "            ,CAST('INTERVAL YEAR TO MONTH' AS VARCHAR(50)) AS DataTypeDesc\n",
    "        FROM\n",
    "            DBC.DBCINFO\n",
    "        UNION\n",
    "        SELECT\n",
    "            'YR' AS DataType\n",
    "            ,CAST('INTERVAL YEAR' AS VARCHAR(50)) AS DataTypeDesc\n",
    "        FROM\n",
    "            DBC.DBCINFO\n",
    "    )\n",
    "    WITH DATA\n",
    "    UNIQUE PRIMARY INDEX (DataType)\n",
    "    ON COMMIT PRESERVE ROWS;\n",
    "\n",
    "COLLECT STATISTICS ON FeatureDataType INDEX (DataType);"
   ]
  },
  {
   "cell_type": "code",
   "execution_count": null,
   "metadata": {},
   "outputs": [],
   "source": [
    "select * from FeatureDataType"
   ]
  },
  {
   "cell_type": "code",
   "execution_count": null,
   "metadata": {},
   "outputs": [],
   "source": []
  },
  {
   "cell_type": "code",
   "execution_count": null,
   "metadata": {},
   "outputs": [],
   "source": []
  }
 ],
 "metadata": {
  "kernelspec": {
   "display_name": "Teradata SQL",
   "language": "Teradata SQL",
   "name": "teradatasql"
  },
  "language_info": {
   "codemirror_mode": "Teradata SQL",
   "file_extension": ".tdrs",
   "mimetype": "application/vnd.teradata.resultset",
   "name": "Teradata SQL",
   "nbconvert_exporter": "",
   "pygments_lexer": "",
   "version": "16.20"
  }
 },
 "nbformat": 4,
 "nbformat_minor": 4
}
