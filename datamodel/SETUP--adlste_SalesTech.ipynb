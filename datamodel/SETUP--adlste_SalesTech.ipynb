{
 "cells": [
  {
   "cell_type": "markdown",
   "metadata": {},
   "source": [
    "# adlste_SalesTech\n",
    "\n",
    "This is the initial setup script for populating the adlste_SalesTech script.  The intention is for this space to become the entry-point of a future innovation pipeline that ultimately, but selectively, ends in Production support for reporting and alerting. \n",
    "\n",
    "### To-Dos: \n",
    "- work with DBA to include this role in normal STE onboarding, so all SE / CSM have read access (only)\n",
    "- area will be populated thru controlled ETL (via some means)\n",
    "- COA will continue to use the COA datalab for now"
   ]
  },
  {
   "cell_type": "code",
   "execution_count": 2,
   "metadata": {},
   "outputs": [
    {
     "name": "stdin",
     "output_type": "stream",
     "text": [
      "Password: ············\n"
     ]
    },
    {
     "name": "stdout",
     "output_type": "stream",
     "text": [
      "Success: 'Transcend' connection established and activated for user 'sh186014'\n"
     ]
    }
   ],
   "source": [
    "%connect Transcend"
   ]
  },
  {
   "cell_type": "code",
   "execution_count": 3,
   "metadata": {},
   "outputs": [
    {
     "data": {
      "text/plain": [
       "Success: 1 rows affected"
      ]
     },
     "execution_count": 3,
     "metadata": {
      "application/vnd.teradata.resultset": ""
     },
     "output_type": "execute_result"
    }
   ],
   "source": [
    "database adlste_SalesTech"
   ]
  },
  {
   "cell_type": "markdown",
   "metadata": {},
   "source": [
    "<br><br><br>\n",
    "### Stub-Out\n",
    "This section is used to stub-out some objects, just to get a taste of what would be available."
   ]
  },
  {
   "cell_type": "code",
   "execution_count": 5,
   "metadata": {},
   "outputs": [
    {
     "data": {
      "text/plain": [
       "Success: 0 rows affected"
      ]
     },
     "execution_count": 5,
     "metadata": {
      "application/vnd.teradata.resultset": ""
     },
     "output_type": "execute_result"
    }
   ],
   "source": [
    "create table   tdim_audit_rules    as (Select 'Stub' as Stub) with data no primary index;"
   ]
  },
  {
   "cell_type": "code",
   "execution_count": 6,
   "metadata": {},
   "outputs": [
    {
     "data": {
      "text/plain": [
       "Success: 0 rows affected"
      ]
     },
     "execution_count": 6,
     "metadata": {
      "application/vnd.teradata.resultset": ""
     },
     "output_type": "execute_result"
    }
   ],
   "source": [
    "create table   tdat_audit_detail    as (Select 'Stub' as Stub) with data no primary index;"
   ]
  },
  {
   "cell_type": "code",
   "execution_count": 9,
   "metadata": {},
   "outputs": [
    {
     "data": {
      "text/plain": [
       "Success: 15 rows affected"
      ]
     },
     "execution_count": 9,
     "metadata": {
      "application/vnd.teradata.resultset": ""
     },
     "output_type": "execute_result"
    }
   ],
   "source": []
  },
  {
   "cell_type": "code",
   "execution_count": 4,
   "metadata": {},
   "outputs": [
    {
     "data": {
      "text/plain": [
       "Success: 0 rows affected"
      ]
     },
     "execution_count": 4,
     "metadata": {
      "application/vnd.teradata.resultset": ""
     },
     "output_type": "execute_result"
    }
   ],
   "source": []
  },
  {
   "cell_type": "code",
   "execution_count": 6,
   "metadata": {},
   "outputs": [
    {
     "data": {
      "application/vnd.teradata.resultset": "[{\"stub\":\"stub\"}]\n",
      "text/html": [
       "<div class = \"td-resultset-table-div\" style = \"max-height: 84px; overflow-y: auto\">\n",
       "  <table class=\"tdhistory1237\"><style>\n",
       "    table.tdhistory1237 { display: block !important; min-height: 84px !important; overflow: auto !important; height: 84px !important; width: 100% !important; border: 1px solid rgb(207, 207, 207) !important; border-collapse: collapse !important; ; color: var(--jp-ui-font-color1) !important; }\n",
       "    th.tdhistory1237 { border: 1px solid rgb(198,198,198) !important; border-collapse: collapse !important; ; padding: 2px 5px !important; ; font-size: 13px !important; ; text-align: center !important; white-space: normal !important; color: var(--jp-ui-font-color1) !important; }\n",
       "    th.tdhistory1237:last-child { text-align: left !important; }\n",
       "    tbody.tdhistory1237 tr:nth-child(even) { background: rgba(243, 243, 243, 0.75) !important; }\n",
       "    tbody.tdhistory1237 tr:nth-child(odd) { background: var(--jp-ui-inverse-font-color1) !important; }\n",
       "  td.tdhistory1237 { border: 1px solid rgb(207, 207, 207) !important; border-collapse: collapse !important; ; padding: 2px 5px !important; ; font-size: 13px !important; ; min-width:150px !important; max-width: 150px !important;text-align: left !important;        white-space: nowrap !important; overflow:hidden !important; text-overflow:ellipsis !important;; }\n",
       "  </style><thead><tr style= \"background: #bababa;\"><th class=\"tdhistory1237\">stub</th></tr></thead><tbody class=\"tdhistory1237 resultset-body\"><tr><td class=\"tdhistory1237\">stub</td></tr></tbody></table></div>"
      ]
     },
     "execution_count": 6,
     "metadata": {
      "application/vnd.teradata.resultset": "{\"resultSetID\":\"/home/jovyan/JupyterLabRoot/Teradata/Resultsets/2020.12.01_02.13.30.682_UTC\",\"historyID\":2344,\"chunkID\":\"00001\",\"sessionid\":\"\",\"portnum\":\"\",\"dockermode\":\"docker\",\"totalRowCount\":1,\"chunkCount\":0,\"rowLimit\":0,\"columnMetadata\":[{\"columnName\":\"stub\",\"columnTypeName\":\"VARCHAR\",\"length\":4,\"scale\":4}]}"
     },
     "output_type": "execute_result"
    }
   ],
   "source": []
  },
  {
   "cell_type": "code",
   "execution_count": 36,
   "metadata": {},
   "outputs": [
    {
     "data": {
      "text/plain": [
       "Success: 0 rows affected"
      ]
     },
     "execution_count": 36,
     "metadata": {
      "application/vnd.teradata.resultset": ""
     },
     "output_type": "execute_result"
    }
   ],
   "source": []
  },
  {
   "cell_type": "code",
   "execution_count": 37,
   "metadata": {},
   "outputs": [
    {
     "ename": "ERROR",
     "evalue": "Unable to run SQL: Unable to run SQL query: Database reported error:5526:Stored Procedure is not created/replaced due to error(s).",
     "output_type": "error",
     "traceback": [
      "Unable to run SQL: Unable to run SQL query: Database reported error:5526:Stored Procedure is not created/replaced due to error(s)."
     ]
    }
   ],
   "source": []
  },
  {
   "cell_type": "code",
   "execution_count": 38,
   "metadata": {},
   "outputs": [
    {
     "data": {
      "text/plain": [
       "Success: 0 rows affected"
      ]
     },
     "execution_count": 38,
     "metadata": {
      "application/vnd.teradata.resultset": ""
     },
     "output_type": "execute_result"
    }
   ],
   "source": [
    "replace procedure adlste_SalesTech.sp0_audit_log()   BEGIN END;"
   ]
  },
  {
   "cell_type": "code",
   "execution_count": 39,
   "metadata": {},
   "outputs": [
    {
     "data": {
      "text/plain": [
       "Success: 0 rows affected"
      ]
     },
     "execution_count": 39,
     "metadata": {
      "application/vnd.teradata.resultset": ""
     },
     "output_type": "execute_result"
    }
   ],
   "source": [
    "replace view   adlste_SalesTech.dat_feature_override     as locking row for access (select * from tdat_feature_override);\n"
   ]
  },
  {
   "cell_type": "code",
   "execution_count": 42,
   "metadata": {},
   "outputs": [
    {
     "data": {
      "application/vnd.teradata.resultset": "[{\"querytext\":\"drop procedure adlste_SalesTech.sp2_Customer360;\"},{\"querytext\":\"drop table adlste_SalesTech.tdat_dbobject_permspace;\"},{\"querytext\":\"drop procedure adlste_SalesTech.sp0_audit_log;\"},{\"querytext\":\"drop table adlste_SalesTech.tdim_site;\"},{\"querytext\":\"drop table adlste_SalesTech.tdat_dbobject_index;\"},{\"querytext\":\"drop table adlste_SalesTech.tdim_employee;\"},{\"querytext\":\"drop view adlste_SalesTech.rpt_Customer360;\"},{\"querytext\":\"drop view adlste_SalesTech.dat_nps_summary;\"},{\"querytext\":\"drop table adlste_SalesTech.tdim_app;\"},{\"querytext\":\"drop view adlste_SalesTech.dat_feature_override;\"},{\"querytext\":\"drop view adlste_SalesTech.dat_audit_summary;\"},{\"querytext\":\"drop procedure adlste_SalesTech.sp2_MBODashboard;\"},{\"querytext\":\"drop view adlste_SalesTech.rpt_CustomerEngagement_Dashboard;\"},{\"querytext\":\"drop view adlste_SalesTech.dat_utilization_detail;\"},{\"querytext\":\"drop view adlste_SalesTech.rpt_MBODashboard;\"},{\"querytext\":\"drop table adlste_SalesTech.tdim_user;\"},{\"querytext\":\"drop view adlste_SalesTech.dim_site;\"},{\"querytext\":\"drop view adlste_SalesTech.rpt_TCA_Dashboard;\"},{\"querytext\":\"drop procedure adlste_SalesTech.sp1_TCA_Dashboard;\"},{\"querytext\":\"drop procedure adlste_SalesTech.sp1_COA_Dashboard;\"},{\"querytext\":\"drop table adlste_SalesTech.trpt_Customer360_Dashboard;\"},{\"querytext\":\"drop table adlste_SalesTech.trpt_MBODashboard;\"},{\"querytext\":\"drop table adlste_SalesTech.tdat_feature_override;\"},{\"querytext\":\"drop view adlste_SalesTech.dat_audit_detail;\"},{\"querytext\":\"drop table adlste_SalesTech.tdat_nps_detail;\"},{\"querytext\":\"drop table adlste_SalesTech.tdim_dbobject_datatype;\"},{\"querytext\":\"drop table adlste_SalesTech.tdim_dbobject_objecttype;\"},{\"querytext\":\"drop procedure adlste_SalesTech.sp2_ChangeControlTCA_Report;\"},{\"querytext\":\"drop procedure adlste_SalesTech.sp1_feature_usage_coa;\"},{\"querytext\":\"drop table adlste_SalesTech.tdat_feature_usage;\"},{\"querytext\":\"drop view adlste_SalesTech.dat_dbobject_column;\"},{\"querytext\":\"drop procedure adlste_SalesTech.sp2_SiteCoverageTCA_Report;\"},{\"querytext\":\"drop view adlste_SalesTech.dim_audit_rule;\"},{\"querytext\":\"drop view adlste_SalesTech.dim_tdinternal;\"},{\"querytext\":\"drop table adlste_SalesTech.trpt_TCA_Dashboard;\"},{\"querytext\":\"drop view adlste_SalesTech.rpt_ChangeControlTCA_Report;\"},{\"querytext\":\"drop procedure adlste_SalesTech.sp1_CustomerEngagement_Dashboard;\"},{\"querytext\":\"drop view adlste_SalesTech.rpt_SiteCoverageSHC_Report;\"},{\"querytext\":\"drop view adlste_SalesTech.dim_statement;\"},{\"querytext\":\"drop view adlste_SalesTech.dim_user;\"},{\"querytext\":\"drop table adlste_SalesTech.trpt_SiteCoverageTCA_Report;\"},{\"querytext\":\"drop procedure adlste_SalesTech.sp1_utilization_summary;\"},{\"querytext\":\"drop procedure adlste_SalesTech.sp1_CSMKPI_Dashboard;\"},{\"querytext\":\"drop procedure adlste_SalesTech.sp2_SiteCoverageSHC_Report;\"},{\"querytext\":\"drop view adlste_SalesTech.dat_utilization_summary;\"},{\"querytext\":\"drop table adlste_SalesTech.tdim_tdinternal;\"},{\"querytext\":\"drop table adlste_SalesTech.tdat_metric_concurrency;\"},{\"querytext\":\"drop view adlste_SalesTech.dim_dbobject_indextype;\"},{\"querytext\":\"drop table adlste_SalesTech.tdim_dbobject_tablekind;\"},{\"querytext\":\"drop table adlste_SalesTech.tdat_audit_detail;\"},{\"querytext\":\"drop table adlste_SalesTech.trpt_SiteCoverageSHC_Report;\"},{\"querytext\":\"drop procedure adlste_SalesTech.sp1_Customer360_Dashboard;\"},{\"querytext\":\"drop view adlste_SalesTech.dat_nps_detail;\"},{\"querytext\":\"drop view adlste_SalesTech.dat_utilization_monthly;\"},{\"querytext\":\"drop view adlste_SalesTech.dat_feature_usage;\"},{\"querytext\":\"drop view adlste_SalesTech.dim_feature;\"},{\"querytext\":\"drop view adlste_SalesTech.dat_metric_cds;\"},{\"querytext\":\"drop view adlste_SalesTech.rpt_CSMKPI_Dashboard;\"},{\"querytext\":\"drop view adlste_SalesTech.dim_dbobject_tablekind;\"},{\"querytext\":\"drop view adlste_SalesTech.dim_dbobject_columntype;\"},{\"querytext\":\"drop view adlste_SalesTech.dim_dbobject_datatype;\"},{\"querytext\":\"drop view adlste_SalesTech.rpt_Telemetry_Dashboard;\"},{\"querytext\":\"drop table adlste_SalesTech.trpt_CSMKPI_Dashboard;\"},{\"querytext\":\"drop table adlste_SalesTech.tdim_dbobject_columntype;\"},{\"querytext\":\"drop view adlste_SalesTech.dat_dbobject_permspace;\"},{\"querytext\":\"drop table adlste_SalesTech.trpt_Customer360;\"},{\"querytext\":\"drop procedure adlste_SalesTech.sp1_feature_usage_rdm;\"},{\"querytext\":\"drop procedure adlste_SalesTech.sp0_audit_logger;\"},{\"querytext\":\"drop table adlste_SalesTech.trpt_Telemetry_Dashboard;\"},{\"querytext\":\"drop view adlste_SalesTech.dim_app;\"},{\"querytext\":\"drop table adlste_SalesTech.tdim_dbobject_indextype;\"},{\"querytext\":\"drop view adlste_SalesTech.dat_metric_cpu;\"},{\"querytext\":\"drop table adlste_SalesTech.tdim_feature;\"},{\"querytext\":\"drop table adlste_SalesTech.trpt_CustomerEngagement_Dashboard;\"},{\"querytext\":\"drop table adlste_SalesTech.trpt_ChangeControlTCA_Report;\"},{\"querytext\":\"drop view adlste_SalesTech.dat_metric_runtime;\"},{\"querytext\":\"drop view adlste_SalesTech.dim_dbobject_objecttype;\"},{\"querytext\":\"drop procedure adlste_SalesTech.sp1_nps_detail;\"},{\"querytext\":\"drop view adlste_SalesTech.dat_metric_io;\"},{\"querytext\":\"drop procedure adlste_SalesTech.sp1_Telemetry_Dashboard;\"},{\"querytext\":\"drop table adlste_SalesTech.tdat_dbobject_table;\"},{\"querytext\":\"drop view adlste_SalesTech.dat_metric_concurrency;\"},{\"querytext\":\"drop procedure adlste_SalesTech.sp1_feature_usage_tca;\"},{\"querytext\":\"drop table adlste_SalesTech.tdat_dbobject_column;\"},{\"querytext\":\"drop view adlste_SalesTech.dat_utilization_weekly;\"},{\"querytext\":\"drop view adlste_SalesTech.rpt_Customer360_Dashboard;\"},{\"querytext\":\"drop view adlste_SalesTech.dat_utilization_quarterly;\"},{\"querytext\":\"drop view adlste_SalesTech.rpt_SiteCoverageTCA_Report;\"},{\"querytext\":\"drop view adlste_SalesTech.dat_metric_querycount;\"},{\"querytext\":\"drop table adlste_SalesTech.trpt_COA_Dashboard;\"},{\"querytext\":\"drop view adlste_SalesTech.rpt_COA_Dashboard;\"},{\"querytext\":\"drop view adlste_SalesTech.dat_dbobject_index;\"},{\"querytext\":\"drop table adlste_SalesTech.tdim_audit_rule;\"},{\"querytext\":\"drop table adlste_SalesTech.tdat_utilization_detail;\"},{\"querytext\":\"drop procedure adlste_SalesTech.sp2_feature_usage;\"},{\"querytext\":\"drop view adlste_SalesTech.dim_employee;\"},{\"querytext\":\"drop view adlste_SalesTech.dat_dbobject_table;\"},{\"querytext\":\"drop table adlste_SalesTech.tdim_statement;\"}]\n",
      "text/html": [
       "<div class = \"td-resultset-table-div\" style = \"max-height: 588px; overflow-y: auto\">\n",
       "  <table class=\"tdhistory768818\"><style>\n",
       "    table.tdhistory768818 { display: block !important; min-height: 588px !important; overflow: auto !important; height: 588px !important; width: 100% !important; border: 1px solid rgb(207, 207, 207) !important; border-collapse: collapse !important; ; color: var(--jp-ui-font-color1) !important; }\n",
       "    th.tdhistory768818 { border: 1px solid rgb(198,198,198) !important; border-collapse: collapse !important; ; padding: 2px 5px !important; ; font-size: 13px !important; ; text-align: center !important; white-space: normal !important; color: var(--jp-ui-font-color1) !important; }\n",
       "    th.tdhistory768818:last-child { text-align: left !important; }\n",
       "    tbody.tdhistory768818 tr:nth-child(even) { background: rgba(243, 243, 243, 0.75) !important; }\n",
       "    tbody.tdhistory768818 tr:nth-child(odd) { background: var(--jp-ui-inverse-font-color1) !important; }\n",
       "  td.tdhistory768818 { border: 1px solid rgb(207, 207, 207) !important; border-collapse: collapse !important; ; padding: 2px 5px !important; ; font-size: 13px !important; ; min-width:150px !important; max-width: 150px !important;text-align: left !important;        white-space: nowrap !important; overflow:hidden !important; text-overflow:ellipsis !important;; }\n",
       "  </style><thead><tr style= \"background: #bababa;\"><th class=\"tdhistory768818\">querytext</th></tr></thead><tbody class=\"tdhistory768818 resultset-body\"><tr><td class=\"tdhistory768818\">drop procedure adlste_SalesTech.sp2_Customer360;</td></tr><tr><td class=\"tdhistory768818\">drop table adlste_SalesTech.tdat_dbobject_permspace;</td></tr><tr><td class=\"tdhistory768818\">drop procedure adlste_SalesTech.sp0_audit_log;</td></tr><tr><td class=\"tdhistory768818\">drop table adlste_SalesTech.tdim_site;</td></tr><tr><td class=\"tdhistory768818\">drop table adlste_SalesTech.tdat_dbobject_index;</td></tr><tr><td class=\"tdhistory768818\">drop table adlste_SalesTech.tdim_employee;</td></tr><tr><td class=\"tdhistory768818\">drop view adlste_SalesTech.rpt_Customer360;</td></tr><tr><td class=\"tdhistory768818\">drop view adlste_SalesTech.dat_nps_summary;</td></tr><tr><td class=\"tdhistory768818\">drop table adlste_SalesTech.tdim_app;</td></tr><tr><td class=\"tdhistory768818\">drop view adlste_SalesTech.dat_feature_override;</td></tr><tr><td class=\"tdhistory768818\">drop view adlste_SalesTech.dat_audit_summary;</td></tr><tr><td class=\"tdhistory768818\">drop procedure adlste_SalesTech.sp2_MBODashboard;</td></tr><tr><td class=\"tdhistory768818\">drop view adlste_SalesTech.rpt_CustomerEngagement_Dashboard;</td></tr><tr><td class=\"tdhistory768818\">drop view adlste_SalesTech.dat_utilization_detail;</td></tr><tr><td class=\"tdhistory768818\">drop view adlste_SalesTech.rpt_MBODashboard;</td></tr><tr><td class=\"tdhistory768818\">drop table adlste_SalesTech.tdim_user;</td></tr><tr><td class=\"tdhistory768818\">drop view adlste_SalesTech.dim_site;</td></tr><tr><td class=\"tdhistory768818\">drop view adlste_SalesTech.rpt_TCA_Dashboard;</td></tr><tr><td class=\"tdhistory768818\">drop procedure adlste_SalesTech.sp1_TCA_Dashboard;</td></tr><tr><td class=\"tdhistory768818\">drop procedure adlste_SalesTech.sp1_COA_Dashboard;</td></tr><tr><td class=\"tdhistory768818\">drop table adlste_SalesTech.trpt_Customer360_Dashboard;</td></tr><tr><td class=\"tdhistory768818\">drop table adlste_SalesTech.trpt_MBODashboard;</td></tr><tr><td class=\"tdhistory768818\">drop table adlste_SalesTech.tdat_feature_override;</td></tr><tr><td class=\"tdhistory768818\">drop view adlste_SalesTech.dat_audit_detail;</td></tr><tr><td class=\"tdhistory768818\">drop table adlste_SalesTech.tdat_nps_detail;</td></tr><tr><td class=\"tdhistory768818\">drop table adlste_SalesTech.tdim_dbobject_datatype;</td></tr><tr><td class=\"tdhistory768818\">drop table adlste_SalesTech.tdim_dbobject_objecttype;</td></tr><tr><td class=\"tdhistory768818\">drop procedure adlste_SalesTech.sp2_ChangeControlTCA_Report;</td></tr><tr><td class=\"tdhistory768818\">drop procedure adlste_SalesTech.sp1_feature_usage_coa;</td></tr><tr><td class=\"tdhistory768818\">drop table adlste_SalesTech.tdat_feature_usage;</td></tr><tr><td class=\"tdhistory768818\">drop view adlste_SalesTech.dat_dbobject_column;</td></tr><tr><td class=\"tdhistory768818\">drop procedure adlste_SalesTech.sp2_SiteCoverageTCA_Report;</td></tr><tr><td class=\"tdhistory768818\">drop view adlste_SalesTech.dim_audit_rule;</td></tr><tr><td class=\"tdhistory768818\">drop view adlste_SalesTech.dim_tdinternal;</td></tr><tr><td class=\"tdhistory768818\">drop table adlste_SalesTech.trpt_TCA_Dashboard;</td></tr><tr><td class=\"tdhistory768818\">drop view adlste_SalesTech.rpt_ChangeControlTCA_Report;</td></tr><tr><td class=\"tdhistory768818\">drop procedure adlste_SalesTech.sp1_CustomerEngagement_Dashboard;</td></tr><tr><td class=\"tdhistory768818\">drop view adlste_SalesTech.rpt_SiteCoverageSHC_Report;</td></tr><tr><td class=\"tdhistory768818\">drop view adlste_SalesTech.dim_statement;</td></tr><tr><td class=\"tdhistory768818\">drop view adlste_SalesTech.dim_user;</td></tr><tr><td class=\"tdhistory768818\">drop table adlste_SalesTech.trpt_SiteCoverageTCA_Report;</td></tr><tr><td class=\"tdhistory768818\">drop procedure adlste_SalesTech.sp1_utilization_summary;</td></tr><tr><td class=\"tdhistory768818\">drop procedure adlste_SalesTech.sp1_CSMKPI_Dashboard;</td></tr><tr><td class=\"tdhistory768818\">drop procedure adlste_SalesTech.sp2_SiteCoverageSHC_Report;</td></tr><tr><td class=\"tdhistory768818\">drop view adlste_SalesTech.dat_utilization_summary;</td></tr><tr><td class=\"tdhistory768818\">drop table adlste_SalesTech.tdim_tdinternal;</td></tr><tr><td class=\"tdhistory768818\">drop table adlste_SalesTech.tdat_metric_concurrency;</td></tr><tr><td class=\"tdhistory768818\">drop view adlste_SalesTech.dim_dbobject_indextype;</td></tr><tr><td class=\"tdhistory768818\">drop table adlste_SalesTech.tdim_dbobject_tablekind;</td></tr><tr><td class=\"tdhistory768818\">drop table adlste_SalesTech.tdat_audit_detail;</td></tr><tr><td class=\"tdhistory768818\">drop table adlste_SalesTech.trpt_SiteCoverageSHC_Report;</td></tr><tr><td class=\"tdhistory768818\">drop procedure adlste_SalesTech.sp1_Customer360_Dashboard;</td></tr><tr><td class=\"tdhistory768818\">drop view adlste_SalesTech.dat_nps_detail;</td></tr><tr><td class=\"tdhistory768818\">drop view adlste_SalesTech.dat_utilization_monthly;</td></tr><tr><td class=\"tdhistory768818\">drop view adlste_SalesTech.dat_feature_usage;</td></tr><tr><td class=\"tdhistory768818\">drop view adlste_SalesTech.dim_feature;</td></tr><tr><td class=\"tdhistory768818\">drop view adlste_SalesTech.dat_metric_cds;</td></tr><tr><td class=\"tdhistory768818\">drop view adlste_SalesTech.rpt_CSMKPI_Dashboard;</td></tr><tr><td class=\"tdhistory768818\">drop view adlste_SalesTech.dim_dbobject_tablekind;</td></tr><tr><td class=\"tdhistory768818\">drop view adlste_SalesTech.dim_dbobject_columntype;</td></tr><tr><td class=\"tdhistory768818\">drop view adlste_SalesTech.dim_dbobject_datatype;</td></tr><tr><td class=\"tdhistory768818\">drop view adlste_SalesTech.rpt_Telemetry_Dashboard;</td></tr><tr><td class=\"tdhistory768818\">drop table adlste_SalesTech.trpt_CSMKPI_Dashboard;</td></tr><tr><td class=\"tdhistory768818\">drop table adlste_SalesTech.tdim_dbobject_columntype;</td></tr><tr><td class=\"tdhistory768818\">drop view adlste_SalesTech.dat_dbobject_permspace;</td></tr><tr><td class=\"tdhistory768818\">drop table adlste_SalesTech.trpt_Customer360;</td></tr><tr><td class=\"tdhistory768818\">drop procedure adlste_SalesTech.sp1_feature_usage_rdm;</td></tr><tr><td class=\"tdhistory768818\">drop procedure adlste_SalesTech.sp0_audit_logger;</td></tr><tr><td class=\"tdhistory768818\">drop table adlste_SalesTech.trpt_Telemetry_Dashboard;</td></tr><tr><td class=\"tdhistory768818\">drop view adlste_SalesTech.dim_app;</td></tr><tr><td class=\"tdhistory768818\">drop table adlste_SalesTech.tdim_dbobject_indextype;</td></tr><tr><td class=\"tdhistory768818\">drop view adlste_SalesTech.dat_metric_cpu;</td></tr><tr><td class=\"tdhistory768818\">drop table adlste_SalesTech.tdim_feature;</td></tr><tr><td class=\"tdhistory768818\">drop table adlste_SalesTech.trpt_CustomerEngagement_Dashboard;</td></tr><tr><td class=\"tdhistory768818\">drop table adlste_SalesTech.trpt_ChangeControlTCA_Report;</td></tr><tr><td class=\"tdhistory768818\">drop view adlste_SalesTech.dat_metric_runtime;</td></tr><tr><td class=\"tdhistory768818\">drop view adlste_SalesTech.dim_dbobject_objecttype;</td></tr><tr><td class=\"tdhistory768818\">drop procedure adlste_SalesTech.sp1_nps_detail;</td></tr><tr><td class=\"tdhistory768818\">drop view adlste_SalesTech.dat_metric_io;</td></tr><tr><td class=\"tdhistory768818\">drop procedure adlste_SalesTech.sp1_Telemetry_Dashboard;</td></tr><tr><td class=\"tdhistory768818\">drop table adlste_SalesTech.tdat_dbobject_table;</td></tr><tr><td class=\"tdhistory768818\">drop view adlste_SalesTech.dat_metric_concurrency;</td></tr><tr><td class=\"tdhistory768818\">drop procedure adlste_SalesTech.sp1_feature_usage_tca;</td></tr><tr><td class=\"tdhistory768818\">drop table adlste_SalesTech.tdat_dbobject_column;</td></tr><tr><td class=\"tdhistory768818\">drop view adlste_SalesTech.dat_utilization_weekly;</td></tr><tr><td class=\"tdhistory768818\">drop view adlste_SalesTech.rpt_Customer360_Dashboard;</td></tr><tr><td class=\"tdhistory768818\">drop view adlste_SalesTech.dat_utilization_quarterly;</td></tr><tr><td class=\"tdhistory768818\">drop view adlste_SalesTech.rpt_SiteCoverageTCA_Report;</td></tr><tr><td class=\"tdhistory768818\">drop view adlste_SalesTech.dat_metric_querycount;</td></tr><tr><td class=\"tdhistory768818\">drop table adlste_SalesTech.trpt_COA_Dashboard;</td></tr><tr><td class=\"tdhistory768818\">drop view adlste_SalesTech.rpt_COA_Dashboard;</td></tr><tr><td class=\"tdhistory768818\">drop view adlste_SalesTech.dat_dbobject_index;</td></tr><tr><td class=\"tdhistory768818\">drop table adlste_SalesTech.tdim_audit_rule;</td></tr><tr><td class=\"tdhistory768818\">drop table adlste_SalesTech.tdat_utilization_detail;</td></tr><tr><td class=\"tdhistory768818\">drop procedure adlste_SalesTech.sp2_feature_usage;</td></tr><tr><td class=\"tdhistory768818\">drop view adlste_SalesTech.dim_employee;</td></tr><tr><td class=\"tdhistory768818\">drop view adlste_SalesTech.dat_dbobject_table;</td></tr><tr><td class=\"tdhistory768818\">drop table adlste_SalesTech.tdim_statement;</td></tr></tbody></table></div>"
      ]
     },
     "execution_count": 42,
     "metadata": {
      "application/vnd.teradata.resultset": "{\"resultSetID\":\"/home/jovyan/JupyterLabRoot/Teradata/Resultsets/2020.12.01_22.06.51.184_UTC\",\"historyID\":2380,\"chunkID\":\"00001\",\"sessionid\":\"\",\"portnum\":\"\",\"dockermode\":\"docker\",\"totalRowCount\":98,\"chunkCount\":0,\"rowLimit\":0,\"columnMetadata\":[{\"columnName\":\"querytext\",\"columnTypeName\":\"VARCHAR\",\"length\":161,\"scale\":161}]}"
     },
     "output_type": "execute_result"
    }
   ],
   "source": [
    "select 'drop ' || case\n",
    "when tablekind in('O','T') then 'table'\n",
    "when tablekind in('V') then 'view'\n",
    "when tablekind in('P') then 'procedure' end ||\n",
    "' adlste_SalesTech.' || trim(TableName) ||';' as querytext\n",
    "from dbc.tablesv where databasename = 'adlste_salestech'"
   ]
  },
  {
   "cell_type": "code",
   "execution_count": null,
   "metadata": {},
   "outputs": [],
   "source": []
  }
 ],
 "metadata": {
  "kernelspec": {
   "display_name": "Teradata SQL",
   "language": "Teradata SQL",
   "name": "teradatasql"
  },
  "language_info": {
   "name": ""
  }
 },
 "nbformat": 4,
 "nbformat_minor": 4
}
