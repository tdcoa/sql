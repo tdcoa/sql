{
 "cells": [
  {
   "cell_type": "markdown",
   "metadata": {},
   "source": [
    "# Create Metadata Views\n",
    "### Mostly for convenience"
   ]
  },
  {
   "cell_type": "code",
   "execution_count": null,
   "metadata": {},
   "outputs": [],
   "source": [
    "%addconnect name=Transcend, user=sh186014, host=tdprdcop3.td.teradata.com, props=\"LOGMECH=LDAP\""
   ]
  },
  {
   "cell_type": "code",
   "execution_count": null,
   "metadata": {},
   "outputs": [],
   "source": [
    "%connect name=Transcend"
   ]
  },
  {
   "cell_type": "code",
   "execution_count": null,
   "metadata": {},
   "outputs": [],
   "source": [
    "database adlste_coa;"
   ]
  },
  {
   "cell_type": "code",
   "execution_count": null,
   "metadata": {},
   "outputs": [],
   "source": [
    "SELECT * FROM  TABLE (SYSLIB.MonitorSystemPhysicalConfig()) AS SystemConfig;"
   ]
  },
  {
   "cell_type": "markdown",
   "metadata": {},
   "source": [
    "<br/><br/><br/>\n",
    "### meta_objects"
   ]
  },
  {
   "cell_type": "code",
   "execution_count": null,
   "metadata": {},
   "outputs": [],
   "source": [
    "DROP TABLE ADLSTE_COA.coat_objects "
   ]
  },
  {
   "cell_type": "code",
   "execution_count": null,
   "metadata": {},
   "outputs": [],
   "source": [
    "CREATE MULTISET TABLE ADLSTE_COA.coat_objects \n",
    "(DatabaseName  VARCHAR(128) CHARACTER SET LATIN NOT CASESPECIFIC \n",
    ",TableName     VARCHAR(128) CHARACTER SET LATIN NOT CASESPECIFIC \n",
    ",TableKind     CHAR(1)      CHARACTER SET LATIN NOT CASESPECIFIC \n",
    ",ObjType       VARCHAR(30)  CHARACTER SET LATIN NOT CASESPECIFIC \n",
    ",ObjFunction   VARCHAR(30)  CHARACTER SET LATIN NOT CASESPECIFIC \n",
    ",ProcessName   VARCHAR(30)  CHARACTER SET LATIN NOT CASESPECIFIC\n",
    ") NO PRIMARY INDEX ;"
   ]
  },
  {
   "cell_type": "code",
   "execution_count": null,
   "metadata": {},
   "outputs": [],
   "source": [
    "replace PROCEDURE adlste_coa.sp_objects ()\n",
    "   DYNAMIC RESULT SETS 1\n",
    "BEGIN\n",
    "    delete from adlste_coa.coat_objects;\n",
    "    \n",
    "    insert into adlste_coa.coat_objects\n",
    "    select databasename, tablename, tablekind \n",
    "    ,STRTOK(TableName,'_',1) as ObjType\n",
    "    ,STRTOK(TableName,'_',2) as ObjFunction\n",
    "    ,substr(TableName, character_Length(ObjType)+character_Length(ObjFunction)+3 ) as ProcessName\n",
    "    from dbc.tablesV \n",
    "    where databasename like 'adlste_coa%';\n",
    "\n",
    "    /* return this resultset from the SP: */\n",
    "    BEGIN\n",
    "        DECLARE cur1 CURSOR WITH RETURN ONLY FOR\n",
    "            SELECT * FROM adlste_coa.coat_objects\n",
    "            order by ProcessName,ObjFunction, ObjType;\n",
    "        OPEN cur1;\n",
    "    END;\n",
    "\n",
    "END;"
   ]
  },
  {
   "cell_type": "code",
   "execution_count": 16,
   "metadata": {},
   "outputs": [
    {
     "data": {
      "application/vnd.teradata.resultset": "[{\"DatabaseName\":\"ADLSTE_COA\",\"ObjFunction\":\"dat\",\"ObjType\":\"sp\",\"ProcessName\":\"DB_Objects\",\"TableKind\":\"P \",\"TableName\":\"sp_dat_DB_Objects\"},{\"DatabaseName\":\"ADLSTE_COA\",\"ObjFunction\":\"dat\",\"ObjType\":\"coat\",\"ProcessName\":\"DB_Objects\",\"TableKind\":\"T \",\"TableName\":\"coat_dat_DB_Objects\"},{\"DatabaseName\":\"ADLSTE_COA\",\"ObjFunction\":\"dat\",\"ObjType\":\"coat\",\"ProcessName\":\"DB_Objects_bkup\",\"TableKind\":\"T \",\"TableName\":\"coat_dat_DB_Objects_bkup\"},{\"DatabaseName\":\"ADLSTE_COA\",\"ObjFunction\":\"dat\",\"ObjType\":\"coa\",\"ProcessName\":\"DB_Objects\",\"TableKind\":\"V \",\"TableName\":\"coa_dat_DB_Objects\"}]\n",
      "text/html": [
       "<div class = \"td-resultset-table-div\" style = \"max-height: 137px; overflow-y: auto\"><style> table {border: 1px solid rgb(207, 207, 207) !important; border-collapse: collapse !important; margin-top: 1px !important;} th {border: 1px solid rgb(198,198,198) !important; border-collapse: collapse !important; padding: 2px 5px !important; font-size: 13px !important; min-width:150px !important; max-width: 150px !important; white-space: nowrap !important; overflow:hidden !important; text-overflow:ellipsis !important;} tr:nth-child(even) {background: rgba(243, 243, 243, 0.75) !important;} td {border: 1px solid rgb(207, 207, 207) !important; border-collapse: collapse !important; padding: 2px 5px !important; font-size: 13px !important; min-width:150px !important; max-width: 150px !important; white-space: nowrap !important; overflow:hidden !important; text-overflow:ellipsis !important;}</style><table><thead><tr style= \"background: #efefef;\"><th>DatabaseName</th><th>TableName</th><th>TableKind</th><th>ObjType</th><th>ObjFunction</th><th>ProcessName</th></tr></thead><tr><td>ADLSTE_COA</td><td>sp_dat_DB_Objects</td><td>P </td><td>sp</td><td>dat</td><td>DB_Objects</td></tr><tr><td>ADLSTE_COA</td><td>coat_dat_DB_Objects</td><td>T </td><td>coat</td><td>dat</td><td>DB_Objects</td></tr><tr><td>ADLSTE_COA</td><td>coat_dat_DB_Objects_bkup</td><td>T </td><td>coat</td><td>dat</td><td>DB_Objects_bkup</td></tr><tr><td>ADLSTE_COA</td><td>coa_dat_DB_Objects</td><td>V </td><td>coa</td><td>dat</td><td>DB_Objects</td></tr></table></div>"
      ]
     },
     "execution_count": 16,
     "metadata": {
      "application/vnd.teradata.resultset": "{\"resultSetID\":\"/home/jovyan/JupyterLabRoot/Teradata/Resultsets/2020.09.10_02.26.39.511_UTC\",\"historyID\":3646,\"chunkID\":\"00001\",\"sessionid\":\"\",\"portnum\":\"\",\"dockermode\":\"docker\",\"totalRowCount\":4,\"rowLimit\":0,\"columnMetadata\":[{\"columnName\":\"DatabaseName\",\"columnTypeName\":\"VARCHAR\",\"length\":128,\"scale\":128},{\"columnNumber\":1,\"columnName\":\"TableName\",\"columnTypeName\":\"VARCHAR\",\"length\":128,\"scale\":128},{\"columnNumber\":2,\"columnName\":\"TableKind\",\"columnTypeName\":\"CHAR\",\"length\":1,\"scale\":1},{\"columnNumber\":3,\"columnName\":\"ObjType\",\"columnTypeName\":\"VARCHAR\",\"length\":30,\"scale\":30},{\"columnNumber\":4,\"columnName\":\"ObjFunction\",\"columnTypeName\":\"VARCHAR\",\"length\":30,\"scale\":30},{\"columnNumber\":5,\"columnName\":\"ProcessName\",\"columnTypeName\":\"VARCHAR\",\"length\":30,\"scale\":30}]}"
     },
     "output_type": "execute_result"
    }
   ],
   "source": [
    "Select * from adlste_coa.coa_objects\n",
    "where databasename = 'adlste_coa'\n",
    "and tablename like '%db_object%'"
   ]
  },
  {
   "cell_type": "code",
   "execution_count": null,
   "metadata": {},
   "outputs": [],
   "source": [
    "call adlste_coa.sp_objects() "
   ]
  },
  {
   "cell_type": "code",
   "execution_count": null,
   "metadata": {},
   "outputs": [],
   "source": [
    "Replace View adlste_coa.coa_objects as\n",
    "locking row for access\n",
    "Select * from adlste_coa.coat_objects;"
   ]
  },
  {
   "cell_type": "code",
   "execution_count": null,
   "metadata": {},
   "outputs": [],
   "source": []
  },
  {
   "cell_type": "code",
   "execution_count": null,
   "metadata": {},
   "outputs": [],
   "source": [
    "Select * from adlste_coa.coa_objects\n",
    "where tablename like '%feature%'\n",
    "order by TableName,  ObjType desc;"
   ]
  },
  {
   "cell_type": "markdown",
   "metadata": {},
   "source": [
    "<br/><br/><br/>\n",
    "### Reconcile Column Names"
   ]
  },
  {
   "cell_type": "code",
   "execution_count": null,
   "metadata": {},
   "outputs": [],
   "source": [
    "Select columnName, count(*) from dbc.columnsV\n",
    "where databasename like 'adlste_coa%'\n",
    "group by 1\n",
    "order by 1"
   ]
  },
  {
   "cell_type": "code",
   "execution_count": null,
   "metadata": {},
   "outputs": [],
   "source": []
  }
 ],
 "metadata": {
  "kernelspec": {
   "display_name": "Teradata SQL",
   "language": "Teradata SQL",
   "name": "teradatasql"
  },
  "language_info": {
   "codemirror_mode": "Teradata SQL",
   "file_extension": ".tdrs",
   "mimetype": "application/vnd.teradata.resultset",
   "name": "Teradata SQL",
   "nbconvert_exporter": "",
   "pygments_lexer": "",
   "version": "16.20"
  }
 },
 "nbformat": 4,
 "nbformat_minor": 2
}
